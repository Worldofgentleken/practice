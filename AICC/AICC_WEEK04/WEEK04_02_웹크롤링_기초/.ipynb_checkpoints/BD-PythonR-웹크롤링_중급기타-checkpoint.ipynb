{
 "cells": [
  {
   "cell_type": "markdown",
   "metadata": {},
   "source": [
    "# 입문자를 위한, 파이썬 데이터 분석   "
   ]
  },
  {
   "cell_type": "markdown",
   "metadata": {},
   "source": [
    "## Part(1) - Day07  :  "
   ]
  },
  {
   "cell_type": "markdown",
   "metadata": {},
   "source": [
    "]"
   ]
  },
  {
   "cell_type": "markdown",
   "metadata": {},
   "source": [
    "## Today's mission\n",
    "\n",
    "- 데이터 수집 (다양한 팁)\n",
    "   - 프레임셋 전환\n",
    "   - 크롤링 태그 찾기\n",
    "   - 팝업창 제어\n",
    "- 실습 (1) Web crawling test under the tag of framset\n",
    "- 실습 (2) Tag 찾아보기 (예시) : 공지사항 내용 \n",
    "- 실습 (3) Web crawling test for popup\n",
    "\n",
    "\n",
    "- (공공데이터분석) 국토부 아파트매매 실거래가 API[data.go.kr] 연동"
   ]
  },
  {
   "cell_type": "markdown",
   "metadata": {},
   "source": [
    "]"
   ]
  },
  {
   "cell_type": "markdown",
   "metadata": {},
   "source": [
    "# 데이터 수집 (다양한 팁)\n",
    "\n",
    "- [프레임셋 전환](http://www.idom.kr/bbs/board.php?bo_table=E_table03&wr_id=125)\n",
    "\n",
    "\n",
    "- [크롤링 태그 찾기](https://desarraigado.tistory.com/14)\n",
    "\n",
    "\n",
    "- [팝업창 제어](https://m.blog.naver.com/tkdtjdtkddms/221976262160)"
   ]
  },
  {
   "cell_type": "markdown",
   "metadata": {},
   "source": [
    "## 실습 (1) Web crawling test under the tag of framset"
   ]
  },
  {
   "cell_type": "code",
   "execution_count": 1,
   "metadata": {},
   "outputs": [],
   "source": [
    "# 기본 Package loading:\n",
    "import pandas as pd\n",
    "from bs4 import BeautifulSoup\n",
    "from selenium import webdriver"
   ]
  },
  {
   "cell_type": "code",
   "execution_count": 2,
   "metadata": {},
   "outputs": [],
   "source": [
    "# Target web site:\n",
    "url = 'https://www.rm1.co.kr/'"
   ]
  },
  {
   "cell_type": "code",
   "execution_count": 4,
   "metadata": {},
   "outputs": [],
   "source": [
    "# (공통) Chrome Webdriver 실행:\n",
    "driver = webdriver.Chrome()"
   ]
  },
  {
   "cell_type": "markdown",
   "metadata": {},
   "source": [
    "#### Case 1: "
   ]
  },
  {
   "cell_type": "code",
   "execution_count": 5,
   "metadata": {},
   "outputs": [],
   "source": [
    "driver.get(url)"
   ]
  },
  {
   "cell_type": "code",
   "execution_count": 6,
   "metadata": {},
   "outputs": [
    {
     "data": {
      "text/plain": [
       "'<html><head>\\n\\t<meta name=\"google-site-verification\" content=\"uvLrphPZotcDpspdcgkCoo8NypsIGl309A67wMoK0qY\">\\n</head>\\n<frameset rows=\"100%,*\">\\n\\t<frame src=\"/p00/A0001M002.nice\">\\n</frameset>\\n</html>'"
      ]
     },
     "execution_count": 6,
     "metadata": {},
     "output_type": "execute_result"
    }
   ],
   "source": [
    "html = driver.page_source; html"
   ]
  },
  {
   "cell_type": "code",
   "execution_count": 7,
   "metadata": {},
   "outputs": [
    {
     "data": {
      "text/plain": [
       "<html><head>\n",
       "<meta content=\"uvLrphPZotcDpspdcgkCoo8NypsIGl309A67wMoK0qY\" name=\"google-site-verification\"/>\n",
       "</head>\n",
       "<frameset rows=\"100%,*\">\n",
       "<frame src=\"/p00/A0001M002.nice\"/>\n",
       "</frameset>\n",
       "</html>"
      ]
     },
     "execution_count": 7,
     "metadata": {},
     "output_type": "execute_result"
    }
   ],
   "source": [
    "BeautifulSoup(html, 'html.parser')"
   ]
  },
  {
   "cell_type": "markdown",
   "metadata": {},
   "source": [
    "#### Case 2: "
   ]
  },
  {
   "cell_type": "code",
   "execution_count": 8,
   "metadata": {},
   "outputs": [
    {
     "data": {
      "text/plain": [
       "'https://www.rm1.co.kr/p00/A0001M002.nice'"
      ]
     },
     "execution_count": 8,
     "metadata": {},
     "output_type": "execute_result"
    }
   ],
   "source": [
    "url_frame = url + 'p00/A0001M002.nice'\n",
    "url_frame"
   ]
  },
  {
   "cell_type": "code",
   "execution_count": 9,
   "metadata": {},
   "outputs": [
    {
     "data": {
      "text/plain": [
       "'<html xmlns=\"http://www.w3.org/1999/xhtml\" lang=\"ko\" xml:lang=\"ko\"><head>\\n<meta http-equiv=\"Content-Type\" content=\"text/html; charset=utf-8\">\\n<meta http-equiv=\"X-UA-Compatible\" content=\"IE=edge\"> \\n<meta http-equiv=\"expires\" content=\"-1\">\\n<title> RM </title>\\n<link rel=\"stylesheet\" type=\"text/css\" media=\"all\" href=\"/common/css/base.css\">\\n<link rel=\"stylesheet\" type=\"text/css\" media=\"all\" href=\"/common/css/module.css\">\\n<link rel=\"stylesheet\" type=\"text/css\" media=\"all\" href=\"/common/css/section_a.css\">\\n<link rel=\"stylesheet\" type=\"text/css\" media=\"all\" href=\"/common/css/section_b.css\">\\n<link rel=\"stylesheet\" type=\"text/css\" media=\"all\" href=\"/common/css/main.css\">\\n<link rel=\"stylesheet\" type=\"text/css\" media=\"all\" href=\"/common/css/layout.css\">\\n<link rel=\"stylesheet\" type=\"text/css\" media=\"all\" href=\"/common/css/comm.css\">\\n<link rel=\"stylesheet\" type=\"text/css\" media=\"all\" href=\"/common/css/pop.css\">\\n<link rel=\"stylesheet\" type=\"text/css\" media=\"all\" href=\"/common/css/calendar.css\">\\n<link rel=\"stylesheet\" type=\"text/css\" media=\"print\" href=\"/common/css/print.css\">\\n<script type=\"text/javascript\" async=\"\" src=\"https://www.googletagmanager.com/gtag/js?id=G-NNZ67BBEB6&amp;cx=c&amp;_slc=1\"></script><script async=\"\" src=\"//www.google-analytics.com/analytics.js\"></script><script type=\"text/javascript\" src=\"/common/js/jquery-1.8.3.js\"></script>\\n<script type=\"text/javascript\" src=\"/common/js/comm.js\"></script>\\n<script type=\"text/javascript\" src=\"/common/js/date.js\"></script>\\n<script type=\"text/javascript\" src=\"/common/js/ajaxLoad.js\"></script>\\n<script type=\"text/javascript\" src=\"/common/js/jquery.form.js\"></script>\\n<script type=\"text/javascript\" src=\"/common/js/jquery.simplemodal-1.4.4.js\"></script>\\n<script type=\"text/javascript\" src=\"/common/js/jquery-ui.min.js\"></script>\\n<script type=\"text/javascript\" src=\"/common/js/common.js\"></script>\\n<script type=\"text/javascript\" src=\"/common/js/jquery.cookie.js\"></script>\\n<script type=\"text/javascript\" src=\"/common/js/customJquery.js\"></script>\\n\\n<script type=\"text/javascript\">\\n\\nvar msg_stay_sign = \"\";\\n\\t\\nmsg_stay_sign += \"브라우저의 쿠키를 삭제하거나\";\\nmsg_stay_sign += \"\\\\r\\\\n로그아웃을 선택하기 전까지는\";\\nmsg_stay_sign += \"\\\\r\\\\n계속 로그인 상태가 유지됩니다.\";\\nmsg_stay_sign += \"\\\\r\\\\n\\\\r\\\\n단, 2주 동안 본 PC에서\";\\nmsg_stay_sign += \"\\\\r\\\\nRM 서비스를 사용하지 않으면\";\\nmsg_stay_sign += \"\\\\r\\\\n로그인 상태 유지는 해제될 수 있습니다.\";\\nmsg_stay_sign += \"\\\\r\\\\n\\\\r\\\\n개인정보보호를 위해\";\\nmsg_stay_sign += \"\\\\r\\\\n개인 PC에서만 사용하세요.\";\\n\\n\\t$(document).ready(function()\\t{\\n\\t\\t\\n\\t\\tvar autochk = chkTypeofObj($.cookie(\\'autochk\\'));\\n\\t\\tif(autochk) {\\n\\t\\t\\t$(\"input[name=\\'autochk\\']\").val(autochk);\\n\\t\\t\\tif (autochk == \\'Y\\') {\\n\\t\\t\\t\\t$(\"input[name=\\'autochk\\']\").attr(\"checked\", true);\\n\\t\\t\\t} else {\\n\\t\\t\\t\\t$(\"input[name=\\'autochk\\']\").attr(\"checked\", false);\\n\\t\\t\\t}\\n\\t\\t} else {\\n\\t\\t\\t$(\"input[name=\\'autochk\\']\").attr(\"checked\", false);\\n\\t\\t}\\n\\t\\t\\n\\t\\t$(\"#stay_sign\").on(\"change\", chg_stay_sign);\\n\\t\\t\\n\\t\\t$(\"#user_id\").focus();\\n\\n\\n\\n\\n\\n\\t});\\n\\t\\n\\tfunction doLogin()\\t{\\n\\t\\tif(checkValid()){\\n\\t \\t\\tvar sub_usrid = chkTypeofObj($.cookie(\\'subid\\'));\\n\\t \\t\\tvar cpwd = chkTypeofObj($.cookie(\\'cpwd\\'));\\n\\t \\t\\t\\n\\t \\t\\t$(\"#sub_usrid\").val(sub_usrid);\\n\\t \\t\\t$(\"#cpwd\").val(\"\");\\n\\t \\t\\t\\n\\t\\t\\t$.ajax({\\n\\t\\t\\t\\turl  : \"/p00/A0005M000.nice\",\\n\\t\\t\\t\\ttype : \"POST\", \\n\\t\\t\\t\\tdataType : \"jsonp\",\\n\\t\\t\\t\\tdata : {\\n\\t\\t\\t\\t\\tuid\\t\\t\\t: \\t$(\"input[name=\\'uid\\']\").val(),\\n\\t\\t\\t\\t\\tpwd\\t\\t\\t: \\tencodeURIComponent($(\"input[name=\\'pwd\\']\").val()),\\n\\t\\t\\t\\t\\tsubid \\t\\t: \\t$(\"input[name=\\'subid\\']\").val(),\\n\\t\\t\\t\\t\\tcpwd \\t\\t: \\t$(\"input[name=\\'cpwd\\']\").val(),\\n\\t\\t\\t\\t\\tautochk\\t\\t:\\t$(\"input[name=\\'autochk\\']\").val()\\n\\t\\t\\t\\t},\\n\\t\\t\\t\\tjsonpCallback : \"default_callback\",\\n\\t\\t\\t\\tsuccess : function(json_data){\\n\\t\\t\\t\\t\\tvar check = json_data.A0005M000.Result.Check;\\n\\t\\t \\t\\t\\tvar message = json_data.A0005M000.Result.Message;\\n\\t\\t \\t\\t\\tvar status = json_data.A0005M000.Result.Status;\\n\\t\\t\\t\\t\\tvar memberType = json_data.A0005M000.Result.MemberType;\\n\\t\\t\\t\\t\\tvar joinType = json_data.A0005M000.Result.JoinType;\\n\\t\\t\\t\\t\\tvar usrid = json_data.A0005M000.usrid;\\n\\t\\t\\t\\t\\tvar lgn_usrid = json_data.A0005M000.lgn_usrid;\\n\\t\\t\\t\\t\\t$(\"#chk_uid\").val(usrid);\\n\\t\\t\\t\\t\\t\\n\\t\\t \\t\\t\\t//로그인성공\\n\\t\\t \\t\\t\\tif(check == \"OK\"){\\n\\t\\t\\t \\t\\t\\tif (memberType == \"C\"){\\n\\t \\t\\t\\t\\t\\t\\tif(joinType == \"3\" || joinType == \\'4\\'){\\n\\t\\t\\t \\t\\t\\t\\t\\tdocument.location.href = \"/p10/A1002M000.nice\";\\n\\t\\t\\t \\t\\t\\t\\t}\\n\\t\\t\\t\\t\\t\\t}\\n\\t\\t\\t\\t\\t\\tif(memberType != \"C\"){\\n\\t\\t\\t\\t\\t\\t\\n\\t\\t\\t\\t\\t\\t\\tif(joinType == \"3\" || joinType == \"4\"){\\n\\t\\t\\t\\t\\t\\t\\t\\tdocument.location.href = \"/p00/A0004M000.nice\";\\n\\t\\t\\t\\t\\t\\t\\t}else{\\n\\t\\t\\t\\t\\t\\t\\t\\tdocument.location.href = \"/p00/A0002M001.nice\";\\t\\t\\t\\t\\t\\t\\n\\t\\t\\t\\t\\t\\t\\t}\\n\\t\\t\\t\\t\\t\\t}\\n\\t\\t\\t \\t\\t}\\n\\t\\t \\t\\t\\telse if(status == \"NoSubUsrid\"){\\n\\t\\t\\t\\t\\t\\tdocument.registForm.uid.value = usrid\\n\\t\\t\\t\\t\\t\\tpageSubmit(\"registForm\",\"/p00/A0005M005.nice\",\"POST\");\\n\\t\\t \\t\\t\\t}\\n\\t\\t \\t\\t\\t//동시접속자수 초과\\n\\t\\t \\t\\t\\telse if(status == \"OverSession\"){\\n\\t\\t \\t\\t\\t\\n\\t\\t\\t \\t\\t\\tvar opt = {\\n\\t\\t\\t\\t\\t\\t\\tuid \\t: usrid\\n\\t\\t\\t\\t\\t\\t}\\n\\t\\t\\t\\t\\t\\t\\n\\t\\t\\t\\t\\t\\tlayerPopupOpen(\"/p00/A0001M007.nice\",opt,454,441);\\n\\t\\t\\t\\t\\t\\t\\n\\t\\t\\t\\t\\t\\t//미구현. alert 으로 대체\\n\\t\\t\\t\\t\\t\\t//alert(message);\\n\\t\\t \\t\\t\\t//과다사용정지\\n\\t\\t \\t\\t\\t} else if (status == \"EXCESSIVE\") {\\n\\t\\t\\t\\t\\t\\t\\n\\t\\t\\t\\t\\t\\talert(message);\\n\\t\\t \\t\\t\\t\\t\\n\\t\\t\\t\\t\\t}else if(status == \"SEALEDID\")\\t{\\n\\t\\t\\t\\t\\t\\t\\n\\t\\t\\t\\t\\t\\tFailLayerFinalOpen();\\n\\t\\t\\t\\t\\t\\t\\n\\t\\t\\t\\t\\t}else if(status == \"NPW\")\\t{\\n\\t\\t\\t\\t\\t\\t\\n\\t\\t\\t\\t\\t\\tFailLayerOpen();\\n\\t\\t\\t\\t\\t\\t\\n\\t\\t\\t\\t\\t}else if(status == \"CHGPWD\")\\t{\\n\\t\\t\\t\\t\\t\\n\\t\\t\\t\\t\\t\\t$(\"input[name=\\'puid\\']\").val(lgn_usrid);\\n\\t\\t\\t\\t\\t\\tpageSubmit(\"registForm\",\"/p00/A0005M003.nice\",\"POST\");\\n\\t\\t\\t\\t\\t\\t\\n\\t\\t\\t\\t\\t}else{\\n\\t\\t \\t\\t\\t\\t\\n\\t\\t \\t\\t\\t\\talert(message);\\n\\t\\t \\t\\t\\t\\t\\n\\t\\t \\t\\t\\t}\\n\\t\\t\\t\\t}\\n\\t\\t\\t});\\n\\t\\t}\\n\\t\\t\\n\\t\\treturn false;\\n\\t}\\n\\t\\n\\tfunction chg_stay_sign()\\t{\\n\\t\\t\\n\\t\\tif($(this).attr(\"checked\") == \"checked\")\\t{\\n\\t\\t\\t\\n\\t\\t\\talert(msg_stay_sign);\\n\\t\\t\\t$(this).val(\"Y\");\\n\\t\\t\\n\\t\\t} else {\\n\\t\\t\\n\\t\\t\\t$(this).val(\"N\");\\n\\t\\t\\n\\t\\t}\\n\\t\\t\\n\\t}\\n\\t\\n\\tfunction checkValid(){\\n\\t\\tif($(\"#user_id\").val().replace(\"/s\",\"\") == \"\") {\\n\\t\\t\\talert(\"아이디를 입력하십시오.\");\\n\\t\\t\\treturn false;\\n\\t\\t}\\n\\t\\t\\n \\t\\tif($(\"#user_pw\").val().replace(\"/s\",\"\") == \"\") {\\n\\t\\t\\talert(\"비밀번호를 입력하십시오.\");\\n\\t\\t\\treturn false;\\n\\t\\t}\\n\\t\\treturn true;\\n\\t}\\n\\t\\n\\tfunction gnbPageSubmit(no)\\t{\\t\\n\\t\\topenWindow(850, 664, \"/p09/A0901M00\"+no+\".nice?sw=on\"+no, \"serviceGuide\", \"frm_svcguide\");\\n\\t}\\n\\t\\n\\t\\n\\tfunction pcont(){\\n\\t\\tlayerPopupOpen(\"/p00/A0003M000.nice\",\"\", \"750\", \"550\");\\n\\t}\\n\\t\\n\\t\\n\\tfunction notice(type){\\n\\t\\t\\n\\t\\tif(type == (\\'more\\')) {\\n\\t\\t\\tdocument.location.href = \"/p08/A0803M000.nice\";\\n\\t\\t}else{\\t\\n\\t\\t\\tvar\\topt = {seq : type};\\n\\t\\t\\tlayerPopupOpen(\"/p08/A0803M002.nice\", opt, \"750\", \"668\");\\n\\t\\t}\\n\\t}\\n\\t\\n\\t\\n\\tfunction info(type) {\\n\\t\\tif(type == (\\'more\\')){\\n\\t\\t\\tdocument.location.href = \"/p08/A0802M000.nice\";\\n\\t\\t}else{\\n\\t\\t\\tvar\\topt = {indexNo : type};\\n\\t\\t\\tlayerPopupOpen(\"/p08/A0802M001.nice\", opt, \"623\", \"620\");\\n\\t\\t}\\n\\t}\\n\\t\\n\\tfunction outUser(oldSubid) {\\n\\t\\tvar uid = $(\"#chk_uid\").val();\\n\\t\\t\\n\\t\\t$(\"#uid\").val(uid);\\n\\t\\t$(\"#oldSubid\").val(oldSubid);\\n\\t\\tpageSubmit(\"registForm\",\"/p00/A0001M008.nice\",\"GET\");\\n\\n\\t\\tlayerPopupClose();\\n\\t}\\n\\t\\n\\tfunction FailLayerOpen()\\t{\\n\\t\\n\\t\\t$(\"#LoginFailLayer\").width(350);\\n\\t\\t$(\"#LoginFailLayer\").height(198);\\n\\t\\t\\n\\t\\t$(\"#LoginFailLayer\").modal({\\n\\t\\t\\topacity\\t\\t\\t:\\t50,\\n\\t\\t\\toverlayCss\\t\\t:\\t{\"background-color\": \"#fff\"}\\n\\t\\t});\\n\\t\\t\\n\\t\\t$(\"object\").hide();\\n\\t\\n\\t}\\n\\n\\tfunction FailLayerFinalOpen()\\t{\\n\\t\\n\\t\\t$(\"#LoginFailLayerFinal\").width(350);\\n\\t\\t$(\"#LoginFailLayerFinal\").height(198);\\n\\t\\t\\n\\t\\t$(\"#LoginFailLayerFinal\").modal({\\n\\t\\t\\topacity\\t\\t\\t:\\t50,\\n\\t\\t\\toverlayCss\\t\\t:\\t{\"background-color\": \"#fff\"}\\n\\t\\t});\\n\\t\\t\\n\\t\\t$(\"object\").hide();\\n\\t\\n\\t}\\n\\t\\n\\tfunction FailLayerFinalClose(){\\n\\t\\t$(\"#LoginFailLayerFinal\").hide();\\n\\t\\t$.modal.close();\\n\\t\\t\\n\\t\\t$(\"object\").show();\\n\\t}\\n\\n\\tfunction FailLayerClose(){\\n\\t\\t$(\"#LoginFailLayer\").hide();\\n\\t\\t$.modal.close();\\n\\t\\t\\n\\t\\t$(\"object\").show();\\n\\t}\\n\\n\\tfunction goToNBL(){\\n\\t\\talert(\"기존 계약정보를 확인하기 위해 로그인이 필요합니다.\");\\n\\t}\\n</script>\\n\\n</head>\\n<body>\\n\\t<input type=\"hidden\" id=\"chk_uid\">\\n<!-- skipnav -->\\n<div id=\"skipnav\">\\n\\t<a href=\"#lnb\" class=\"skip\">주 메뉴 바로가기</a>\\n\\t<a href=\"#container\" class=\"skip\">컨텐츠 바로가기</a>\\n</div>\\n<!-- skipnav -->\\n<hr>\\n\\t\\n<!-- wrapper -->\\n<div id=\"wrapper\">\\n\\t<form id=\"frm_svcguide\" name=\"frm_svcguide\">\\n \\t\\t\\n \\t</form>\\n\\n\\t<!-- header -->\\n\\t<div id=\"header\">\\n\\t\\t<h1><a href=\"/p00/A0001M002.nice\"><img src=\"/common/images/comm/header/logo.gif\" alt=\"RM로고\"></a></h1>\\n\\t\\t<ul id=\"gnb\">\\n\\t\\t\\t<li><a href=\"/p10/A1001M000.nice\"><img src=\"/common/images/comm/header/gnb_coupon.gif\" alt=\"쿠폰\"></a></li>\\n\\t\\t\\t<li><a href=\"/p08/A0805M000.nice\"><img src=\"/common/images/comm/header/gnb_faq.gif\" alt=\"FAQ\"></a></li>\\n\\t\\t\\t<li><a href=\"/p08/A0801M000.nice\"><img src=\"/common/images/comm/header/gnb_center.gif\" alt=\"고객센터\"></a></li>\\n\\t\\t\\t<li class=\"lst\"><a href=\"/p08/A0807M000.nice\"><img src=\"/common/images/comm/header/gnb_sitemap.gif\" alt=\"사이트맵\"></a></li>\\n\\t\\t</ul>\\n\\t\\t<h2 class=\"none\">주 메뉴</h2>\\n\\t\\t<ul id=\"lnb\">\\n\\t\\t\\t<li><a href=\"javascript:gnbPageSubmit(0);\" class=\"lnb_a\"><span>거래처관리</span></a></li>\\n\\t\\t\\t<li><a href=\"javascript:gnbPageSubmit(1);\" class=\"lnb_b\"><span>기업정보</span></a></li>\\n\\t\\t\\t<li><a href=\"javascript:gnbPageSubmit(2);\" class=\"lnb_c\"><span>신용정보</span></a></li>\\n\\t\\t\\t<li><a href=\"javascript:gnbPageSubmit(3);\" class=\"lnb_d\"><span>인물정보</span></a></li>\\n\\t\\t\\t<li><a href=\"javascript:gnbPageSubmit(4);\" class=\"lnb_e\"><span>산업정보</span></a></li>\\n\\t\\t\\t<li><a href=\"javascript:gnbPageSubmit(5);\" class=\"lnb_f\"><span>마케팅정보</span></a></li>\\n\\t\\t\\t<li><a href=\"javascript:gnbPageSubmit(6);\" class=\"lnb_g\"><span>채권회수</span></a></li>\\n\\t\\t\\t<li><a href=\"javascript:gnbPageSubmit(7);\" class=\"lnb_global\"><span>해외기업정보</span></a></li>\\n\\t\\t\\t<!-- [2018-01-08] start, 신규 메뉴 --> <!-- [2016-09-01]부동산정보 목록 추가 -->\\n\\t\\t\\t<li><a href=\"javascript:gnbPageSubmit(8);\" class=\"lnb_bu\"><span>NICE부동산</span></a></li>\\n\\t\\t</ul>\\n\\t</div>\\n\\t<!-- //header -->\\n\\t<hr>\\n \\n\\t<!-- container -->\\n\\t<div id=\"container\">\\n\\t\\t<!-- main contents -->\\t\\t\\n \\n\\n\\t\\t\\t<!-- 20221107 수정, start -->\\n\\t\\t\\t<div id=\"visu\" style=\"background: none;\">\\n\\t\\t\\t\\t<img src=\"/common/images/nbl/main_banner_nbl.jpg\" alt=\"RM1이 NICE BizLINE으로 새롭게 태어납니다.\" usemap=\"#main_banner_nbl\">\\n\\n\\t\\t\\t\\t<map name=\"main_banner_nbl\" id=\"main_banner_nbl\">\\n\\t\\t\\t\\t\\t<area shape=\"rect\" coords=\"530,121,736,158\" onclick=\"goToNBL();\" alt=\"NICE BizLINE 바로가기\" target=\"_blank\">\\n\\t\\t\\t\\t</map>\\n\\t\\t\\t</div>\\n\\t\\t\\t<!-- 20221107 수정, end -->\\n\\t\\t<!-- main_cont -->\\n\\t\\t<h2 class=\"none\">추천 업무</h2>\\n\\t\\t<ul id=\"main_cont\">\\n\\t\\t\\t<li class=\"cont1\">\\n\\t\\t\\t\\t<p class=\"tit\"><img src=\"/common/images/main/tx_main_cont_1.gif\" alt=\"가입 및 이용안내\"></p>\\n\\t\\t\\t\\t<div class=\"img_wrap\">\\n\\t\\t\\t\\t\\t<img src=\"/common/images/main/icon_call.png\" alt=\"icon_call\">\\n\\t\\t\\t\\t</div>\\n\\t\\t\\t\\t<div class=\"item-wrap\">\\n\\t\\t\\t\\t\\t<img src=\"/common/images/main/tx_main_cont_1_1.gif\" alt=\"일반기업 T 02-3771-1600 / E rm1@rm1.co.kr, 금융기관 T 02-3771-1720 / E nice@rm1.co.kr\">\\n\\t\\t\\t\\t</div>\\n\\t\\t\\t\\t<div class=\"btn_wrap\">\\n\\t\\t\\t\\t\\t<a href=\"javascript:pcont();\" class=\"btn btn_default\"><img src=\"/common/images/main/btn_cont_1.gif\" alt=\"가입 문의 및 상담하기\"></a>\\n\\t\\t\\t\\t</div>\\n\\t\\t\\t</li>\\n\\t\\t\\t<li class=\"cont2\">\\n\\t\\t\\t\\t<p class=\"tit\"><img src=\"/common/images/main/tx_main_cont_2.gif\" alt=\"RM1 서비스 안내\"></p>\\n\\t\\t\\t\\t<div class=\"img_wrap\" style=\"padding-top: 5px;\">\\n\\t\\t\\t\\t\\t<img src=\"/common/images/main/icon_monitor.png\" alt=\"icon_monitor\">\\n\\t\\t\\t\\t</div>\\n\\t\\t\\t\\t<div class=\"item-wrap\">\\n\\t\\t\\t\\t\\t<img src=\"/common/images/main/tx_main_cont_2_1.gif\" alt=\"기업 개요정보, 실시간 금융기관 연체이력\\n                        기업 분석 보고서, 기업상세검색 등\">\\n\\t\\t\\t\\t</div>\\n\\t\\t\\t\\t<div class=\"btn_wrap\">\\n\\t\\t\\t\\t\\t<a href=\"javascript:gnbPageSubmit(0);\" class=\"btn btn_default\"><img src=\"/common/images/main/btn_cont_2.gif\" alt=\"제공 정보 및 서비스 기능 알아보기\"></a>\\n\\t\\t\\t\\t</div>\\n\\t\\t\\t</li>\\n\\t\\t\\t<li class=\"cont3\">\\n\\t\\t\\t\\t<p class=\"tit\"><img src=\"/common/images/main/tx_main_cont_3.gif\" alt=\"RM1 활용방안\"></p>\\n\\t\\t\\t\\t<div class=\"item-wrap\" style=\"margin: 20px 0 0;\">\\n\\t\\t\\t\\t\\t<div class=\"video_box\" style=\"height: 160px;\">\\n\\t\\t\\t\\t\\t\\t<iframe width=\"100%\" height=\"100%\" src=\"https://www.youtube.com/embed/4KamZTZuaxo\" title=\"YouTube video player\" frameborder=\"0\" allow=\"accelerometer; clipboard-write; encrypted-media; gyroscope; picture-in-picture\" allowfullscreen=\"\"></iframe>\\n\\t\\t\\t\\t\\t</div>\\n\\t\\t\\t\\t</div>\\n\\t\\t\\t\\t<div class=\"btn_wrap\">\\n\\t\\t\\t\\t\\t<a href=\"/files/pdf/[NICE평가정보]2021_RM1제안서_20211206.pdf\" class=\"btn btn_default\"><img src=\"/common/images/main/btn_cont_3.gif\" alt=\"서비스 제안서 확인하기\"></a>\\n\\t\\t\\t\\t</div>\\n\\t\\t\\t</li>\\n\\t\\t</ul>\\n \\n\\t\\t<!-- main_cont2 -->\\t\\t\\n\\t\\t<div id=\"main_cont2\">\\n\\t\\t\\t<h2 class=\"none\">로그인</h2>\\n\\t\\t\\t<div class=\"login_main\">\\n\\t\\t\\t<form id=\"loginform\" method=\"GET\" onsubmit=\"return false;\">\\n\\t\\t\\t<input type=\"hidden\" id=\"sub_usrid\" name=\"subid\" value=\"\">\\n\\t\\t\\t<input type=\"hidden\" id=\"cpwd\" name=\"cpwd\" value=\"\">\\n\\t\\t\\t<fieldset>\\n\\t\\t\\t\\t<legend>로그인 폼</legend>\\n\\t\\t\\t\\t<p><label for=\"user_id\"><img src=\"/common/images/main/tx_login_id.gif\" alt=\"아이디\"></label><input type=\"text\" id=\"user_id\" name=\"uid\" class=\"tx_id\"></p>\\n\\t\\t\\t\\t<p><label for=\"user_pw\"><img src=\"/common/images/main/tx_login_pw.gif\" alt=\"비밀번호\"></label><input type=\"password\" id=\"user_pw\" name=\"pwd\" class=\"tx_pw\"></p>\\n\\t\\t\\t\\t<p class=\"btn\"><input type=\"image\" src=\"/common/images/main/btn_login.gif\" id=\"submit\" alt=\"로그인\" title=\"로그인하기\" onclick=\"doLogin();\"></p>\\n\\t\\t\\t\\t<!-- 2013-03-06 텍스트수정 -->\\n\\t\\t\\t\\t<!-- 2015-05-11 st -->\\n\\t\\t\\t\\t<p class=\"link cl\">\\n\\t\\t\\t\\t\\t<input type=\"checkbox\" id=\"stay_sign\" name=\"autochk\" value=\"N\">\\n\\t\\t\\t\\t\\t<label for=\"stay_sign\" style=\"width:95px;text-align:left;\">로그인 상태 유지</label>\\n\\t\\t\\t\\t\\t<a href=\"/p00/A0005M001.nice\" class=\"btncom st01\" style=\"float: right;\"><span>개인 아이디/비밀번호 찾기</span></a>\\n\\n\\t\\t\\t\\t</p>\\n\\t\\t\\t\\t<!-- 2015-05-11 end -->\\n\\t\\t\\t</fieldset>\\n\\t\\t\\t</form>\\n\\t\\t\\t<form name=\"registForm\" id=\"registForm\" method=\"GET\">\\n\\t\\t\\t\\t<input type=\"hidden\" id=\"uid\" name=\"uid\">\\n\\t\\t\\t\\t<input type=\"hidden\" id=\"oldSubid\" name=\"oldSubid\">\\n\\t\\t\\t\\t<input type=\"hidden\" id=\"puid\" name=\"puid\">\\n\\t\\t\\t</form>\\n\\t\\t\\t</div>\\n\\t\\t\\t\\n\\t\\t\\t<!-- 20170710 start, 추가 -->\\n\\t\\t\\t<div class=\"narea01\">\\n\\t\\t\\t\\t<a href=\"https://creditor.rm1.co.kr/cm/CM0100M017GE.nice\" target=\"_blank\"><img src=\"/common/images/main/banner_m1.png\" alt=\"채권회수지원서비스 바로가기\"></a>\\n\\t\\t\\t</div>\\n\\t\\t\\t<!-- 20170710 end -->\\n\\t\\t\\t\\n\\t\\t\\t<div class=\"board\">\\n\\t\\t\\t\\t<div>\\n\\t\\t\\t\\t\\t<h2><img src=\"/common/images/main/tit_board_2.gif\" alt=\"공지사항\"></h2>\\n\\t\\t\\t\\t\\t<ul>\\n\\t\\t\\t\\t\\t\\t\\t\\t<li><a href=\"javascript:notice(\\'96\\');\">\\n\\t\\t\\t\\t\\t\\t\\t\\t\\t[서비스 점검] 2023년 7월 15일 1...\\n\\t\\t\\t\\t\\t\\t\\t\\t</a><span class=\"date\">\\n\\t\\t\\t\\t\\t\\t\\t\\t\\t2023.07.10\\n\\t\\t\\t\\t\\t\\t\\t\\t</span></li>\\n\\t\\t\\t\\t\\t\\t\\t\\t<li><a href=\"javascript:notice(\\'95\\');\">\\n\\t\\t\\t\\t\\t\\t\\t\\t\\t[부동산] 강원특별자치도 관련 시스템 변경...\\n\\t\\t\\t\\t\\t\\t\\t\\t</a><span class=\"date\">\\n\\t\\t\\t\\t\\t\\t\\t\\t\\t2023.06.08\\n\\t\\t\\t\\t\\t\\t\\t\\t</span></li>\\n\\t\\t\\t\\t\\t</ul>\\n\\t\\t\\t\\t\\t<p class=\"more\"><a href=\"javascript:notice(\\'more\\');\"><img src=\"/common/images/main/btn_more.gif\" alt=\"more\"></a></p>\\n\\t\\t\\t\\t</div>\\n\\t\\t\\t\\t<div class=\"mt10\">\\n\\t\\t\\t\\t\\t<h2><img src=\"/common/images/main/tit_board_1.gif\" alt=\"거래처관리정보센터\"></h2>\\n\\t\\t\\t\\t\\t<ul>\\n\\t\\t\\t\\t\\t\\t<li><a href=\"javascript:info(9);\">거래처 부도에 따른 자금사정 악화시 납세유예제도를 활용하세요</a><span class=\"date\">2014.04.16</span></li>\\n\\t\\t\\t\\t\\t\\t<li><a href=\"javascript:info(8);\">유형별 채권의 소멸시효 기간</a><span class=\"date\">2013.01.30</span></li>\\n\\t\\t\\t\\t\\t\\t<!--<li><a href=\"javascript:info(7);\">거래처에서 부도가 발생시 부가가치세...</a><span class=\"date\">2013.01.30</span></li>-->\\n\\t\\t\\t\\t\\t\\t<!--<li><a href=\"javascript:info(3);\">부실채권 발생 징후에 대한 정보</a><span class=\"date\">2013.01.30</span></li>-->\\n\\t\\t\\t\\t\\t</ul>\\n\\t\\t\\t\\t\\t<p class=\"more_i\"><a href=\"javascript:info(\\'more\\');\"><img src=\"/common/images/main/btn_more.gif\" alt=\"more\"></a></p>\\n\\t\\t\\t\\t</div>\\n\\t\\t\\t</div>\\n\\t\\t\\t<!-- 2015-11-09 end -->\\n\\t\\t</div>\\n\\t\\t<!-- //main contents -->\\n\\n\\t\\t<div class=\"side-banner mainpage\">\\n\\t\\t\\t\\t<!-- 20221107 신규, start -->\\n\\t\\t\\t\\t<div class=\"a_banner\" style=\"margin-top: 0;\">\\n\\t\\t\\t\\t\\t<a target=\"_blank\" onclick=\"goToNBL();\">\\n\\t\\t\\t\\t\\t\\t<img src=\"/common/images/nbl/side_banner_nbl.jpg\" alt=\"RM1이 NICE BizLINE으로 새롭게 태어납니다.\">\\n\\t\\t\\t\\t\\t</a>\\n\\t\\t\\t\\t</div>\\n\\t\\t\\t\\t<!-- 20221107 신규, end -->\\n\\t\\t\\t\\t<div class=\"a_banner\">\\n\\t\\t\\t\\t\\t<a href=\"https://www.kisvalue.com/web/landing.jsp\" target=\"_blank\">\\n\\t\\t\\t\\t\\t\\t<img src=\"/common/images/main/side_banner_vs.jpg\" alt=\"Excel에서 직접 Data활용 가능한 Excel Value Search 안내 바로가기\">\\n\\t\\t\\t\\t\\t</a>\\n\\t\\t\\t\\t</div>\\n\\t\\t</div>\\n\\n\\t</div>\\n\\t<!-- //container -->\\n\\t<div id=\"LoginFailLayerFinal\" style=\"display:none;background-color:#f4f4f4;\">\\n\\t\\t\\n\\t\\t<!-- 2014-02-06 공통팝업이라 css inline으로 작업하였습니다 -->\\n\\t\\t<div style=\"font-family:\\'돋움\\';border:1px solid #7d7b7b;width:350px;min-height:198px;height:auto;;\"><!-- common pop_01 -->\\n\\t\\t\\t<div style=\"background-color:#09318d;height:30px;line-height:30px;font-size:15px;font-weight:bold;text-align:center;color:#fff;\">\\n\\t\\t\\t\\t비밀번호 오류\\n\\t\\t\\t</div>\\n\\t\\t\\t<div style=\"padding:0 15px;margin-top:50px;text-align:center;\">\\n\\t\\t\\t\\t<p style=\"color:#3f4247;font-weight:bold;font-size:14px;\">비밀번호를 5회 이상 잘못 입력하였습니다.</p>\\n\\t\\t\\t\\t<p style=\"margin-top:10px;font-size:12px;color:#3f4247;line-height:1.3em;\">\\n\\t\\t\\t\\t\\t해당 아이디로는 <span style=\"color:#d50d4f;font-weight:bold;\">로그인이 차단</span>되었으니 <br>\\n\\t\\t\\t\\t\\t<span style=\"font-weight:bold;\">고객센터</span>로 연락해주시기 바랍니다.\\n\\t\\t\\t\\t</p>\\n\\t\\t\\t</div>\\n\\t\\t\\t<div style=\"text-align:center;margin-top:20px;\"><a href=\"#\"><img src=\"/common/images/btn/btn_03.gif\" width=\"56\" height=\"25\" border=\"0\" alt=\"확인\" onclick=\"FailLayerFinalClose();\"></a></div>\\n\\t\\t</div>\\n\\t</div><!-- common pop_01 -->\\n\\t<div id=\"LoginFailLayer\" style=\"display:none;background-color:#f4f4f4;\">\\n\\t\\t<div style=\"font-family:\\'돋움\\';border:1px solid #7d7b7b;width:350px;min-height:198px;height:auto;;\"><!-- common pop_02 -->\\n\\t\\t\\t<div style=\"background-color:#09318d;height:30px;line-height:30px;font-size:15px;font-weight:bold;text-align:center;color:#fff;\">\\n\\t\\t\\t\\t비밀번호 오류\\n\\t\\t\\t</div>\\n\\t\\t\\t<div style=\"padding:0 15px;margin-top:50px;text-align:center;\">\\n\\t\\t\\t\\t<p style=\"color:#3f4247;font-weight:bold;font-size:14px;\">아이디또는 비밀번호를 잘못 입력하였습니다.</p>\\n\\t\\t\\t\\t<p style=\"margin-top:10px;font-size:12px;color:#3f4247;line-height:1.3em;\"><span style=\"color:#d50d4f;font-weight:bold;\">비밀번호 5회 오류 입력시 서비스 이용이 차단</span>되오니<br>\\n\\t\\t\\t\\t 정확히 확인하신 후 입력하시기 바랍니다.</p>\\n\\t\\t\\t</div>\\n\\t\\t\\t<div style=\"text-align:center;margin-top:20px;\"><a href=\"#\"><img src=\"/common/images/btn/btn_03.gif\" width=\"56\" height=\"25\" border=\"0\" alt=\"확인\" onclick=\"FailLayerClose();\"></a></div>\\n\\t\\t</div><!-- common pop_02 -->\\n\\t\\t<!-- 2014-02-06 공통팝업이라 css inline으로 작업하였습니다 -->\\n\\t</div><!--// wrapper -->\\n\\t\\n\\t<hr>\\n\\n<script type=\"text/javascript\">\\n\\t(function(i,s,o,g,r,a,m){i[\\'GoogleAnalyticsObject\\']=r;i[r]=i[r]||function(){\\n\\t\\t(i[r].q=i[r].q||[]).push(arguments)},i[r].l=1*new Date();a=s.createElement(o),\\n\\t\\tm=s.getElementsByTagName(o)[0];a.async=1;a.src=g;m.parentNode.insertBefore(a,m)\\n\\t })(window,document,\\'script\\',\\'//www.google-analytics.com/analytics.js\\',\\'ga\\');\\n\\t\\n\\t ga(\\'create\\', \\'UA-11236888-42\\', \\'auto\\');\\n\\t ga(\\'send\\', \\'pageview\\');\\n\\t \\n\\t\\t\\n</script> \\n<!-- footer_wrap -->\\n<!-- footer -->\\n<form id=\"sideCmpFrm\" name=\"sideCmpFrm\">\\n\\t<input type=\"hidden\" id=\"business\" name=\"business\" value=\"\">\\n\\t<input type=\"hidden\" id=\"upchecd\" name=\"upchecd\" value=\"\"> \\n\\t<input type=\"hidden\" id=\"loadingPage\" name=\"loadingPage\" value=\"\">\\n</form>\\n<div id=\"footer_wrap\">\\n<div id=\"footer\">\\n\\t<h2 class=\"none\">사이트 정보</h2>\\n    <div class=\"logo\">\\n        <a href=\"http://www.niceinfo.co.kr\" target=\"_blink\"><img src=\"/common/images/comm/footer/logo.gif\" alt=\"NICE평가정보\"></a>\\n    </div>\\n\\t<div class=\"foot_cont\">\\n\\t\\t<!-- quick_link -->\\n\\t\\t<h3 class=\"none\">바로가기</h3>\\n        <ul class=\"quick_link\">\\n            <li><a href=\"http://www.niceinfo.co.kr\" target=\"_blink\">회사소개</a></li>\\n            <li><a href=\"javascript:openWindow(850, 664, \\'/p09/A0901M000.nice\\', \\'serviceGuide\\', \\'frm_svcguide\\');\">서비스 소개</a></li>\\n            <li><a href=\"/p08/A0806M000.nice\">이용약관</a></li>\\n            <li><a href=\"/p08/A0806M001.nice\"><span class=\"g\">개인정보처리방침</span></a></li>\\n            <li><a href=\"/p08/A0806M002.nice\">이메일무단수집거부</a></li>\\n            <li><a href=\"/p08/A0801M000.nice\">고객센터</a></li>\\n        </ul>\\n        <div class=\"addr\">\\n            <address>\\n                <span class=\"s\">서울 영등포구 은행로 17 NICE평가정보(주)</span>\\n                <span class=\"s\">등록번호:116-81-15020</span>\\n                <span class=\"s\">FAX:02)3771-1534 / <a href=\"mailto:rm1@rm1.co.kr\" class=\"l\">rm1@rm1.co.kr</a></span>\\n            </address>\\n            <p class=\"c\">COPYRIGHT © <span class=\"b\">NICE INFOMATION SERVICE</span> CO.LTD. All RIGHTS RESERVED</p>\\n        </div>\\n    </div>\\n    <div class=\"tx_phonenumber\">\\n        <div class=\"d1\"><b class=\"b\">☎ 이용안내 및 문의</b> 비금융권 <span class=\"s\">02)3771-1600</span></div>\\n        <div class=\"d2\">금융권 <span class=\"s\">02)3771-1720</span></div>\\n    </div>\\n</div>\\n</div>\\n<!-- //footer_wrap -->\\n\\n\\n<!-- 20170710 start, 배너 추가 -->\\n\\n\\n<div class=\"quick_menu\">\\n        <div class=\"mt5\">\\n            <a href=\"https://creditor.rm1.co.kr/cm/CM0100M017GE.nice\" target=\"_blank\"><img src=\"/common/images/etc/banner_m2.png\" alt=\"\"></a><br>\\n            <a href=\"https://www.rm1.co.kr/popup/20190716/pop0716.html\" target=\"_blank\"><img src=\"/common/images/etc/banner_m3.png\" alt=\"\"></a>\\n        </div>\\n\\n\\n</div>\\n<!-- 20170710 end -->\\t<!-- //wrapper -->\\n\\n\\n</div></body></html>'"
      ]
     },
     "execution_count": 9,
     "metadata": {},
     "output_type": "execute_result"
    }
   ],
   "source": [
    "driver.get(url_frame)\n",
    "html = driver.page_source\n",
    "html"
   ]
  },
  {
   "cell_type": "code",
   "execution_count": 10,
   "metadata": {},
   "outputs": [
    {
     "data": {
      "text/plain": [
       "<html lang=\"ko\" xml:lang=\"ko\" xmlns=\"http://www.w3.org/1999/xhtml\"><head>\n",
       "<meta content=\"text/html; charset=utf-8\" http-equiv=\"Content-Type\"/>\n",
       "<meta content=\"IE=edge\" http-equiv=\"X-UA-Compatible\"/>\n",
       "<meta content=\"-1\" http-equiv=\"expires\"/>\n",
       "<title> RM </title>\n",
       "<link href=\"/common/css/base.css\" media=\"all\" rel=\"stylesheet\" type=\"text/css\"/>\n",
       "<link href=\"/common/css/module.css\" media=\"all\" rel=\"stylesheet\" type=\"text/css\"/>\n",
       "<link href=\"/common/css/section_a.css\" media=\"all\" rel=\"stylesheet\" type=\"text/css\"/>\n",
       "<link href=\"/common/css/section_b.css\" media=\"all\" rel=\"stylesheet\" type=\"text/css\"/>\n",
       "<link href=\"/common/css/main.css\" media=\"all\" rel=\"stylesheet\" type=\"text/css\"/>\n",
       "<link href=\"/common/css/layout.css\" media=\"all\" rel=\"stylesheet\" type=\"text/css\"/>\n",
       "<link href=\"/common/css/comm.css\" media=\"all\" rel=\"stylesheet\" type=\"text/css\"/>\n",
       "<link href=\"/common/css/pop.css\" media=\"all\" rel=\"stylesheet\" type=\"text/css\"/>\n",
       "<link href=\"/common/css/calendar.css\" media=\"all\" rel=\"stylesheet\" type=\"text/css\"/>\n",
       "<link href=\"/common/css/print.css\" media=\"print\" rel=\"stylesheet\" type=\"text/css\"/>\n",
       "<script async=\"\" src=\"https://www.googletagmanager.com/gtag/js?id=G-NNZ67BBEB6&amp;cx=c&amp;_slc=1\" type=\"text/javascript\"></script><script async=\"\" src=\"//www.google-analytics.com/analytics.js\"></script><script src=\"/common/js/jquery-1.8.3.js\" type=\"text/javascript\"></script>\n",
       "<script src=\"/common/js/comm.js\" type=\"text/javascript\"></script>\n",
       "<script src=\"/common/js/date.js\" type=\"text/javascript\"></script>\n",
       "<script src=\"/common/js/ajaxLoad.js\" type=\"text/javascript\"></script>\n",
       "<script src=\"/common/js/jquery.form.js\" type=\"text/javascript\"></script>\n",
       "<script src=\"/common/js/jquery.simplemodal-1.4.4.js\" type=\"text/javascript\"></script>\n",
       "<script src=\"/common/js/jquery-ui.min.js\" type=\"text/javascript\"></script>\n",
       "<script src=\"/common/js/common.js\" type=\"text/javascript\"></script>\n",
       "<script src=\"/common/js/jquery.cookie.js\" type=\"text/javascript\"></script>\n",
       "<script src=\"/common/js/customJquery.js\" type=\"text/javascript\"></script>\n",
       "<script type=\"text/javascript\">\n",
       "\n",
       "var msg_stay_sign = \"\";\n",
       "\t\n",
       "msg_stay_sign += \"브라우저의 쿠키를 삭제하거나\";\n",
       "msg_stay_sign += \"\\r\\n로그아웃을 선택하기 전까지는\";\n",
       "msg_stay_sign += \"\\r\\n계속 로그인 상태가 유지됩니다.\";\n",
       "msg_stay_sign += \"\\r\\n\\r\\n단, 2주 동안 본 PC에서\";\n",
       "msg_stay_sign += \"\\r\\nRM 서비스를 사용하지 않으면\";\n",
       "msg_stay_sign += \"\\r\\n로그인 상태 유지는 해제될 수 있습니다.\";\n",
       "msg_stay_sign += \"\\r\\n\\r\\n개인정보보호를 위해\";\n",
       "msg_stay_sign += \"\\r\\n개인 PC에서만 사용하세요.\";\n",
       "\n",
       "\t$(document).ready(function()\t{\n",
       "\t\t\n",
       "\t\tvar autochk = chkTypeofObj($.cookie('autochk'));\n",
       "\t\tif(autochk) {\n",
       "\t\t\t$(\"input[name='autochk']\").val(autochk);\n",
       "\t\t\tif (autochk == 'Y') {\n",
       "\t\t\t\t$(\"input[name='autochk']\").attr(\"checked\", true);\n",
       "\t\t\t} else {\n",
       "\t\t\t\t$(\"input[name='autochk']\").attr(\"checked\", false);\n",
       "\t\t\t}\n",
       "\t\t} else {\n",
       "\t\t\t$(\"input[name='autochk']\").attr(\"checked\", false);\n",
       "\t\t}\n",
       "\t\t\n",
       "\t\t$(\"#stay_sign\").on(\"change\", chg_stay_sign);\n",
       "\t\t\n",
       "\t\t$(\"#user_id\").focus();\n",
       "\n",
       "\n",
       "\n",
       "\n",
       "\n",
       "\t});\n",
       "\t\n",
       "\tfunction doLogin()\t{\n",
       "\t\tif(checkValid()){\n",
       "\t \t\tvar sub_usrid = chkTypeofObj($.cookie('subid'));\n",
       "\t \t\tvar cpwd = chkTypeofObj($.cookie('cpwd'));\n",
       "\t \t\t\n",
       "\t \t\t$(\"#sub_usrid\").val(sub_usrid);\n",
       "\t \t\t$(\"#cpwd\").val(\"\");\n",
       "\t \t\t\n",
       "\t\t\t$.ajax({\n",
       "\t\t\t\turl  : \"/p00/A0005M000.nice\",\n",
       "\t\t\t\ttype : \"POST\", \n",
       "\t\t\t\tdataType : \"jsonp\",\n",
       "\t\t\t\tdata : {\n",
       "\t\t\t\t\tuid\t\t\t: \t$(\"input[name='uid']\").val(),\n",
       "\t\t\t\t\tpwd\t\t\t: \tencodeURIComponent($(\"input[name='pwd']\").val()),\n",
       "\t\t\t\t\tsubid \t\t: \t$(\"input[name='subid']\").val(),\n",
       "\t\t\t\t\tcpwd \t\t: \t$(\"input[name='cpwd']\").val(),\n",
       "\t\t\t\t\tautochk\t\t:\t$(\"input[name='autochk']\").val()\n",
       "\t\t\t\t},\n",
       "\t\t\t\tjsonpCallback : \"default_callback\",\n",
       "\t\t\t\tsuccess : function(json_data){\n",
       "\t\t\t\t\tvar check = json_data.A0005M000.Result.Check;\n",
       "\t\t \t\t\tvar message = json_data.A0005M000.Result.Message;\n",
       "\t\t \t\t\tvar status = json_data.A0005M000.Result.Status;\n",
       "\t\t\t\t\tvar memberType = json_data.A0005M000.Result.MemberType;\n",
       "\t\t\t\t\tvar joinType = json_data.A0005M000.Result.JoinType;\n",
       "\t\t\t\t\tvar usrid = json_data.A0005M000.usrid;\n",
       "\t\t\t\t\tvar lgn_usrid = json_data.A0005M000.lgn_usrid;\n",
       "\t\t\t\t\t$(\"#chk_uid\").val(usrid);\n",
       "\t\t\t\t\t\n",
       "\t\t \t\t\t//로그인성공\n",
       "\t\t \t\t\tif(check == \"OK\"){\n",
       "\t\t\t \t\t\tif (memberType == \"C\"){\n",
       "\t \t\t\t\t\t\tif(joinType == \"3\" || joinType == '4'){\n",
       "\t\t\t \t\t\t\t\tdocument.location.href = \"/p10/A1002M000.nice\";\n",
       "\t\t\t \t\t\t\t}\n",
       "\t\t\t\t\t\t}\n",
       "\t\t\t\t\t\tif(memberType != \"C\"){\n",
       "\t\t\t\t\t\t\n",
       "\t\t\t\t\t\t\tif(joinType == \"3\" || joinType == \"4\"){\n",
       "\t\t\t\t\t\t\t\tdocument.location.href = \"/p00/A0004M000.nice\";\n",
       "\t\t\t\t\t\t\t}else{\n",
       "\t\t\t\t\t\t\t\tdocument.location.href = \"/p00/A0002M001.nice\";\t\t\t\t\t\t\n",
       "\t\t\t\t\t\t\t}\n",
       "\t\t\t\t\t\t}\n",
       "\t\t\t \t\t}\n",
       "\t\t \t\t\telse if(status == \"NoSubUsrid\"){\n",
       "\t\t\t\t\t\tdocument.registForm.uid.value = usrid\n",
       "\t\t\t\t\t\tpageSubmit(\"registForm\",\"/p00/A0005M005.nice\",\"POST\");\n",
       "\t\t \t\t\t}\n",
       "\t\t \t\t\t//동시접속자수 초과\n",
       "\t\t \t\t\telse if(status == \"OverSession\"){\n",
       "\t\t \t\t\t\n",
       "\t\t\t \t\t\tvar opt = {\n",
       "\t\t\t\t\t\t\tuid \t: usrid\n",
       "\t\t\t\t\t\t}\n",
       "\t\t\t\t\t\t\n",
       "\t\t\t\t\t\tlayerPopupOpen(\"/p00/A0001M007.nice\",opt,454,441);\n",
       "\t\t\t\t\t\t\n",
       "\t\t\t\t\t\t//미구현. alert 으로 대체\n",
       "\t\t\t\t\t\t//alert(message);\n",
       "\t\t \t\t\t//과다사용정지\n",
       "\t\t \t\t\t} else if (status == \"EXCESSIVE\") {\n",
       "\t\t\t\t\t\t\n",
       "\t\t\t\t\t\talert(message);\n",
       "\t\t \t\t\t\t\n",
       "\t\t\t\t\t}else if(status == \"SEALEDID\")\t{\n",
       "\t\t\t\t\t\t\n",
       "\t\t\t\t\t\tFailLayerFinalOpen();\n",
       "\t\t\t\t\t\t\n",
       "\t\t\t\t\t}else if(status == \"NPW\")\t{\n",
       "\t\t\t\t\t\t\n",
       "\t\t\t\t\t\tFailLayerOpen();\n",
       "\t\t\t\t\t\t\n",
       "\t\t\t\t\t}else if(status == \"CHGPWD\")\t{\n",
       "\t\t\t\t\t\n",
       "\t\t\t\t\t\t$(\"input[name='puid']\").val(lgn_usrid);\n",
       "\t\t\t\t\t\tpageSubmit(\"registForm\",\"/p00/A0005M003.nice\",\"POST\");\n",
       "\t\t\t\t\t\t\n",
       "\t\t\t\t\t}else{\n",
       "\t\t \t\t\t\t\n",
       "\t\t \t\t\t\talert(message);\n",
       "\t\t \t\t\t\t\n",
       "\t\t \t\t\t}\n",
       "\t\t\t\t}\n",
       "\t\t\t});\n",
       "\t\t}\n",
       "\t\t\n",
       "\t\treturn false;\n",
       "\t}\n",
       "\t\n",
       "\tfunction chg_stay_sign()\t{\n",
       "\t\t\n",
       "\t\tif($(this).attr(\"checked\") == \"checked\")\t{\n",
       "\t\t\t\n",
       "\t\t\talert(msg_stay_sign);\n",
       "\t\t\t$(this).val(\"Y\");\n",
       "\t\t\n",
       "\t\t} else {\n",
       "\t\t\n",
       "\t\t\t$(this).val(\"N\");\n",
       "\t\t\n",
       "\t\t}\n",
       "\t\t\n",
       "\t}\n",
       "\t\n",
       "\tfunction checkValid(){\n",
       "\t\tif($(\"#user_id\").val().replace(\"/s\",\"\") == \"\") {\n",
       "\t\t\talert(\"아이디를 입력하십시오.\");\n",
       "\t\t\treturn false;\n",
       "\t\t}\n",
       "\t\t\n",
       " \t\tif($(\"#user_pw\").val().replace(\"/s\",\"\") == \"\") {\n",
       "\t\t\talert(\"비밀번호를 입력하십시오.\");\n",
       "\t\t\treturn false;\n",
       "\t\t}\n",
       "\t\treturn true;\n",
       "\t}\n",
       "\t\n",
       "\tfunction gnbPageSubmit(no)\t{\t\n",
       "\t\topenWindow(850, 664, \"/p09/A0901M00\"+no+\".nice?sw=on\"+no, \"serviceGuide\", \"frm_svcguide\");\n",
       "\t}\n",
       "\t\n",
       "\t\n",
       "\tfunction pcont(){\n",
       "\t\tlayerPopupOpen(\"/p00/A0003M000.nice\",\"\", \"750\", \"550\");\n",
       "\t}\n",
       "\t\n",
       "\t\n",
       "\tfunction notice(type){\n",
       "\t\t\n",
       "\t\tif(type == ('more')) {\n",
       "\t\t\tdocument.location.href = \"/p08/A0803M000.nice\";\n",
       "\t\t}else{\t\n",
       "\t\t\tvar\topt = {seq : type};\n",
       "\t\t\tlayerPopupOpen(\"/p08/A0803M002.nice\", opt, \"750\", \"668\");\n",
       "\t\t}\n",
       "\t}\n",
       "\t\n",
       "\t\n",
       "\tfunction info(type) {\n",
       "\t\tif(type == ('more')){\n",
       "\t\t\tdocument.location.href = \"/p08/A0802M000.nice\";\n",
       "\t\t}else{\n",
       "\t\t\tvar\topt = {indexNo : type};\n",
       "\t\t\tlayerPopupOpen(\"/p08/A0802M001.nice\", opt, \"623\", \"620\");\n",
       "\t\t}\n",
       "\t}\n",
       "\t\n",
       "\tfunction outUser(oldSubid) {\n",
       "\t\tvar uid = $(\"#chk_uid\").val();\n",
       "\t\t\n",
       "\t\t$(\"#uid\").val(uid);\n",
       "\t\t$(\"#oldSubid\").val(oldSubid);\n",
       "\t\tpageSubmit(\"registForm\",\"/p00/A0001M008.nice\",\"GET\");\n",
       "\n",
       "\t\tlayerPopupClose();\n",
       "\t}\n",
       "\t\n",
       "\tfunction FailLayerOpen()\t{\n",
       "\t\n",
       "\t\t$(\"#LoginFailLayer\").width(350);\n",
       "\t\t$(\"#LoginFailLayer\").height(198);\n",
       "\t\t\n",
       "\t\t$(\"#LoginFailLayer\").modal({\n",
       "\t\t\topacity\t\t\t:\t50,\n",
       "\t\t\toverlayCss\t\t:\t{\"background-color\": \"#fff\"}\n",
       "\t\t});\n",
       "\t\t\n",
       "\t\t$(\"object\").hide();\n",
       "\t\n",
       "\t}\n",
       "\n",
       "\tfunction FailLayerFinalOpen()\t{\n",
       "\t\n",
       "\t\t$(\"#LoginFailLayerFinal\").width(350);\n",
       "\t\t$(\"#LoginFailLayerFinal\").height(198);\n",
       "\t\t\n",
       "\t\t$(\"#LoginFailLayerFinal\").modal({\n",
       "\t\t\topacity\t\t\t:\t50,\n",
       "\t\t\toverlayCss\t\t:\t{\"background-color\": \"#fff\"}\n",
       "\t\t});\n",
       "\t\t\n",
       "\t\t$(\"object\").hide();\n",
       "\t\n",
       "\t}\n",
       "\t\n",
       "\tfunction FailLayerFinalClose(){\n",
       "\t\t$(\"#LoginFailLayerFinal\").hide();\n",
       "\t\t$.modal.close();\n",
       "\t\t\n",
       "\t\t$(\"object\").show();\n",
       "\t}\n",
       "\n",
       "\tfunction FailLayerClose(){\n",
       "\t\t$(\"#LoginFailLayer\").hide();\n",
       "\t\t$.modal.close();\n",
       "\t\t\n",
       "\t\t$(\"object\").show();\n",
       "\t}\n",
       "\n",
       "\tfunction goToNBL(){\n",
       "\t\talert(\"기존 계약정보를 확인하기 위해 로그인이 필요합니다.\");\n",
       "\t}\n",
       "</script>\n",
       "</head>\n",
       "<body>\n",
       "<input id=\"chk_uid\" type=\"hidden\"/>\n",
       "<!-- skipnav -->\n",
       "<div id=\"skipnav\">\n",
       "<a class=\"skip\" href=\"#lnb\">주 메뉴 바로가기</a>\n",
       "<a class=\"skip\" href=\"#container\">컨텐츠 바로가기</a>\n",
       "</div>\n",
       "<!-- skipnav -->\n",
       "<hr/>\n",
       "<!-- wrapper -->\n",
       "<div id=\"wrapper\">\n",
       "<form id=\"frm_svcguide\" name=\"frm_svcguide\">\n",
       "</form>\n",
       "<!-- header -->\n",
       "<div id=\"header\">\n",
       "<h1><a href=\"/p00/A0001M002.nice\"><img alt=\"RM로고\" src=\"/common/images/comm/header/logo.gif\"/></a></h1>\n",
       "<ul id=\"gnb\">\n",
       "<li><a href=\"/p10/A1001M000.nice\"><img alt=\"쿠폰\" src=\"/common/images/comm/header/gnb_coupon.gif\"/></a></li>\n",
       "<li><a href=\"/p08/A0805M000.nice\"><img alt=\"FAQ\" src=\"/common/images/comm/header/gnb_faq.gif\"/></a></li>\n",
       "<li><a href=\"/p08/A0801M000.nice\"><img alt=\"고객센터\" src=\"/common/images/comm/header/gnb_center.gif\"/></a></li>\n",
       "<li class=\"lst\"><a href=\"/p08/A0807M000.nice\"><img alt=\"사이트맵\" src=\"/common/images/comm/header/gnb_sitemap.gif\"/></a></li>\n",
       "</ul>\n",
       "<h2 class=\"none\">주 메뉴</h2>\n",
       "<ul id=\"lnb\">\n",
       "<li><a class=\"lnb_a\" href=\"javascript:gnbPageSubmit(0);\"><span>거래처관리</span></a></li>\n",
       "<li><a class=\"lnb_b\" href=\"javascript:gnbPageSubmit(1);\"><span>기업정보</span></a></li>\n",
       "<li><a class=\"lnb_c\" href=\"javascript:gnbPageSubmit(2);\"><span>신용정보</span></a></li>\n",
       "<li><a class=\"lnb_d\" href=\"javascript:gnbPageSubmit(3);\"><span>인물정보</span></a></li>\n",
       "<li><a class=\"lnb_e\" href=\"javascript:gnbPageSubmit(4);\"><span>산업정보</span></a></li>\n",
       "<li><a class=\"lnb_f\" href=\"javascript:gnbPageSubmit(5);\"><span>마케팅정보</span></a></li>\n",
       "<li><a class=\"lnb_g\" href=\"javascript:gnbPageSubmit(6);\"><span>채권회수</span></a></li>\n",
       "<li><a class=\"lnb_global\" href=\"javascript:gnbPageSubmit(7);\"><span>해외기업정보</span></a></li>\n",
       "<!-- [2018-01-08] start, 신규 메뉴 --> <!-- [2016-09-01]부동산정보 목록 추가 -->\n",
       "<li><a class=\"lnb_bu\" href=\"javascript:gnbPageSubmit(8);\"><span>NICE부동산</span></a></li>\n",
       "</ul>\n",
       "</div>\n",
       "<!-- //header -->\n",
       "<hr/>\n",
       "<!-- container -->\n",
       "<div id=\"container\">\n",
       "<!-- main contents -->\n",
       "<!-- 20221107 수정, start -->\n",
       "<div id=\"visu\" style=\"background: none;\">\n",
       "<img alt=\"RM1이 NICE BizLINE으로 새롭게 태어납니다.\" src=\"/common/images/nbl/main_banner_nbl.jpg\" usemap=\"#main_banner_nbl\"/>\n",
       "<map id=\"main_banner_nbl\" name=\"main_banner_nbl\">\n",
       "<area alt=\"NICE BizLINE 바로가기\" coords=\"530,121,736,158\" onclick=\"goToNBL();\" shape=\"rect\" target=\"_blank\"/>\n",
       "</map>\n",
       "</div>\n",
       "<!-- 20221107 수정, end -->\n",
       "<!-- main_cont -->\n",
       "<h2 class=\"none\">추천 업무</h2>\n",
       "<ul id=\"main_cont\">\n",
       "<li class=\"cont1\">\n",
       "<p class=\"tit\"><img alt=\"가입 및 이용안내\" src=\"/common/images/main/tx_main_cont_1.gif\"/></p>\n",
       "<div class=\"img_wrap\">\n",
       "<img alt=\"icon_call\" src=\"/common/images/main/icon_call.png\"/>\n",
       "</div>\n",
       "<div class=\"item-wrap\">\n",
       "<img alt=\"일반기업 T 02-3771-1600 / E rm1@rm1.co.kr, 금융기관 T 02-3771-1720 / E nice@rm1.co.kr\" src=\"/common/images/main/tx_main_cont_1_1.gif\"/>\n",
       "</div>\n",
       "<div class=\"btn_wrap\">\n",
       "<a class=\"btn btn_default\" href=\"javascript:pcont();\"><img alt=\"가입 문의 및 상담하기\" src=\"/common/images/main/btn_cont_1.gif\"/></a>\n",
       "</div>\n",
       "</li>\n",
       "<li class=\"cont2\">\n",
       "<p class=\"tit\"><img alt=\"RM1 서비스 안내\" src=\"/common/images/main/tx_main_cont_2.gif\"/></p>\n",
       "<div class=\"img_wrap\" style=\"padding-top: 5px;\">\n",
       "<img alt=\"icon_monitor\" src=\"/common/images/main/icon_monitor.png\"/>\n",
       "</div>\n",
       "<div class=\"item-wrap\">\n",
       "<img alt=\"기업 개요정보, 실시간 금융기관 연체이력\n",
       "                        기업 분석 보고서, 기업상세검색 등\" src=\"/common/images/main/tx_main_cont_2_1.gif\"/>\n",
       "</div>\n",
       "<div class=\"btn_wrap\">\n",
       "<a class=\"btn btn_default\" href=\"javascript:gnbPageSubmit(0);\"><img alt=\"제공 정보 및 서비스 기능 알아보기\" src=\"/common/images/main/btn_cont_2.gif\"/></a>\n",
       "</div>\n",
       "</li>\n",
       "<li class=\"cont3\">\n",
       "<p class=\"tit\"><img alt=\"RM1 활용방안\" src=\"/common/images/main/tx_main_cont_3.gif\"/></p>\n",
       "<div class=\"item-wrap\" style=\"margin: 20px 0 0;\">\n",
       "<div class=\"video_box\" style=\"height: 160px;\">\n",
       "<iframe allow=\"accelerometer; clipboard-write; encrypted-media; gyroscope; picture-in-picture\" allowfullscreen=\"\" frameborder=\"0\" height=\"100%\" src=\"https://www.youtube.com/embed/4KamZTZuaxo\" title=\"YouTube video player\" width=\"100%\"></iframe>\n",
       "</div>\n",
       "</div>\n",
       "<div class=\"btn_wrap\">\n",
       "<a class=\"btn btn_default\" href=\"/files/pdf/[NICE평가정보]2021_RM1제안서_20211206.pdf\"><img alt=\"서비스 제안서 확인하기\" src=\"/common/images/main/btn_cont_3.gif\"/></a>\n",
       "</div>\n",
       "</li>\n",
       "</ul>\n",
       "<!-- main_cont2 -->\n",
       "<div id=\"main_cont2\">\n",
       "<h2 class=\"none\">로그인</h2>\n",
       "<div class=\"login_main\">\n",
       "<form id=\"loginform\" method=\"GET\" onsubmit=\"return false;\">\n",
       "<input id=\"sub_usrid\" name=\"subid\" type=\"hidden\" value=\"\"/>\n",
       "<input id=\"cpwd\" name=\"cpwd\" type=\"hidden\" value=\"\"/>\n",
       "<fieldset>\n",
       "<legend>로그인 폼</legend>\n",
       "<p><label for=\"user_id\"><img alt=\"아이디\" src=\"/common/images/main/tx_login_id.gif\"/></label><input class=\"tx_id\" id=\"user_id\" name=\"uid\" type=\"text\"/></p>\n",
       "<p><label for=\"user_pw\"><img alt=\"비밀번호\" src=\"/common/images/main/tx_login_pw.gif\"/></label><input class=\"tx_pw\" id=\"user_pw\" name=\"pwd\" type=\"password\"/></p>\n",
       "<p class=\"btn\"><input alt=\"로그인\" id=\"submit\" onclick=\"doLogin();\" src=\"/common/images/main/btn_login.gif\" title=\"로그인하기\" type=\"image\"/></p>\n",
       "<!-- 2013-03-06 텍스트수정 -->\n",
       "<!-- 2015-05-11 st -->\n",
       "<p class=\"link cl\">\n",
       "<input id=\"stay_sign\" name=\"autochk\" type=\"checkbox\" value=\"N\"/>\n",
       "<label for=\"stay_sign\" style=\"width:95px;text-align:left;\">로그인 상태 유지</label>\n",
       "<a class=\"btncom st01\" href=\"/p00/A0005M001.nice\" style=\"float: right;\"><span>개인 아이디/비밀번호 찾기</span></a>\n",
       "</p>\n",
       "<!-- 2015-05-11 end -->\n",
       "</fieldset>\n",
       "</form>\n",
       "<form id=\"registForm\" method=\"GET\" name=\"registForm\">\n",
       "<input id=\"uid\" name=\"uid\" type=\"hidden\"/>\n",
       "<input id=\"oldSubid\" name=\"oldSubid\" type=\"hidden\"/>\n",
       "<input id=\"puid\" name=\"puid\" type=\"hidden\"/>\n",
       "</form>\n",
       "</div>\n",
       "<!-- 20170710 start, 추가 -->\n",
       "<div class=\"narea01\">\n",
       "<a href=\"https://creditor.rm1.co.kr/cm/CM0100M017GE.nice\" target=\"_blank\"><img alt=\"채권회수지원서비스 바로가기\" src=\"/common/images/main/banner_m1.png\"/></a>\n",
       "</div>\n",
       "<!-- 20170710 end -->\n",
       "<div class=\"board\">\n",
       "<div>\n",
       "<h2><img alt=\"공지사항\" src=\"/common/images/main/tit_board_2.gif\"/></h2>\n",
       "<ul>\n",
       "<li><a href=\"javascript:notice('96');\">\n",
       "\t\t\t\t\t\t\t\t\t[서비스 점검] 2023년 7월 15일 1...\n",
       "\t\t\t\t\t\t\t\t</a><span class=\"date\">\n",
       "\t\t\t\t\t\t\t\t\t2023.07.10\n",
       "\t\t\t\t\t\t\t\t</span></li>\n",
       "<li><a href=\"javascript:notice('95');\">\n",
       "\t\t\t\t\t\t\t\t\t[부동산] 강원특별자치도 관련 시스템 변경...\n",
       "\t\t\t\t\t\t\t\t</a><span class=\"date\">\n",
       "\t\t\t\t\t\t\t\t\t2023.06.08\n",
       "\t\t\t\t\t\t\t\t</span></li>\n",
       "</ul>\n",
       "<p class=\"more\"><a href=\"javascript:notice('more');\"><img alt=\"more\" src=\"/common/images/main/btn_more.gif\"/></a></p>\n",
       "</div>\n",
       "<div class=\"mt10\">\n",
       "<h2><img alt=\"거래처관리정보센터\" src=\"/common/images/main/tit_board_1.gif\"/></h2>\n",
       "<ul>\n",
       "<li><a href=\"javascript:info(9);\">거래처 부도에 따른 자금사정 악화시 납세유예제도를 활용하세요</a><span class=\"date\">2014.04.16</span></li>\n",
       "<li><a href=\"javascript:info(8);\">유형별 채권의 소멸시효 기간</a><span class=\"date\">2013.01.30</span></li>\n",
       "<!--<li><a href=\"javascript:info(7);\">거래처에서 부도가 발생시 부가가치세...</a><span class=\"date\">2013.01.30</span></li>-->\n",
       "<!--<li><a href=\"javascript:info(3);\">부실채권 발생 징후에 대한 정보</a><span class=\"date\">2013.01.30</span></li>-->\n",
       "</ul>\n",
       "<p class=\"more_i\"><a href=\"javascript:info('more');\"><img alt=\"more\" src=\"/common/images/main/btn_more.gif\"/></a></p>\n",
       "</div>\n",
       "</div>\n",
       "<!-- 2015-11-09 end -->\n",
       "</div>\n",
       "<!-- //main contents -->\n",
       "<div class=\"side-banner mainpage\">\n",
       "<!-- 20221107 신규, start -->\n",
       "<div class=\"a_banner\" style=\"margin-top: 0;\">\n",
       "<a onclick=\"goToNBL();\" target=\"_blank\">\n",
       "<img alt=\"RM1이 NICE BizLINE으로 새롭게 태어납니다.\" src=\"/common/images/nbl/side_banner_nbl.jpg\"/>\n",
       "</a>\n",
       "</div>\n",
       "<!-- 20221107 신규, end -->\n",
       "<div class=\"a_banner\">\n",
       "<a href=\"https://www.kisvalue.com/web/landing.jsp\" target=\"_blank\">\n",
       "<img alt=\"Excel에서 직접 Data활용 가능한 Excel Value Search 안내 바로가기\" src=\"/common/images/main/side_banner_vs.jpg\"/>\n",
       "</a>\n",
       "</div>\n",
       "</div>\n",
       "</div>\n",
       "<!-- //container -->\n",
       "<div id=\"LoginFailLayerFinal\" style=\"display:none;background-color:#f4f4f4;\">\n",
       "<!-- 2014-02-06 공통팝업이라 css inline으로 작업하였습니다 -->\n",
       "<div style=\"font-family:'돋움';border:1px solid #7d7b7b;width:350px;min-height:198px;height:auto;;\"><!-- common pop_01 -->\n",
       "<div style=\"background-color:#09318d;height:30px;line-height:30px;font-size:15px;font-weight:bold;text-align:center;color:#fff;\">\n",
       "\t\t\t\t비밀번호 오류\n",
       "\t\t\t</div>\n",
       "<div style=\"padding:0 15px;margin-top:50px;text-align:center;\">\n",
       "<p style=\"color:#3f4247;font-weight:bold;font-size:14px;\">비밀번호를 5회 이상 잘못 입력하였습니다.</p>\n",
       "<p style=\"margin-top:10px;font-size:12px;color:#3f4247;line-height:1.3em;\">\n",
       "\t\t\t\t\t해당 아이디로는 <span style=\"color:#d50d4f;font-weight:bold;\">로그인이 차단</span>되었으니 <br/>\n",
       "<span style=\"font-weight:bold;\">고객센터</span>로 연락해주시기 바랍니다.\n",
       "\t\t\t\t</p>\n",
       "</div>\n",
       "<div style=\"text-align:center;margin-top:20px;\"><a href=\"#\"><img alt=\"확인\" border=\"0\" height=\"25\" onclick=\"FailLayerFinalClose();\" src=\"/common/images/btn/btn_03.gif\" width=\"56\"/></a></div>\n",
       "</div>\n",
       "</div><!-- common pop_01 -->\n",
       "<div id=\"LoginFailLayer\" style=\"display:none;background-color:#f4f4f4;\">\n",
       "<div style=\"font-family:'돋움';border:1px solid #7d7b7b;width:350px;min-height:198px;height:auto;;\"><!-- common pop_02 -->\n",
       "<div style=\"background-color:#09318d;height:30px;line-height:30px;font-size:15px;font-weight:bold;text-align:center;color:#fff;\">\n",
       "\t\t\t\t비밀번호 오류\n",
       "\t\t\t</div>\n",
       "<div style=\"padding:0 15px;margin-top:50px;text-align:center;\">\n",
       "<p style=\"color:#3f4247;font-weight:bold;font-size:14px;\">아이디또는 비밀번호를 잘못 입력하였습니다.</p>\n",
       "<p style=\"margin-top:10px;font-size:12px;color:#3f4247;line-height:1.3em;\"><span style=\"color:#d50d4f;font-weight:bold;\">비밀번호 5회 오류 입력시 서비스 이용이 차단</span>되오니<br/>\n",
       "\t\t\t\t 정확히 확인하신 후 입력하시기 바랍니다.</p>\n",
       "</div>\n",
       "<div style=\"text-align:center;margin-top:20px;\"><a href=\"#\"><img alt=\"확인\" border=\"0\" height=\"25\" onclick=\"FailLayerClose();\" src=\"/common/images/btn/btn_03.gif\" width=\"56\"/></a></div>\n",
       "</div><!-- common pop_02 -->\n",
       "<!-- 2014-02-06 공통팝업이라 css inline으로 작업하였습니다 -->\n",
       "</div><!--// wrapper -->\n",
       "<hr/>\n",
       "<script type=\"text/javascript\">\n",
       "\t(function(i,s,o,g,r,a,m){i['GoogleAnalyticsObject']=r;i[r]=i[r]||function(){\n",
       "\t\t(i[r].q=i[r].q||[]).push(arguments)},i[r].l=1*new Date();a=s.createElement(o),\n",
       "\t\tm=s.getElementsByTagName(o)[0];a.async=1;a.src=g;m.parentNode.insertBefore(a,m)\n",
       "\t })(window,document,'script','//www.google-analytics.com/analytics.js','ga');\n",
       "\t\n",
       "\t ga('create', 'UA-11236888-42', 'auto');\n",
       "\t ga('send', 'pageview');\n",
       "\t \n",
       "\t\t\n",
       "</script>\n",
       "<!-- footer_wrap -->\n",
       "<!-- footer -->\n",
       "<form id=\"sideCmpFrm\" name=\"sideCmpFrm\">\n",
       "<input id=\"business\" name=\"business\" type=\"hidden\" value=\"\"/>\n",
       "<input id=\"upchecd\" name=\"upchecd\" type=\"hidden\" value=\"\"/>\n",
       "<input id=\"loadingPage\" name=\"loadingPage\" type=\"hidden\" value=\"\"/>\n",
       "</form>\n",
       "<div id=\"footer_wrap\">\n",
       "<div id=\"footer\">\n",
       "<h2 class=\"none\">사이트 정보</h2>\n",
       "<div class=\"logo\">\n",
       "<a href=\"http://www.niceinfo.co.kr\" target=\"_blink\"><img alt=\"NICE평가정보\" src=\"/common/images/comm/footer/logo.gif\"/></a>\n",
       "</div>\n",
       "<div class=\"foot_cont\">\n",
       "<!-- quick_link -->\n",
       "<h3 class=\"none\">바로가기</h3>\n",
       "<ul class=\"quick_link\">\n",
       "<li><a href=\"http://www.niceinfo.co.kr\" target=\"_blink\">회사소개</a></li>\n",
       "<li><a href=\"javascript:openWindow(850, 664, '/p09/A0901M000.nice', 'serviceGuide', 'frm_svcguide');\">서비스 소개</a></li>\n",
       "<li><a href=\"/p08/A0806M000.nice\">이용약관</a></li>\n",
       "<li><a href=\"/p08/A0806M001.nice\"><span class=\"g\">개인정보처리방침</span></a></li>\n",
       "<li><a href=\"/p08/A0806M002.nice\">이메일무단수집거부</a></li>\n",
       "<li><a href=\"/p08/A0801M000.nice\">고객센터</a></li>\n",
       "</ul>\n",
       "<div class=\"addr\">\n",
       "<address>\n",
       "<span class=\"s\">서울 영등포구 은행로 17 NICE평가정보(주)</span>\n",
       "<span class=\"s\">등록번호:116-81-15020</span>\n",
       "<span class=\"s\">FAX:02)3771-1534 / <a class=\"l\" href=\"mailto:rm1@rm1.co.kr\">rm1@rm1.co.kr</a></span>\n",
       "</address>\n",
       "<p class=\"c\">COPYRIGHT © <span class=\"b\">NICE INFOMATION SERVICE</span> CO.LTD. All RIGHTS RESERVED</p>\n",
       "</div>\n",
       "</div>\n",
       "<div class=\"tx_phonenumber\">\n",
       "<div class=\"d1\"><b class=\"b\">☎ 이용안내 및 문의</b> 비금융권 <span class=\"s\">02)3771-1600</span></div>\n",
       "<div class=\"d2\">금융권 <span class=\"s\">02)3771-1720</span></div>\n",
       "</div>\n",
       "</div>\n",
       "</div>\n",
       "<!-- //footer_wrap -->\n",
       "<!-- 20170710 start, 배너 추가 -->\n",
       "<div class=\"quick_menu\">\n",
       "<div class=\"mt5\">\n",
       "<a href=\"https://creditor.rm1.co.kr/cm/CM0100M017GE.nice\" target=\"_blank\"><img alt=\"\" src=\"/common/images/etc/banner_m2.png\"/></a><br/>\n",
       "<a href=\"https://www.rm1.co.kr/popup/20190716/pop0716.html\" target=\"_blank\"><img alt=\"\" src=\"/common/images/etc/banner_m3.png\"/></a>\n",
       "</div>\n",
       "</div>\n",
       "<!-- 20170710 end --> <!-- //wrapper -->\n",
       "</div></body></html>"
      ]
     },
     "execution_count": 10,
     "metadata": {},
     "output_type": "execute_result"
    }
   ],
   "source": [
    "BeautifulSoup(html, 'html.parser')\n",
    "#BeautifulSoup(html, 'lxml')"
   ]
  },
  {
   "cell_type": "markdown",
   "metadata": {},
   "source": [
    "#### Case 3: 개선사례"
   ]
  },
  {
   "cell_type": "code",
   "execution_count": 11,
   "metadata": {},
   "outputs": [
    {
     "data": {
      "text/plain": [
       "'<html><head>\\n\\t<meta name=\"google-site-verification\" content=\"uvLrphPZotcDpspdcgkCoo8NypsIGl309A67wMoK0qY\">\\n</head>\\n<frameset rows=\"100%,*\">\\n\\t<frame src=\"/p00/A0001M002.nice\">\\n</frameset>\\n</html>'"
      ]
     },
     "execution_count": 11,
     "metadata": {},
     "output_type": "execute_result"
    }
   ],
   "source": [
    "driver.get(url)\n",
    "html = driver.page_source; html"
   ]
  },
  {
   "cell_type": "code",
   "execution_count": 12,
   "metadata": {},
   "outputs": [
    {
     "data": {
      "text/plain": [
       "<html><head>\n",
       "<meta content=\"uvLrphPZotcDpspdcgkCoo8NypsIGl309A67wMoK0qY\" name=\"google-site-verification\"/>\n",
       "</head>\n",
       "<frameset rows=\"100%,*\">\n",
       "<frame src=\"/p00/A0001M002.nice\"/>\n",
       "</frameset>\n",
       "</html>"
      ]
     },
     "execution_count": 12,
     "metadata": {},
     "output_type": "execute_result"
    }
   ],
   "source": [
    "soup = BeautifulSoup(html, 'html.parser'); soup\n",
    "#soup_lxml = BeautifulSoup(html, 'lxml'); soup_lxml"
   ]
  },
  {
   "cell_type": "code",
   "execution_count": 13,
   "metadata": {},
   "outputs": [
    {
     "data": {
      "text/plain": [
       "<frame src=\"/p00/A0001M002.nice\"/>"
      ]
     },
     "execution_count": 13,
     "metadata": {},
     "output_type": "execute_result"
    }
   ],
   "source": [
    "# BeautifulSoup(html, 'html.parser').find('frame').get('src')\n",
    "soup.find('frame')"
   ]
  },
  {
   "cell_type": "code",
   "execution_count": 14,
   "metadata": {},
   "outputs": [
    {
     "data": {
      "text/plain": [
       "'/p00/A0001M002.nice'"
      ]
     },
     "execution_count": 14,
     "metadata": {},
     "output_type": "execute_result"
    }
   ],
   "source": [
    "soup.find('frame').get('src')"
   ]
  },
  {
   "cell_type": "code",
   "execution_count": 15,
   "metadata": {},
   "outputs": [],
   "source": [
    "url_frame = url + soup.find('frame').get('src')\n",
    "\n",
    "driver.get(url_frame)\n",
    "html = driver.page_source"
   ]
  },
  {
   "cell_type": "code",
   "execution_count": 16,
   "metadata": {},
   "outputs": [
    {
     "data": {
      "text/plain": [
       "<html lang=\"ko\" xml:lang=\"ko\" xmlns=\"http://www.w3.org/1999/xhtml\"><head>\n",
       "<meta content=\"text/html; charset=utf-8\" http-equiv=\"Content-Type\"/>\n",
       "<meta content=\"IE=edge\" http-equiv=\"X-UA-Compatible\"/>\n",
       "<meta content=\"-1\" http-equiv=\"expires\"/>\n",
       "<title> RM </title>\n",
       "<link href=\"/common/css/base.css\" media=\"all\" rel=\"stylesheet\" type=\"text/css\"/>\n",
       "<link href=\"/common/css/module.css\" media=\"all\" rel=\"stylesheet\" type=\"text/css\"/>\n",
       "<link href=\"/common/css/section_a.css\" media=\"all\" rel=\"stylesheet\" type=\"text/css\"/>\n",
       "<link href=\"/common/css/section_b.css\" media=\"all\" rel=\"stylesheet\" type=\"text/css\"/>\n",
       "<link href=\"/common/css/main.css\" media=\"all\" rel=\"stylesheet\" type=\"text/css\"/>\n",
       "<link href=\"/common/css/layout.css\" media=\"all\" rel=\"stylesheet\" type=\"text/css\"/>\n",
       "<link href=\"/common/css/comm.css\" media=\"all\" rel=\"stylesheet\" type=\"text/css\"/>\n",
       "<link href=\"/common/css/pop.css\" media=\"all\" rel=\"stylesheet\" type=\"text/css\"/>\n",
       "<link href=\"/common/css/calendar.css\" media=\"all\" rel=\"stylesheet\" type=\"text/css\"/>\n",
       "<link href=\"/common/css/print.css\" media=\"print\" rel=\"stylesheet\" type=\"text/css\"/>\n",
       "<script async=\"\" src=\"https://www.googletagmanager.com/gtag/js?id=G-NNZ67BBEB6&amp;cx=c&amp;_slc=1\" type=\"text/javascript\"></script><script async=\"\" src=\"//www.google-analytics.com/analytics.js\"></script><script src=\"/common/js/jquery-1.8.3.js\" type=\"text/javascript\"></script>\n",
       "<script src=\"/common/js/comm.js\" type=\"text/javascript\"></script>\n",
       "<script src=\"/common/js/date.js\" type=\"text/javascript\"></script>\n",
       "<script src=\"/common/js/ajaxLoad.js\" type=\"text/javascript\"></script>\n",
       "<script src=\"/common/js/jquery.form.js\" type=\"text/javascript\"></script>\n",
       "<script src=\"/common/js/jquery.simplemodal-1.4.4.js\" type=\"text/javascript\"></script>\n",
       "<script src=\"/common/js/jquery-ui.min.js\" type=\"text/javascript\"></script>\n",
       "<script src=\"/common/js/common.js\" type=\"text/javascript\"></script>\n",
       "<script src=\"/common/js/jquery.cookie.js\" type=\"text/javascript\"></script>\n",
       "<script src=\"/common/js/customJquery.js\" type=\"text/javascript\"></script>\n",
       "<script type=\"text/javascript\">\n",
       "\n",
       "var msg_stay_sign = \"\";\n",
       "\t\n",
       "msg_stay_sign += \"브라우저의 쿠키를 삭제하거나\";\n",
       "msg_stay_sign += \"\\r\\n로그아웃을 선택하기 전까지는\";\n",
       "msg_stay_sign += \"\\r\\n계속 로그인 상태가 유지됩니다.\";\n",
       "msg_stay_sign += \"\\r\\n\\r\\n단, 2주 동안 본 PC에서\";\n",
       "msg_stay_sign += \"\\r\\nRM 서비스를 사용하지 않으면\";\n",
       "msg_stay_sign += \"\\r\\n로그인 상태 유지는 해제될 수 있습니다.\";\n",
       "msg_stay_sign += \"\\r\\n\\r\\n개인정보보호를 위해\";\n",
       "msg_stay_sign += \"\\r\\n개인 PC에서만 사용하세요.\";\n",
       "\n",
       "\t$(document).ready(function()\t{\n",
       "\t\t\n",
       "\t\tvar autochk = chkTypeofObj($.cookie('autochk'));\n",
       "\t\tif(autochk) {\n",
       "\t\t\t$(\"input[name='autochk']\").val(autochk);\n",
       "\t\t\tif (autochk == 'Y') {\n",
       "\t\t\t\t$(\"input[name='autochk']\").attr(\"checked\", true);\n",
       "\t\t\t} else {\n",
       "\t\t\t\t$(\"input[name='autochk']\").attr(\"checked\", false);\n",
       "\t\t\t}\n",
       "\t\t} else {\n",
       "\t\t\t$(\"input[name='autochk']\").attr(\"checked\", false);\n",
       "\t\t}\n",
       "\t\t\n",
       "\t\t$(\"#stay_sign\").on(\"change\", chg_stay_sign);\n",
       "\t\t\n",
       "\t\t$(\"#user_id\").focus();\n",
       "\n",
       "\n",
       "\n",
       "\n",
       "\n",
       "\t});\n",
       "\t\n",
       "\tfunction doLogin()\t{\n",
       "\t\tif(checkValid()){\n",
       "\t \t\tvar sub_usrid = chkTypeofObj($.cookie('subid'));\n",
       "\t \t\tvar cpwd = chkTypeofObj($.cookie('cpwd'));\n",
       "\t \t\t\n",
       "\t \t\t$(\"#sub_usrid\").val(sub_usrid);\n",
       "\t \t\t$(\"#cpwd\").val(\"\");\n",
       "\t \t\t\n",
       "\t\t\t$.ajax({\n",
       "\t\t\t\turl  : \"/p00/A0005M000.nice\",\n",
       "\t\t\t\ttype : \"POST\", \n",
       "\t\t\t\tdataType : \"jsonp\",\n",
       "\t\t\t\tdata : {\n",
       "\t\t\t\t\tuid\t\t\t: \t$(\"input[name='uid']\").val(),\n",
       "\t\t\t\t\tpwd\t\t\t: \tencodeURIComponent($(\"input[name='pwd']\").val()),\n",
       "\t\t\t\t\tsubid \t\t: \t$(\"input[name='subid']\").val(),\n",
       "\t\t\t\t\tcpwd \t\t: \t$(\"input[name='cpwd']\").val(),\n",
       "\t\t\t\t\tautochk\t\t:\t$(\"input[name='autochk']\").val()\n",
       "\t\t\t\t},\n",
       "\t\t\t\tjsonpCallback : \"default_callback\",\n",
       "\t\t\t\tsuccess : function(json_data){\n",
       "\t\t\t\t\tvar check = json_data.A0005M000.Result.Check;\n",
       "\t\t \t\t\tvar message = json_data.A0005M000.Result.Message;\n",
       "\t\t \t\t\tvar status = json_data.A0005M000.Result.Status;\n",
       "\t\t\t\t\tvar memberType = json_data.A0005M000.Result.MemberType;\n",
       "\t\t\t\t\tvar joinType = json_data.A0005M000.Result.JoinType;\n",
       "\t\t\t\t\tvar usrid = json_data.A0005M000.usrid;\n",
       "\t\t\t\t\tvar lgn_usrid = json_data.A0005M000.lgn_usrid;\n",
       "\t\t\t\t\t$(\"#chk_uid\").val(usrid);\n",
       "\t\t\t\t\t\n",
       "\t\t \t\t\t//로그인성공\n",
       "\t\t \t\t\tif(check == \"OK\"){\n",
       "\t\t\t \t\t\tif (memberType == \"C\"){\n",
       "\t \t\t\t\t\t\tif(joinType == \"3\" || joinType == '4'){\n",
       "\t\t\t \t\t\t\t\tdocument.location.href = \"/p10/A1002M000.nice\";\n",
       "\t\t\t \t\t\t\t}\n",
       "\t\t\t\t\t\t}\n",
       "\t\t\t\t\t\tif(memberType != \"C\"){\n",
       "\t\t\t\t\t\t\n",
       "\t\t\t\t\t\t\tif(joinType == \"3\" || joinType == \"4\"){\n",
       "\t\t\t\t\t\t\t\tdocument.location.href = \"/p00/A0004M000.nice\";\n",
       "\t\t\t\t\t\t\t}else{\n",
       "\t\t\t\t\t\t\t\tdocument.location.href = \"/p00/A0002M001.nice\";\t\t\t\t\t\t\n",
       "\t\t\t\t\t\t\t}\n",
       "\t\t\t\t\t\t}\n",
       "\t\t\t \t\t}\n",
       "\t\t \t\t\telse if(status == \"NoSubUsrid\"){\n",
       "\t\t\t\t\t\tdocument.registForm.uid.value = usrid\n",
       "\t\t\t\t\t\tpageSubmit(\"registForm\",\"/p00/A0005M005.nice\",\"POST\");\n",
       "\t\t \t\t\t}\n",
       "\t\t \t\t\t//동시접속자수 초과\n",
       "\t\t \t\t\telse if(status == \"OverSession\"){\n",
       "\t\t \t\t\t\n",
       "\t\t\t \t\t\tvar opt = {\n",
       "\t\t\t\t\t\t\tuid \t: usrid\n",
       "\t\t\t\t\t\t}\n",
       "\t\t\t\t\t\t\n",
       "\t\t\t\t\t\tlayerPopupOpen(\"/p00/A0001M007.nice\",opt,454,441);\n",
       "\t\t\t\t\t\t\n",
       "\t\t\t\t\t\t//미구현. alert 으로 대체\n",
       "\t\t\t\t\t\t//alert(message);\n",
       "\t\t \t\t\t//과다사용정지\n",
       "\t\t \t\t\t} else if (status == \"EXCESSIVE\") {\n",
       "\t\t\t\t\t\t\n",
       "\t\t\t\t\t\talert(message);\n",
       "\t\t \t\t\t\t\n",
       "\t\t\t\t\t}else if(status == \"SEALEDID\")\t{\n",
       "\t\t\t\t\t\t\n",
       "\t\t\t\t\t\tFailLayerFinalOpen();\n",
       "\t\t\t\t\t\t\n",
       "\t\t\t\t\t}else if(status == \"NPW\")\t{\n",
       "\t\t\t\t\t\t\n",
       "\t\t\t\t\t\tFailLayerOpen();\n",
       "\t\t\t\t\t\t\n",
       "\t\t\t\t\t}else if(status == \"CHGPWD\")\t{\n",
       "\t\t\t\t\t\n",
       "\t\t\t\t\t\t$(\"input[name='puid']\").val(lgn_usrid);\n",
       "\t\t\t\t\t\tpageSubmit(\"registForm\",\"/p00/A0005M003.nice\",\"POST\");\n",
       "\t\t\t\t\t\t\n",
       "\t\t\t\t\t}else{\n",
       "\t\t \t\t\t\t\n",
       "\t\t \t\t\t\talert(message);\n",
       "\t\t \t\t\t\t\n",
       "\t\t \t\t\t}\n",
       "\t\t\t\t}\n",
       "\t\t\t});\n",
       "\t\t}\n",
       "\t\t\n",
       "\t\treturn false;\n",
       "\t}\n",
       "\t\n",
       "\tfunction chg_stay_sign()\t{\n",
       "\t\t\n",
       "\t\tif($(this).attr(\"checked\") == \"checked\")\t{\n",
       "\t\t\t\n",
       "\t\t\talert(msg_stay_sign);\n",
       "\t\t\t$(this).val(\"Y\");\n",
       "\t\t\n",
       "\t\t} else {\n",
       "\t\t\n",
       "\t\t\t$(this).val(\"N\");\n",
       "\t\t\n",
       "\t\t}\n",
       "\t\t\n",
       "\t}\n",
       "\t\n",
       "\tfunction checkValid(){\n",
       "\t\tif($(\"#user_id\").val().replace(\"/s\",\"\") == \"\") {\n",
       "\t\t\talert(\"아이디를 입력하십시오.\");\n",
       "\t\t\treturn false;\n",
       "\t\t}\n",
       "\t\t\n",
       " \t\tif($(\"#user_pw\").val().replace(\"/s\",\"\") == \"\") {\n",
       "\t\t\talert(\"비밀번호를 입력하십시오.\");\n",
       "\t\t\treturn false;\n",
       "\t\t}\n",
       "\t\treturn true;\n",
       "\t}\n",
       "\t\n",
       "\tfunction gnbPageSubmit(no)\t{\t\n",
       "\t\topenWindow(850, 664, \"/p09/A0901M00\"+no+\".nice?sw=on\"+no, \"serviceGuide\", \"frm_svcguide\");\n",
       "\t}\n",
       "\t\n",
       "\t\n",
       "\tfunction pcont(){\n",
       "\t\tlayerPopupOpen(\"/p00/A0003M000.nice\",\"\", \"750\", \"550\");\n",
       "\t}\n",
       "\t\n",
       "\t\n",
       "\tfunction notice(type){\n",
       "\t\t\n",
       "\t\tif(type == ('more')) {\n",
       "\t\t\tdocument.location.href = \"/p08/A0803M000.nice\";\n",
       "\t\t}else{\t\n",
       "\t\t\tvar\topt = {seq : type};\n",
       "\t\t\tlayerPopupOpen(\"/p08/A0803M002.nice\", opt, \"750\", \"668\");\n",
       "\t\t}\n",
       "\t}\n",
       "\t\n",
       "\t\n",
       "\tfunction info(type) {\n",
       "\t\tif(type == ('more')){\n",
       "\t\t\tdocument.location.href = \"/p08/A0802M000.nice\";\n",
       "\t\t}else{\n",
       "\t\t\tvar\topt = {indexNo : type};\n",
       "\t\t\tlayerPopupOpen(\"/p08/A0802M001.nice\", opt, \"623\", \"620\");\n",
       "\t\t}\n",
       "\t}\n",
       "\t\n",
       "\tfunction outUser(oldSubid) {\n",
       "\t\tvar uid = $(\"#chk_uid\").val();\n",
       "\t\t\n",
       "\t\t$(\"#uid\").val(uid);\n",
       "\t\t$(\"#oldSubid\").val(oldSubid);\n",
       "\t\tpageSubmit(\"registForm\",\"/p00/A0001M008.nice\",\"GET\");\n",
       "\n",
       "\t\tlayerPopupClose();\n",
       "\t}\n",
       "\t\n",
       "\tfunction FailLayerOpen()\t{\n",
       "\t\n",
       "\t\t$(\"#LoginFailLayer\").width(350);\n",
       "\t\t$(\"#LoginFailLayer\").height(198);\n",
       "\t\t\n",
       "\t\t$(\"#LoginFailLayer\").modal({\n",
       "\t\t\topacity\t\t\t:\t50,\n",
       "\t\t\toverlayCss\t\t:\t{\"background-color\": \"#fff\"}\n",
       "\t\t});\n",
       "\t\t\n",
       "\t\t$(\"object\").hide();\n",
       "\t\n",
       "\t}\n",
       "\n",
       "\tfunction FailLayerFinalOpen()\t{\n",
       "\t\n",
       "\t\t$(\"#LoginFailLayerFinal\").width(350);\n",
       "\t\t$(\"#LoginFailLayerFinal\").height(198);\n",
       "\t\t\n",
       "\t\t$(\"#LoginFailLayerFinal\").modal({\n",
       "\t\t\topacity\t\t\t:\t50,\n",
       "\t\t\toverlayCss\t\t:\t{\"background-color\": \"#fff\"}\n",
       "\t\t});\n",
       "\t\t\n",
       "\t\t$(\"object\").hide();\n",
       "\t\n",
       "\t}\n",
       "\t\n",
       "\tfunction FailLayerFinalClose(){\n",
       "\t\t$(\"#LoginFailLayerFinal\").hide();\n",
       "\t\t$.modal.close();\n",
       "\t\t\n",
       "\t\t$(\"object\").show();\n",
       "\t}\n",
       "\n",
       "\tfunction FailLayerClose(){\n",
       "\t\t$(\"#LoginFailLayer\").hide();\n",
       "\t\t$.modal.close();\n",
       "\t\t\n",
       "\t\t$(\"object\").show();\n",
       "\t}\n",
       "\n",
       "\tfunction goToNBL(){\n",
       "\t\talert(\"기존 계약정보를 확인하기 위해 로그인이 필요합니다.\");\n",
       "\t}\n",
       "</script>\n",
       "</head>\n",
       "<body>\n",
       "<input id=\"chk_uid\" type=\"hidden\"/>\n",
       "<!-- skipnav -->\n",
       "<div id=\"skipnav\">\n",
       "<a class=\"skip\" href=\"#lnb\">주 메뉴 바로가기</a>\n",
       "<a class=\"skip\" href=\"#container\">컨텐츠 바로가기</a>\n",
       "</div>\n",
       "<!-- skipnav -->\n",
       "<hr/>\n",
       "<!-- wrapper -->\n",
       "<div id=\"wrapper\">\n",
       "<form id=\"frm_svcguide\" name=\"frm_svcguide\">\n",
       "</form>\n",
       "<!-- header -->\n",
       "<div id=\"header\">\n",
       "<h1><a href=\"/p00/A0001M002.nice\"><img alt=\"RM로고\" src=\"/common/images/comm/header/logo.gif\"/></a></h1>\n",
       "<ul id=\"gnb\">\n",
       "<li><a href=\"/p10/A1001M000.nice\"><img alt=\"쿠폰\" src=\"/common/images/comm/header/gnb_coupon.gif\"/></a></li>\n",
       "<li><a href=\"/p08/A0805M000.nice\"><img alt=\"FAQ\" src=\"/common/images/comm/header/gnb_faq.gif\"/></a></li>\n",
       "<li><a href=\"/p08/A0801M000.nice\"><img alt=\"고객센터\" src=\"/common/images/comm/header/gnb_center.gif\"/></a></li>\n",
       "<li class=\"lst\"><a href=\"/p08/A0807M000.nice\"><img alt=\"사이트맵\" src=\"/common/images/comm/header/gnb_sitemap.gif\"/></a></li>\n",
       "</ul>\n",
       "<h2 class=\"none\">주 메뉴</h2>\n",
       "<ul id=\"lnb\">\n",
       "<li><a class=\"lnb_a\" href=\"javascript:gnbPageSubmit(0);\"><span>거래처관리</span></a></li>\n",
       "<li><a class=\"lnb_b\" href=\"javascript:gnbPageSubmit(1);\"><span>기업정보</span></a></li>\n",
       "<li><a class=\"lnb_c\" href=\"javascript:gnbPageSubmit(2);\"><span>신용정보</span></a></li>\n",
       "<li><a class=\"lnb_d\" href=\"javascript:gnbPageSubmit(3);\"><span>인물정보</span></a></li>\n",
       "<li><a class=\"lnb_e\" href=\"javascript:gnbPageSubmit(4);\"><span>산업정보</span></a></li>\n",
       "<li><a class=\"lnb_f\" href=\"javascript:gnbPageSubmit(5);\"><span>마케팅정보</span></a></li>\n",
       "<li><a class=\"lnb_g\" href=\"javascript:gnbPageSubmit(6);\"><span>채권회수</span></a></li>\n",
       "<li><a class=\"lnb_global\" href=\"javascript:gnbPageSubmit(7);\"><span>해외기업정보</span></a></li>\n",
       "<!-- [2018-01-08] start, 신규 메뉴 --> <!-- [2016-09-01]부동산정보 목록 추가 -->\n",
       "<li><a class=\"lnb_bu\" href=\"javascript:gnbPageSubmit(8);\"><span>NICE부동산</span></a></li>\n",
       "</ul>\n",
       "</div>\n",
       "<!-- //header -->\n",
       "<hr/>\n",
       "<!-- container -->\n",
       "<div id=\"container\">\n",
       "<!-- main contents -->\n",
       "<!-- 20221107 수정, start -->\n",
       "<div id=\"visu\" style=\"background: none;\">\n",
       "<img alt=\"RM1이 NICE BizLINE으로 새롭게 태어납니다.\" src=\"/common/images/nbl/main_banner_nbl.jpg\" usemap=\"#main_banner_nbl\"/>\n",
       "<map id=\"main_banner_nbl\" name=\"main_banner_nbl\">\n",
       "<area alt=\"NICE BizLINE 바로가기\" coords=\"530,121,736,158\" onclick=\"goToNBL();\" shape=\"rect\" target=\"_blank\"/>\n",
       "</map>\n",
       "</div>\n",
       "<!-- 20221107 수정, end -->\n",
       "<!-- main_cont -->\n",
       "<h2 class=\"none\">추천 업무</h2>\n",
       "<ul id=\"main_cont\">\n",
       "<li class=\"cont1\">\n",
       "<p class=\"tit\"><img alt=\"가입 및 이용안내\" src=\"/common/images/main/tx_main_cont_1.gif\"/></p>\n",
       "<div class=\"img_wrap\">\n",
       "<img alt=\"icon_call\" src=\"/common/images/main/icon_call.png\"/>\n",
       "</div>\n",
       "<div class=\"item-wrap\">\n",
       "<img alt=\"일반기업 T 02-3771-1600 / E rm1@rm1.co.kr, 금융기관 T 02-3771-1720 / E nice@rm1.co.kr\" src=\"/common/images/main/tx_main_cont_1_1.gif\"/>\n",
       "</div>\n",
       "<div class=\"btn_wrap\">\n",
       "<a class=\"btn btn_default\" href=\"javascript:pcont();\"><img alt=\"가입 문의 및 상담하기\" src=\"/common/images/main/btn_cont_1.gif\"/></a>\n",
       "</div>\n",
       "</li>\n",
       "<li class=\"cont2\">\n",
       "<p class=\"tit\"><img alt=\"RM1 서비스 안내\" src=\"/common/images/main/tx_main_cont_2.gif\"/></p>\n",
       "<div class=\"img_wrap\" style=\"padding-top: 5px;\">\n",
       "<img alt=\"icon_monitor\" src=\"/common/images/main/icon_monitor.png\"/>\n",
       "</div>\n",
       "<div class=\"item-wrap\">\n",
       "<img alt=\"기업 개요정보, 실시간 금융기관 연체이력\n",
       "                        기업 분석 보고서, 기업상세검색 등\" src=\"/common/images/main/tx_main_cont_2_1.gif\"/>\n",
       "</div>\n",
       "<div class=\"btn_wrap\">\n",
       "<a class=\"btn btn_default\" href=\"javascript:gnbPageSubmit(0);\"><img alt=\"제공 정보 및 서비스 기능 알아보기\" src=\"/common/images/main/btn_cont_2.gif\"/></a>\n",
       "</div>\n",
       "</li>\n",
       "<li class=\"cont3\">\n",
       "<p class=\"tit\"><img alt=\"RM1 활용방안\" src=\"/common/images/main/tx_main_cont_3.gif\"/></p>\n",
       "<div class=\"item-wrap\" style=\"margin: 20px 0 0;\">\n",
       "<div class=\"video_box\" style=\"height: 160px;\">\n",
       "<iframe allow=\"accelerometer; clipboard-write; encrypted-media; gyroscope; picture-in-picture\" allowfullscreen=\"\" frameborder=\"0\" height=\"100%\" src=\"https://www.youtube.com/embed/4KamZTZuaxo\" title=\"YouTube video player\" width=\"100%\"></iframe>\n",
       "</div>\n",
       "</div>\n",
       "<div class=\"btn_wrap\">\n",
       "<a class=\"btn btn_default\" href=\"/files/pdf/[NICE평가정보]2021_RM1제안서_20211206.pdf\"><img alt=\"서비스 제안서 확인하기\" src=\"/common/images/main/btn_cont_3.gif\"/></a>\n",
       "</div>\n",
       "</li>\n",
       "</ul>\n",
       "<!-- main_cont2 -->\n",
       "<div id=\"main_cont2\">\n",
       "<h2 class=\"none\">로그인</h2>\n",
       "<div class=\"login_main\">\n",
       "<form id=\"loginform\" method=\"GET\" onsubmit=\"return false;\">\n",
       "<input id=\"sub_usrid\" name=\"subid\" type=\"hidden\" value=\"\"/>\n",
       "<input id=\"cpwd\" name=\"cpwd\" type=\"hidden\" value=\"\"/>\n",
       "<fieldset>\n",
       "<legend>로그인 폼</legend>\n",
       "<p><label for=\"user_id\"><img alt=\"아이디\" src=\"/common/images/main/tx_login_id.gif\"/></label><input class=\"tx_id\" id=\"user_id\" name=\"uid\" type=\"text\"/></p>\n",
       "<p><label for=\"user_pw\"><img alt=\"비밀번호\" src=\"/common/images/main/tx_login_pw.gif\"/></label><input class=\"tx_pw\" id=\"user_pw\" name=\"pwd\" type=\"password\"/></p>\n",
       "<p class=\"btn\"><input alt=\"로그인\" id=\"submit\" onclick=\"doLogin();\" src=\"/common/images/main/btn_login.gif\" title=\"로그인하기\" type=\"image\"/></p>\n",
       "<!-- 2013-03-06 텍스트수정 -->\n",
       "<!-- 2015-05-11 st -->\n",
       "<p class=\"link cl\">\n",
       "<input id=\"stay_sign\" name=\"autochk\" type=\"checkbox\" value=\"N\"/>\n",
       "<label for=\"stay_sign\" style=\"width:95px;text-align:left;\">로그인 상태 유지</label>\n",
       "<a class=\"btncom st01\" href=\"/p00/A0005M001.nice\" style=\"float: right;\"><span>개인 아이디/비밀번호 찾기</span></a>\n",
       "</p>\n",
       "<!-- 2015-05-11 end -->\n",
       "</fieldset>\n",
       "</form>\n",
       "<form id=\"registForm\" method=\"GET\" name=\"registForm\">\n",
       "<input id=\"uid\" name=\"uid\" type=\"hidden\"/>\n",
       "<input id=\"oldSubid\" name=\"oldSubid\" type=\"hidden\"/>\n",
       "<input id=\"puid\" name=\"puid\" type=\"hidden\"/>\n",
       "</form>\n",
       "</div>\n",
       "<!-- 20170710 start, 추가 -->\n",
       "<div class=\"narea01\">\n",
       "<a href=\"https://creditor.rm1.co.kr/cm/CM0100M017GE.nice\" target=\"_blank\"><img alt=\"채권회수지원서비스 바로가기\" src=\"/common/images/main/banner_m1.png\"/></a>\n",
       "</div>\n",
       "<!-- 20170710 end -->\n",
       "<div class=\"board\">\n",
       "<div>\n",
       "<h2><img alt=\"공지사항\" src=\"/common/images/main/tit_board_2.gif\"/></h2>\n",
       "<ul>\n",
       "<li><a href=\"javascript:notice('96');\">\n",
       "\t\t\t\t\t\t\t\t\t[서비스 점검] 2023년 7월 15일 1...\n",
       "\t\t\t\t\t\t\t\t</a><span class=\"date\">\n",
       "\t\t\t\t\t\t\t\t\t2023.07.10\n",
       "\t\t\t\t\t\t\t\t</span></li>\n",
       "<li><a href=\"javascript:notice('95');\">\n",
       "\t\t\t\t\t\t\t\t\t[부동산] 강원특별자치도 관련 시스템 변경...\n",
       "\t\t\t\t\t\t\t\t</a><span class=\"date\">\n",
       "\t\t\t\t\t\t\t\t\t2023.06.08\n",
       "\t\t\t\t\t\t\t\t</span></li>\n",
       "</ul>\n",
       "<p class=\"more\"><a href=\"javascript:notice('more');\"><img alt=\"more\" src=\"/common/images/main/btn_more.gif\"/></a></p>\n",
       "</div>\n",
       "<div class=\"mt10\">\n",
       "<h2><img alt=\"거래처관리정보센터\" src=\"/common/images/main/tit_board_1.gif\"/></h2>\n",
       "<ul>\n",
       "<li><a href=\"javascript:info(9);\">거래처 부도에 따른 자금사정 악화시 납세유예제도를 활용하세요</a><span class=\"date\">2014.04.16</span></li>\n",
       "<li><a href=\"javascript:info(8);\">유형별 채권의 소멸시효 기간</a><span class=\"date\">2013.01.30</span></li>\n",
       "<!--<li><a href=\"javascript:info(7);\">거래처에서 부도가 발생시 부가가치세...</a><span class=\"date\">2013.01.30</span></li>-->\n",
       "<!--<li><a href=\"javascript:info(3);\">부실채권 발생 징후에 대한 정보</a><span class=\"date\">2013.01.30</span></li>-->\n",
       "</ul>\n",
       "<p class=\"more_i\"><a href=\"javascript:info('more');\"><img alt=\"more\" src=\"/common/images/main/btn_more.gif\"/></a></p>\n",
       "</div>\n",
       "</div>\n",
       "<!-- 2015-11-09 end -->\n",
       "</div>\n",
       "<!-- //main contents -->\n",
       "<div class=\"side-banner mainpage\">\n",
       "<!-- 20221107 신규, start -->\n",
       "<div class=\"a_banner\" style=\"margin-top: 0;\">\n",
       "<a onclick=\"goToNBL();\" target=\"_blank\">\n",
       "<img alt=\"RM1이 NICE BizLINE으로 새롭게 태어납니다.\" src=\"/common/images/nbl/side_banner_nbl.jpg\"/>\n",
       "</a>\n",
       "</div>\n",
       "<!-- 20221107 신규, end -->\n",
       "<div class=\"a_banner\">\n",
       "<a href=\"https://www.kisvalue.com/web/landing.jsp\" target=\"_blank\">\n",
       "<img alt=\"Excel에서 직접 Data활용 가능한 Excel Value Search 안내 바로가기\" src=\"/common/images/main/side_banner_vs.jpg\"/>\n",
       "</a>\n",
       "</div>\n",
       "</div>\n",
       "</div>\n",
       "<!-- //container -->\n",
       "<div id=\"LoginFailLayerFinal\" style=\"display:none;background-color:#f4f4f4;\">\n",
       "<!-- 2014-02-06 공통팝업이라 css inline으로 작업하였습니다 -->\n",
       "<div style=\"font-family:'돋움';border:1px solid #7d7b7b;width:350px;min-height:198px;height:auto;;\"><!-- common pop_01 -->\n",
       "<div style=\"background-color:#09318d;height:30px;line-height:30px;font-size:15px;font-weight:bold;text-align:center;color:#fff;\">\n",
       "\t\t\t\t비밀번호 오류\n",
       "\t\t\t</div>\n",
       "<div style=\"padding:0 15px;margin-top:50px;text-align:center;\">\n",
       "<p style=\"color:#3f4247;font-weight:bold;font-size:14px;\">비밀번호를 5회 이상 잘못 입력하였습니다.</p>\n",
       "<p style=\"margin-top:10px;font-size:12px;color:#3f4247;line-height:1.3em;\">\n",
       "\t\t\t\t\t해당 아이디로는 <span style=\"color:#d50d4f;font-weight:bold;\">로그인이 차단</span>되었으니 <br/>\n",
       "<span style=\"font-weight:bold;\">고객센터</span>로 연락해주시기 바랍니다.\n",
       "\t\t\t\t</p>\n",
       "</div>\n",
       "<div style=\"text-align:center;margin-top:20px;\"><a href=\"#\"><img alt=\"확인\" border=\"0\" height=\"25\" onclick=\"FailLayerFinalClose();\" src=\"/common/images/btn/btn_03.gif\" width=\"56\"/></a></div>\n",
       "</div>\n",
       "</div><!-- common pop_01 -->\n",
       "<div id=\"LoginFailLayer\" style=\"display:none;background-color:#f4f4f4;\">\n",
       "<div style=\"font-family:'돋움';border:1px solid #7d7b7b;width:350px;min-height:198px;height:auto;;\"><!-- common pop_02 -->\n",
       "<div style=\"background-color:#09318d;height:30px;line-height:30px;font-size:15px;font-weight:bold;text-align:center;color:#fff;\">\n",
       "\t\t\t\t비밀번호 오류\n",
       "\t\t\t</div>\n",
       "<div style=\"padding:0 15px;margin-top:50px;text-align:center;\">\n",
       "<p style=\"color:#3f4247;font-weight:bold;font-size:14px;\">아이디또는 비밀번호를 잘못 입력하였습니다.</p>\n",
       "<p style=\"margin-top:10px;font-size:12px;color:#3f4247;line-height:1.3em;\"><span style=\"color:#d50d4f;font-weight:bold;\">비밀번호 5회 오류 입력시 서비스 이용이 차단</span>되오니<br/>\n",
       "\t\t\t\t 정확히 확인하신 후 입력하시기 바랍니다.</p>\n",
       "</div>\n",
       "<div style=\"text-align:center;margin-top:20px;\"><a href=\"#\"><img alt=\"확인\" border=\"0\" height=\"25\" onclick=\"FailLayerClose();\" src=\"/common/images/btn/btn_03.gif\" width=\"56\"/></a></div>\n",
       "</div><!-- common pop_02 -->\n",
       "<!-- 2014-02-06 공통팝업이라 css inline으로 작업하였습니다 -->\n",
       "</div><!--// wrapper -->\n",
       "<hr/>\n",
       "<script type=\"text/javascript\">\n",
       "\t(function(i,s,o,g,r,a,m){i['GoogleAnalyticsObject']=r;i[r]=i[r]||function(){\n",
       "\t\t(i[r].q=i[r].q||[]).push(arguments)},i[r].l=1*new Date();a=s.createElement(o),\n",
       "\t\tm=s.getElementsByTagName(o)[0];a.async=1;a.src=g;m.parentNode.insertBefore(a,m)\n",
       "\t })(window,document,'script','//www.google-analytics.com/analytics.js','ga');\n",
       "\t\n",
       "\t ga('create', 'UA-11236888-42', 'auto');\n",
       "\t ga('send', 'pageview');\n",
       "\t \n",
       "\t\t\n",
       "</script>\n",
       "<!-- footer_wrap -->\n",
       "<!-- footer -->\n",
       "<form id=\"sideCmpFrm\" name=\"sideCmpFrm\">\n",
       "<input id=\"business\" name=\"business\" type=\"hidden\" value=\"\"/>\n",
       "<input id=\"upchecd\" name=\"upchecd\" type=\"hidden\" value=\"\"/>\n",
       "<input id=\"loadingPage\" name=\"loadingPage\" type=\"hidden\" value=\"\"/>\n",
       "</form>\n",
       "<div id=\"footer_wrap\">\n",
       "<div id=\"footer\">\n",
       "<h2 class=\"none\">사이트 정보</h2>\n",
       "<div class=\"logo\">\n",
       "<a href=\"http://www.niceinfo.co.kr\" target=\"_blink\"><img alt=\"NICE평가정보\" src=\"/common/images/comm/footer/logo.gif\"/></a>\n",
       "</div>\n",
       "<div class=\"foot_cont\">\n",
       "<!-- quick_link -->\n",
       "<h3 class=\"none\">바로가기</h3>\n",
       "<ul class=\"quick_link\">\n",
       "<li><a href=\"http://www.niceinfo.co.kr\" target=\"_blink\">회사소개</a></li>\n",
       "<li><a href=\"javascript:openWindow(850, 664, '/p09/A0901M000.nice', 'serviceGuide', 'frm_svcguide');\">서비스 소개</a></li>\n",
       "<li><a href=\"/p08/A0806M000.nice\">이용약관</a></li>\n",
       "<li><a href=\"/p08/A0806M001.nice\"><span class=\"g\">개인정보처리방침</span></a></li>\n",
       "<li><a href=\"/p08/A0806M002.nice\">이메일무단수집거부</a></li>\n",
       "<li><a href=\"/p08/A0801M000.nice\">고객센터</a></li>\n",
       "</ul>\n",
       "<div class=\"addr\">\n",
       "<address>\n",
       "<span class=\"s\">서울 영등포구 은행로 17 NICE평가정보(주)</span>\n",
       "<span class=\"s\">등록번호:116-81-15020</span>\n",
       "<span class=\"s\">FAX:02)3771-1534 / <a class=\"l\" href=\"mailto:rm1@rm1.co.kr\">rm1@rm1.co.kr</a></span>\n",
       "</address>\n",
       "<p class=\"c\">COPYRIGHT © <span class=\"b\">NICE INFOMATION SERVICE</span> CO.LTD. All RIGHTS RESERVED</p>\n",
       "</div>\n",
       "</div>\n",
       "<div class=\"tx_phonenumber\">\n",
       "<div class=\"d1\"><b class=\"b\">☎ 이용안내 및 문의</b> 비금융권 <span class=\"s\">02)3771-1600</span></div>\n",
       "<div class=\"d2\">금융권 <span class=\"s\">02)3771-1720</span></div>\n",
       "</div>\n",
       "</div>\n",
       "</div>\n",
       "<!-- //footer_wrap -->\n",
       "<!-- 20170710 start, 배너 추가 -->\n",
       "<div class=\"quick_menu\">\n",
       "<div class=\"mt5\">\n",
       "<a href=\"https://creditor.rm1.co.kr/cm/CM0100M017GE.nice\" target=\"_blank\"><img alt=\"\" src=\"/common/images/etc/banner_m2.png\"/></a><br/>\n",
       "<a href=\"https://www.rm1.co.kr/popup/20190716/pop0716.html\" target=\"_blank\"><img alt=\"\" src=\"/common/images/etc/banner_m3.png\"/></a>\n",
       "</div>\n",
       "</div>\n",
       "<!-- 20170710 end --> <!-- //wrapper -->\n",
       "</div></body></html>"
      ]
     },
     "execution_count": 16,
     "metadata": {},
     "output_type": "execute_result"
    }
   ],
   "source": [
    "soup = BeautifulSoup(html, 'html.parser'); soup\n",
    "#soup_lxml = BeautifulSoup(html, 'lxml'); soup_lxml"
   ]
  },
  {
   "cell_type": "code",
   "execution_count": null,
   "metadata": {},
   "outputs": [],
   "source": []
  },
  {
   "cell_type": "markdown",
   "metadata": {},
   "source": [
    "## 실습 (2) Tag 찾아보기 (예시) : 공지사항 내용 "
   ]
  },
  {
   "cell_type": "code",
   "execution_count": 17,
   "metadata": {},
   "outputs": [
    {
     "data": {
      "text/plain": [
       "<ul>\n",
       "<li><a href=\"javascript:notice('96');\">\n",
       "\t\t\t\t\t\t\t\t\t[서비스 점검] 2023년 7월 15일 1...\n",
       "\t\t\t\t\t\t\t\t</a><span class=\"date\">\n",
       "\t\t\t\t\t\t\t\t\t2023.07.10\n",
       "\t\t\t\t\t\t\t\t</span></li>\n",
       "<li><a href=\"javascript:notice('95');\">\n",
       "\t\t\t\t\t\t\t\t\t[부동산] 강원특별자치도 관련 시스템 변경...\n",
       "\t\t\t\t\t\t\t\t</a><span class=\"date\">\n",
       "\t\t\t\t\t\t\t\t\t2023.06.08\n",
       "\t\t\t\t\t\t\t\t</span></li>\n",
       "</ul>"
      ]
     },
     "execution_count": 17,
     "metadata": {},
     "output_type": "execute_result"
    }
   ],
   "source": [
    "soup.find('div', attrs = {'class': 'board'}).find('ul')"
   ]
  },
  {
   "cell_type": "code",
   "execution_count": 18,
   "metadata": {},
   "outputs": [
    {
     "data": {
      "text/plain": [
       "'\\n\\n\\t\\t\\t\\t\\t\\t\\t\\t\\t[서비스 점검] 2023년 7월 15일 1...\\n\\t\\t\\t\\t\\t\\t\\t\\t\\n\\t\\t\\t\\t\\t\\t\\t\\t\\t2023.07.10\\n\\t\\t\\t\\t\\t\\t\\t\\t\\n\\n\\t\\t\\t\\t\\t\\t\\t\\t\\t[부동산] 강원특별자치도 관련 시스템 변경...\\n\\t\\t\\t\\t\\t\\t\\t\\t\\n\\t\\t\\t\\t\\t\\t\\t\\t\\t2023.06.08\\n\\t\\t\\t\\t\\t\\t\\t\\t\\n'"
      ]
     },
     "execution_count": 18,
     "metadata": {},
     "output_type": "execute_result"
    }
   ],
   "source": [
    "soup.find('div', attrs = {'class': 'board'}).find('ul').getText()"
   ]
  },
  {
   "cell_type": "markdown",
   "metadata": {},
   "source": [
    "#### 불필요한 문자열 제거 사례:\n",
    "\n",
    "http://pythonstudy.xyz/python/article/401-%EC%A0%95%EA%B7%9C-%ED%91%9C%ED%98%84%EC%8B%9D-Regex"
   ]
  },
  {
   "cell_type": "code",
   "execution_count": 19,
   "metadata": {},
   "outputs": [
    {
     "data": {
      "text/plain": [
       "'[서비스 점검] 2023년 7월 15일 1...\\n\\t\\t\\t\\t\\t\\t\\t\\t\\n\\t\\t\\t\\t\\t\\t\\t\\t\\t2023.07.10\\n\\t\\t\\t\\t\\t\\t\\t\\t\\n\\n\\t\\t\\t\\t\\t\\t\\t\\t\\t[부동산] 강원특별자치도 관련 시스템 변경...\\n\\t\\t\\t\\t\\t\\t\\t\\t\\n\\t\\t\\t\\t\\t\\t\\t\\t\\t2023.06.08'"
      ]
     },
     "execution_count": 19,
     "metadata": {},
     "output_type": "execute_result"
    }
   ],
   "source": [
    "soup.find('div', attrs = {'class': 'board'}).find('ul').getText().strip('\\n\\t')"
   ]
  },
  {
   "cell_type": "code",
   "execution_count": 20,
   "metadata": {},
   "outputs": [],
   "source": [
    "import re"
   ]
  },
  {
   "cell_type": "code",
   "execution_count": 21,
   "metadata": {},
   "outputs": [
    {
     "data": {
      "text/plain": [
       "'\\n\\n\\t\\t\\t\\t\\t\\t\\t\\t\\t[서비스 점검] 2023년 7월 15일 1...\\n\\t\\t\\t\\t\\t\\t\\t\\t\\n\\t\\t\\t\\t\\t\\t\\t\\t\\t2023.07.10\\n\\t\\t\\t\\t\\t\\t\\t\\t\\n\\n\\t\\t\\t\\t\\t\\t\\t\\t\\t[부동산] 강원특별자치도 관련 시스템 변경...\\n\\t\\t\\t\\t\\t\\t\\t\\t\\n\\t\\t\\t\\t\\t\\t\\t\\t\\t2023.06.08\\n\\t\\t\\t\\t\\t\\t\\t\\t\\n'"
      ]
     },
     "execution_count": 21,
     "metadata": {},
     "output_type": "execute_result"
    }
   ],
   "source": [
    "soup.find('div', attrs = {'class': 'board'}).find('ul').getText()"
   ]
  },
  {
   "cell_type": "code",
   "execution_count": 22,
   "metadata": {},
   "outputs": [
    {
     "data": {
      "text/plain": [
       "'[서비스 점검] 2023년 7월 15일 1...2023.07.10[부동산] 강원특별자치도 관련 시스템 변경...2023.06.08'"
      ]
     },
     "execution_count": 22,
     "metadata": {},
     "output_type": "execute_result"
    }
   ],
   "source": [
    "re.sub(\"[\\n\\t]*\", \"\", soup.find('div', attrs = {'class': 'board'}).find('ul').getText())"
   ]
  },
  {
   "cell_type": "code",
   "execution_count": 23,
   "metadata": {},
   "outputs": [],
   "source": [
    "temp = re.sub(\"\\n\\t\\t\\t\\t\\t\\t\\t\\t\", \" \", soup.find('div', attrs = {'class': 'board'}).find('ul').getText())"
   ]
  },
  {
   "cell_type": "code",
   "execution_count": 24,
   "metadata": {},
   "outputs": [
    {
     "data": {
      "text/plain": [
       "',  , [서비스 점검] 2023년 7월 15일 1...  , 2023.07.10 ,  , [부동산] 강원특별자치도 관련 시스템 변경...  , 2023.06.08 , '"
      ]
     },
     "execution_count": 24,
     "metadata": {},
     "output_type": "execute_result"
    }
   ],
   "source": [
    "re.sub(\"[\\n\\t]\", \", \", temp)"
   ]
  },
  {
   "cell_type": "code",
   "execution_count": null,
   "metadata": {},
   "outputs": [],
   "source": []
  },
  {
   "cell_type": "markdown",
   "metadata": {},
   "source": [
    "## 실습 (3) Web crawling test for popup"
   ]
  },
  {
   "cell_type": "markdown",
   "metadata": {},
   "source": [
    "####  [기업정보/신용정보] 클릭Click 을 통해 새로운 창이 떴을 경우,\n",
    "\n",
    "** 1) New window(새창) 으로 Focus 를 이동: **"
   ]
  },
  {
   "cell_type": "code",
   "execution_count": 27,
   "metadata": {},
   "outputs": [
    {
     "ename": "AttributeError",
     "evalue": "'WebDriver' object has no attribute 'find_element_by_xpath'",
     "output_type": "error",
     "traceback": [
      "\u001b[1;31m---------------------------------------------------------------------------\u001b[0m",
      "\u001b[1;31mAttributeError\u001b[0m                            Traceback (most recent call last)",
      "Input \u001b[1;32mIn [27]\u001b[0m, in \u001b[0;36m<cell line: 2>\u001b[1;34m()\u001b[0m\n\u001b[0;32m      1\u001b[0m \u001b[38;5;66;03m#posting = driver.find_element_by_xpath('//*[@id=\"main_cont\"]/li[2]/dl/dd[1]')\u001b[39;00m\n\u001b[1;32m----> 2\u001b[0m posting \u001b[38;5;241m=\u001b[39m \u001b[43mdriver\u001b[49m\u001b[38;5;241;43m.\u001b[39;49m\u001b[43mfind_element_by_xpath\u001b[49m(\u001b[38;5;124m'\u001b[39m\u001b[38;5;124m//*[@id=\u001b[39m\u001b[38;5;124m\"\u001b[39m\u001b[38;5;124mlnb\u001b[39m\u001b[38;5;124m\"\u001b[39m\u001b[38;5;124m]/li[2]/a\u001b[39m\u001b[38;5;124m'\u001b[39m)\n\u001b[0;32m      3\u001b[0m posting\u001b[38;5;241m.\u001b[39mclick()\n",
      "\u001b[1;31mAttributeError\u001b[0m: 'WebDriver' object has no attribute 'find_element_by_xpath'"
     ]
    }
   ],
   "source": [
    "#posting = driver.find_element_by_xpath('//*[@id=\"main_cont\"]/li[2]/dl/dd[1]')\n",
    "posting = driver.find_element_by_xpath('//*[@id=\"lnb\"]/li[2]/a')\n",
    "posting.click()"
   ]
  },
  {
   "cell_type": "code",
   "execution_count": 28,
   "metadata": {},
   "outputs": [
    {
     "ename": "IndexError",
     "evalue": "list index out of range",
     "output_type": "error",
     "traceback": [
      "\u001b[1;31m---------------------------------------------------------------------------\u001b[0m",
      "\u001b[1;31mIndexError\u001b[0m                                Traceback (most recent call last)",
      "Input \u001b[1;32mIn [28]\u001b[0m, in \u001b[0;36m<cell line: 3>\u001b[1;34m()\u001b[0m\n\u001b[0;32m      1\u001b[0m \u001b[38;5;66;03m#driver.switch_to_window(driver.window_handles[1])  # [1] : Click 을 통해 띄워지는 New window (새창) 의미\u001b[39;00m\n\u001b[0;32m      2\u001b[0m \u001b[38;5;66;03m### new version\u001b[39;00m\n\u001b[1;32m----> 3\u001b[0m driver\u001b[38;5;241m.\u001b[39mswitch_to\u001b[38;5;241m.\u001b[39mwindow(\u001b[43mdriver\u001b[49m\u001b[38;5;241;43m.\u001b[39;49m\u001b[43mwindow_handles\u001b[49m\u001b[43m[\u001b[49m\u001b[38;5;241;43m1\u001b[39;49m\u001b[43m]\u001b[49m)\n",
      "\u001b[1;31mIndexError\u001b[0m: list index out of range"
     ]
    }
   ],
   "source": [
    "#driver.switch_to_window(driver.window_handles[1])  # [1] : Click 을 통해 띄워지는 New window (새창) 의미\n",
    "### new version\n",
    "driver.switch_to.window(driver.window_handles[1])"
   ]
  },
  {
   "cell_type": "markdown",
   "metadata": {},
   "source": [
    "** 2) New windows 의 html 소스를 가져오기 **"
   ]
  },
  {
   "cell_type": "code",
   "execution_count": 29,
   "metadata": {},
   "outputs": [
    {
     "data": {
      "text/plain": [
       "'<html xmlns=\"http://www.w3.org/1999/xhtml\" lang=\"ko\" xml:lang=\"ko\"><head>\\n<meta http-equiv=\"Content-Type\" content=\"text/html; charset=utf-8\">\\n<meta http-equiv=\"X-UA-Compatible\" content=\"IE=edge\"> \\n<meta http-equiv=\"expires\" content=\"-1\">\\n<title> RM </title>\\n<link rel=\"stylesheet\" type=\"text/css\" media=\"all\" href=\"/common/css/base.css\">\\n<link rel=\"stylesheet\" type=\"text/css\" media=\"all\" href=\"/common/css/module.css\">\\n<link rel=\"stylesheet\" type=\"text/css\" media=\"all\" href=\"/common/css/section_a.css\">\\n<link rel=\"stylesheet\" type=\"text/css\" media=\"all\" href=\"/common/css/section_b.css\">\\n<link rel=\"stylesheet\" type=\"text/css\" media=\"all\" href=\"/common/css/main.css\">\\n<link rel=\"stylesheet\" type=\"text/css\" media=\"all\" href=\"/common/css/layout.css\">\\n<link rel=\"stylesheet\" type=\"text/css\" media=\"all\" href=\"/common/css/comm.css\">\\n<link rel=\"stylesheet\" type=\"text/css\" media=\"all\" href=\"/common/css/pop.css\">\\n<link rel=\"stylesheet\" type=\"text/css\" media=\"all\" href=\"/common/css/calendar.css\">\\n<link rel=\"stylesheet\" type=\"text/css\" media=\"print\" href=\"/common/css/print.css\">\\n<script type=\"text/javascript\" async=\"\" src=\"https://www.googletagmanager.com/gtag/js?id=G-NNZ67BBEB6&amp;cx=c&amp;_slc=1\"></script><script async=\"\" src=\"//www.google-analytics.com/analytics.js\"></script><script type=\"text/javascript\" src=\"/common/js/jquery-1.8.3.js\"></script>\\n<script type=\"text/javascript\" src=\"/common/js/comm.js\"></script>\\n<script type=\"text/javascript\" src=\"/common/js/date.js\"></script>\\n<script type=\"text/javascript\" src=\"/common/js/ajaxLoad.js\"></script>\\n<script type=\"text/javascript\" src=\"/common/js/jquery.form.js\"></script>\\n<script type=\"text/javascript\" src=\"/common/js/jquery.simplemodal-1.4.4.js\"></script>\\n<script type=\"text/javascript\" src=\"/common/js/jquery-ui.min.js\"></script>\\n<script type=\"text/javascript\" src=\"/common/js/common.js\"></script>\\n<script type=\"text/javascript\" src=\"/common/js/jquery.cookie.js\"></script>\\n<script type=\"text/javascript\" src=\"/common/js/customJquery.js\"></script>\\n\\n<script type=\"text/javascript\">\\n\\nvar msg_stay_sign = \"\";\\n\\t\\nmsg_stay_sign += \"브라우저의 쿠키를 삭제하거나\";\\nmsg_stay_sign += \"\\\\r\\\\n로그아웃을 선택하기 전까지는\";\\nmsg_stay_sign += \"\\\\r\\\\n계속 로그인 상태가 유지됩니다.\";\\nmsg_stay_sign += \"\\\\r\\\\n\\\\r\\\\n단, 2주 동안 본 PC에서\";\\nmsg_stay_sign += \"\\\\r\\\\nRM 서비스를 사용하지 않으면\";\\nmsg_stay_sign += \"\\\\r\\\\n로그인 상태 유지는 해제될 수 있습니다.\";\\nmsg_stay_sign += \"\\\\r\\\\n\\\\r\\\\n개인정보보호를 위해\";\\nmsg_stay_sign += \"\\\\r\\\\n개인 PC에서만 사용하세요.\";\\n\\n\\t$(document).ready(function()\\t{\\n\\t\\t\\n\\t\\tvar autochk = chkTypeofObj($.cookie(\\'autochk\\'));\\n\\t\\tif(autochk) {\\n\\t\\t\\t$(\"input[name=\\'autochk\\']\").val(autochk);\\n\\t\\t\\tif (autochk == \\'Y\\') {\\n\\t\\t\\t\\t$(\"input[name=\\'autochk\\']\").attr(\"checked\", true);\\n\\t\\t\\t} else {\\n\\t\\t\\t\\t$(\"input[name=\\'autochk\\']\").attr(\"checked\", false);\\n\\t\\t\\t}\\n\\t\\t} else {\\n\\t\\t\\t$(\"input[name=\\'autochk\\']\").attr(\"checked\", false);\\n\\t\\t}\\n\\t\\t\\n\\t\\t$(\"#stay_sign\").on(\"change\", chg_stay_sign);\\n\\t\\t\\n\\t\\t$(\"#user_id\").focus();\\n\\n\\n\\n\\n\\n\\t});\\n\\t\\n\\tfunction doLogin()\\t{\\n\\t\\tif(checkValid()){\\n\\t \\t\\tvar sub_usrid = chkTypeofObj($.cookie(\\'subid\\'));\\n\\t \\t\\tvar cpwd = chkTypeofObj($.cookie(\\'cpwd\\'));\\n\\t \\t\\t\\n\\t \\t\\t$(\"#sub_usrid\").val(sub_usrid);\\n\\t \\t\\t$(\"#cpwd\").val(\"\");\\n\\t \\t\\t\\n\\t\\t\\t$.ajax({\\n\\t\\t\\t\\turl  : \"/p00/A0005M000.nice\",\\n\\t\\t\\t\\ttype : \"POST\", \\n\\t\\t\\t\\tdataType : \"jsonp\",\\n\\t\\t\\t\\tdata : {\\n\\t\\t\\t\\t\\tuid\\t\\t\\t: \\t$(\"input[name=\\'uid\\']\").val(),\\n\\t\\t\\t\\t\\tpwd\\t\\t\\t: \\tencodeURIComponent($(\"input[name=\\'pwd\\']\").val()),\\n\\t\\t\\t\\t\\tsubid \\t\\t: \\t$(\"input[name=\\'subid\\']\").val(),\\n\\t\\t\\t\\t\\tcpwd \\t\\t: \\t$(\"input[name=\\'cpwd\\']\").val(),\\n\\t\\t\\t\\t\\tautochk\\t\\t:\\t$(\"input[name=\\'autochk\\']\").val()\\n\\t\\t\\t\\t},\\n\\t\\t\\t\\tjsonpCallback : \"default_callback\",\\n\\t\\t\\t\\tsuccess : function(json_data){\\n\\t\\t\\t\\t\\tvar check = json_data.A0005M000.Result.Check;\\n\\t\\t \\t\\t\\tvar message = json_data.A0005M000.Result.Message;\\n\\t\\t \\t\\t\\tvar status = json_data.A0005M000.Result.Status;\\n\\t\\t\\t\\t\\tvar memberType = json_data.A0005M000.Result.MemberType;\\n\\t\\t\\t\\t\\tvar joinType = json_data.A0005M000.Result.JoinType;\\n\\t\\t\\t\\t\\tvar usrid = json_data.A0005M000.usrid;\\n\\t\\t\\t\\t\\tvar lgn_usrid = json_data.A0005M000.lgn_usrid;\\n\\t\\t\\t\\t\\t$(\"#chk_uid\").val(usrid);\\n\\t\\t\\t\\t\\t\\n\\t\\t \\t\\t\\t//로그인성공\\n\\t\\t \\t\\t\\tif(check == \"OK\"){\\n\\t\\t\\t \\t\\t\\tif (memberType == \"C\"){\\n\\t \\t\\t\\t\\t\\t\\tif(joinType == \"3\" || joinType == \\'4\\'){\\n\\t\\t\\t \\t\\t\\t\\t\\tdocument.location.href = \"/p10/A1002M000.nice\";\\n\\t\\t\\t \\t\\t\\t\\t}\\n\\t\\t\\t\\t\\t\\t}\\n\\t\\t\\t\\t\\t\\tif(memberType != \"C\"){\\n\\t\\t\\t\\t\\t\\t\\n\\t\\t\\t\\t\\t\\t\\tif(joinType == \"3\" || joinType == \"4\"){\\n\\t\\t\\t\\t\\t\\t\\t\\tdocument.location.href = \"/p00/A0004M000.nice\";\\n\\t\\t\\t\\t\\t\\t\\t}else{\\n\\t\\t\\t\\t\\t\\t\\t\\tdocument.location.href = \"/p00/A0002M001.nice\";\\t\\t\\t\\t\\t\\t\\n\\t\\t\\t\\t\\t\\t\\t}\\n\\t\\t\\t\\t\\t\\t}\\n\\t\\t\\t \\t\\t}\\n\\t\\t \\t\\t\\telse if(status == \"NoSubUsrid\"){\\n\\t\\t\\t\\t\\t\\tdocument.registForm.uid.value = usrid\\n\\t\\t\\t\\t\\t\\tpageSubmit(\"registForm\",\"/p00/A0005M005.nice\",\"POST\");\\n\\t\\t \\t\\t\\t}\\n\\t\\t \\t\\t\\t//동시접속자수 초과\\n\\t\\t \\t\\t\\telse if(status == \"OverSession\"){\\n\\t\\t \\t\\t\\t\\n\\t\\t\\t \\t\\t\\tvar opt = {\\n\\t\\t\\t\\t\\t\\t\\tuid \\t: usrid\\n\\t\\t\\t\\t\\t\\t}\\n\\t\\t\\t\\t\\t\\t\\n\\t\\t\\t\\t\\t\\tlayerPopupOpen(\"/p00/A0001M007.nice\",opt,454,441);\\n\\t\\t\\t\\t\\t\\t\\n\\t\\t\\t\\t\\t\\t//미구현. alert 으로 대체\\n\\t\\t\\t\\t\\t\\t//alert(message);\\n\\t\\t \\t\\t\\t//과다사용정지\\n\\t\\t \\t\\t\\t} else if (status == \"EXCESSIVE\") {\\n\\t\\t\\t\\t\\t\\t\\n\\t\\t\\t\\t\\t\\talert(message);\\n\\t\\t \\t\\t\\t\\t\\n\\t\\t\\t\\t\\t}else if(status == \"SEALEDID\")\\t{\\n\\t\\t\\t\\t\\t\\t\\n\\t\\t\\t\\t\\t\\tFailLayerFinalOpen();\\n\\t\\t\\t\\t\\t\\t\\n\\t\\t\\t\\t\\t}else if(status == \"NPW\")\\t{\\n\\t\\t\\t\\t\\t\\t\\n\\t\\t\\t\\t\\t\\tFailLayerOpen();\\n\\t\\t\\t\\t\\t\\t\\n\\t\\t\\t\\t\\t}else if(status == \"CHGPWD\")\\t{\\n\\t\\t\\t\\t\\t\\n\\t\\t\\t\\t\\t\\t$(\"input[name=\\'puid\\']\").val(lgn_usrid);\\n\\t\\t\\t\\t\\t\\tpageSubmit(\"registForm\",\"/p00/A0005M003.nice\",\"POST\");\\n\\t\\t\\t\\t\\t\\t\\n\\t\\t\\t\\t\\t}else{\\n\\t\\t \\t\\t\\t\\t\\n\\t\\t \\t\\t\\t\\talert(message);\\n\\t\\t \\t\\t\\t\\t\\n\\t\\t \\t\\t\\t}\\n\\t\\t\\t\\t}\\n\\t\\t\\t});\\n\\t\\t}\\n\\t\\t\\n\\t\\treturn false;\\n\\t}\\n\\t\\n\\tfunction chg_stay_sign()\\t{\\n\\t\\t\\n\\t\\tif($(this).attr(\"checked\") == \"checked\")\\t{\\n\\t\\t\\t\\n\\t\\t\\talert(msg_stay_sign);\\n\\t\\t\\t$(this).val(\"Y\");\\n\\t\\t\\n\\t\\t} else {\\n\\t\\t\\n\\t\\t\\t$(this).val(\"N\");\\n\\t\\t\\n\\t\\t}\\n\\t\\t\\n\\t}\\n\\t\\n\\tfunction checkValid(){\\n\\t\\tif($(\"#user_id\").val().replace(\"/s\",\"\") == \"\") {\\n\\t\\t\\talert(\"아이디를 입력하십시오.\");\\n\\t\\t\\treturn false;\\n\\t\\t}\\n\\t\\t\\n \\t\\tif($(\"#user_pw\").val().replace(\"/s\",\"\") == \"\") {\\n\\t\\t\\talert(\"비밀번호를 입력하십시오.\");\\n\\t\\t\\treturn false;\\n\\t\\t}\\n\\t\\treturn true;\\n\\t}\\n\\t\\n\\tfunction gnbPageSubmit(no)\\t{\\t\\n\\t\\topenWindow(850, 664, \"/p09/A0901M00\"+no+\".nice?sw=on\"+no, \"serviceGuide\", \"frm_svcguide\");\\n\\t}\\n\\t\\n\\t\\n\\tfunction pcont(){\\n\\t\\tlayerPopupOpen(\"/p00/A0003M000.nice\",\"\", \"750\", \"550\");\\n\\t}\\n\\t\\n\\t\\n\\tfunction notice(type){\\n\\t\\t\\n\\t\\tif(type == (\\'more\\')) {\\n\\t\\t\\tdocument.location.href = \"/p08/A0803M000.nice\";\\n\\t\\t}else{\\t\\n\\t\\t\\tvar\\topt = {seq : type};\\n\\t\\t\\tlayerPopupOpen(\"/p08/A0803M002.nice\", opt, \"750\", \"668\");\\n\\t\\t}\\n\\t}\\n\\t\\n\\t\\n\\tfunction info(type) {\\n\\t\\tif(type == (\\'more\\')){\\n\\t\\t\\tdocument.location.href = \"/p08/A0802M000.nice\";\\n\\t\\t}else{\\n\\t\\t\\tvar\\topt = {indexNo : type};\\n\\t\\t\\tlayerPopupOpen(\"/p08/A0802M001.nice\", opt, \"623\", \"620\");\\n\\t\\t}\\n\\t}\\n\\t\\n\\tfunction outUser(oldSubid) {\\n\\t\\tvar uid = $(\"#chk_uid\").val();\\n\\t\\t\\n\\t\\t$(\"#uid\").val(uid);\\n\\t\\t$(\"#oldSubid\").val(oldSubid);\\n\\t\\tpageSubmit(\"registForm\",\"/p00/A0001M008.nice\",\"GET\");\\n\\n\\t\\tlayerPopupClose();\\n\\t}\\n\\t\\n\\tfunction FailLayerOpen()\\t{\\n\\t\\n\\t\\t$(\"#LoginFailLayer\").width(350);\\n\\t\\t$(\"#LoginFailLayer\").height(198);\\n\\t\\t\\n\\t\\t$(\"#LoginFailLayer\").modal({\\n\\t\\t\\topacity\\t\\t\\t:\\t50,\\n\\t\\t\\toverlayCss\\t\\t:\\t{\"background-color\": \"#fff\"}\\n\\t\\t});\\n\\t\\t\\n\\t\\t$(\"object\").hide();\\n\\t\\n\\t}\\n\\n\\tfunction FailLayerFinalOpen()\\t{\\n\\t\\n\\t\\t$(\"#LoginFailLayerFinal\").width(350);\\n\\t\\t$(\"#LoginFailLayerFinal\").height(198);\\n\\t\\t\\n\\t\\t$(\"#LoginFailLayerFinal\").modal({\\n\\t\\t\\topacity\\t\\t\\t:\\t50,\\n\\t\\t\\toverlayCss\\t\\t:\\t{\"background-color\": \"#fff\"}\\n\\t\\t});\\n\\t\\t\\n\\t\\t$(\"object\").hide();\\n\\t\\n\\t}\\n\\t\\n\\tfunction FailLayerFinalClose(){\\n\\t\\t$(\"#LoginFailLayerFinal\").hide();\\n\\t\\t$.modal.close();\\n\\t\\t\\n\\t\\t$(\"object\").show();\\n\\t}\\n\\n\\tfunction FailLayerClose(){\\n\\t\\t$(\"#LoginFailLayer\").hide();\\n\\t\\t$.modal.close();\\n\\t\\t\\n\\t\\t$(\"object\").show();\\n\\t}\\n\\n\\tfunction goToNBL(){\\n\\t\\talert(\"기존 계약정보를 확인하기 위해 로그인이 필요합니다.\");\\n\\t}\\n</script>\\n\\n</head>\\n<body>\\n\\t<input type=\"hidden\" id=\"chk_uid\">\\n<!-- skipnav -->\\n<div id=\"skipnav\">\\n\\t<a href=\"#lnb\" class=\"skip\">주 메뉴 바로가기</a>\\n\\t<a href=\"#container\" class=\"skip\">컨텐츠 바로가기</a>\\n</div>\\n<!-- skipnav -->\\n<hr>\\n\\t\\n<!-- wrapper -->\\n<div id=\"wrapper\">\\n\\t<form id=\"frm_svcguide\" name=\"frm_svcguide\">\\n \\t\\t\\n \\t</form>\\n\\n\\t<!-- header -->\\n\\t<div id=\"header\">\\n\\t\\t<h1><a href=\"/p00/A0001M002.nice\"><img src=\"/common/images/comm/header/logo.gif\" alt=\"RM로고\"></a></h1>\\n\\t\\t<ul id=\"gnb\">\\n\\t\\t\\t<li><a href=\"/p10/A1001M000.nice\"><img src=\"/common/images/comm/header/gnb_coupon.gif\" alt=\"쿠폰\"></a></li>\\n\\t\\t\\t<li><a href=\"/p08/A0805M000.nice\"><img src=\"/common/images/comm/header/gnb_faq.gif\" alt=\"FAQ\"></a></li>\\n\\t\\t\\t<li><a href=\"/p08/A0801M000.nice\"><img src=\"/common/images/comm/header/gnb_center.gif\" alt=\"고객센터\"></a></li>\\n\\t\\t\\t<li class=\"lst\"><a href=\"/p08/A0807M000.nice\"><img src=\"/common/images/comm/header/gnb_sitemap.gif\" alt=\"사이트맵\"></a></li>\\n\\t\\t</ul>\\n\\t\\t<h2 class=\"none\">주 메뉴</h2>\\n\\t\\t<ul id=\"lnb\">\\n\\t\\t\\t<li><a href=\"javascript:gnbPageSubmit(0);\" class=\"lnb_a\"><span>거래처관리</span></a></li>\\n\\t\\t\\t<li><a href=\"javascript:gnbPageSubmit(1);\" class=\"lnb_b\"><span>기업정보</span></a></li>\\n\\t\\t\\t<li><a href=\"javascript:gnbPageSubmit(2);\" class=\"lnb_c\"><span>신용정보</span></a></li>\\n\\t\\t\\t<li><a href=\"javascript:gnbPageSubmit(3);\" class=\"lnb_d\"><span>인물정보</span></a></li>\\n\\t\\t\\t<li><a href=\"javascript:gnbPageSubmit(4);\" class=\"lnb_e\"><span>산업정보</span></a></li>\\n\\t\\t\\t<li><a href=\"javascript:gnbPageSubmit(5);\" class=\"lnb_f\"><span>마케팅정보</span></a></li>\\n\\t\\t\\t<li><a href=\"javascript:gnbPageSubmit(6);\" class=\"lnb_g\"><span>채권회수</span></a></li>\\n\\t\\t\\t<li><a href=\"javascript:gnbPageSubmit(7);\" class=\"lnb_global\"><span>해외기업정보</span></a></li>\\n\\t\\t\\t<!-- [2018-01-08] start, 신규 메뉴 --> <!-- [2016-09-01]부동산정보 목록 추가 -->\\n\\t\\t\\t<li><a href=\"javascript:gnbPageSubmit(8);\" class=\"lnb_bu\"><span>NICE부동산</span></a></li>\\n\\t\\t</ul>\\n\\t</div>\\n\\t<!-- //header -->\\n\\t<hr>\\n \\n\\t<!-- container -->\\n\\t<div id=\"container\">\\n\\t\\t<!-- main contents -->\\t\\t\\n \\n\\n\\t\\t\\t<!-- 20221107 수정, start -->\\n\\t\\t\\t<div id=\"visu\" style=\"background: none;\">\\n\\t\\t\\t\\t<img src=\"/common/images/nbl/main_banner_nbl.jpg\" alt=\"RM1이 NICE BizLINE으로 새롭게 태어납니다.\" usemap=\"#main_banner_nbl\">\\n\\n\\t\\t\\t\\t<map name=\"main_banner_nbl\" id=\"main_banner_nbl\">\\n\\t\\t\\t\\t\\t<area shape=\"rect\" coords=\"530,121,736,158\" onclick=\"goToNBL();\" alt=\"NICE BizLINE 바로가기\" target=\"_blank\">\\n\\t\\t\\t\\t</map>\\n\\t\\t\\t</div>\\n\\t\\t\\t<!-- 20221107 수정, end -->\\n\\t\\t<!-- main_cont -->\\n\\t\\t<h2 class=\"none\">추천 업무</h2>\\n\\t\\t<ul id=\"main_cont\">\\n\\t\\t\\t<li class=\"cont1\">\\n\\t\\t\\t\\t<p class=\"tit\"><img src=\"/common/images/main/tx_main_cont_1.gif\" alt=\"가입 및 이용안내\"></p>\\n\\t\\t\\t\\t<div class=\"img_wrap\">\\n\\t\\t\\t\\t\\t<img src=\"/common/images/main/icon_call.png\" alt=\"icon_call\">\\n\\t\\t\\t\\t</div>\\n\\t\\t\\t\\t<div class=\"item-wrap\">\\n\\t\\t\\t\\t\\t<img src=\"/common/images/main/tx_main_cont_1_1.gif\" alt=\"일반기업 T 02-3771-1600 / E rm1@rm1.co.kr, 금융기관 T 02-3771-1720 / E nice@rm1.co.kr\">\\n\\t\\t\\t\\t</div>\\n\\t\\t\\t\\t<div class=\"btn_wrap\">\\n\\t\\t\\t\\t\\t<a href=\"javascript:pcont();\" class=\"btn btn_default\"><img src=\"/common/images/main/btn_cont_1.gif\" alt=\"가입 문의 및 상담하기\"></a>\\n\\t\\t\\t\\t</div>\\n\\t\\t\\t</li>\\n\\t\\t\\t<li class=\"cont2\">\\n\\t\\t\\t\\t<p class=\"tit\"><img src=\"/common/images/main/tx_main_cont_2.gif\" alt=\"RM1 서비스 안내\"></p>\\n\\t\\t\\t\\t<div class=\"img_wrap\" style=\"padding-top: 5px;\">\\n\\t\\t\\t\\t\\t<img src=\"/common/images/main/icon_monitor.png\" alt=\"icon_monitor\">\\n\\t\\t\\t\\t</div>\\n\\t\\t\\t\\t<div class=\"item-wrap\">\\n\\t\\t\\t\\t\\t<img src=\"/common/images/main/tx_main_cont_2_1.gif\" alt=\"기업 개요정보, 실시간 금융기관 연체이력\\n                        기업 분석 보고서, 기업상세검색 등\">\\n\\t\\t\\t\\t</div>\\n\\t\\t\\t\\t<div class=\"btn_wrap\">\\n\\t\\t\\t\\t\\t<a href=\"javascript:gnbPageSubmit(0);\" class=\"btn btn_default\"><img src=\"/common/images/main/btn_cont_2.gif\" alt=\"제공 정보 및 서비스 기능 알아보기\"></a>\\n\\t\\t\\t\\t</div>\\n\\t\\t\\t</li>\\n\\t\\t\\t<li class=\"cont3\">\\n\\t\\t\\t\\t<p class=\"tit\"><img src=\"/common/images/main/tx_main_cont_3.gif\" alt=\"RM1 활용방안\"></p>\\n\\t\\t\\t\\t<div class=\"item-wrap\" style=\"margin: 20px 0 0;\">\\n\\t\\t\\t\\t\\t<div class=\"video_box\" style=\"height: 160px;\">\\n\\t\\t\\t\\t\\t\\t<iframe width=\"100%\" height=\"100%\" src=\"https://www.youtube.com/embed/4KamZTZuaxo\" title=\"YouTube video player\" frameborder=\"0\" allow=\"accelerometer; clipboard-write; encrypted-media; gyroscope; picture-in-picture\" allowfullscreen=\"\"></iframe>\\n\\t\\t\\t\\t\\t</div>\\n\\t\\t\\t\\t</div>\\n\\t\\t\\t\\t<div class=\"btn_wrap\">\\n\\t\\t\\t\\t\\t<a href=\"/files/pdf/[NICE평가정보]2021_RM1제안서_20211206.pdf\" class=\"btn btn_default\"><img src=\"/common/images/main/btn_cont_3.gif\" alt=\"서비스 제안서 확인하기\"></a>\\n\\t\\t\\t\\t</div>\\n\\t\\t\\t</li>\\n\\t\\t</ul>\\n \\n\\t\\t<!-- main_cont2 -->\\t\\t\\n\\t\\t<div id=\"main_cont2\">\\n\\t\\t\\t<h2 class=\"none\">로그인</h2>\\n\\t\\t\\t<div class=\"login_main\">\\n\\t\\t\\t<form id=\"loginform\" method=\"GET\" onsubmit=\"return false;\">\\n\\t\\t\\t<input type=\"hidden\" id=\"sub_usrid\" name=\"subid\" value=\"\">\\n\\t\\t\\t<input type=\"hidden\" id=\"cpwd\" name=\"cpwd\" value=\"\">\\n\\t\\t\\t<fieldset>\\n\\t\\t\\t\\t<legend>로그인 폼</legend>\\n\\t\\t\\t\\t<p><label for=\"user_id\"><img src=\"/common/images/main/tx_login_id.gif\" alt=\"아이디\"></label><input type=\"text\" id=\"user_id\" name=\"uid\" class=\"tx_id\"></p>\\n\\t\\t\\t\\t<p><label for=\"user_pw\"><img src=\"/common/images/main/tx_login_pw.gif\" alt=\"비밀번호\"></label><input type=\"password\" id=\"user_pw\" name=\"pwd\" class=\"tx_pw\"></p>\\n\\t\\t\\t\\t<p class=\"btn\"><input type=\"image\" src=\"/common/images/main/btn_login.gif\" id=\"submit\" alt=\"로그인\" title=\"로그인하기\" onclick=\"doLogin();\"></p>\\n\\t\\t\\t\\t<!-- 2013-03-06 텍스트수정 -->\\n\\t\\t\\t\\t<!-- 2015-05-11 st -->\\n\\t\\t\\t\\t<p class=\"link cl\">\\n\\t\\t\\t\\t\\t<input type=\"checkbox\" id=\"stay_sign\" name=\"autochk\" value=\"N\">\\n\\t\\t\\t\\t\\t<label for=\"stay_sign\" style=\"width:95px;text-align:left;\">로그인 상태 유지</label>\\n\\t\\t\\t\\t\\t<a href=\"/p00/A0005M001.nice\" class=\"btncom st01\" style=\"float: right;\"><span>개인 아이디/비밀번호 찾기</span></a>\\n\\n\\t\\t\\t\\t</p>\\n\\t\\t\\t\\t<!-- 2015-05-11 end -->\\n\\t\\t\\t</fieldset>\\n\\t\\t\\t</form>\\n\\t\\t\\t<form name=\"registForm\" id=\"registForm\" method=\"GET\">\\n\\t\\t\\t\\t<input type=\"hidden\" id=\"uid\" name=\"uid\">\\n\\t\\t\\t\\t<input type=\"hidden\" id=\"oldSubid\" name=\"oldSubid\">\\n\\t\\t\\t\\t<input type=\"hidden\" id=\"puid\" name=\"puid\">\\n\\t\\t\\t</form>\\n\\t\\t\\t</div>\\n\\t\\t\\t\\n\\t\\t\\t<!-- 20170710 start, 추가 -->\\n\\t\\t\\t<div class=\"narea01\">\\n\\t\\t\\t\\t<a href=\"https://creditor.rm1.co.kr/cm/CM0100M017GE.nice\" target=\"_blank\"><img src=\"/common/images/main/banner_m1.png\" alt=\"채권회수지원서비스 바로가기\"></a>\\n\\t\\t\\t</div>\\n\\t\\t\\t<!-- 20170710 end -->\\n\\t\\t\\t\\n\\t\\t\\t<div class=\"board\">\\n\\t\\t\\t\\t<div>\\n\\t\\t\\t\\t\\t<h2><img src=\"/common/images/main/tit_board_2.gif\" alt=\"공지사항\"></h2>\\n\\t\\t\\t\\t\\t<ul>\\n\\t\\t\\t\\t\\t\\t\\t\\t<li><a href=\"javascript:notice(\\'96\\');\">\\n\\t\\t\\t\\t\\t\\t\\t\\t\\t[서비스 점검] 2023년 7월 15일 1...\\n\\t\\t\\t\\t\\t\\t\\t\\t</a><span class=\"date\">\\n\\t\\t\\t\\t\\t\\t\\t\\t\\t2023.07.10\\n\\t\\t\\t\\t\\t\\t\\t\\t</span></li>\\n\\t\\t\\t\\t\\t\\t\\t\\t<li><a href=\"javascript:notice(\\'95\\');\">\\n\\t\\t\\t\\t\\t\\t\\t\\t\\t[부동산] 강원특별자치도 관련 시스템 변경...\\n\\t\\t\\t\\t\\t\\t\\t\\t</a><span class=\"date\">\\n\\t\\t\\t\\t\\t\\t\\t\\t\\t2023.06.08\\n\\t\\t\\t\\t\\t\\t\\t\\t</span></li>\\n\\t\\t\\t\\t\\t</ul>\\n\\t\\t\\t\\t\\t<p class=\"more\"><a href=\"javascript:notice(\\'more\\');\"><img src=\"/common/images/main/btn_more.gif\" alt=\"more\"></a></p>\\n\\t\\t\\t\\t</div>\\n\\t\\t\\t\\t<div class=\"mt10\">\\n\\t\\t\\t\\t\\t<h2><img src=\"/common/images/main/tit_board_1.gif\" alt=\"거래처관리정보센터\"></h2>\\n\\t\\t\\t\\t\\t<ul>\\n\\t\\t\\t\\t\\t\\t<li><a href=\"javascript:info(9);\">거래처 부도에 따른 자금사정 악화시 납세유예제도를 활용하세요</a><span class=\"date\">2014.04.16</span></li>\\n\\t\\t\\t\\t\\t\\t<li><a href=\"javascript:info(8);\">유형별 채권의 소멸시효 기간</a><span class=\"date\">2013.01.30</span></li>\\n\\t\\t\\t\\t\\t\\t<!--<li><a href=\"javascript:info(7);\">거래처에서 부도가 발생시 부가가치세...</a><span class=\"date\">2013.01.30</span></li>-->\\n\\t\\t\\t\\t\\t\\t<!--<li><a href=\"javascript:info(3);\">부실채권 발생 징후에 대한 정보</a><span class=\"date\">2013.01.30</span></li>-->\\n\\t\\t\\t\\t\\t</ul>\\n\\t\\t\\t\\t\\t<p class=\"more_i\"><a href=\"javascript:info(\\'more\\');\"><img src=\"/common/images/main/btn_more.gif\" alt=\"more\"></a></p>\\n\\t\\t\\t\\t</div>\\n\\t\\t\\t</div>\\n\\t\\t\\t<!-- 2015-11-09 end -->\\n\\t\\t</div>\\n\\t\\t<!-- //main contents -->\\n\\n\\t\\t<div class=\"side-banner mainpage\">\\n\\t\\t\\t\\t<!-- 20221107 신규, start -->\\n\\t\\t\\t\\t<div class=\"a_banner\" style=\"margin-top: 0;\">\\n\\t\\t\\t\\t\\t<a target=\"_blank\" onclick=\"goToNBL();\">\\n\\t\\t\\t\\t\\t\\t<img src=\"/common/images/nbl/side_banner_nbl.jpg\" alt=\"RM1이 NICE BizLINE으로 새롭게 태어납니다.\">\\n\\t\\t\\t\\t\\t</a>\\n\\t\\t\\t\\t</div>\\n\\t\\t\\t\\t<!-- 20221107 신규, end -->\\n\\t\\t\\t\\t<div class=\"a_banner\">\\n\\t\\t\\t\\t\\t<a href=\"https://www.kisvalue.com/web/landing.jsp\" target=\"_blank\">\\n\\t\\t\\t\\t\\t\\t<img src=\"/common/images/main/side_banner_vs.jpg\" alt=\"Excel에서 직접 Data활용 가능한 Excel Value Search 안내 바로가기\">\\n\\t\\t\\t\\t\\t</a>\\n\\t\\t\\t\\t</div>\\n\\t\\t</div>\\n\\n\\t</div>\\n\\t<!-- //container -->\\n\\t<div id=\"LoginFailLayerFinal\" style=\"display:none;background-color:#f4f4f4;\">\\n\\t\\t\\n\\t\\t<!-- 2014-02-06 공통팝업이라 css inline으로 작업하였습니다 -->\\n\\t\\t<div style=\"font-family:\\'돋움\\';border:1px solid #7d7b7b;width:350px;min-height:198px;height:auto;;\"><!-- common pop_01 -->\\n\\t\\t\\t<div style=\"background-color:#09318d;height:30px;line-height:30px;font-size:15px;font-weight:bold;text-align:center;color:#fff;\">\\n\\t\\t\\t\\t비밀번호 오류\\n\\t\\t\\t</div>\\n\\t\\t\\t<div style=\"padding:0 15px;margin-top:50px;text-align:center;\">\\n\\t\\t\\t\\t<p style=\"color:#3f4247;font-weight:bold;font-size:14px;\">비밀번호를 5회 이상 잘못 입력하였습니다.</p>\\n\\t\\t\\t\\t<p style=\"margin-top:10px;font-size:12px;color:#3f4247;line-height:1.3em;\">\\n\\t\\t\\t\\t\\t해당 아이디로는 <span style=\"color:#d50d4f;font-weight:bold;\">로그인이 차단</span>되었으니 <br>\\n\\t\\t\\t\\t\\t<span style=\"font-weight:bold;\">고객센터</span>로 연락해주시기 바랍니다.\\n\\t\\t\\t\\t</p>\\n\\t\\t\\t</div>\\n\\t\\t\\t<div style=\"text-align:center;margin-top:20px;\"><a href=\"#\"><img src=\"/common/images/btn/btn_03.gif\" width=\"56\" height=\"25\" border=\"0\" alt=\"확인\" onclick=\"FailLayerFinalClose();\"></a></div>\\n\\t\\t</div>\\n\\t</div><!-- common pop_01 -->\\n\\t<div id=\"LoginFailLayer\" style=\"display:none;background-color:#f4f4f4;\">\\n\\t\\t<div style=\"font-family:\\'돋움\\';border:1px solid #7d7b7b;width:350px;min-height:198px;height:auto;;\"><!-- common pop_02 -->\\n\\t\\t\\t<div style=\"background-color:#09318d;height:30px;line-height:30px;font-size:15px;font-weight:bold;text-align:center;color:#fff;\">\\n\\t\\t\\t\\t비밀번호 오류\\n\\t\\t\\t</div>\\n\\t\\t\\t<div style=\"padding:0 15px;margin-top:50px;text-align:center;\">\\n\\t\\t\\t\\t<p style=\"color:#3f4247;font-weight:bold;font-size:14px;\">아이디또는 비밀번호를 잘못 입력하였습니다.</p>\\n\\t\\t\\t\\t<p style=\"margin-top:10px;font-size:12px;color:#3f4247;line-height:1.3em;\"><span style=\"color:#d50d4f;font-weight:bold;\">비밀번호 5회 오류 입력시 서비스 이용이 차단</span>되오니<br>\\n\\t\\t\\t\\t 정확히 확인하신 후 입력하시기 바랍니다.</p>\\n\\t\\t\\t</div>\\n\\t\\t\\t<div style=\"text-align:center;margin-top:20px;\"><a href=\"#\"><img src=\"/common/images/btn/btn_03.gif\" width=\"56\" height=\"25\" border=\"0\" alt=\"확인\" onclick=\"FailLayerClose();\"></a></div>\\n\\t\\t</div><!-- common pop_02 -->\\n\\t\\t<!-- 2014-02-06 공통팝업이라 css inline으로 작업하였습니다 -->\\n\\t</div><!--// wrapper -->\\n\\t\\n\\t<hr>\\n\\n<script type=\"text/javascript\">\\n\\t(function(i,s,o,g,r,a,m){i[\\'GoogleAnalyticsObject\\']=r;i[r]=i[r]||function(){\\n\\t\\t(i[r].q=i[r].q||[]).push(arguments)},i[r].l=1*new Date();a=s.createElement(o),\\n\\t\\tm=s.getElementsByTagName(o)[0];a.async=1;a.src=g;m.parentNode.insertBefore(a,m)\\n\\t })(window,document,\\'script\\',\\'//www.google-analytics.com/analytics.js\\',\\'ga\\');\\n\\t\\n\\t ga(\\'create\\', \\'UA-11236888-42\\', \\'auto\\');\\n\\t ga(\\'send\\', \\'pageview\\');\\n\\t \\n\\t\\t\\n</script> \\n<!-- footer_wrap -->\\n<!-- footer -->\\n<form id=\"sideCmpFrm\" name=\"sideCmpFrm\">\\n\\t<input type=\"hidden\" id=\"business\" name=\"business\" value=\"\">\\n\\t<input type=\"hidden\" id=\"upchecd\" name=\"upchecd\" value=\"\"> \\n\\t<input type=\"hidden\" id=\"loadingPage\" name=\"loadingPage\" value=\"\">\\n</form>\\n<div id=\"footer_wrap\">\\n<div id=\"footer\">\\n\\t<h2 class=\"none\">사이트 정보</h2>\\n    <div class=\"logo\">\\n        <a href=\"http://www.niceinfo.co.kr\" target=\"_blink\"><img src=\"/common/images/comm/footer/logo.gif\" alt=\"NICE평가정보\"></a>\\n    </div>\\n\\t<div class=\"foot_cont\">\\n\\t\\t<!-- quick_link -->\\n\\t\\t<h3 class=\"none\">바로가기</h3>\\n        <ul class=\"quick_link\">\\n            <li><a href=\"http://www.niceinfo.co.kr\" target=\"_blink\">회사소개</a></li>\\n            <li><a href=\"javascript:openWindow(850, 664, \\'/p09/A0901M000.nice\\', \\'serviceGuide\\', \\'frm_svcguide\\');\">서비스 소개</a></li>\\n            <li><a href=\"/p08/A0806M000.nice\">이용약관</a></li>\\n            <li><a href=\"/p08/A0806M001.nice\"><span class=\"g\">개인정보처리방침</span></a></li>\\n            <li><a href=\"/p08/A0806M002.nice\">이메일무단수집거부</a></li>\\n            <li><a href=\"/p08/A0801M000.nice\">고객센터</a></li>\\n        </ul>\\n        <div class=\"addr\">\\n            <address>\\n                <span class=\"s\">서울 영등포구 은행로 17 NICE평가정보(주)</span>\\n                <span class=\"s\">등록번호:116-81-15020</span>\\n                <span class=\"s\">FAX:02)3771-1534 / <a href=\"mailto:rm1@rm1.co.kr\" class=\"l\">rm1@rm1.co.kr</a></span>\\n            </address>\\n            <p class=\"c\">COPYRIGHT © <span class=\"b\">NICE INFOMATION SERVICE</span> CO.LTD. All RIGHTS RESERVED</p>\\n        </div>\\n    </div>\\n    <div class=\"tx_phonenumber\">\\n        <div class=\"d1\"><b class=\"b\">☎ 이용안내 및 문의</b> 비금융권 <span class=\"s\">02)3771-1600</span></div>\\n        <div class=\"d2\">금융권 <span class=\"s\">02)3771-1720</span></div>\\n    </div>\\n</div>\\n</div>\\n<!-- //footer_wrap -->\\n\\n\\n<!-- 20170710 start, 배너 추가 -->\\n\\n\\n<div class=\"quick_menu\">\\n        <div class=\"mt5\">\\n            <a href=\"https://creditor.rm1.co.kr/cm/CM0100M017GE.nice\" target=\"_blank\"><img src=\"/common/images/etc/banner_m2.png\" alt=\"\"></a><br>\\n            <a href=\"https://www.rm1.co.kr/popup/20190716/pop0716.html\" target=\"_blank\"><img src=\"/common/images/etc/banner_m3.png\" alt=\"\"></a>\\n        </div>\\n\\n\\n</div>\\n<!-- 20170710 end -->\\t<!-- //wrapper -->\\n\\n\\n</div></body></html>'"
      ]
     },
     "execution_count": 29,
     "metadata": {},
     "output_type": "execute_result"
    }
   ],
   "source": [
    "driver.page_source"
   ]
  },
  {
   "cell_type": "markdown",
   "metadata": {},
   "source": [
    "** 3) New windows 닫기 close **"
   ]
  },
  {
   "cell_type": "code",
   "execution_count": 30,
   "metadata": {},
   "outputs": [],
   "source": [
    "driver.close()"
   ]
  },
  {
   "cell_type": "markdown",
   "metadata": {},
   "source": [
    "** 4) 원래 Main windows 로 Focus 를 이동 **"
   ]
  },
  {
   "cell_type": "code",
   "execution_count": 31,
   "metadata": {},
   "outputs": [
    {
     "ename": "InvalidSessionIdException",
     "evalue": "Message: invalid session id\nStacktrace:\nBacktrace:\n\tGetHandleVerifier [0x008EA813+48355]\n\t(No symbol) [0x0087C4B1]\n\t(No symbol) [0x00785220]\n\t(No symbol) [0x007A7C7C]\n\t(No symbol) [0x007CA636]\n\t(No symbol) [0x007C70CD]\n\t(No symbol) [0x007C6B3A]\n\t(No symbol) [0x00765311]\n\t(No symbol) [0x0076571E]\n\t(No symbol) [0x00765AFA]\n\tGetHandleVerifier [0x00B4AABD+2539405]\n\tGetHandleVerifier [0x00B8A78F+2800735]\n\tGetHandleVerifier [0x00B8456C+2775612]\n\tGetHandleVerifier [0x009751E0+616112]\n\t(No symbol) [0x00885F8C]\n\t(No symbol) [0x00764F64]\n\t(No symbol) [0x00764912]\n\tGetHandleVerifier [0x00BB159C+2959980]\n\tBaseThreadInitThunk [0x779000C9+25]\n\tRtlGetAppContainerNamedObjectPath [0x77DB7B1E+286]\n\tRtlGetAppContainerNamedObjectPath [0x77DB7AEE+238]\n",
     "output_type": "error",
     "traceback": [
      "\u001b[1;31m---------------------------------------------------------------------------\u001b[0m",
      "\u001b[1;31mInvalidSessionIdException\u001b[0m                 Traceback (most recent call last)",
      "Input \u001b[1;32mIn [31]\u001b[0m, in \u001b[0;36m<cell line: 3>\u001b[1;34m()\u001b[0m\n\u001b[0;32m      1\u001b[0m \u001b[38;5;66;03m#driver.switch_to_window(driver.window_handles[0])  # [0] : 원래 창(부모), Main window 의미\u001b[39;00m\n\u001b[0;32m      2\u001b[0m \u001b[38;5;66;03m### new version\u001b[39;00m\n\u001b[1;32m----> 3\u001b[0m driver\u001b[38;5;241m.\u001b[39mswitch_to\u001b[38;5;241m.\u001b[39mwindow(\u001b[43mdriver\u001b[49m\u001b[38;5;241;43m.\u001b[39;49m\u001b[43mwindow_handles\u001b[49m[\u001b[38;5;241m0\u001b[39m])\n",
      "File \u001b[1;32m~\\anaconda3\\lib\\site-packages\\selenium\\webdriver\\remote\\webdriver.py:493\u001b[0m, in \u001b[0;36mWebDriver.window_handles\u001b[1;34m(self)\u001b[0m\n\u001b[0;32m    484\u001b[0m \u001b[38;5;129m@property\u001b[39m\n\u001b[0;32m    485\u001b[0m \u001b[38;5;28;01mdef\u001b[39;00m \u001b[38;5;21mwindow_handles\u001b[39m(\u001b[38;5;28mself\u001b[39m) \u001b[38;5;241m-\u001b[39m\u001b[38;5;241m>\u001b[39m List[\u001b[38;5;28mstr\u001b[39m]:\n\u001b[0;32m    486\u001b[0m     \u001b[38;5;124;03m\"\"\"Returns the handles of all windows within the current session.\u001b[39;00m\n\u001b[0;32m    487\u001b[0m \n\u001b[0;32m    488\u001b[0m \u001b[38;5;124;03m    :Usage:\u001b[39;00m\n\u001b[1;32m   (...)\u001b[0m\n\u001b[0;32m    491\u001b[0m \u001b[38;5;124;03m            driver.window_handles\u001b[39;00m\n\u001b[0;32m    492\u001b[0m \u001b[38;5;124;03m    \"\"\"\u001b[39;00m\n\u001b[1;32m--> 493\u001b[0m     \u001b[38;5;28;01mreturn\u001b[39;00m \u001b[38;5;28;43mself\u001b[39;49m\u001b[38;5;241;43m.\u001b[39;49m\u001b[43mexecute\u001b[49m\u001b[43m(\u001b[49m\u001b[43mCommand\u001b[49m\u001b[38;5;241;43m.\u001b[39;49m\u001b[43mW3C_GET_WINDOW_HANDLES\u001b[49m\u001b[43m)\u001b[49m[\u001b[38;5;124m\"\u001b[39m\u001b[38;5;124mvalue\u001b[39m\u001b[38;5;124m\"\u001b[39m]\n",
      "File \u001b[1;32m~\\anaconda3\\lib\\site-packages\\selenium\\webdriver\\remote\\webdriver.py:346\u001b[0m, in \u001b[0;36mWebDriver.execute\u001b[1;34m(self, driver_command, params)\u001b[0m\n\u001b[0;32m    344\u001b[0m response \u001b[38;5;241m=\u001b[39m \u001b[38;5;28mself\u001b[39m\u001b[38;5;241m.\u001b[39mcommand_executor\u001b[38;5;241m.\u001b[39mexecute(driver_command, params)\n\u001b[0;32m    345\u001b[0m \u001b[38;5;28;01mif\u001b[39;00m response:\n\u001b[1;32m--> 346\u001b[0m     \u001b[38;5;28;43mself\u001b[39;49m\u001b[38;5;241;43m.\u001b[39;49m\u001b[43merror_handler\u001b[49m\u001b[38;5;241;43m.\u001b[39;49m\u001b[43mcheck_response\u001b[49m\u001b[43m(\u001b[49m\u001b[43mresponse\u001b[49m\u001b[43m)\u001b[49m\n\u001b[0;32m    347\u001b[0m     response[\u001b[38;5;124m\"\u001b[39m\u001b[38;5;124mvalue\u001b[39m\u001b[38;5;124m\"\u001b[39m] \u001b[38;5;241m=\u001b[39m \u001b[38;5;28mself\u001b[39m\u001b[38;5;241m.\u001b[39m_unwrap_value(response\u001b[38;5;241m.\u001b[39mget(\u001b[38;5;124m\"\u001b[39m\u001b[38;5;124mvalue\u001b[39m\u001b[38;5;124m\"\u001b[39m, \u001b[38;5;28;01mNone\u001b[39;00m))\n\u001b[0;32m    348\u001b[0m     \u001b[38;5;28;01mreturn\u001b[39;00m response\n",
      "File \u001b[1;32m~\\anaconda3\\lib\\site-packages\\selenium\\webdriver\\remote\\errorhandler.py:245\u001b[0m, in \u001b[0;36mErrorHandler.check_response\u001b[1;34m(self, response)\u001b[0m\n\u001b[0;32m    243\u001b[0m         alert_text \u001b[38;5;241m=\u001b[39m value[\u001b[38;5;124m\"\u001b[39m\u001b[38;5;124malert\u001b[39m\u001b[38;5;124m\"\u001b[39m]\u001b[38;5;241m.\u001b[39mget(\u001b[38;5;124m\"\u001b[39m\u001b[38;5;124mtext\u001b[39m\u001b[38;5;124m\"\u001b[39m)\n\u001b[0;32m    244\u001b[0m     \u001b[38;5;28;01mraise\u001b[39;00m exception_class(message, screen, stacktrace, alert_text)  \u001b[38;5;66;03m# type: ignore[call-arg]  # mypy is not smart enough here\u001b[39;00m\n\u001b[1;32m--> 245\u001b[0m \u001b[38;5;28;01mraise\u001b[39;00m exception_class(message, screen, stacktrace)\n",
      "\u001b[1;31mInvalidSessionIdException\u001b[0m: Message: invalid session id\nStacktrace:\nBacktrace:\n\tGetHandleVerifier [0x008EA813+48355]\n\t(No symbol) [0x0087C4B1]\n\t(No symbol) [0x00785220]\n\t(No symbol) [0x007A7C7C]\n\t(No symbol) [0x007CA636]\n\t(No symbol) [0x007C70CD]\n\t(No symbol) [0x007C6B3A]\n\t(No symbol) [0x00765311]\n\t(No symbol) [0x0076571E]\n\t(No symbol) [0x00765AFA]\n\tGetHandleVerifier [0x00B4AABD+2539405]\n\tGetHandleVerifier [0x00B8A78F+2800735]\n\tGetHandleVerifier [0x00B8456C+2775612]\n\tGetHandleVerifier [0x009751E0+616112]\n\t(No symbol) [0x00885F8C]\n\t(No symbol) [0x00764F64]\n\t(No symbol) [0x00764912]\n\tGetHandleVerifier [0x00BB159C+2959980]\n\tBaseThreadInitThunk [0x779000C9+25]\n\tRtlGetAppContainerNamedObjectPath [0x77DB7B1E+286]\n\tRtlGetAppContainerNamedObjectPath [0x77DB7AEE+238]\n"
     ]
    }
   ],
   "source": [
    "#driver.switch_to_window(driver.window_handles[0])  # [0] : 원래 창(부모), Main window 의미\n",
    "### new version\n",
    "driver.switch_to.window(driver.window_handles[0])"
   ]
  },
  {
   "cell_type": "code",
   "execution_count": 32,
   "metadata": {},
   "outputs": [
    {
     "ename": "InvalidSessionIdException",
     "evalue": "Message: invalid session id\nStacktrace:\nBacktrace:\n\tGetHandleVerifier [0x008EA813+48355]\n\t(No symbol) [0x0087C4B1]\n\t(No symbol) [0x00785220]\n\t(No symbol) [0x007A7C7C]\n\t(No symbol) [0x007CA636]\n\t(No symbol) [0x007C70CD]\n\t(No symbol) [0x007C6B3A]\n\t(No symbol) [0x00765311]\n\t(No symbol) [0x0076571E]\n\t(No symbol) [0x00765AFA]\n\tGetHandleVerifier [0x00B4AABD+2539405]\n\tGetHandleVerifier [0x00B8A78F+2800735]\n\tGetHandleVerifier [0x00B8456C+2775612]\n\tGetHandleVerifier [0x009751E0+616112]\n\t(No symbol) [0x00885F8C]\n\t(No symbol) [0x00764F64]\n\t(No symbol) [0x00764912]\n\tGetHandleVerifier [0x00BB159C+2959980]\n\tBaseThreadInitThunk [0x779000C9+25]\n\tRtlGetAppContainerNamedObjectPath [0x77DB7B1E+286]\n\tRtlGetAppContainerNamedObjectPath [0x77DB7AEE+238]\n",
     "output_type": "error",
     "traceback": [
      "\u001b[1;31m---------------------------------------------------------------------------\u001b[0m",
      "\u001b[1;31mInvalidSessionIdException\u001b[0m                 Traceback (most recent call last)",
      "Input \u001b[1;32mIn [32]\u001b[0m, in \u001b[0;36m<cell line: 1>\u001b[1;34m()\u001b[0m\n\u001b[1;32m----> 1\u001b[0m \u001b[43mdriver\u001b[49m\u001b[38;5;241;43m.\u001b[39;49m\u001b[43mpage_source\u001b[49m\n",
      "File \u001b[1;32m~\\anaconda3\\lib\\site-packages\\selenium\\webdriver\\remote\\webdriver.py:447\u001b[0m, in \u001b[0;36mWebDriver.page_source\u001b[1;34m(self)\u001b[0m\n\u001b[0;32m    438\u001b[0m \u001b[38;5;129m@property\u001b[39m\n\u001b[0;32m    439\u001b[0m \u001b[38;5;28;01mdef\u001b[39;00m \u001b[38;5;21mpage_source\u001b[39m(\u001b[38;5;28mself\u001b[39m) \u001b[38;5;241m-\u001b[39m\u001b[38;5;241m>\u001b[39m \u001b[38;5;28mstr\u001b[39m:\n\u001b[0;32m    440\u001b[0m     \u001b[38;5;124;03m\"\"\"Gets the source of the current page.\u001b[39;00m\n\u001b[0;32m    441\u001b[0m \n\u001b[0;32m    442\u001b[0m \u001b[38;5;124;03m    :Usage:\u001b[39;00m\n\u001b[1;32m   (...)\u001b[0m\n\u001b[0;32m    445\u001b[0m \u001b[38;5;124;03m            driver.page_source\u001b[39;00m\n\u001b[0;32m    446\u001b[0m \u001b[38;5;124;03m    \"\"\"\u001b[39;00m\n\u001b[1;32m--> 447\u001b[0m     \u001b[38;5;28;01mreturn\u001b[39;00m \u001b[38;5;28;43mself\u001b[39;49m\u001b[38;5;241;43m.\u001b[39;49m\u001b[43mexecute\u001b[49m\u001b[43m(\u001b[49m\u001b[43mCommand\u001b[49m\u001b[38;5;241;43m.\u001b[39;49m\u001b[43mGET_PAGE_SOURCE\u001b[49m\u001b[43m)\u001b[49m[\u001b[38;5;124m\"\u001b[39m\u001b[38;5;124mvalue\u001b[39m\u001b[38;5;124m\"\u001b[39m]\n",
      "File \u001b[1;32m~\\anaconda3\\lib\\site-packages\\selenium\\webdriver\\remote\\webdriver.py:346\u001b[0m, in \u001b[0;36mWebDriver.execute\u001b[1;34m(self, driver_command, params)\u001b[0m\n\u001b[0;32m    344\u001b[0m response \u001b[38;5;241m=\u001b[39m \u001b[38;5;28mself\u001b[39m\u001b[38;5;241m.\u001b[39mcommand_executor\u001b[38;5;241m.\u001b[39mexecute(driver_command, params)\n\u001b[0;32m    345\u001b[0m \u001b[38;5;28;01mif\u001b[39;00m response:\n\u001b[1;32m--> 346\u001b[0m     \u001b[38;5;28;43mself\u001b[39;49m\u001b[38;5;241;43m.\u001b[39;49m\u001b[43merror_handler\u001b[49m\u001b[38;5;241;43m.\u001b[39;49m\u001b[43mcheck_response\u001b[49m\u001b[43m(\u001b[49m\u001b[43mresponse\u001b[49m\u001b[43m)\u001b[49m\n\u001b[0;32m    347\u001b[0m     response[\u001b[38;5;124m\"\u001b[39m\u001b[38;5;124mvalue\u001b[39m\u001b[38;5;124m\"\u001b[39m] \u001b[38;5;241m=\u001b[39m \u001b[38;5;28mself\u001b[39m\u001b[38;5;241m.\u001b[39m_unwrap_value(response\u001b[38;5;241m.\u001b[39mget(\u001b[38;5;124m\"\u001b[39m\u001b[38;5;124mvalue\u001b[39m\u001b[38;5;124m\"\u001b[39m, \u001b[38;5;28;01mNone\u001b[39;00m))\n\u001b[0;32m    348\u001b[0m     \u001b[38;5;28;01mreturn\u001b[39;00m response\n",
      "File \u001b[1;32m~\\anaconda3\\lib\\site-packages\\selenium\\webdriver\\remote\\errorhandler.py:245\u001b[0m, in \u001b[0;36mErrorHandler.check_response\u001b[1;34m(self, response)\u001b[0m\n\u001b[0;32m    243\u001b[0m         alert_text \u001b[38;5;241m=\u001b[39m value[\u001b[38;5;124m\"\u001b[39m\u001b[38;5;124malert\u001b[39m\u001b[38;5;124m\"\u001b[39m]\u001b[38;5;241m.\u001b[39mget(\u001b[38;5;124m\"\u001b[39m\u001b[38;5;124mtext\u001b[39m\u001b[38;5;124m\"\u001b[39m)\n\u001b[0;32m    244\u001b[0m     \u001b[38;5;28;01mraise\u001b[39;00m exception_class(message, screen, stacktrace, alert_text)  \u001b[38;5;66;03m# type: ignore[call-arg]  # mypy is not smart enough here\u001b[39;00m\n\u001b[1;32m--> 245\u001b[0m \u001b[38;5;28;01mraise\u001b[39;00m exception_class(message, screen, stacktrace)\n",
      "\u001b[1;31mInvalidSessionIdException\u001b[0m: Message: invalid session id\nStacktrace:\nBacktrace:\n\tGetHandleVerifier [0x008EA813+48355]\n\t(No symbol) [0x0087C4B1]\n\t(No symbol) [0x00785220]\n\t(No symbol) [0x007A7C7C]\n\t(No symbol) [0x007CA636]\n\t(No symbol) [0x007C70CD]\n\t(No symbol) [0x007C6B3A]\n\t(No symbol) [0x00765311]\n\t(No symbol) [0x0076571E]\n\t(No symbol) [0x00765AFA]\n\tGetHandleVerifier [0x00B4AABD+2539405]\n\tGetHandleVerifier [0x00B8A78F+2800735]\n\tGetHandleVerifier [0x00B8456C+2775612]\n\tGetHandleVerifier [0x009751E0+616112]\n\t(No symbol) [0x00885F8C]\n\t(No symbol) [0x00764F64]\n\t(No symbol) [0x00764912]\n\tGetHandleVerifier [0x00BB159C+2959980]\n\tBaseThreadInitThunk [0x779000C9+25]\n\tRtlGetAppContainerNamedObjectPath [0x77DB7B1E+286]\n\tRtlGetAppContainerNamedObjectPath [0x77DB7AEE+238]\n"
     ]
    }
   ],
   "source": [
    "driver.page_source"
   ]
  },
  {
   "cell_type": "code",
   "execution_count": null,
   "metadata": {},
   "outputs": [],
   "source": []
  },
  {
   "cell_type": "markdown",
   "metadata": {},
   "source": [
    "참고 : [Python Selenium 사용법 [파이썬 셀레늄 사용법, 크롤링]](https://greeksharifa.github.io/references/2020/10/30/python-selenium-usage/)"
   ]
  },
  {
   "cell_type": "code",
   "execution_count": null,
   "metadata": {},
   "outputs": [],
   "source": []
  }
 ],
 "metadata": {
  "kernelspec": {
   "display_name": "Python 3 (ipykernel)",
   "language": "python",
   "name": "python3"
  },
  "language_info": {
   "codemirror_mode": {
    "name": "ipython",
    "version": 3
   },
   "file_extension": ".py",
   "mimetype": "text/x-python",
   "name": "python",
   "nbconvert_exporter": "python",
   "pygments_lexer": "ipython3",
   "version": "3.10.9"
  },
  "toc": {
   "base_numbering": 1,
   "nav_menu": {},
   "number_sections": true,
   "sideBar": true,
   "skip_h1_title": false,
   "title_cell": "Table of Contents",
   "title_sidebar": "Contents",
   "toc_cell": false,
   "toc_position": {
    "height": "calc(100% - 180px)",
    "left": "10px",
    "top": "150px",
    "width": "245.062px"
   },
   "toc_section_display": true,
   "toc_window_display": true
  }
 },
 "nbformat": 4,
 "nbformat_minor": 4
}
