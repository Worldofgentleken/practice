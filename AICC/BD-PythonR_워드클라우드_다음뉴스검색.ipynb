{
 "cells": [
  {
   "cell_type": "markdown",
   "id": "215048f3",
   "metadata": {},
   "source": [
    "# 입문자를 위한, 파이썬/R 데이터 분석"
   ]
  },
  {
   "cell_type": "code",
   "execution_count": null,
   "id": "d91d2f74",
   "metadata": {},
   "outputs": [],
   "source": []
  },
  {
   "cell_type": "markdown",
   "id": "3cf1c59f",
   "metadata": {},
   "source": [
    "## Today's mission\n",
    "\n",
    "- 워드클라우드 : 다음뉴스 키워드 검색 및 텍스트 분석\n",
    "- 워드클라우드 : soynlp 라이브러리 활용 명사 추출"
   ]
  },
  {
   "cell_type": "code",
   "execution_count": null,
   "id": "76537730",
   "metadata": {},
   "outputs": [],
   "source": []
  },
  {
   "cell_type": "markdown",
   "id": "57f366f6",
   "metadata": {},
   "source": [
    "## 워드클라우드 : 다음뉴스 키워드 검색 및 텍스트 분석\n",
    "\n",
    "참고 : 다음 뉴스 사이트 기사목록 크롤링 및 텍스트 분석"
   ]
  },
  {
   "cell_type": "code",
   "execution_count": 1,
   "id": "718a77aa",
   "metadata": {},
   "outputs": [],
   "source": [
    "#!pip install konlpy\n",
    "#!pip install wordcloud"
   ]
  },
  {
   "cell_type": "markdown",
   "id": "c0559683",
   "metadata": {},
   "source": [
    "- KoNLPy를 위한 자바 설치    \n",
    "https://www.codeit.kr/tutorials/43/KoNLPy-%EC%84%A4%EC%B9%98%ED%95%98%EA%B8%B0-Windows"
   ]
  },
  {
   "cell_type": "code",
   "execution_count": 2,
   "id": "afb3bff1",
   "metadata": {},
   "outputs": [],
   "source": [
    "import requests\n",
    "from bs4 import BeautifulSoup\n",
    "import re\n",
    "from konlpy.tag import Okt\n",
    "from collections import Counter\n",
    "import pandas as pd\n",
    "from wordcloud import WordCloud\n",
    "import matplotlib.pyplot as plt"
   ]
  },
  {
   "cell_type": "markdown",
   "id": "ee93521b",
   "metadata": {},
   "source": [
    "- 검색어 및 검색페이지 수 입력"
   ]
  },
  {
   "cell_type": "code",
   "execution_count": 3,
   "id": "9dde52ee",
   "metadata": {},
   "outputs": [
    {
     "name": "stdout",
     "output_type": "stream",
     "text": [
      "검색어를 입력하세요.혹성탈출\n"
     ]
    }
   ],
   "source": [
    "# 검색어 입력\n",
    "keyword = input(\"검색어를 입력하세요.\")"
   ]
  },
  {
   "cell_type": "code",
   "execution_count": 4,
   "id": "4894d307",
   "metadata": {},
   "outputs": [
    {
     "name": "stdout",
     "output_type": "stream",
     "text": [
      "마지막 페이지 번호를 입력하세요.10\n"
     ]
    }
   ],
   "source": [
    "# 검색페이지 입력\n",
    "lastpage = int(input(\"마지막 페이지 번호를 입력하세요.\"))"
   ]
  },
  {
   "cell_type": "markdown",
   "id": "9b074bbd",
   "metadata": {},
   "source": [
    "- 다음 뉴스 검색 : 상기 검색어 및 페이지수 활용"
   ]
  },
  {
   "cell_type": "code",
   "execution_count": 5,
   "id": "11655ab3",
   "metadata": {},
   "outputs": [
    {
     "name": "stdout",
     "output_type": "stream",
     "text": [
      "https://search.daum.net/search?w=news&nil_search=btn&DA=PGD&enc=utf8&cluster=y&cluster_page=1&q=혹성탈출&p=1\n",
      "https://search.daum.net/search?w=news&nil_search=btn&DA=PGD&enc=utf8&cluster=y&cluster_page=1&q=혹성탈출&p=2\n",
      "https://search.daum.net/search?w=news&nil_search=btn&DA=PGD&enc=utf8&cluster=y&cluster_page=1&q=혹성탈출&p=3\n",
      "https://search.daum.net/search?w=news&nil_search=btn&DA=PGD&enc=utf8&cluster=y&cluster_page=1&q=혹성탈출&p=4\n",
      "https://search.daum.net/search?w=news&nil_search=btn&DA=PGD&enc=utf8&cluster=y&cluster_page=1&q=혹성탈출&p=5\n",
      "https://search.daum.net/search?w=news&nil_search=btn&DA=PGD&enc=utf8&cluster=y&cluster_page=1&q=혹성탈출&p=6\n",
      "https://search.daum.net/search?w=news&nil_search=btn&DA=PGD&enc=utf8&cluster=y&cluster_page=1&q=혹성탈출&p=7\n",
      "https://search.daum.net/search?w=news&nil_search=btn&DA=PGD&enc=utf8&cluster=y&cluster_page=1&q=혹성탈출&p=8\n",
      "https://search.daum.net/search?w=news&nil_search=btn&DA=PGD&enc=utf8&cluster=y&cluster_page=1&q=혹성탈출&p=9\n",
      "https://search.daum.net/search?w=news&nil_search=btn&DA=PGD&enc=utf8&cluster=y&cluster_page=1&q=혹성탈출&p=10\n"
     ]
    }
   ],
   "source": [
    "titleList = []\n",
    "\n",
    "for i in range(1, lastpage+1, 1) :\n",
    "    #url = f\"https://search.naver.com/search.naver?where=news&sm=tab_jum&query={keyword}&start=[{i}]\"\n",
    "    url = f\"https://search.daum.net/search?w=news&nil_search=btn&DA=PGD&enc=utf8&cluster=y&cluster_page=1&q={keyword}&p={i}\"\n",
    "    print(url)\n",
    "    response = requests.get(url)\n",
    "    html = response.text\n",
    "    soup = BeautifulSoup(html, 'html.parser')\n",
    "    \n",
    "    titles = soup.select(\"ul.c-list-basic\")\n",
    "    #subtitles = soup.select(\"a.elss.sub_tit\")\n",
    "    \n",
    "    for title in titles : # titles에서 title\n",
    "        titleText = title.text # title.text만 추출\n",
    "        #print(titleText)\n",
    "        titleList.append(titleText) # titleList에 추가"
   ]
  },
  {
   "cell_type": "code",
   "execution_count": 6,
   "id": "3e865af3",
   "metadata": {},
   "outputs": [
    {
     "data": {
      "text/plain": [
       "'            쿠키뉴스   언론사 픽     개별문서메뉴  톡으로 바로 공유 공유하기           2         영상미는 경이롭지만…‘혹성탈출: 새로운 시대’ [쿡리뷰]       영화 ‘혹성탈출: 새로운 시대’ 스틸컷. 월트디즈니 컴퍼니 코리아 먼 미래 지구는 유인원의 차지다. 인류 대부분은 퇴화해 원시인으로 회귀한 지 오래다. 유인원은 진화를 거듭해 언어를 습득하고 부족을 꾸려 생존한다. 이 가운데 침팬지 노아(오웬 티그)는...    2024.05.08                 연합뉴스   언론사 픽     개별문서메뉴  톡으로 바로 공유 공유하기                 \\'혹성탈출 4\\' 개봉 첫 주 전세계 1천771억원 수입…\"기대 이상\"       영화 \\'혹성탈출: 새로운 시대\\' 속 한 장면 [로스앤젤레스=연합뉴스. 월트디즈니컴퍼니 코리아 제공. 재판매 및 DB 금지] (로스앤젤레스=연합뉴스) 임미나 특파원 = 월트디즈니컴퍼니(이하 디즈니)의 올해 북미 지역 첫 극장 개봉작인 \\'혹성탈출: 새로운 시대\\'(이하...    3시간전                  중앙일보   1시간전    혹성탈출4, 기대 이상 흥행…개봉 첫 주 전세계 1771억 수입               KBS   26분전    ‘혹성탈출 4’ 개봉 첫 주 전세계 1,771억원 수입…“기대 이상”               한국경제TV   3시간전    \\'혹성탈출 4\\' 개봉 첫 주에만 전세계 1천771억원 수입       이전 컨텐츠보기 다음 컨텐츠보기                JTBC       개별문서메뉴  톡으로 바로 공유 공유하기                 \\'혹성탈출: 새로운 시대\\' 국내외 극찬 속 2주 차 흥행 이어간다       개봉 첫 주말 외화 박스오피스 1위에 올랐다.영화진흥위원회 영화관입장권통합전산망에 따르면 영화 \\'혹성탈출: 새로운 시대(웨스 볼 감독)\\'는 개봉 첫 주말인 지난 10일부터 12일까지 32만5097명의 관객을 동원하며 누적관객수 41만5190명으로 외화 박스오피스 1위...    1시간전                 오마이뉴스       개별문서메뉴  톡으로 바로 공유 공유하기           4         7년 만에 돌아온 \\'혹성탈출\\', 공존에 대한 질문 던졌다       [조영준 기자] ▲ 영화 <혹성탈출 : 새로운 시대> 스틸컷 ⓒ 월트디즈니컴퍼니코리아 *주의! 이 기사에는 영화의 스포일러가 포함돼 있습니다. 01.\"유인원은 뭉치면 강하다\" 혹성탈출 시리즈의 첫 번째 리부트 시리즈의 시작점으로 여겨지는 <혹성탈출: 진화의 시작...    20시간전                 스타투데이   언론사 픽     개별문서메뉴  톡으로 바로 공유 공유하기           5         [인터뷰] ‘혹성탈출4’ 제작진 “‘카지노’ 30대 최민식 재현 놀라워, 앞으로 더 기대”       영화 ‘혹성탈출4’ 포스터. 사진 I 월트디즈니 컴퍼니 코리아 영화 ‘혹성탈출 : 새로운 시대’(이하 ‘혹성탈출4’)가 한 단계 더 진화한 기술력으로 돌아왔다. 압도적인 비주얼을 통해 전 세계를 사로잡을 준비를 마쳤다. 매일경제 스타투데이는 지난 23일 서울...    2024.04.25                 엑스포츠뉴스       개별문서메뉴  톡으로 바로 공유 공유하기           3         \\'혹성탈출\\' 감독 \"유인원 모험 속 새로운 세계…심각하거나 무겁지 않다\" [종합]       (엑스포츠뉴스 김유진 기자) \\'혹성탈출: 새로운 시대\\'의 웨스 볼 감독이 영화를 향한 자신감을 드러냈다. 7일 오후 온라인을 통해 영화 \\'혹성탈출: 새로운 시대\\' 화상 간담회가 열렸다. 이 자리에는 웨스 볼 감독이 참석했다. \\'혹성탈출: 새로운 시대\\'는 진화한...    2024.05.07                 스포츠경향       개별문서메뉴  톡으로 바로 공유 공유하기                 ‘혹성탈출’ D-2, 외화 예매율 1위       영화 <혹성탈출: 새로운 시대>. 월트디즈니 컴퍼니 코리아 영화 <혹성탈출: 새로운 시대>가 전체 외화 예매율 1위에 등극하며, 5월 극장가의 판도를 뒤바꿀 흥행 다크호스로 떠오를지 주목된다.총 16억 8,100만 달러라는 경이로운 흥행기록으로 전 세계적 사랑을...    2024.05.06                 서울경제       개별문서메뉴  톡으로 바로 공유 공유하기           3         \\'혹성탈출 4\\' 웨스 볼 감독 \"세계 최고의 CG로 감동 선사\"       영화 \\'혹성탈출: 새로운 시대\\'의 웨스 볼 감독. 사진 제공=월트디즈니컴퍼니 코리아 [서울경제] 특수효과(VFX)의 대명사인 헐리우드 블록버스터 ‘혹성탈출’ 시리즈가 7년 만에 돌아왔다. 신작 ‘혹성탈출: 새로운 시대\\'를 연출한 웨스 볼 감독은 최근 화상 기자...    2024.05.09                 KBS       개별문서메뉴  톡으로 바로 공유 공유하기           동영상 첨부된 문서         [개봉영화] 혹성탈출 : 새로운 시대…공포의 방송사고 ‘악마와의 토크쇼’ 외       [앵커] 인간과 유인원의 대립을 그린 \\'혹성탈출\\' 시리즈가 7년 만에 새 작품으로 돌아왔습니다. 이번 작품에서는 컴퓨터 그래픽 특수효과 작업에 한국인 제작진들이 대거 합류했습니다. 핼러윈 특집 생방송에 있었던 방송 사고를 다룬 공포 영화와 감성 멜로 \\'미지수...    2024.05.10                 연합뉴스   언론사 픽     개별문서메뉴  톡으로 바로 공유 공유하기           3         \\'혹성탈출 4\\' 웨스 볼 감독 \"시리즈의 새로운 챕터 여는 작품\"       영화 \\'혹성탈출: 새로운 시대\\' 웨스 볼 감독 화상 기자간담회 [월트디즈니컴퍼니 코리아 제공. 재판매 및 DB 금지] (서울=연합뉴스) 오보람 기자 = \"이 영화의 존재 이유를 탄탄하게 만드는 게 굉장히 중요했어요. 저는 그저 \\'혹성탈출\\' 4편을 만들려고 한 게...    2024.05.07                  스포츠경향   2024.05.07    ‘혹성탈출4’ 웨스 볼 감독 “전작과 차별성? 새로운 챕터 열려”               일간스포츠   2024.05.07    ‘혹성탈출4’ 웨스 볼 감독 “완전한 새 챕터 열릴 것”               스포츠한국   2024.05.07    \\'혹성탈출4\\' 웨스 볼 감독 \"완전히 새로운 챕터 열려\"…8일 개봉         더보기      이전 컨텐츠보기 다음 컨텐츠보기     '"
      ]
     },
     "execution_count": 6,
     "metadata": {},
     "output_type": "execute_result"
    }
   ],
   "source": [
    "titleList[0]"
   ]
  },
  {
   "cell_type": "code",
   "execution_count": null,
   "id": "9ece0dfa",
   "metadata": {},
   "outputs": [],
   "source": []
  },
  {
   "cell_type": "code",
   "execution_count": 7,
   "id": "9d0dccea",
   "metadata": {},
   "outputs": [],
   "source": [
    "# 한글만 추출\n",
    "def text_cleaning(text) : # 한글 추출\n",
    "    hangul = re.compile('[^ ㄱ-ㅣ가-힣]+')\n",
    "    result = hangul.sub('', text)\n",
    "    return result"
   ]
  },
  {
   "cell_type": "code",
   "execution_count": 8,
   "id": "c212ed5a",
   "metadata": {},
   "outputs": [],
   "source": [
    "# 전처리 : 한글만 추출\n",
    "titleList = list(map(lambda x:text_cleaning(x), titleList))"
   ]
  },
  {
   "cell_type": "code",
   "execution_count": 9,
   "id": "7d81908d",
   "metadata": {},
   "outputs": [
    {
     "data": {
      "text/plain": [
       "'            쿠키뉴스   언론사 픽     개별문서메뉴  톡으로 바로 공유 공유하기                    영상미는 경이롭지만혹성탈출 새로운 시대 쿡리뷰       영화 혹성탈출 새로운 시대 스틸컷 월트디즈니 컴퍼니 코리아 먼 미래 지구는 유인원의 차지다 인류 대부분은 퇴화해 원시인으로 회귀한 지 오래다 유인원은 진화를 거듭해 언어를 습득하고 부족을 꾸려 생존한다 이 가운데 침팬지 노아오웬 티그는                     연합뉴스   언론사 픽     개별문서메뉴  톡으로 바로 공유 공유하기                 혹성탈출  개봉 첫 주 전세계 천억원 수입기대 이상       영화 혹성탈출 새로운 시대 속 한 장면 로스앤젤레스연합뉴스 월트디즈니컴퍼니 코리아 제공 재판매 및  금지 로스앤젤레스연합뉴스 임미나 특파원  월트디즈니컴퍼니이하 디즈니의 올해 북미 지역 첫 극장 개봉작인 혹성탈출 새로운 시대이하    시간전                  중앙일보   시간전    혹성탈출 기대 이상 흥행개봉 첫 주 전세계 억 수입                  분전    혹성탈출  개봉 첫 주 전세계 억원 수입기대 이상               한국경제   시간전    혹성탈출  개봉 첫 주에만 전세계 천억원 수입       이전 컨텐츠보기 다음 컨텐츠보기                       개별문서메뉴  톡으로 바로 공유 공유하기                 혹성탈출 새로운 시대 국내외 극찬 속 주 차 흥행 이어간다       개봉 첫 주말 외화 박스오피스 위에 올랐다영화진흥위원회 영화관입장권통합전산망에 따르면 영화 혹성탈출 새로운 시대웨스 볼 감독는 개봉 첫 주말인 지난 일부터 일까지 만명의 관객을 동원하며 누적관객수 만명으로 외화 박스오피스 위    시간전                 오마이뉴스       개별문서메뉴  톡으로 바로 공유 공유하기                    년 만에 돌아온 혹성탈출 공존에 대한 질문 던졌다       조영준 기자  영화 혹성탈출  새로운 시대 스틸컷  월트디즈니컴퍼니코리아 주의 이 기사에는 영화의 스포일러가 포함돼 있습니다 유인원은 뭉치면 강하다 혹성탈출 시리즈의 첫 번째 리부트 시리즈의 시작점으로 여겨지는 혹성탈출 진화의 시작    시간전                 스타투데이   언론사 픽     개별문서메뉴  톡으로 바로 공유 공유하기                    인터뷰 혹성탈출 제작진 카지노 대 최민식 재현 놀라워 앞으로 더 기대       영화 혹성탈출 포스터 사진  월트디즈니 컴퍼니 코리아 영화 혹성탈출  새로운 시대이하 혹성탈출가 한 단계 더 진화한 기술력으로 돌아왔다 압도적인 비주얼을 통해 전 세계를 사로잡을 준비를 마쳤다 매일경제 스타투데이는 지난 일 서울                     엑스포츠뉴스       개별문서메뉴  톡으로 바로 공유 공유하기                    혹성탈출 감독 유인원 모험 속 새로운 세계심각하거나 무겁지 않다 종합       엑스포츠뉴스 김유진 기자 혹성탈출 새로운 시대의 웨스 볼 감독이 영화를 향한 자신감을 드러냈다 일 오후 온라인을 통해 영화 혹성탈출 새로운 시대 화상 간담회가 열렸다 이 자리에는 웨스 볼 감독이 참석했다 혹성탈출 새로운 시대는 진화한                     스포츠경향       개별문서메뉴  톡으로 바로 공유 공유하기                 혹성탈출  외화 예매율 위       영화 혹성탈출 새로운 시대 월트디즈니 컴퍼니 코리아 영화 혹성탈출 새로운 시대가 전체 외화 예매율 위에 등극하며 월 극장가의 판도를 뒤바꿀 흥행 다크호스로 떠오를지 주목된다총 억 만 달러라는 경이로운 흥행기록으로 전 세계적 사랑을                     서울경제       개별문서메뉴  톡으로 바로 공유 공유하기                    혹성탈출  웨스 볼 감독 세계 최고의 로 감동 선사       영화 혹성탈출 새로운 시대의 웨스 볼 감독 사진 제공월트디즈니컴퍼니 코리아 서울경제 특수효과의 대명사인 헐리우드 블록버스터 혹성탈출 시리즈가 년 만에 돌아왔다 신작 혹성탈출 새로운 시대를 연출한 웨스 볼 감독은 최근 화상 기자                            개별문서메뉴  톡으로 바로 공유 공유하기           동영상 첨부된 문서         개봉영화 혹성탈출  새로운 시대공포의 방송사고 악마와의 토크쇼 외       앵커 인간과 유인원의 대립을 그린 혹성탈출 시리즈가 년 만에 새 작품으로 돌아왔습니다 이번 작품에서는 컴퓨터 그래픽 특수효과 작업에 한국인 제작진들이 대거 합류했습니다 핼러윈 특집 생방송에 있었던 방송 사고를 다룬 공포 영화와 감성 멜로 미지수                     연합뉴스   언론사 픽     개별문서메뉴  톡으로 바로 공유 공유하기                    혹성탈출  웨스 볼 감독 시리즈의 새로운 챕터 여는 작품       영화 혹성탈출 새로운 시대 웨스 볼 감독 화상 기자간담회 월트디즈니컴퍼니 코리아 제공 재판매 및  금지 서울연합뉴스 오보람 기자  이 영화의 존재 이유를 탄탄하게 만드는 게 굉장히 중요했어요 저는 그저 혹성탈출 편을 만들려고 한 게                      스포츠경향       혹성탈출 웨스 볼 감독 전작과 차별성 새로운 챕터 열려               일간스포츠       혹성탈출 웨스 볼 감독 완전한 새 챕터 열릴 것               스포츠한국       혹성탈출 웨스 볼 감독 완전히 새로운 챕터 열려일 개봉         더보기      이전 컨텐츠보기 다음 컨텐츠보기     '"
      ]
     },
     "execution_count": 9,
     "metadata": {},
     "output_type": "execute_result"
    }
   ],
   "source": [
    "titleList[0]"
   ]
  },
  {
   "cell_type": "code",
   "execution_count": null,
   "id": "bbae637b",
   "metadata": {},
   "outputs": [],
   "source": []
  },
  {
   "cell_type": "markdown",
   "id": "753d665d",
   "metadata": {},
   "source": [
    "- 텍스트 전처리 : 명사의 빈도수 계산"
   ]
  },
  {
   "cell_type": "code",
   "execution_count": 10,
   "id": "b605bef7",
   "metadata": {},
   "outputs": [
    {
     "ename": "JVMNotFoundException",
     "evalue": "No JVM shared library file (jvm.dll) found. Try setting up the JAVA_HOME environment variable properly.",
     "output_type": "error",
     "traceback": [
      "\u001b[1;31m---------------------------------------------------------------------------\u001b[0m",
      "\u001b[1;31mJVMNotFoundException\u001b[0m                      Traceback (most recent call last)",
      "Input \u001b[1;32mIn [10]\u001b[0m, in \u001b[0;36m<cell line: 3>\u001b[1;34m()\u001b[0m\n\u001b[0;32m      1\u001b[0m \u001b[38;5;66;03m# 텍스트 전처리\u001b[39;00m\n\u001b[0;32m      2\u001b[0m title_corpus \u001b[38;5;241m=\u001b[39m \u001b[38;5;124m\"\u001b[39m\u001b[38;5;124m \u001b[39m\u001b[38;5;124m\"\u001b[39m\u001b[38;5;241m.\u001b[39mjoin(titleList) \u001b[38;5;66;03m# 말뭉치\u001b[39;00m\n\u001b[1;32m----> 3\u001b[0m nouns_tagger \u001b[38;5;241m=\u001b[39m \u001b[43mOkt\u001b[49m\u001b[43m(\u001b[49m\u001b[43m)\u001b[49m \u001b[38;5;66;03m# 명사 추출\u001b[39;00m\n\u001b[0;32m      4\u001b[0m nouns \u001b[38;5;241m=\u001b[39m nouns_tagger\u001b[38;5;241m.\u001b[39mnouns(title_corpus)\n\u001b[0;32m      5\u001b[0m count \u001b[38;5;241m=\u001b[39m Counter(nouns)\n",
      "File \u001b[1;32m~\\anaconda3\\lib\\site-packages\\konlpy\\tag\\_okt.py:51\u001b[0m, in \u001b[0;36mOkt.__init__\u001b[1;34m(self, jvmpath, max_heap_size)\u001b[0m\n\u001b[0;32m     49\u001b[0m \u001b[38;5;28;01mdef\u001b[39;00m \u001b[38;5;21m__init__\u001b[39m(\u001b[38;5;28mself\u001b[39m, jvmpath\u001b[38;5;241m=\u001b[39m\u001b[38;5;28;01mNone\u001b[39;00m, max_heap_size\u001b[38;5;241m=\u001b[39m\u001b[38;5;241m1024\u001b[39m):\n\u001b[0;32m     50\u001b[0m     \u001b[38;5;28;01mif\u001b[39;00m \u001b[38;5;129;01mnot\u001b[39;00m jpype\u001b[38;5;241m.\u001b[39misJVMStarted():\n\u001b[1;32m---> 51\u001b[0m         \u001b[43mjvm\u001b[49m\u001b[38;5;241;43m.\u001b[39;49m\u001b[43minit_jvm\u001b[49m\u001b[43m(\u001b[49m\u001b[43mjvmpath\u001b[49m\u001b[43m,\u001b[49m\u001b[43m \u001b[49m\u001b[43mmax_heap_size\u001b[49m\u001b[43m)\u001b[49m\n\u001b[0;32m     53\u001b[0m     oktJavaPackage \u001b[38;5;241m=\u001b[39m jpype\u001b[38;5;241m.\u001b[39mJPackage(\u001b[38;5;124m'\u001b[39m\u001b[38;5;124mkr.lucypark.okt\u001b[39m\u001b[38;5;124m'\u001b[39m)\n\u001b[0;32m     54\u001b[0m     OktInterfaceJavaClass \u001b[38;5;241m=\u001b[39m oktJavaPackage\u001b[38;5;241m.\u001b[39mOktInterface\n",
      "File \u001b[1;32m~\\anaconda3\\lib\\site-packages\\konlpy\\jvm.py:55\u001b[0m, in \u001b[0;36minit_jvm\u001b[1;34m(jvmpath, max_heap_size)\u001b[0m\n\u001b[0;32m     52\u001b[0m args \u001b[38;5;241m=\u001b[39m [javadir, os\u001b[38;5;241m.\u001b[39msep]\n\u001b[0;32m     53\u001b[0m classpath \u001b[38;5;241m=\u001b[39m [f\u001b[38;5;241m.\u001b[39mformat(\u001b[38;5;241m*\u001b[39margs) \u001b[38;5;28;01mfor\u001b[39;00m f \u001b[38;5;129;01min\u001b[39;00m folder_suffix]\n\u001b[1;32m---> 55\u001b[0m jvmpath \u001b[38;5;241m=\u001b[39m jvmpath \u001b[38;5;129;01mor\u001b[39;00m \u001b[43mjpype\u001b[49m\u001b[38;5;241;43m.\u001b[39;49m\u001b[43mgetDefaultJVMPath\u001b[49m\u001b[43m(\u001b[49m\u001b[43m)\u001b[49m\n\u001b[0;32m     57\u001b[0m \u001b[38;5;66;03m# NOTE: Temporary patch for Issue #76. Erase when possible.\u001b[39;00m\n\u001b[0;32m     58\u001b[0m \u001b[38;5;28;01mif\u001b[39;00m sys\u001b[38;5;241m.\u001b[39mplatform \u001b[38;5;241m==\u001b[39m \u001b[38;5;124m'\u001b[39m\u001b[38;5;124mdarwin\u001b[39m\u001b[38;5;124m'\u001b[39m\\\n\u001b[0;32m     59\u001b[0m         \u001b[38;5;129;01mand\u001b[39;00m jvmpath\u001b[38;5;241m.\u001b[39mfind(\u001b[38;5;124m'\u001b[39m\u001b[38;5;124m1.8.0\u001b[39m\u001b[38;5;124m'\u001b[39m) \u001b[38;5;241m>\u001b[39m \u001b[38;5;241m0\u001b[39m\\\n\u001b[0;32m     60\u001b[0m         \u001b[38;5;129;01mand\u001b[39;00m jvmpath\u001b[38;5;241m.\u001b[39mendswith(\u001b[38;5;124m'\u001b[39m\u001b[38;5;124mlibjvm.dylib\u001b[39m\u001b[38;5;124m'\u001b[39m):\n",
      "File \u001b[1;32m~\\anaconda3\\lib\\site-packages\\jpype\\_jvmfinder.py:74\u001b[0m, in \u001b[0;36mgetDefaultJVMPath\u001b[1;34m()\u001b[0m\n\u001b[0;32m     72\u001b[0m \u001b[38;5;28;01melse\u001b[39;00m:\n\u001b[0;32m     73\u001b[0m     finder \u001b[38;5;241m=\u001b[39m LinuxJVMFinder()\n\u001b[1;32m---> 74\u001b[0m \u001b[38;5;28;01mreturn\u001b[39;00m \u001b[43mfinder\u001b[49m\u001b[38;5;241;43m.\u001b[39;49m\u001b[43mget_jvm_path\u001b[49m\u001b[43m(\u001b[49m\u001b[43m)\u001b[49m\n",
      "File \u001b[1;32m~\\anaconda3\\lib\\site-packages\\jpype\\_jvmfinder.py:212\u001b[0m, in \u001b[0;36mJVMFinder.get_jvm_path\u001b[1;34m(self)\u001b[0m\n\u001b[0;32m    210\u001b[0m \u001b[38;5;28;01mif\u001b[39;00m jvm_notsupport_ext \u001b[38;5;129;01mis\u001b[39;00m \u001b[38;5;129;01mnot\u001b[39;00m \u001b[38;5;28;01mNone\u001b[39;00m:\n\u001b[0;32m    211\u001b[0m     \u001b[38;5;28;01mraise\u001b[39;00m jvm_notsupport_ext\n\u001b[1;32m--> 212\u001b[0m \u001b[38;5;28;01mraise\u001b[39;00m JVMNotFoundException(\u001b[38;5;124m\"\u001b[39m\u001b[38;5;124mNo JVM shared library file (\u001b[39m\u001b[38;5;132;01m{0}\u001b[39;00m\u001b[38;5;124m) \u001b[39m\u001b[38;5;124m\"\u001b[39m\n\u001b[0;32m    213\u001b[0m                            \u001b[38;5;124m\"\u001b[39m\u001b[38;5;124mfound. Try setting up the JAVA_HOME \u001b[39m\u001b[38;5;124m\"\u001b[39m\n\u001b[0;32m    214\u001b[0m                            \u001b[38;5;124m\"\u001b[39m\u001b[38;5;124menvironment variable properly.\u001b[39m\u001b[38;5;124m\"\u001b[39m\n\u001b[0;32m    215\u001b[0m                            \u001b[38;5;241m.\u001b[39mformat(\u001b[38;5;28mself\u001b[39m\u001b[38;5;241m.\u001b[39m_libfile))\n",
      "\u001b[1;31mJVMNotFoundException\u001b[0m: No JVM shared library file (jvm.dll) found. Try setting up the JAVA_HOME environment variable properly."
     ]
    }
   ],
   "source": [
    "# 텍스트 전처리\n",
    "title_corpus = \" \".join(titleList) # 말뭉치\n",
    "nouns_tagger = Okt() # 명사 추출\n",
    "nouns = nouns_tagger.nouns(title_corpus)\n",
    "count = Counter(nouns) # 각 명사의 빈도수 계산"
   ]
  },
  {
   "cell_type": "code",
   "execution_count": null,
   "id": "5cbb7ee8",
   "metadata": {},
   "outputs": [],
   "source": [
    "# 각 명사의 빈도수 계산\n",
    "count"
   ]
  },
  {
   "cell_type": "code",
   "execution_count": null,
   "id": "80028c99",
   "metadata": {},
   "outputs": [],
   "source": []
  },
  {
   "cell_type": "markdown",
   "id": "2e5372d9",
   "metadata": {},
   "source": [
    "- 텍스트 전처리 : 불용어 처리"
   ]
  },
  {
   "cell_type": "code",
   "execution_count": null,
   "id": "86c3f3db",
   "metadata": {},
   "outputs": [],
   "source": [
    "# 불용어처리명\n",
    "remove_char_counter = Counter({x:count[x] for x in count if len(x) > 1})\n",
    "\n",
    "# 불용어 텍스트 파일 경로\n",
    "korean_stopwords_path = \"data/stopwords-ko.txt\"\n",
    "\n",
    "# 불용어 로드\n",
    "with open(korean_stopwords_path, encoding='utf8') as f:\n",
    "    stopwords = f.readlines()\n",
    "stopwords = [x.strip() for x in stopwords]\n",
    "\n",
    "# 나무위키에서 추가한 불용어\n",
    "namu_wiki_stopwords = ['상위', '문서', '내용', '누설', '아래', '해당', '설명',\n",
    "                       '표기', '추가', '모든', '사용', '매우', '가장', '줄거리',\n",
    "                       '요소', '상황', '편집', '틀', '경우', '때문', '모습',\n",
    "                       '정도', '이후', '사실', '생각', '인물', '이름', '년월', '공유', \n",
    "                       '인공', '지능'] ##### 개별적 불용어 추가\n",
    "\n",
    "# 불용어 추가\n",
    "stopwords.extend(namu_wiki_stopwords)\n",
    "\n",
    "# 불용어 처리\n",
    "remove_char_counter = Counter({x:remove_char_counter[x] for x in remove_char_counter if x not in stopwords})"
   ]
  },
  {
   "cell_type": "code",
   "execution_count": null,
   "id": "8e0f1e8c",
   "metadata": {},
   "outputs": [],
   "source": [
    "remove_char_counter"
   ]
  },
  {
   "cell_type": "code",
   "execution_count": null,
   "id": "52c6d0a2",
   "metadata": {},
   "outputs": [],
   "source": []
  },
  {
   "cell_type": "markdown",
   "id": "ebd7abd3",
   "metadata": {},
   "source": [
    "- 텍스트 전처리 : 명사의 분석 대상 갯수 지정"
   ]
  },
  {
   "cell_type": "code",
   "execution_count": null,
   "id": "3e198f53",
   "metadata": {},
   "outputs": [],
   "source": [
    "# 빈도수 특정 명사의 갯수 지정\n",
    "ranked_tags = remove_char_counter.most_common(50) # 빈도순 n개 단어"
   ]
  },
  {
   "cell_type": "code",
   "execution_count": null,
   "id": "fa416997",
   "metadata": {},
   "outputs": [],
   "source": [
    "pd.DataFrame(ranked_tags)"
   ]
  },
  {
   "cell_type": "code",
   "execution_count": null,
   "id": "49fcb717",
   "metadata": {},
   "outputs": [],
   "source": []
  },
  {
   "cell_type": "markdown",
   "id": "a672f987",
   "metadata": {},
   "source": [
    "- 워드클라우드"
   ]
  },
  {
   "cell_type": "code",
   "execution_count": null,
   "id": "cd223a64",
   "metadata": {},
   "outputs": [],
   "source": [
    "####### [WordCloud 오류 해결]\n",
    "#!pip install --upgrade pip\n",
    "#!pip install --upgrade Pillow"
   ]
  },
  {
   "cell_type": "code",
   "execution_count": null,
   "id": "438f6ce7",
   "metadata": {},
   "outputs": [],
   "source": [
    "### 워드클라우드\n",
    "wc = WordCloud(font_path='data/malgun.ttf', width=1200, height=500,\n",
    "               scale=4.0, max_font_size=600, background_color='white')\n",
    "gen = wc.generate_from_frequencies(remove_char_counter)"
   ]
  },
  {
   "cell_type": "code",
   "execution_count": null,
   "id": "e7911c56",
   "metadata": {},
   "outputs": [],
   "source": [
    "# 워드클라우드 그리기 및 파일로 저장\n",
    "plt.figure(figsize=(15, 7))\n",
    "plt.imshow(gen)\n",
    "plt.axis('off')\n",
    "plt.savefig(f'data/daumNews_wc_{keyword}.png')"
   ]
  },
  {
   "cell_type": "code",
   "execution_count": null,
   "id": "02c80750",
   "metadata": {},
   "outputs": [],
   "source": []
  }
 ],
 "metadata": {
  "kernelspec": {
   "display_name": "Python 3 (ipykernel)",
   "language": "python",
   "name": "python3"
  },
  "language_info": {
   "codemirror_mode": {
    "name": "ipython",
    "version": 3
   },
   "file_extension": ".py",
   "mimetype": "text/x-python",
   "name": "python",
   "nbconvert_exporter": "python",
   "pygments_lexer": "ipython3",
   "version": "3.9.12"
  }
 },
 "nbformat": 4,
 "nbformat_minor": 5
}
