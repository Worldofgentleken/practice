{
 "cells": [
  {
   "cell_type": "markdown",
   "metadata": {},
   "source": [
    "# 입문자를 위한, 파이썬/R 데이터 분석   "
   ]
  },
  {
   "cell_type": "markdown",
   "metadata": {},
   "source": [
    "## 활용실습(1): 공공데이터 분석 및 지도 시각화 연습\n",
    "\n",
    " - 우리나라 인구 지역별 분석 : [KOSIS 국가통계포탈](http://kosis.kr/index/index.do) \n",
    " \n",
    " \n",
    " - [시군구/성/연령(5세)별 주민등록연앙인구](https://kosis.kr/statHtml/statHtml.do?orgId=101&tblId=DT_1B040M5&vw_cd=MT_ZTITLE&list_id=A_7&seqNo=&lang_mode=ko&language=kor&obj_var_id=&itm_id=&conn_path=MT_ZTITLE) 자료 활용\n",
    " \n",
    "  \n",
    " - 시나리오:\n",
    " \n",
    "     1) 목적/목표 :\n",
    " \n",
    "     2) 데이터 확보 :\n",
    " \n",
    "     3) 데이터 정비(Data Cleaning) :\n",
    " \n",
    "     4) 인구 지역별 데이터 정리 :\n",
    " \n",
    "     5) 시각화 작업 :\n",
    " \n",
    "     6) 분석결과 의견 :"
   ]
  },
  {
   "cell_type": "markdown",
   "metadata": {},
   "source": [
    "### 1) 목적/목표 : \n",
    "- 시군구/성/연령(5세)별 주민등록연앙인구 데이터 분석"
   ]
  },
  {
   "cell_type": "code",
   "execution_count": null,
   "metadata": {},
   "outputs": [],
   "source": [
    "import pandas as pd\n",
    "import numpy as np"
   ]
  },
  {
   "cell_type": "markdown",
   "metadata": {},
   "source": [
    "### 2) 데이터 확보 :"
   ]
  },
  {
   "cell_type": "code",
   "execution_count": null,
   "metadata": {},
   "outputs": [],
   "source": [
    "# Data 로딩 (xlsx 파일)\n",
    "# 오류발생시 : !pip install --upgrade openpyxl\n",
    "population = pd.read_excel('data/population_raw_data.xlsx', header=1)"
   ]
  },
  {
   "cell_type": "code",
   "execution_count": null,
   "metadata": {},
   "outputs": [],
   "source": [
    "population"
   ]
  },
  {
   "cell_type": "code",
   "execution_count": null,
   "metadata": {},
   "outputs": [],
   "source": [
    "population.info()"
   ]
  },
  {
   "cell_type": "code",
   "execution_count": null,
   "metadata": {},
   "outputs": [],
   "source": [
    "population.isnull().sum(0)"
   ]
  },
  {
   "cell_type": "markdown",
   "metadata": {},
   "source": [
    "### 3) 데이터 정비(Data Cleaning) :"
   ]
  },
  {
   "cell_type": "code",
   "execution_count": null,
   "metadata": {},
   "outputs": [],
   "source": [
    "#population = population.fillna(method='pad')#, inplace=True)  "
   ]
  },
  {
   "cell_type": "code",
   "execution_count": null,
   "metadata": {},
   "outputs": [],
   "source": [
    "population.fillna(method='pad', inplace=True)        # ffill: 결측치NaN 앞의 값으로 채우기, inplace: 업데이트까지 수행 옵션  \n",
    "                                                     # 번대 : bfill or backfill\n",
    "population"
   ]
  },
  {
   "cell_type": "code",
   "execution_count": null,
   "metadata": {},
   "outputs": [],
   "source": [
    "population.columns"
   ]
  },
  {
   "cell_type": "code",
   "execution_count": null,
   "metadata": {},
   "outputs": [],
   "source": [
    "# 컬럼명 조정 : 1, 2, 3번째 컬럼 ('항목' 컬럼 -> '구분' 으로 변경)\n",
    "population.rename(columns = {'행정구역(동읍면)별(1)':'광역시도', '행정구역(동읍면)별(2)':'시도','계':'인구수','항목':'구분'}, inplace=True)"
   ]
  },
  {
   "cell_type": "code",
   "execution_count": null,
   "metadata": {},
   "outputs": [],
   "source": [
    "population.head()"
   ]
  },
  {
   "cell_type": "code",
   "execution_count": null,
   "metadata": {},
   "outputs": [],
   "source": [
    "# 데이터 정비 :\n",
    "population[population['시도'] != '소계']"
   ]
  },
  {
   "cell_type": "code",
   "execution_count": null,
   "metadata": {},
   "outputs": [],
   "source": [
    "# '총인구수(명) -> '합계'\n",
    "# '남자인구수(명) -> '남자'\n",
    "# '여자인구수(명) -> '여자'\n",
    "population.loc[population['구분'] == '총인구수 (명)', '구분'] = '합계'\n",
    "population.loc[population['구분'] == '남자인구수 (명)', '구분'] = '남자'\n",
    "population.loc[population['구분'] == '여자인구수 (명)', '구분'] = '여자'"
   ]
  },
  {
   "cell_type": "code",
   "execution_count": null,
   "metadata": {},
   "outputs": [],
   "source": [
    "population.head(10)"
   ]
  },
  {
   "cell_type": "code",
   "execution_count": null,
   "metadata": {},
   "outputs": [],
   "source": [
    "population[population['시도'] != '소계'].head(10)"
   ]
  },
  {
   "cell_type": "markdown",
   "metadata": {},
   "source": [
    "### 4) 인구 지역별 데이터 정리 :"
   ]
  },
  {
   "cell_type": "code",
   "execution_count": null,
   "metadata": {},
   "outputs": [],
   "source": [
    "# 연령별 인구수 Group 분류작업 : 20~39세 (20-30대) vs. 65세 이상 \n",
    "\n",
    "temp1 = '20 - 24세\t25 - 29세\t30 - 34세\t35 - 39세\t65 - 69세\t70 - 74세\t75 - 79세\t80 - 84세\t85 - 89세\t90 - 94세\t95 - 99세\t100+'\n",
    "temp1"
   ]
  },
  {
   "cell_type": "code",
   "execution_count": null,
   "metadata": {},
   "outputs": [],
   "source": [
    "temp2 = '20 - 24세\t25 - 29세\t30 - 34세\t35 - 39세\t65 - 69세\t70 - 74세\t75 - 79세\t80 - 84세\t85 - 89세\t90 - 94세\t95 - 99세\t100+'\n",
    "temp2.split('\\t')"
   ]
  },
  {
   "cell_type": "code",
   "execution_count": null,
   "metadata": {},
   "outputs": [],
   "source": [
    "temp2"
   ]
  },
  {
   "cell_type": "code",
   "execution_count": null,
   "metadata": {},
   "outputs": [],
   "source": [
    "population['20-39세'] = population['20 - 24세'] + population['25 - 29세'] + \\\n",
    "                        population['30 - 34세'] + population['35 - 39세']\n",
    "    \n",
    "population['65세이상'] = population['65 - 69세'] + population['70 - 74세'] + \\\n",
    "                        population['75 - 79세'] + population['80 - 84세'] + population['85 - 89세'] + \\\n",
    "                        population['90 - 94세'] + population['95 - 99세'] + population['100+']"
   ]
  },
  {
   "cell_type": "code",
   "execution_count": null,
   "metadata": {},
   "outputs": [],
   "source": [
    "population.head(10)\n",
    "population[population['시도'] != '소계'].head(10)"
   ]
  },
  {
   "cell_type": "code",
   "execution_count": null,
   "metadata": {
    "scrolled": true
   },
   "outputs": [],
   "source": [
    "pop = pd.pivot_table(population, index=['광역시도','시도'], columns='구분', values=['인구수','20-39세','65세이상'])\n",
    "pop"
   ]
  },
  {
   "cell_type": "markdown",
   "metadata": {},
   "source": [
    "### 참고 : [인구소멸 위험지수](https://ko.wikipedia.org/wiki/%EC%9D%B8%EA%B5%AC%EC%86%8C%EB%A9%B8_%EC%9C%84%ED%97%98%EC%A7%80%EC%88%98)\n"
   ]
  },
  {
   "cell_type": "code",
   "execution_count": null,
   "metadata": {},
   "outputs": [],
   "source": [
    "pop['20-39세','여자']"
   ]
  },
  {
   "cell_type": "code",
   "execution_count": null,
   "metadata": {},
   "outputs": [],
   "source": [
    "# 인구 소멸비율 컬럼 추가 :\n",
    "# 참고 : 인구소멸비율 계산식 = 65세이상 고령인구대비 20∼39세 여성인구가 차지하는 비율로 측정\n",
    "\n",
    "pop['소멸비율'] = pop['20-39세','여자'] / pop['65세이상','합계']"
   ]
  },
  {
   "cell_type": "code",
   "execution_count": null,
   "metadata": {},
   "outputs": [],
   "source": [
    "pop.head()"
   ]
  },
  {
   "cell_type": "code",
   "execution_count": null,
   "metadata": {},
   "outputs": [],
   "source": [
    "pop['소멸비율'] < 0.5"
   ]
  },
  {
   "cell_type": "code",
   "execution_count": null,
   "metadata": {},
   "outputs": [],
   "source": [
    "# 인구 소멸비율 : 0.5 이하로 가정\n",
    "pop['소멸위기지역'] = pop['소멸비율'] < 0.5     # True: 소멸위기지역,  False: 소멸위기지역 아님\n",
    "pop.head()"
   ]
  },
  {
   "cell_type": "code",
   "execution_count": null,
   "metadata": {},
   "outputs": [],
   "source": [
    "# 시각화 위한 추가 작업 : Index 그룹 없애기\n",
    "pop.reset_index()"
   ]
  },
  {
   "cell_type": "code",
   "execution_count": null,
   "metadata": {},
   "outputs": [],
   "source": [
    "pop.reset_index(inplace=True)\n",
    "\n",
    "pop.head()\n",
    "\n",
    "#pop = pop.drop('index', axis=1)"
   ]
  },
  {
   "cell_type": "code",
   "execution_count": null,
   "metadata": {},
   "outputs": [],
   "source": [
    "# 시각화 위한 추가 작업 : pivot 첫행 정리 :\n",
    "pop.columns"
   ]
  },
  {
   "cell_type": "code",
   "execution_count": null,
   "metadata": {},
   "outputs": [],
   "source": [
    "pop.columns.get_level_values(1)"
   ]
  },
  {
   "cell_type": "code",
   "execution_count": null,
   "metadata": {},
   "outputs": [],
   "source": [
    "pop.columns.get_level_values(0)[2]"
   ]
  },
  {
   "cell_type": "code",
   "execution_count": null,
   "metadata": {},
   "outputs": [],
   "source": [
    "pop.columns.get_level_values(1)[2]\n",
    "#'A' + 'B'"
   ]
  },
  {
   "cell_type": "code",
   "execution_count": null,
   "metadata": {},
   "outputs": [],
   "source": [
    "pop.columns.get_level_values(0)[2] + pop.columns.get_level_values(1)[2]"
   ]
  },
  {
   "cell_type": "code",
   "execution_count": null,
   "metadata": {},
   "outputs": [],
   "source": [
    "top_col = []\n",
    "\n",
    "for n in range(0, len(pop.columns.get_level_values(0))):\n",
    "# len(pop.columns.get_level_values(0))    \n",
    "    print(n, pop.columns.get_level_values(0)[n] + pop.columns.get_level_values(1)[n] )\n",
    "    top_col.append(pop.columns.get_level_values(0)[n] + pop.columns.get_level_values(1)[n])"
   ]
  },
  {
   "cell_type": "code",
   "execution_count": null,
   "metadata": {},
   "outputs": [],
   "source": [
    "top_col"
   ]
  },
  {
   "cell_type": "code",
   "execution_count": null,
   "metadata": {},
   "outputs": [],
   "source": [
    "pop.columns"
   ]
  },
  {
   "cell_type": "code",
   "execution_count": null,
   "metadata": {},
   "outputs": [],
   "source": [
    "pop.columns = top_col"
   ]
  },
  {
   "cell_type": "code",
   "execution_count": null,
   "metadata": {},
   "outputs": [],
   "source": [
    "pop.info()"
   ]
  },
  {
   "cell_type": "code",
   "execution_count": null,
   "metadata": {},
   "outputs": [],
   "source": [
    "pop.head()"
   ]
  },
  {
   "cell_type": "markdown",
   "metadata": {},
   "source": [
    "### 5) 시각화 작업 : "
   ]
  },
  {
   "cell_type": "code",
   "execution_count": null,
   "metadata": {},
   "outputs": [],
   "source": [
    "# 시각화 Folium 으로 지도에 표시위한 추가작업\n",
    "pop.head(3)"
   ]
  },
  {
   "cell_type": "code",
   "execution_count": null,
   "metadata": {},
   "outputs": [],
   "source": [
    "pop['시도'].unique()"
   ]
  },
  {
   "cell_type": "code",
   "execution_count": null,
   "metadata": {
    "scrolled": true
   },
   "outputs": [],
   "source": [
    "pop['시도'].str[0:2]"
   ]
  },
  {
   "cell_type": "code",
   "execution_count": null,
   "metadata": {},
   "outputs": [],
   "source": [
    "pop['id'] = pop['시도'].str[0:2]"
   ]
  },
  {
   "cell_type": "code",
   "execution_count": null,
   "metadata": {},
   "outputs": [],
   "source": [
    "pop.head(3)"
   ]
  },
  {
   "cell_type": "code",
   "execution_count": null,
   "metadata": {},
   "outputs": [],
   "source": [
    "pop_map = pop.set_index('id')"
   ]
  },
  {
   "cell_type": "code",
   "execution_count": null,
   "metadata": {},
   "outputs": [],
   "source": [
    "pop_map.head(3)"
   ]
  },
  {
   "cell_type": "markdown",
   "metadata": {},
   "source": [
    "##### 지역별 인구수합계 시각화"
   ]
  },
  {
   "cell_type": "code",
   "execution_count": null,
   "metadata": {},
   "outputs": [],
   "source": [
    "#가급적 아나콘다 프롬프트에서\n",
    "#!pip install folium"
   ]
  },
  {
   "cell_type": "code",
   "execution_count": null,
   "metadata": {},
   "outputs": [],
   "source": [
    "# 시각화 지도작업 :\n",
    "import folium \n",
    "import json"
   ]
  },
  {
   "cell_type": "code",
   "execution_count": null,
   "metadata": {},
   "outputs": [],
   "source": [
    "geo_path = 'data/05. skorea_municipalities_geo_simple.json'\n",
    "geo_data = json.load(open('data/05. skorea_municipalities_geo_simple.json', encoding='utf-8'))\n",
    "\n",
    "map = folium.Map(location=[36,127], zoom_start=7)"
   ]
  },
  {
   "cell_type": "code",
   "execution_count": null,
   "metadata": {},
   "outputs": [],
   "source": [
    "folium.Choropleth(geo_data=geo_data, \n",
    "               data=pop_map['인구수합계'],\n",
    "               columns=[pop_map.index, pop_map['인구수합계']],\n",
    "               key_on='feature.id',\n",
    "               fill_color='YlGnBu').add_to(map)"
   ]
  },
  {
   "cell_type": "code",
   "execution_count": null,
   "metadata": {},
   "outputs": [],
   "source": [
    "geo_data"
   ]
  },
  {
   "cell_type": "code",
   "execution_count": null,
   "metadata": {},
   "outputs": [],
   "source": [
    "map"
   ]
  },
  {
   "cell_type": "code",
   "execution_count": null,
   "metadata": {},
   "outputs": [],
   "source": [
    "map = folium.Map(location=[36.2002, 127.054], zoom_start=7)\n",
    "folium.Choropleth(geo_data=geo_data, \n",
    "               data=pop_map['소멸위기지역'],\n",
    "               columns=[pop_map.index, pop_map['소멸위기지역']],\n",
    "               key_on='feature.id',\n",
    "               fill_color='PuRd').add_to(map)\n",
    "map"
   ]
  },
  {
   "cell_type": "markdown",
   "metadata": {},
   "source": [
    "### 6) 분석결과 의견 :"
   ]
  },
  {
   "cell_type": "markdown",
   "metadata": {},
   "source": [
    "- 수강생 토론"
   ]
  },
  {
   "cell_type": "code",
   "execution_count": null,
   "metadata": {},
   "outputs": [],
   "source": [
    "pd.set_option('display.max_rows', None)  # or 1000"
   ]
  },
  {
   "cell_type": "code",
   "execution_count": null,
   "metadata": {},
   "outputs": [],
   "source": [
    "pop_tmp = pop[pop['소멸위기지역']==True]\n",
    "pop_tmp"
   ]
  },
  {
   "cell_type": "code",
   "execution_count": null,
   "metadata": {},
   "outputs": [],
   "source": [
    "pop_tmp[pop_tmp['시도']=='고성군']"
   ]
  },
  {
   "cell_type": "code",
   "execution_count": null,
   "metadata": {},
   "outputs": [],
   "source": [
    "len(pop[pop['소멸위기지역']==True])"
   ]
  },
  {
   "cell_type": "code",
   "execution_count": null,
   "metadata": {},
   "outputs": [],
   "source": [
    "len(pop[pop['소멸위기지역']==True])/len(pop)"
   ]
  },
  {
   "cell_type": "code",
   "execution_count": null,
   "metadata": {},
   "outputs": [],
   "source": []
  },
  {
   "cell_type": "markdown",
   "metadata": {},
   "source": [
    "### [실습과제 : 팀별]\n",
    "\n",
    "##### 1. 최신 데이터로 업데이트 및 지도 id 텍스트 전처리의 정교화  \n",
    "   \n",
    "   - 고성군은 강원도/경상남도 2곳에 존재 \n",
    "   \n",
    "   (참고) https://gist.github.com/HyeongWookKim/9ae79f06de0c2e8dd4f66d58db3f8087\n",
    "   \n",
    "##### 2. 금융기관 영업점 위치 데이터와 결합한 추가 분석   (추후)\n",
    "   \n",
    "   - finance_brach 2021.xlsx 엑셀 파일의 주소 데이터를 광역시/시도로 구분하여 집계     \n",
    "   \n",
    "   - 인구 데이터와 Merge 하여 분석 및 시각화\n",
    "   \n",
    "##### 3. 스타벅스 영업점 위치 데이터와 결합한 추가 분석  (추후)\n",
    "   \n",
    "   - 스타벅스 영업점 주소 데이터를 광역시/시도로 구분하여 집계     \n",
    "   \n",
    "   - 인구 데이터와 Merge 하여 분석 및 시각화\n",
    "    \n",
    "      (참고) https://mizykk.tistory.com/82"
   ]
  },
  {
   "cell_type": "code",
   "execution_count": null,
   "metadata": {},
   "outputs": [],
   "source": []
  }
 ],
 "metadata": {
  "kernelspec": {
   "display_name": "Python 3 (ipykernel)",
   "language": "python",
   "name": "python3"
  },
  "language_info": {
   "codemirror_mode": {
    "name": "ipython",
    "version": 3
   },
   "file_extension": ".py",
   "mimetype": "text/x-python",
   "name": "python",
   "nbconvert_exporter": "python",
   "pygments_lexer": "ipython3",
   "version": "3.9.12"
  },
  "toc": {
   "base_numbering": 1,
   "nav_menu": {},
   "number_sections": true,
   "sideBar": true,
   "skip_h1_title": false,
   "title_cell": "Table of Contents",
   "title_sidebar": "Contents",
   "toc_cell": false,
   "toc_position": {
    "height": "calc(100% - 180px)",
    "left": "10px",
    "top": "150px",
    "width": "165px"
   },
   "toc_section_display": true,
   "toc_window_display": true
  }
 },
 "nbformat": 4,
 "nbformat_minor": 4
}
