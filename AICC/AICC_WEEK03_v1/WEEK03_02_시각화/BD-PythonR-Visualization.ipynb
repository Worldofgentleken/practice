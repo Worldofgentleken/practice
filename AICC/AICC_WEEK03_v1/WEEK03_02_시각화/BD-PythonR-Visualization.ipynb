{
 "cells": [
  {
   "cell_type": "markdown",
   "metadata": {},
   "source": [
    "# 입문자를 위한, 파이썬/R 데이터 분석"
   ]
  },
  {
   "cell_type": "markdown",
   "metadata": {},
   "source": [
    "## 데이터를 분석할 때 가장 필수적인 스킬:\n",
    "* 프로그래밍 언어 파이썬([Python](https://www.python.org/)), \n",
    "* 데이터 분석 패키지 판다스([Pandas](https://pandas.pydata.org/)), \n",
    "* 데이터 시각화 패키지 [seaborn](https://seaborn.pydata.org)과 [matplotlib](https://matplotlib.org)\n",
    "\n",
    "데이터 분석가는 언제나 주변 동료들의 요청(ex: 운영팀, 재무팀, 마케팅팀)에 맞게 데이터를 뽑아내 그 통계치를 제공하고 시각화 결과를 전달해줘야 하는데, 파이썬과 판다스, 시각화 스킬이 부족하면 주어진 시간 내에 이를 전달하는데 어려움이 있게 되는 까닭에, \n",
    "\n",
    "**Data Scientist 는 데이터를 능숙하게 다룰 수 있는 파이썬과 판다스, 시각화 스킬을 필수적으로 보유하고 있어야 한다고** 일반적으로 언급합니다."
   ]
  },
  {
   "cell_type": "markdown",
   "metadata": {},
   "source": [
    "## `데이터 시각화 (Data Visualization)` : matplotlib, seaborn\n",
    "\n",
    "- matplotlib : 시각화 하기 위해 계산하기 위한 전처리(통계적 연산 등) 작업이 많음\n",
    "  [Matplotlib: Python plotting — Matplotlib 3.1.3 documentation](https://matplotlib.org/)\n",
    "  \n",
    "- seaborn : 상대적으로 단순하게 동일한 산출결과 표현을 할 수가 있음\n",
    "  https://seaborn.pydata.org/\n",
    "\n",
    "- plotly : R 에서도 사용가능 하고, 인터액티브한 동작기능을 제공함\n",
    "  https://plot.ly/python/\n",
    "  \n",
    "- Bokeh : \n",
    "  Bokeh 1.4.0 documentation](https://docs.bokeh.org/en/latest/index.html)\n",
    "  \n",
    "- Altair :\n",
    "  [Altair: Declarative Visualization in Python — Altair 4.0.0 documentation](https://altair-viz.github.io/)\n",
    "  \n",
    "- Tableu : 유료\n",
    "  https://www.tableau.com/\n",
    "  \n",
    "- D3 (Data-driven documents) : Javascript 로 만들어짐, 전처리를 해주어야 D3가 표현할 수 있음\n",
    "  https://d3js.org/\n",
    "  "
   ]
  },
  {
   "cell_type": "markdown",
   "metadata": {},
   "source": [
    "### 파이썬의 데이터 시각화 패키지인 seaborn, matplotlib을 사용를 사용한 시각화 :\n",
    "\n",
    "seaborn은 matplotlib을 기반으로 작동하며 matplotlib에 비해 그래프의 스타일이 이쁘고, 약간의 통계 기능과 사용의 편의성 때문에 널리 쓰이고 있습니다. 하지만, seaborn을 호출하는 순간 matplotlib의 기본 스타일을 바꾸기 때문에 그래프의 모양이 바뀌는 것을 염두에 두셔야 합니다.\n",
    "\n",
    "matplotlib은 그래프에 매우 다양한 옵션을 주어 섬세하게 그릴수 있지만 그만큼 일일이 코드로 옵션을 지정해주어야 하기 때문에 번거로울 수 있습니다.\n",
    "\n",
    "- countplot\n",
    "- barplot\n",
    "- distplot\n",
    "- boxplot\n",
    "- pointplot\n",
    "- scatterplot"
   ]
  },
  {
   "cell_type": "code",
   "execution_count": null,
   "metadata": {},
   "outputs": [],
   "source": [
    "# 패키지 불러오기 :\n",
    "import pandas as pd\n",
    "import matplotlib.pyplot as plt\n",
    "import seaborn as sns\n",
    "\n",
    "%matplotlib inline     \n",
    "# Python 버전에 따라, 화면에 표시되는 여부 차이가 있을 수 있어서, 미리 선언함"
   ]
  },
  {
   "cell_type": "code",
   "execution_count": null,
   "metadata": {},
   "outputs": [],
   "source": [
    "#pd.set_option('display.max_columns', None) ## 모든 열을 출력한다.\n",
    "data = pd.read_csv('data/health_2016.csv')\n",
    "\n",
    "print(data.shape)\n",
    "\n",
    "data.head(5)"
   ]
  },
  {
   "cell_type": "markdown",
   "metadata": {},
   "source": [
    "## plot\n",
    "\n",
    "기본적인 시각화 방법을 알아봅니다.\n",
    "[countplot](https://seaborn.pydata.org/generated/seaborn.countplot.html)은 데이터의 개수를 나타내는 그래프입니다. 자체적으로 여러 옵션을 지정해줄 수 있으며 이는 연결된 링크에서 예시와 같이 확인할 수 있습니다."
   ]
  },
  {
   "cell_type": "markdown",
   "metadata": {},
   "source": [
    "### Font 깨지는 문제 해결용 : "
   ]
  },
  {
   "cell_type": "markdown",
   "metadata": {},
   "source": [
    "\n",
    "\n",
    "font 설정 오류가 발생할 경우, \n",
    "\n",
    "import matplotlib\n",
    "\n",
    "matplotlib.rc('font', family='Malgun Gothic')     # for Windows\n",
    "\n",
    "matplotlib.rc('font', family='AppleGothic')       # for Mac\n",
    "\n",
    "matplotlib.rc('axes', unicode_minus=False)        # 숫자 마이너스 폰트가 깨지는 문제 대처용\n"
   ]
  },
  {
   "cell_type": "markdown",
   "metadata": {},
   "source": [
    "### 경고 메시지 출력안되게..."
   ]
  },
  {
   "cell_type": "code",
   "execution_count": null,
   "metadata": {},
   "outputs": [],
   "source": [
    "import warnings\n",
    "\n",
    "# 경고메세지 끄기\n",
    "warnings.filterwarnings(action='ignore')\n",
    "\n",
    "# 다시 출력하게 하기\n",
    "#warnings.filterwarnings(action='default')"
   ]
  },
  {
   "cell_type": "code",
   "execution_count": null,
   "metadata": {},
   "outputs": [],
   "source": [
    "import matplotlib\n",
    "matplotlib.rc('font', family='Malgun Gothic') # for Windows\n",
    "plt.rc('font', family='Malgun Gothic') # for Windows"
   ]
  },
  {
   "cell_type": "code",
   "execution_count": null,
   "metadata": {},
   "outputs": [],
   "source": [
    "sns.countplot(data=data, x='성별코드')"
   ]
  },
  {
   "cell_type": "markdown",
   "metadata": {},
   "source": [
    "### Font 글자 더 선명하게 표시하는 설정 :"
   ]
  },
  {
   "cell_type": "code",
   "execution_count": null,
   "metadata": {},
   "outputs": [],
   "source": [
    "from IPython.display import set_matplotlib_formats\n",
    "set_matplotlib_formats('retina')"
   ]
  },
  {
   "cell_type": "code",
   "execution_count": null,
   "metadata": {},
   "outputs": [],
   "source": [
    "sns.countplot(data=data, x='성별코드')"
   ]
  },
  {
   "cell_type": "code",
   "execution_count": null,
   "metadata": {},
   "outputs": [],
   "source": [
    "sns.countplot(data=data, x='시도코드')    # 숫자로 정리한 이유 : 한글이면 길이 들쑥날쑥 & 저장 사이즈가 커지므로 숫자화 시키는게 유리"
   ]
  },
  {
   "cell_type": "code",
   "execution_count": null,
   "metadata": {},
   "outputs": [],
   "source": [
    "plt.figure(figsize=(10,5))               # 그래프 사이즈 조정할 때\n",
    "sns.countplot(data=data, x='시도코드')    # 숫자로 정리한 이유 : 한글이면 길이 들쑥날쑥 & 저장 사이즈가 커지므로 숫자화 시키는게 유리"
   ]
  },
  {
   "cell_type": "markdown",
   "metadata": {},
   "source": [
    "## subplots\n",
    "\n",
    "- 1줄에 2개 이상을 표현하는 방법"
   ]
  },
  {
   "cell_type": "code",
   "execution_count": null,
   "metadata": {},
   "outputs": [],
   "source": [
    "plt.subplots()"
   ]
  },
  {
   "cell_type": "code",
   "execution_count": null,
   "metadata": {},
   "outputs": [],
   "source": [
    "plt.subplots()\n",
    "sns.countplot(data=data, x='성별코드')\n",
    "sns.countplot(data=data, x='시도코드')"
   ]
  },
  {
   "cell_type": "code",
   "execution_count": null,
   "metadata": {},
   "outputs": [],
   "source": [
    "figure, (ax1, ax2) = plt.subplots(nrows=1, ncols=2)     \n",
    "figure.set_size_inches(18, 3)\n",
    "sns.countplot(data=data, x='성별코드')\n",
    "sns.countplot(data=data, x='시도코드')"
   ]
  },
  {
   "cell_type": "code",
   "execution_count": null,
   "metadata": {},
   "outputs": [],
   "source": [
    "figure, (ax1, ax2) = plt.subplots(nrows=1, ncols=2)      # subplot 의 주어진 명령이라 이해하면 됨\n",
    "figure.set_size_inches(18, 3)\n",
    "sns.countplot(data=data, x='성별코드', ax=ax1)\n",
    "sns.countplot(data=data, x='시도코드', ax=ax2)"
   ]
  },
  {
   "cell_type": "markdown",
   "metadata": {},
   "source": [
    "## Color\n",
    "\n",
    "참고 : [Color palette choices](https://seaborn.pydata.org/examples/color_palettes.html)"
   ]
  },
  {
   "cell_type": "code",
   "execution_count": null,
   "metadata": {},
   "outputs": [],
   "source": [
    "sns.countplot(data=data, x='시도코드', color='b')      # r: Red, g: Green, b: Blue"
   ]
  },
  {
   "cell_type": "code",
   "execution_count": null,
   "metadata": {},
   "outputs": [],
   "source": [
    "sns.palplot(sns.color_palette(\"deep\", 10))       # 숫자 10 은 10개를 표현한 것"
   ]
  },
  {
   "cell_type": "code",
   "execution_count": null,
   "metadata": {},
   "outputs": [],
   "source": [
    "sns.palplot(sns.color_palette(\"colorblind\", 10))"
   ]
  },
  {
   "cell_type": "code",
   "execution_count": null,
   "metadata": {},
   "outputs": [],
   "source": [
    "sns.palplot(sns.color_palette(\"coolwarm\", 10))"
   ]
  },
  {
   "cell_type": "code",
   "execution_count": null,
   "metadata": {},
   "outputs": [],
   "source": [
    "sns.palplot(sns.color_palette(\"BuGn\", 10))"
   ]
  },
  {
   "cell_type": "code",
   "execution_count": null,
   "metadata": {},
   "outputs": [],
   "source": [
    "sns.palplot(sns.color_palette(\"BuGn_r\", 10))        # r 은 Reverse 의 의미임"
   ]
  },
  {
   "cell_type": "code",
   "execution_count": null,
   "metadata": {},
   "outputs": [],
   "source": [
    "palette = sns.color_palette('coolwarm', 10)\n",
    "sns.countplot(data=data, x='시도코드', palette=palette)        # palette 에서 10 은 여기 경우 의미가 없음"
   ]
  },
  {
   "cell_type": "markdown",
   "metadata": {},
   "source": [
    "## CountPlot"
   ]
  },
  {
   "cell_type": "code",
   "execution_count": null,
   "metadata": {},
   "outputs": [],
   "source": [
    "sns.countplot(data=data, x='성별코드')"
   ]
  },
  {
   "cell_type": "code",
   "execution_count": null,
   "metadata": {},
   "outputs": [],
   "source": [
    "sns.countplot(data=data, x='성별코드', hue='성별코드')"
   ]
  },
  {
   "cell_type": "code",
   "execution_count": null,
   "metadata": {},
   "outputs": [],
   "source": [
    "sns.countplot(data=data, x='시도코드', hue='흡연상태')"
   ]
  },
  {
   "cell_type": "code",
   "execution_count": null,
   "metadata": {},
   "outputs": [],
   "source": [
    "plt.figure(figsize=(18, 3))\n",
    "sns.countplot(data=data, x='시도코드', hue='흡연상태')"
   ]
  },
  {
   "cell_type": "code",
   "execution_count": null,
   "metadata": {},
   "outputs": [],
   "source": [
    "plt.figure(figsize=(4, 9))\n",
    "sns.countplot(data=data, y='시도코드', hue='성별코드')"
   ]
  },
  {
   "cell_type": "markdown",
   "metadata": {},
   "source": [
    "## BarPlot"
   ]
  },
  {
   "cell_type": "code",
   "execution_count": null,
   "metadata": {},
   "outputs": [],
   "source": [
    "plt.figure(figsize=(18, 3))\n",
    "sns.barplot(data=data, ci=90, x='연령대코드(5세단위)', y='수축기혈압')     # 기본표현 : 수축기혈압의 평균 mean 을 표시한 것"
   ]
  },
  {
   "cell_type": "code",
   "execution_count": null,
   "metadata": {},
   "outputs": [],
   "source": [
    "import numpy as np\n",
    "plt.figure(figsize=(18, 3))\n",
    "sns.barplot(data=data, x='연령대코드(5세단위)', y='수축기혈압', estimator=np.sum)     # 합산해볼 경우"
   ]
  },
  {
   "cell_type": "code",
   "execution_count": null,
   "metadata": {},
   "outputs": [],
   "source": [
    "plt.figure(figsize=(18, 3))\n",
    "sns.barplot(data=data, y='연령대코드(5세단위)', x='수축기혈압')      # x, y 를 바꿔서 그려볼 경우,"
   ]
  },
  {
   "cell_type": "code",
   "execution_count": null,
   "metadata": {},
   "outputs": [],
   "source": [
    "plt.figure(figsize=(3, 9))\n",
    "sns.barplot(data=data, y='연령대코드(5세단위)', x='수축기혈압', orient='h')      # x, y 를 바꿔서 그려볼 경우, 세로로 표현"
   ]
  },
  {
   "cell_type": "code",
   "execution_count": null,
   "metadata": {
    "scrolled": true
   },
   "outputs": [],
   "source": [
    "plt.figure(figsize=(16, 4))\n",
    "sns.barplot(data=data, x='연령대코드(5세단위)', y='수축기혈압', estimator=np.mean, ci=False)    # False : 신뢰구간 표시안함"
   ]
  },
  {
   "cell_type": "code",
   "execution_count": null,
   "metadata": {
    "scrolled": true
   },
   "outputs": [],
   "source": [
    "plt.figure(figsize=(18, 4))\n",
    "sns.barplot(data=data, x='연령대코드(5세단위)', y='수축기혈압', estimator=np.sum, ci='sd')      # sd : 표준편차"
   ]
  },
  {
   "cell_type": "markdown",
   "metadata": {},
   "source": [
    "## DistPlot"
   ]
  },
  {
   "cell_type": "markdown",
   "metadata": {},
   "source": [
    "[distplot](https://seaborn.pydata.org/generated/seaborn.distplot.html)은 데이터의 분포를 나타냅니다. 지금까지 다뤘던 그래프들은 옵션이 비슷하였지만 distplot은 옵션이 조금 다릅니다."
   ]
  },
  {
   "cell_type": "code",
   "execution_count": null,
   "metadata": {},
   "outputs": [],
   "source": [
    "data['허리둘레']"
   ]
  },
  {
   "cell_type": "code",
   "execution_count": null,
   "metadata": {},
   "outputs": [],
   "source": [
    "sns.distplot(data['허리둘레'])"
   ]
  },
  {
   "cell_type": "code",
   "execution_count": null,
   "metadata": {},
   "outputs": [],
   "source": [
    "sns.distplot(data['허리둘레'], kde=False)"
   ]
  },
  {
   "cell_type": "code",
   "execution_count": null,
   "metadata": {},
   "outputs": [],
   "source": [
    "sns.distplot(data['허리둘레'], hist=False)"
   ]
  },
  {
   "cell_type": "code",
   "execution_count": null,
   "metadata": {},
   "outputs": [],
   "source": [
    "data['흡연상태'].value_counts()"
   ]
  },
  {
   "cell_type": "code",
   "execution_count": null,
   "metadata": {},
   "outputs": [],
   "source": [
    "one = data[data['흡연상태'] == 1]\n",
    "two = data[data['흡연상태'] == 2]\n",
    "three = data[data['흡연상태'] == 3]"
   ]
  },
  {
   "cell_type": "code",
   "execution_count": null,
   "metadata": {},
   "outputs": [],
   "source": [
    "one.head(3)"
   ]
  },
  {
   "cell_type": "code",
   "execution_count": null,
   "metadata": {},
   "outputs": [],
   "source": [
    "plt.figure(figsize=(9, 3))\n",
    "#sns.distplot(one['허리둘레'], hist=False, label=\"흡연 안 함\")             #파랑 OLD\n",
    "#sns.distplot(two['허리둘레'], hist=False, label='흡연 했지만 그만 둠')    #주황 OLD\n",
    "#sns.distplot(three['허리둘레'], hist=False, label='흡연 중')              #녹색 OLD\n",
    "sns.kdeplot(one['허리둘레'])    #파랑\n",
    "sns.kdeplot(two['허리둘레'])    #주황\n",
    "sns.kdeplot(three['허리둘레'])  #녹색\n",
    "plt.legend(labels=['흡연 안 함', '흡연 했지만 그만 둠', '흡연 중'])"
   ]
  },
  {
   "cell_type": "markdown",
   "metadata": {},
   "source": [
    "## BoxPlot\n",
    "\n",
    "- 최소, 중앙(median), 최대, 1, 3 사분위 수 등을 표현함\n",
    "- 점(diamond형) 은 이상치 outlier 의미\n",
    "\n",
    "1) 최소값\n",
    "2) 제 1사분위수\n",
    "3) 제 2사분위수, 즉 중앙값\n",
    "4) 제 3사분위수\n",
    "5) 최댓값"
   ]
  },
  {
   "cell_type": "markdown",
   "metadata": {},
   "source": [
    "[boxplot](https://seaborn.pydata.org/generated/seaborn.boxplot.html)은 박스 모양의 그래프이며 데이터의 분포를 조금 더 세밀하게 볼 수 있는 plot입니다. "
   ]
  },
  {
   "cell_type": "markdown",
   "metadata": {},
   "source": [
    "### 분위수 (Quantile)"
   ]
  },
  {
   "cell_type": "markdown",
   "metadata": {},
   "source": [
    "중앙값이 데이터를 2개의 동일한 사이즈로 나누었을 때, 그 경계값을 의미한다면, 4분위수는 데이터를 4개의 동일한 사이즈로 나누었을 때 그 경계값들을 의미합니다.\n",
    "\n",
    "자료의 1/4 (25%) 지점을 1분위수, 2/4 (50%) 지점을 2분위수 (=중앙값), 3/4 (75%) 지점을 3분위수라고 합니다. 이를 그림으로 나타내면 아래와 같습니다."
   ]
  },
  {
   "cell_type": "markdown",
   "metadata": {},
   "source": [
    "![image](https://i.imgur.com/tssRkgA.jpg)"
   ]
  },
  {
   "cell_type": "markdown",
   "metadata": {},
   "source": [
    "<img src=\"https://i.imgur.com/CnFsXL9.png\" width=450>"
   ]
  },
  {
   "attachments": {
    "image.png": {
     "image/png": "[encoded data removed]"
    }
   },
   "cell_type": "markdown",
   "metadata": {},
   "source": [
    "![image.png](attachment:image.png)"
   ]
  },
  {
   "cell_type": "code",
   "execution_count": null,
   "metadata": {},
   "outputs": [],
   "source": [
    "plt.figure(figsize=(18, 5))\n",
    "sns.boxplot(data=data, x='연령대코드(5세단위)', y='수축기혈압')   "
   ]
  },
  {
   "cell_type": "code",
   "execution_count": null,
   "metadata": {},
   "outputs": [],
   "source": [
    "plt.figure(figsize=(18, 5))\n",
    "sns.boxplot(data=data, x='연령대코드(5세단위)', y='수축기혈압', hue='성별코드')   "
   ]
  },
  {
   "cell_type": "markdown",
   "metadata": {},
   "source": [
    "## PointPlot"
   ]
  },
  {
   "cell_type": "markdown",
   "metadata": {},
   "source": [
    "[pointplot](https://seaborn.pydata.org/generated/seaborn.pointplot.html)은 점(point)을 찍고 연결하여 나타내는 그래프입니다. pointplot은 추세를 보기 좋으며 옵션은 barplot과 동일합니다."
   ]
  },
  {
   "cell_type": "code",
   "execution_count": null,
   "metadata": {},
   "outputs": [],
   "source": [
    "plt.figure(figsize=(18, 5))\n",
    "sns.pointplot(data=data, x='연령대코드(5세단위)', y='수축기혈압')"
   ]
  },
  {
   "cell_type": "code",
   "execution_count": null,
   "metadata": {},
   "outputs": [],
   "source": [
    "plt.figure(figsize=(18, 5))\n",
    "sns.pointplot(data=data, x='연령대코드(5세단위)', y='수축기혈압', hue='성별코드')"
   ]
  },
  {
   "cell_type": "code",
   "execution_count": null,
   "metadata": {},
   "outputs": [],
   "source": [
    "# 위에서 오류난다면, \n",
    "plt.figure(figsize=(18, 5))\n",
    "sns.lineplot(data=data, x='연령대코드(5세단위)', y='수축기혈압', hue='성별코드')   # lineplot 으로 그려본다"
   ]
  },
  {
   "cell_type": "code",
   "execution_count": null,
   "metadata": {},
   "outputs": [],
   "source": [
    "plt.figure(figsize=(18, 5))\n",
    "sns.pointplot(data=data, x='연령대코드(5세단위)', y='수축기혈압', hue='성별코드', \n",
    "             linestyles=[':','--'], markers=['o','x'])"
   ]
  },
  {
   "cell_type": "markdown",
   "metadata": {},
   "source": [
    "## ScatterPlot\n",
    "\n",
    "- x, y 축에 수치형 데이터일 때 표현하기 좋음"
   ]
  },
  {
   "cell_type": "markdown",
   "metadata": {},
   "source": [
    "[scatterplot](https://seaborn.pydata.org/generated/seaborn.scatterplot.html?highlight=scatterplot#seaborn.scatterplot)은 산점도를 뜻하며 모든 데이터를 점을 찍어 나타냅니다. 자체적으로 여러 옵션을 지정해줄 수 있으며 이는 연결된 링크에서 예시와 같이 확인할 수 있습니다.\n",
    "\n",
    "*참고: Scatterplot은 0.9.0 버전 이상의 seaborn에서만 지원하기 때문에 0.9.0 이하의 버전에서는 [lmplot](https://seaborn.pydata.org/generated/seaborn.lmplot.html)을 사용하거나 seaborn의 버전을 업데이트하면 됩니다."
   ]
  },
  {
   "cell_type": "code",
   "execution_count": null,
   "metadata": {},
   "outputs": [],
   "source": [
    "plt.figure(figsize=(9, 5))\n",
    "sns.scatterplot(data=data, x='식전혈당(공복혈당)', y='수축기혈압')   # 400 넘는 이상치 값이 확인되어 제거하기로 함"
   ]
  },
  {
   "cell_type": "code",
   "execution_count": null,
   "metadata": {},
   "outputs": [],
   "source": [
    "target = data[data['식전혈당(공복혈당)'] < 150]"
   ]
  },
  {
   "cell_type": "code",
   "execution_count": null,
   "metadata": {},
   "outputs": [],
   "source": [
    "plt.figure(figsize=(9, 5))\n",
    "sns.scatterplot(data=target, x='식전혈당(공복혈당)', y='수축기혈압') "
   ]
  },
  {
   "cell_type": "code",
   "execution_count": null,
   "metadata": {},
   "outputs": [],
   "source": [
    "plt.figure(figsize=(10, 9))\n",
    "sns.scatterplot(data=target, x='식전혈당(공복혈당)', y='수축기혈압',\n",
    "               hue='허리둘레', size='총콜레스테롤', sizes=(30, 550))"
   ]
  },
  {
   "cell_type": "code",
   "execution_count": null,
   "metadata": {},
   "outputs": [],
   "source": []
  }
 ],
 "metadata": {
  "kernelspec": {
   "display_name": "Python 3 (ipykernel)",
   "language": "python",
   "name": "python3"
  },
  "language_info": {
   "codemirror_mode": {
    "name": "ipython",
    "version": 3
   },
   "file_extension": ".py",
   "mimetype": "text/x-python",
   "name": "python",
   "nbconvert_exporter": "python",
   "pygments_lexer": "ipython3",
   "version": "3.10.9"
  },
  "toc": {
   "base_numbering": 1,
   "nav_menu": {},
   "number_sections": true,
   "sideBar": true,
   "skip_h1_title": false,
   "title_cell": "Table of Contents",
   "title_sidebar": "Contents",
   "toc_cell": false,
   "toc_position": {
    "height": "calc(100% - 180px)",
    "left": "10px",
    "top": "150px",
    "width": "245.052px"
   },
   "toc_section_display": true,
   "toc_window_display": true
  }
 },
 "nbformat": 4,
 "nbformat_minor": 4
}
