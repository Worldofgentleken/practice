{
 "cells": [
  {
   "cell_type": "markdown",
   "metadata": {},
   "source": [
    "#### 파이썬을 이용해서 사용자가 입력한 수를 소인수분해하기"
   ]
  },
  {
   "cell_type": "code",
   "execution_count": 3,
   "metadata": {},
   "outputs": [],
   "source": [
    "inputNumber = int(input('1보다 큰 정수 입력 : '))"
   ]
  },
  {
   "cell_type": "code",
   "execution_count": 4,
   "metadata": {},
   "outputs": [
    {
     "name": "stdout",
     "output_type": "stream",
     "text": [
      "소인수 : 2\n",
      "소인수 : 11\n"
     ]
    }
   ],
   "source": [
    "n = 2\n",
    "while n <= inputNumber:\n",
    "    if inputNumber % n == 0:\n",
    "        print('소인수 : {}'.format(n))\n",
    "        inputNumber /= n\n",
    "    else:\n",
    "        n += 1"
   ]
  },
  {
   "cell_type": "markdown",
   "metadata": {},
   "source": [
    "#### 72에 x를 곱하면 y의 제곱이 된다고 할 때, x에 해당하는 가장 작은 정수 구하기"
   ]
  },
  {
   "cell_type": "code",
   "execution_count": 6,
   "metadata": {},
   "outputs": [
    {
     "name": "stdout",
     "output_type": "stream",
     "text": [
      "소인수 : 2\n",
      "소인수 : 2\n",
      "소인수 : 2\n",
      "소인수 : 3\n",
      "소인수 : 3\n",
      "[2]\n"
     ]
    }
   ],
   "source": [
    "# 72 * x = y^2\n",
    "# x = y^2 / 72\n",
    "inputNumber = int(input('1보다 큰 정수 입력 : '))\n",
    "n = 2\n",
    "searchNumbers = []\n",
    "while n <= inputNumber:\n",
    "    if inputNumber % n == 0:\n",
    "        print('소인수 : {}'.format(n))\n",
    "        if searchNumbers.count(n) == 0:\n",
    "            searchNumbers.append(n)\n",
    "        elif searchNumbers.count(n) == 1:\n",
    "            searchNumbers.remove(n)\n",
    "        inputNumber /= n\n",
    "    else:\n",
    "        n += 1\n",
    "\n",
    "print(searchNumbers)"
   ]
  },
  {
   "cell_type": "markdown",
   "metadata": {},
   "source": [
    "#### 두 개의 수를 입력하면 공약수와 최대공약수를 출력하는 코드를 작성하자."
   ]
  },
  {
   "cell_type": "code",
   "execution_count": 9,
   "metadata": {},
   "outputs": [
    {
     "name": "stdout",
     "output_type": "stream",
     "text": [
      "공약수 : 1\n",
      "공약수 : 2\n",
      "공약수 : 3\n",
      "공약수 : 4\n",
      "공약수 : 6\n",
      "공약수 : 12\n",
      "최대공약수 : 12\n"
     ]
    }
   ],
   "source": [
    "num1 = int(input('1보다 큰 정수 입력 :'))\n",
    "num2 = int(input('1보다 큰 정수 입력 :'))\n",
    "maxNum = 0\n",
    "\n",
    "for i in range(1, num1 +1):\n",
    "    if num1 % i == 0 and num2 % i == 0:\n",
    "        print(f'공약수 : {i}')\n",
    "        manNum = i\n",
    "\n",
    "print(f'최대공약수 : {manNum}')"
   ]
  },
  {
   "cell_type": "markdown",
   "metadata": {},
   "source": [
    "#### 세 개의 수를 입력하면 공약수와 최대공약수를 출력하는 코드를 작성하자."
   ]
  },
  {
   "cell_type": "code",
   "execution_count": 10,
   "metadata": {},
   "outputs": [
    {
     "name": "stdout",
     "output_type": "stream",
     "text": [
      "공약수 : 1\n",
      "공약수 : 2\n",
      "공약수 : 3\n",
      "공약수 : 6\n",
      "최대공약수 : 6\n"
     ]
    }
   ],
   "source": [
    "num1 = int(input('1보다 큰 정수 입력 :'))\n",
    "num2 = int(input('1보다 큰 정수 입력 :'))\n",
    "num3 = int(input('1보다 큰 정수 입력 :'))\n",
    "maxNum = 0\n",
    "\n",
    "for i in range(1, num1 + 1):\n",
    "    if num1 % i == 0 and num2 % i == 0 and num3 % i == 0:\n",
    "        print(f'공약수 : {i}')\n",
    "        maxNum = i\n",
    "\n",
    "print(f'최대공약수 : {maxNum}')"
   ]
  },
  {
   "cell_type": "code",
   "execution_count": null,
   "metadata": {},
   "outputs": [],
   "source": []
  },
  {
   "cell_type": "code",
   "execution_count": null,
   "metadata": {},
   "outputs": [],
   "source": []
  }
 ],
 "metadata": {
  "kernelspec": {
   "display_name": "ds_study",
   "language": "python",
   "name": "python3"
  },
  "language_info": {
   "codemirror_mode": {
    "name": "ipython",
    "version": 3
   },
   "file_extension": ".py",
   "mimetype": "text/x-python",
   "name": "python",
   "nbconvert_exporter": "python",
   "pygments_lexer": "ipython3",
   "version": "3.8.19"
  }
 },
 "nbformat": 4,
 "nbformat_minor": 2
}
