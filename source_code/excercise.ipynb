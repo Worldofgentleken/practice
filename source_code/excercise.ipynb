{
 "cells": [
  {
   "cell_type": "markdown",
   "id": "59ac700f-3add-4ceb-9055-9ad8763e0c2d",
   "metadata": {},
   "source": [
    "- 다음과 같이 출력 될 수 있도록 산술연산 계산기를 함수를 이용해서 만들어 보자.\n",
    "1. 덧셈, 2. 뺼셈, 3. 곱셈, 4. 나눗셈, 5. 나머지, 6. 몫, 7. 제곱승, 8. 종료      \n",
    "첫 번째 숫자 입력 : 10      \n",
    "두 번째 숫자 입력 : 3.14      \n",
    "num1 + num2 = result (8 입력시 bye 출력)"
   ]
  },
  {
   "cell_type": "code",
   "execution_count": 7,
   "id": "8833d962-818c-49e4-8645-2658988e6a99",
   "metadata": {},
   "outputs": [],
   "source": [
    "def calculator(n, n1, n2):\n",
    "    if n == 1:\n",
    "        print(f'{n1} + {n2} = {n1 + n2}')\n",
    "\n",
    "    elif n == 2:\n",
    "        print(f'{n1} - {n2} = {n1 - n2}')\n",
    "\n",
    "    elif n == 3:\n",
    "        print(f'{n1} * {n2} = {n1 * n2}')\n",
    "\n",
    "    elif n == 4:\n",
    "        print(f'{n1} * {n2} = {n1 / n2}')\n",
    "\n",
    "    elif n == 5:\n",
    "        print(f'{n1} * {n2} = {n1 % n2}')\n",
    "\n",
    "    elif n == 6:\n",
    "        print(f'{n1} * {n2} = {n1 // n2}')\n",
    "\n",
    "    elif n == 7:\n",
    "        print(f'{n1} * {n2} = {n1 ** n2}')"
   ]
  },
  {
   "cell_type": "code",
   "execution_count": 10,
   "id": "818ffddf-f320-4588-8ddd-b8e11fa6d66c",
   "metadata": {},
   "outputs": [
    {
     "name": "stdin",
     "output_type": "stream",
     "text": [
      "1. 덧셈, 2. 뺼셈, 3. 곱셈, 4. 나눗셈, 5. 나머지, 6. 몫, 7. 제곱승, 8. 종료 7\n",
      "첫 번째 숫자 입력 :  10\n",
      "두 번째 숫자 입력 :  3\n"
     ]
    },
    {
     "name": "stdout",
     "output_type": "stream",
     "text": [
      "10 * 3 = 1000\n"
     ]
    }
   ],
   "source": [
    "selectNum = int(input('1. 덧셈, 2. 뺼셈, 3. 곱셈, 4. 나눗셈, 5. 나머지, 6. 몫, 7. 제곱승, 8. 종료'))\n",
    "if selectNum < 8:\n",
    "    num1 = int(input('첫 번째 숫자 입력 : '))\n",
    "    num2 = int(input('두 번째 숫자 입력 : '))\n",
    "    calculator(selectNum, num1, num2)\n",
    "\n",
    "else:\n",
    "    print('bye')"
   ]
  },
  {
   "cell_type": "markdown",
   "id": "fd67bfc0-ab10-4ae6-b37d-33631cae4cb0",
   "metadata": {},
   "source": [
    "- 다음과 같이 출력될 수 있도록 이동거리와 이동시간을 반환하는 함수를 만들어보자."
   ]
  },
  {
   "cell_type": "code",
   "execution_count": 11,
   "id": "08a228d2-fabf-4fb0-b79e-28487b402262",
   "metadata": {},
   "outputs": [],
   "source": [
    "# ------------------------------------------------------------\n",
    "# 속도(km/h) 입력 : 90\n",
    "# 시간(h) 입력 : 2\n",
    "# 시간(m) 입력 : 45\n",
    "# 90.0(km/h)속도로 2.0(h)시간 45.0(m)분 동안 이동한 거리 : 247.5(km))\n",
    "# ------------------------------------------------------------"
   ]
  },
  {
   "cell_type": "code",
   "execution_count": 10,
   "id": "a22bd72c-2111-4dd8-95f1-59005a3d2f13",
   "metadata": {},
   "outputs": [],
   "source": [
    "def getDist(speed, hour, min):\n",
    "    result = (speed/60)*(60*hour + min)\n",
    "    return result"
   ]
  },
  {
   "cell_type": "code",
   "execution_count": 11,
   "id": "7c7e3a1d-b7cf-47d9-9c99-6c8089744070",
   "metadata": {},
   "outputs": [
    {
     "name": "stdout",
     "output_type": "stream",
     "text": [
      "------------------------------------------------------------\n"
     ]
    },
    {
     "name": "stdin",
     "output_type": "stream",
     "text": [
      "속도(km/h) 입력 :  90\n",
      "시간(h) 입력 :  2\n",
      "시간(m) 입력 :  45\n"
     ]
    },
    {
     "name": "stdout",
     "output_type": "stream",
     "text": [
      "90.0(km/h)속도로 2.0(h)시간 45.0(m)분 동안 이동한 거리 : 247.5(km)\n",
      "------------------------------------------------------------\n"
     ]
    }
   ],
   "source": [
    "print('-' * 60)\n",
    "s = float(input('속도(km/h) 입력 : '))\n",
    "h = float(input('시간(h) 입력 : '))\n",
    "m = float(input('시간(m) 입력 : '))\n",
    "d = getDist(s, h, m)\n",
    "print(f'{s}(km/h)속도로 {h}(h)시간 {m}(m)분 동안 이동한 거리 : {d}(km)')\n",
    "print('-' * 60)"
   ]
  },
  {
   "cell_type": "code",
   "execution_count": 19,
   "id": "c02a5993-1cb4-4ec9-9f39-8ec9384164c1",
   "metadata": {},
   "outputs": [],
   "source": [
    "def getTime(speed, dist):\n",
    "    h = int(dist // speed)\n",
    "    m = int((dist/speed - dist//speed)*60)\n",
    "    return [h, m]"
   ]
  },
  {
   "cell_type": "code",
   "execution_count": 20,
   "id": "3bbda3b6-9e6d-4c8d-9a6a-c0d397d3ee51",
   "metadata": {},
   "outputs": [
    {
     "name": "stdout",
     "output_type": "stream",
     "text": [
      "------------------------------------------------------------\n"
     ]
    },
    {
     "name": "stdin",
     "output_type": "stream",
     "text": [
      "속도(km/h) 입력 :  90\n",
      "거리(km) 입력 :  247.5\n"
     ]
    },
    {
     "name": "stdout",
     "output_type": "stream",
     "text": [
      "90.0(km/h)속도로 247.5(km) 이동한 시간 : 2(h)시간 45(m)분\n",
      "------------------------------------------------------------\n"
     ]
    }
   ],
   "source": [
    "print('-' * 60)\n",
    "s = float(input('속도(km/h) 입력 : '))\n",
    "d = float(input('거리(km) 입력 : '))\n",
    "t = getTime(s, d)\n",
    "print(f'{s}(km/h)속도로 {d}(km) 이동한 시간 : {t[0]}(h)시간 {t[1]}(m)분')\n",
    "print('-' * 60)"
   ]
  },
  {
   "cell_type": "code",
   "execution_count": 32,
   "id": "43d0d36f-699e-4d02-afec-6ebc9c02e8d4",
   "metadata": {},
   "outputs": [
    {
     "data": {
      "text/plain": [
       "0.75"
      ]
     },
     "execution_count": 32,
     "metadata": {},
     "output_type": "execute_result"
    }
   ],
   "source": [
    "247.5/90 - 247.5//90"
   ]
  },
  {
   "cell_type": "code",
   "execution_count": 15,
   "id": "1b7215f3-4834-48cb-ace8-85a468fd6a59",
   "metadata": {},
   "outputs": [
    {
     "name": "stdout",
     "output_type": "stream",
     "text": [
      "2\n",
      "45\n"
     ]
    }
   ],
   "source": [
    "speed = 90\n",
    "dist = 247.5\n",
    "\n",
    "result_time = int(dist // speed)\n",
    "result_min = int((dist/speed - dist//speed)*60)\n",
    "\n",
    "print(result_time)\n",
    "print(result_min)"
   ]
  },
  {
   "cell_type": "markdown",
   "id": "e296604a-a1c7-43fd-97c7-5cedc7970bf8",
   "metadata": {},
   "source": [
    "- 다음과 같이 출력 될 수 있도록 비행기 티켓 영수증 출력 함수를 만들어 보자\n",
    "- childPrice(24개월 미만)    : 18,000원\n",
    "- infrantPrice(만 12세 미만) : 25,000원\n",
    "- adaltPrice(만 12세 이후)   : 50,000원\n",
    "- 국가 유공자 및 장애우 할인     : 50%\n",
    "\n",
    "- 유아 입력 : 1\n",
    "- 할인대상 유아 입력 : 1\n",
    "- 소아 입력 : 2\n",
    "- 할인대상 소아 입력 : 1\n",
    "- 성인 입력 : 2\n",
    "- 할인대상 성인 입력 : 0\n",
    "\n",
    "- 출력\n",
    "- ====================================\n",
    "- 유아 1명 요금 : 18,000원\n",
    "- 유아 할인 대상 1명 요금 : 9,000원\n",
    "- 소아 2명 요금 : 50,000원\n",
    "- 소아 할인 대상 1명 요금 : 12,500원\n",
    "- 성인 2명 요금 : 100,000원\n",
    "- 성인 할인 대상 0명 요금 : 0원\n",
    "- ====================================\n",
    "- Total : 5명\n",
    "- TotalPrice : 146,500원\n",
    "- ===================================="
   ]
  },
  {
   "cell_type": "code",
   "execution_count": 84,
   "id": "c90c4d15-a89f-44b1-abc7-4d0ec7e14012",
   "metadata": {},
   "outputs": [],
   "source": [
    "def childPrice(c1, c2):\n",
    "    childDiscPrice = 0\n",
    "    childBasicTotal = 18000 * c1\n",
    "    if c1 >= 1 and 1 <= c2 <= c1:\n",
    "        childDiscPrice = 18000 * c2 * 0.5\n",
    "    childTotalPrice = childBasicTotal + childDiscPrice\n",
    "        \n",
    "    return [childBasicTotal, childDiscPrice, childTotalPrice]\n",
    "\n",
    "def infrantPrice(i1, i2):\n",
    "    infrantDiscPrice = 0\n",
    "    infrantBasicTotal = 25000 * i1\n",
    "    if i1 >= 1 and 1 <= i2 <= i1:\n",
    "        infrantDiscPrice = 25000 * i2 * 0.5\n",
    "    infrantTotalPrice = infrantBasicTotal + infrantDiscPrice\n",
    "        \n",
    "    return [infrantBasicTotal, infrantDiscPrice, infrantTotalPrice]\n",
    "\n",
    "def adultPrice(a1, a2):\n",
    "    adultDiscPrice = 0\n",
    "    adultBasicTotal = 50000 * a1\n",
    "    if a1 >= 1 and 1 <= a2 <= a1:\n",
    "        adultDiscPrice = 50000 * a2 * 0.5\n",
    "    adultTotalPrice = adultBasicTotal + adultDiscPrice\n",
    "\n",
    "    return [adultBasicTotal, adultDiscPrice, adultTotalPrice]"
   ]
  },
  {
   "cell_type": "code",
   "execution_count": 85,
   "id": "634a2818-9adc-4342-8caa-fa550b2205c2",
   "metadata": {},
   "outputs": [
    {
     "name": "stdin",
     "output_type": "stream",
     "text": [
      "유아 입력 :  1\n",
      "할인대상 유아 입력 :  1\n",
      "소아 입력 :  2\n",
      "할인대상 소아 입력 :  1\n",
      "성인 입력 :  2\n",
      "할인대상 성인 입력 :  0\n"
     ]
    }
   ],
   "source": [
    "child = int(input('유아 입력 : '))\n",
    "childDisc = int(input('할인대상 유아 입력 : '))\n",
    "infrant = int(input('소아 입력 : '))\n",
    "infrantDisc = int(input('할인대상 소아 입력 : '))\n",
    "adult = int(input('성인 입력 : '))\n",
    "adultDisc = int(input('할인대상 성인 입력 : '))"
   ]
  },
  {
   "cell_type": "code",
   "execution_count": 86,
   "id": "88e47f4d-9abc-4fbc-af54-a2509b14af22",
   "metadata": {},
   "outputs": [],
   "source": [
    "ctp = childPrice(child, childDisc)\n",
    "itp = infrantPrice(infrant, infrantDisc)\n",
    "atp = adultPrice(adult, adultDisc)\n",
    "totalCustomer = child + infrant + adult + childDisc + infrantDisc + adultDisc\n",
    "totalPrice = atp[2] + itp[2] + ctp[2]"
   ]
  },
  {
   "cell_type": "code",
   "execution_count": 87,
   "id": "dc4920df-dfa4-4623-91cb-e535c3673cc4",
   "metadata": {},
   "outputs": [
    {
     "name": "stdout",
     "output_type": "stream",
     "text": [
      "========================================\n",
      "유아 1명 요금 : 18,000원\n",
      "유아 할인 대상 1명 요금 : 9,000원\n",
      "소아 2명 요금 : 50,000원\n",
      "소아 할인대상 1명 요금 : 12,500원\n",
      "성인 2명 요금 : 100,000원\n",
      "성인 할인대상 0명 요금 : 0원\n",
      "========================================\n",
      "Total : 7명\n",
      "TotalPrice : 189,500원\n"
     ]
    }
   ],
   "source": [
    "print('='*40)\n",
    "print(f'유아 {child}명 요금 : {int(ctp[0]):,}원')\n",
    "print(f'유아 할인 대상 {childDisc}명 요금 : {int(ctp[1]):,}원')\n",
    "print(f'소아 {infant}명 요금 : {itp[0]:,}원')\n",
    "print(f'소아 할인대상 {infantDisc}명 요금 : {int(itp[1]):,}원')\n",
    "print(f'성인 {adult}명 요금 : {atp[0]:,}원')\n",
    "print(f'성인 할인대상 {adultDisc}명 요금 : {int(atp[1]):,}원')\n",
    "print('='*40)\n",
    "print(f'Total : {totalCustomer}명')\n",
    "print(f'TotalPrice : {int(totalPrice):,}원')"
   ]
  },
  {
   "cell_type": "markdown",
   "id": "6ebfc8ac-f1b9-4fc0-a208-1f660c13c067",
   "metadata": {},
   "source": [
    "- 다음과 같이 출력될 수 있도록 재귀함수를 이용해서 팩토리얼 함수를 만들어보자\n",
    "- 출력\n",
    "- input number : 5\n",
    "- 120"
   ]
  },
  {
   "cell_type": "code",
   "execution_count": 102,
   "id": "9d316208-40d4-4ee8-9484-eaba65ce2980",
   "metadata": {},
   "outputs": [],
   "source": [
    "def myself(n1):\n",
    "    if n1 == 1:\n",
    "        return 1\n",
    "    else:\n",
    "        return n1*myself(n1-1)"
   ]
  },
  {
   "cell_type": "code",
   "execution_count": 103,
   "id": "50562dc4-3fbb-4de9-ae51-33723a054762",
   "metadata": {},
   "outputs": [
    {
     "name": "stdin",
     "output_type": "stream",
     "text": [
      "input number :  20\n"
     ]
    },
    {
     "data": {
      "text/plain": [
       "2432902008176640000"
      ]
     },
     "execution_count": 103,
     "metadata": {},
     "output_type": "execute_result"
    }
   ],
   "source": [
    "n = int(input('input number : '))\n",
    "myself(n)"
   ]
  },
  {
   "cell_type": "code",
   "execution_count": null,
   "id": "724cd27b-8e2b-4845-b283-b6d62ecc3dc2",
   "metadata": {},
   "outputs": [],
   "source": [
    "# 다음과 같이 출력 될 수 있도록 단리/월복리 게산기 함수를 만들어보자.\n",
    "# 입력\n",
    "# 예치금(원) : 10000000\n",
    "# 기간(년) : 3\n",
    "# 연 이율(%) : 3\n",
    "# [단리 계산기]\n",
    "# ==============================\n",
    "# 예치금 : 10,000,000원\n",
    "# 예치기간 : 3년\n",
    "# 연 이율 : 3%\n",
    "# ------------------------------\n",
    "# 3년 후 총 수령액 : 10,900,000원\n",
    "# ==============================\n",
    "\n",
    "# [월복리 계산기]\n",
    "# ==============================\n",
    "# 예치금 : 10,000,000원\n",
    "# 예치기간 : 3년\n",
    "# 연 이율 : 3%\n",
    "# ------------------------------\n",
    "# 3년 후 총 수령액 : 10,940,514원\n",
    "# =============================="
   ]
  },
  {
   "cell_type": "code",
   "execution_count": 119,
   "id": "3d3b2d68-3ab5-4229-9473-432e1322ccf3",
   "metadata": {},
   "outputs": [],
   "source": [
    "def interestCalculator(b, y, r):\n",
    "    simpleInterest = b + b*r/100*3\n",
    "    monthly_rate = r / 100 / 12\n",
    "    compoundInterst = b * (1 + monthly_rate) ** (12*y)\n",
    "    return [simpleInterest, compoundInterst]"
   ]
  },
  {
   "cell_type": "code",
   "execution_count": 120,
   "id": "91511bdb-393b-42d5-a830-9fd8a05e4ed8",
   "metadata": {},
   "outputs": [
    {
     "name": "stdin",
     "output_type": "stream",
     "text": [
      "예치금(원):  20000000\n",
      "기간(년):  5\n",
      "연 이율(%):  5\n"
     ]
    }
   ],
   "source": [
    "base = int(input('예치금(원): '))\n",
    "year = int(input('기간(년): '))\n",
    "rate = int(input('연 이율(%): '))"
   ]
  },
  {
   "cell_type": "code",
   "execution_count": 121,
   "id": "cf72a055-f8cc-477a-982e-51d065642c7f",
   "metadata": {},
   "outputs": [],
   "source": [
    "ic = interestCalculator(base, year, rate)"
   ]
  },
  {
   "cell_type": "code",
   "execution_count": 122,
   "id": "e5696b36-893a-4aa7-8fbb-ffa829588c3e",
   "metadata": {},
   "outputs": [
    {
     "name": "stdout",
     "output_type": "stream",
     "text": [
      "[단리 계산기]\n",
      "==============================\n",
      "예치금 : 20,000,000원\n",
      "예치기간 : 5년\n",
      "연 이율 : 5%\n",
      "------------------------------\n",
      "3년 후 총 수령액 : 23,000,000원\n",
      "==============================\n",
      "\n",
      "[월복리 계산기]\n",
      "==============================\n",
      "예치금 : 20,000,000원\n",
      "예치기간 : 5년\n",
      "연 이율 : 5%\n",
      "------------------------------\n",
      "3년 후 총 수령액 : 25,667,173원\n",
      "==============================\n"
     ]
    }
   ],
   "source": [
    "print('[단리 계산기]')\n",
    "print('='*30)\n",
    "print(f'예치금 : {base:,}원')\n",
    "print(f'예치기간 : {year}년')\n",
    "print(f'연 이율 : {rate}%')\n",
    "print('-'*30)\n",
    "print(f'3년 후 총 수령액 : {int(ic[0]):,}원')\n",
    "print('='*30)\n",
    "print('')\n",
    "print('[월복리 계산기]')\n",
    "print('='*30)\n",
    "print(f'예치금 : {base:,}원')\n",
    "print(f'예치기간 : {year}년')\n",
    "print(f'연 이율 : {rate}%')\n",
    "print('-'*30)\n",
    "print(f'3년 후 총 수령액 : {int(ic[1]):,}원')\n",
    "print('='*30)"
   ]
  },
  {
   "cell_type": "code",
   "execution_count": 123,
   "id": "52c1fffb-cbee-49a3-8ac5-f402a6c7b2f3",
   "metadata": {},
   "outputs": [],
   "source": [
    "# 다음과 같이 출력 될 수 있도록 등차 수열의 n번쨰 값과 합을 출력하는 함수를 만들어 보자.\n",
    "# a1 입력 : 2\n",
    "# 공차 입력 : 3\n",
    "# n 입력 : 7\n",
    "# 1번째 항의 값 : 2\n",
    "# 1번쨰 항까지의 합 : 2\n",
    "# 2번째 항의 값 : 5\n",
    "# 2번째 항까지의 합 : 7\n",
    "# 3번째 항의 값 : 8\n",
    "# 3번째 항까지의 합 : 15\n",
    "# 4번째 항의 값 : 11\n",
    "# 4번째 항까지의 합 : 26\n",
    "# 5번째 항의 값 : 14\n",
    "# 5번째 항까지의 합 : 40\n",
    "# 6번째 항의 값 : 17\n",
    "# 6번째 항까지의 합 : 57\n",
    "# 7번째 항의 값 : 20\n",
    "# 7번째 항까지의 합 : 77"
   ]
  },
  {
   "cell_type": "code",
   "execution_count": 169,
   "id": "f8d7bc29-ad5e-4727-acfb-e032d7e23f26",
   "metadata": {},
   "outputs": [],
   "source": [
    "def numList(n1, n2, n3):\n",
    "    n1_List = []\n",
    "    for i in range(1, n3 + 1):\n",
    "        i = n1 + (i - 1)*n2\n",
    "        n1_List.append(i)\n",
    "    \n",
    "    for j in range(n3):\n",
    "        print(f'{j+1}번째 항의 값 : {n1_List[j]}')\n",
    "        print(f'{j+1}번째 항까지의 합 : {sum(n1_List[:j+1])}')"
   ]
  },
  {
   "cell_type": "code",
   "execution_count": 170,
   "id": "d69148b2-9481-4215-8aae-f591c46ca275",
   "metadata": {},
   "outputs": [
    {
     "name": "stdin",
     "output_type": "stream",
     "text": [
      "a1 입력 :  2\n",
      "공차 입력 :  3\n",
      "n 입력 :  7\n"
     ]
    }
   ],
   "source": [
    "a1 = int(input('a1 입력 : '))\n",
    "b1 = int(input('공차 입력 : '))\n",
    "n = int(input('n 입력 : '))"
   ]
  },
  {
   "cell_type": "code",
   "execution_count": 172,
   "id": "0f3b01ca-42c2-43da-aabf-7ab0859abc99",
   "metadata": {},
   "outputs": [
    {
     "name": "stdout",
     "output_type": "stream",
     "text": [
      "1번째 항의 값 : 2\n",
      "1번째 항까지의 합 : 2\n",
      "2번째 항의 값 : 5\n",
      "2번째 항까지의 합 : 7\n",
      "3번째 항의 값 : 8\n",
      "3번째 항까지의 합 : 15\n",
      "4번째 항의 값 : 11\n",
      "4번째 항까지의 합 : 26\n",
      "5번째 항의 값 : 14\n",
      "5번째 항까지의 합 : 40\n",
      "6번째 항의 값 : 17\n",
      "6번째 항까지의 합 : 57\n",
      "7번째 항의 값 : 20\n",
      "7번째 항까지의 합 : 77\n"
     ]
    }
   ],
   "source": [
    "result = numList(a1, b1, n)\n",
    "result"
   ]
  },
  {
   "cell_type": "code",
   "execution_count": 159,
   "id": "9457268f-b972-4873-8cd7-813f69fcabd2",
   "metadata": {},
   "outputs": [
    {
     "name": "stdout",
     "output_type": "stream",
     "text": [
      "[2, 5, 8, 11, 14, 17, 20]\n"
     ]
    }
   ],
   "source": [
    "a1 = 2\n",
    "b1 = 3\n",
    "n = 7\n",
    "a1_List = []\n",
    "for i in range(1, n + 1):\n",
    "    i = a1 + (i - 1)*b1\n",
    "    a1_List.append(i)\n",
    "print(a1_List)"
   ]
  },
  {
   "cell_type": "code",
   "execution_count": 168,
   "id": "ffa919db-0a7e-4576-a015-0e291f2dd2dd",
   "metadata": {},
   "outputs": [
    {
     "name": "stdout",
     "output_type": "stream",
     "text": [
      "1번째 항의 값 : 2\n",
      "1번째 항까지의 합 : 2\n",
      "2번째 항의 값 : 5\n",
      "2번째 항까지의 합 : 7\n",
      "3번째 항의 값 : 8\n",
      "3번째 항까지의 합 : 15\n",
      "4번째 항의 값 : 11\n",
      "4번째 항까지의 합 : 26\n",
      "5번째 항의 값 : 14\n",
      "5번째 항까지의 합 : 40\n",
      "6번째 항의 값 : 17\n",
      "6번째 항까지의 합 : 57\n",
      "7번째 항의 값 : 20\n",
      "7번째 항까지의 합 : 77\n"
     ]
    }
   ],
   "source": [
    "n1 = 2\n",
    "n2 = 3\n",
    "n3 = 7\n",
    "n1_List = []\n",
    "for i in range(1, n3 + 1):\n",
    "    i = n1 + (i - 1)*n2\n",
    "    n1_List.append(i)\n",
    "\n",
    "for j in range(n3):\n",
    "    print(f'{j+1}번째 항의 값 : {n1_List[j]}')\n",
    "    print(f'{j+1}번째 항까지의 합 : {sum(n1_List[:j+1])}')"
   ]
  },
  {
   "cell_type": "code",
   "execution_count": null,
   "id": "a04bf8a1-2cad-4f8c-80c3-6909e86e5e5b",
   "metadata": {},
   "outputs": [],
   "source": [
    "# 다음과 같이 출력 될 수 있도록 등비 수열의 n번째 값과 합을 출력하는 함수를 만들어 보자.\n",
    "# a1 입력 : 2\n",
    "# 공비 입력 : 3\n",
    "# n 입력 : 5\n",
    "# 1번째 항의 값 : 2\n",
    "# 1번째 항까지의 합 : 2\n",
    "# 2번째 항의 값 : 6\n",
    "# 2번째 항까지의 합 : 8\n",
    "# 3번째 항의 값 : 18\n",
    "# 3번째 항까지의 합 : 26\n",
    "# 4번째 항의 값 : 54\n",
    "# 4번째 항까지의 합 : 80\n",
    "# 5번째 항의 값 : 162\n",
    "# 5번째 항까지의 합 : 242"
   ]
  },
  {
   "cell_type": "code",
   "execution_count": 204,
   "id": "c6592759-a8a2-47b3-8d4e-a6aa36686009",
   "metadata": {},
   "outputs": [],
   "source": [
    "# 등비 수열(일반항) 공식 : an = a1 * r **(n-1)\n",
    "# 등비 수열(합) 공식 : sn = a1 * (1 - r**n) / (1 - r)\n",
    "\n",
    "def sequenceCel(a, b, c):\n",
    "    i = 1\n",
    "    sumN = 0\n",
    "    while i <= c:\n",
    "        if i == 1:\n",
    "            valueN = a\n",
    "            sumN += valueN\n",
    "            print(f'{i}번째 항의 값 : {valueN}')\n",
    "            print(f'{i}번째 항까지의 합 : {sumN}')\n",
    "    \n",
    "            i += 1\n",
    "            continue\n",
    "    \n",
    "        valueN *= b\n",
    "        sumN += valueN\n",
    "        print(f'{i}번째 항의 값 : {valueN}')\n",
    "        print(f'{i}번째 항까지의 합 : {sumN}')\n",
    "        i += 1"
   ]
  },
  {
   "cell_type": "code",
   "execution_count": 206,
   "id": "d5909b67-7df8-4331-a90e-5b05814800c4",
   "metadata": {},
   "outputs": [
    {
     "name": "stdin",
     "output_type": "stream",
     "text": [
      "a1 입력 :  2\n",
      "공비 입력 :  3\n",
      "n 입력 :  5\n"
     ]
    },
    {
     "name": "stdout",
     "output_type": "stream",
     "text": [
      "1번째 항의 값 : 2\n",
      "1번째 항까지의 합 : 2\n",
      "2번째 항의 값 : 6\n",
      "2번째 항까지의 합 : 8\n",
      "3번째 항의 값 : 18\n",
      "3번째 항까지의 합 : 26\n",
      "4번째 항의 값 : 54\n",
      "4번째 항까지의 합 : 80\n",
      "5번째 항의 값 : 162\n",
      "5번째 항까지의 합 : 242\n"
     ]
    }
   ],
   "source": [
    "a1 = int(input('a1 입력 : '))\n",
    "b1 = int(input('공비 입력 : '))\n",
    "n = int(input('n 입력 : '))\n",
    "\n",
    "sequenceCel(a1,b1,n)"
   ]
  },
  {
   "cell_type": "code",
   "execution_count": null,
   "id": "07a9a3ae-2e49-41a6-a0a8-a8f0901dd9dc",
   "metadata": {},
   "outputs": [],
   "source": []
  },
  {
   "cell_type": "code",
   "execution_count": null,
   "id": "b7f3f1e1-1dcd-4155-9664-c0113af901c3",
   "metadata": {},
   "outputs": [],
   "source": []
  },
  {
   "cell_type": "code",
   "execution_count": null,
   "id": "3cfe9ea8-0a28-47f7-b07a-d0a3f04c843c",
   "metadata": {},
   "outputs": [],
   "source": []
  },
  {
   "cell_type": "code",
   "execution_count": null,
   "id": "31314de9-888f-4abe-8e0e-2aabddebd619",
   "metadata": {},
   "outputs": [],
   "source": []
  },
  {
   "cell_type": "code",
   "execution_count": null,
   "id": "68bc67fb-bd8c-4af5-87a1-c59168f8e9dc",
   "metadata": {},
   "outputs": [],
   "source": []
  },
  {
   "cell_type": "code",
   "execution_count": null,
   "id": "1537489e-25b7-44c2-b406-fe9dc2b14cb7",
   "metadata": {},
   "outputs": [],
   "source": []
  },
  {
   "cell_type": "code",
   "execution_count": null,
   "id": "6e942f9c-b751-45aa-887f-aaf942ee7977",
   "metadata": {},
   "outputs": [],
   "source": []
  },
  {
   "cell_type": "code",
   "execution_count": null,
   "id": "ff0df5ec-773f-4c4c-b00a-9b27557e587d",
   "metadata": {},
   "outputs": [],
   "source": []
  },
  {
   "cell_type": "code",
   "execution_count": null,
   "id": "2e294c1c-c521-4cb2-9cc8-3377c0c9f3cb",
   "metadata": {},
   "outputs": [],
   "source": []
  },
  {
   "cell_type": "code",
   "execution_count": null,
   "id": "5776e7b6-8a53-42ea-9013-fdc2063b5dd8",
   "metadata": {},
   "outputs": [],
   "source": []
  },
  {
   "cell_type": "code",
   "execution_count": null,
   "id": "f8f9c482-9a6c-416f-b343-81a31f37b400",
   "metadata": {},
   "outputs": [],
   "source": []
  },
  {
   "cell_type": "code",
   "execution_count": null,
   "id": "8f47ce5f-7b12-494c-b638-e61488ed5f76",
   "metadata": {},
   "outputs": [],
   "source": []
  },
  {
   "cell_type": "code",
   "execution_count": null,
   "id": "a6c4f8eb-0f49-4a2a-9915-050ea8682608",
   "metadata": {},
   "outputs": [],
   "source": []
  },
  {
   "cell_type": "code",
   "execution_count": null,
   "id": "91d8e112-9af4-43b6-ac56-cde7e9d3cd91",
   "metadata": {},
   "outputs": [],
   "source": []
  },
  {
   "cell_type": "code",
   "execution_count": null,
   "id": "dc8e9b2b-3cc6-4104-b83c-51d645e0a7e4",
   "metadata": {},
   "outputs": [],
   "source": []
  },
  {
   "cell_type": "code",
   "execution_count": null,
   "id": "f42dc618-f592-4553-b66d-308f813eed40",
   "metadata": {},
   "outputs": [],
   "source": []
  },
  {
   "cell_type": "code",
   "execution_count": null,
   "id": "d1ce62f9-ee17-46eb-b5d2-f74906fc8206",
   "metadata": {},
   "outputs": [],
   "source": []
  },
  {
   "cell_type": "code",
   "execution_count": null,
   "id": "13178773-20b6-40da-9e4e-92892d932a8f",
   "metadata": {},
   "outputs": [],
   "source": []
  },
  {
   "cell_type": "code",
   "execution_count": null,
   "id": "f4ad1aa3-2e64-4cb0-8ca2-224c03e65fb1",
   "metadata": {},
   "outputs": [],
   "source": []
  },
  {
   "cell_type": "code",
   "execution_count": null,
   "id": "c76cfdb5-0980-4a3d-a506-6d825f614a9a",
   "metadata": {},
   "outputs": [],
   "source": []
  },
  {
   "cell_type": "code",
   "execution_count": null,
   "id": "c1d707c9-19f8-42b4-a8c1-184011a4cf82",
   "metadata": {},
   "outputs": [],
   "source": []
  },
  {
   "cell_type": "code",
   "execution_count": null,
   "id": "1acc261d-359e-4f62-9d4d-e2db03ff443f",
   "metadata": {},
   "outputs": [],
   "source": []
  },
  {
   "cell_type": "code",
   "execution_count": null,
   "id": "5d1f0cdd-c654-4d8c-a627-c4e0f2672679",
   "metadata": {},
   "outputs": [],
   "source": []
  }
 ],
 "metadata": {
  "kernelspec": {
   "display_name": "Python 3 (ipykernel)",
   "language": "python",
   "name": "python3"
  },
  "language_info": {
   "codemirror_mode": {
    "name": "ipython",
    "version": 3
   },
   "file_extension": ".py",
   "mimetype": "text/x-python",
   "name": "python",
   "nbconvert_exporter": "python",
   "pygments_lexer": "ipython3",
   "version": "3.11.7"
  }
 },
 "nbformat": 4,
 "nbformat_minor": 5
}
