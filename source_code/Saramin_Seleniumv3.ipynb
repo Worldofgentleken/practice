{
 "cells": [
  {
   "cell_type": "code",
   "execution_count": 18,
   "id": "06b71831",
   "metadata": {},
   "outputs": [],
   "source": [
    "# 설치한 selenium에서 webdriver를 import\n",
    "from selenium import webdriver\n",
    "from selenium.webdriver.common.by import By\n",
    "from selenium.webdriver.common.keys import Keys\n",
    "import time\n",
    "from bs4 import BeautifulSoup\n",
    "import pandas as pd\n",
    "from tqdm import tqdm\n",
    "from urllib.request import urlopen"
   ]
  },
  {
   "cell_type": "code",
   "execution_count": null,
   "id": "93dc8801",
   "metadata": {},
   "outputs": [],
   "source": [
    "# selenum의 webdriver에 앞서 설치한 chromedirver를 연동한다.\n",
    "#driver = webdriver.Chrome(\"\")"
   ]
  },
  {
   "cell_type": "code",
   "execution_count": 20,
   "id": "f53576bd",
   "metadata": {},
   "outputs": [],
   "source": [
    "driver.quit()"
   ]
  },
  {
   "cell_type": "code",
   "execution_count": null,
   "id": "f7af9b74",
   "metadata": {},
   "outputs": [],
   "source": [
    "#url = 'https://www.saramin.co.kr/zf_user/search?search_area=main&search_done=y&search_optional_item=n&loc_mcd=117000&cat_kewd=87%2C109%2C83%2C82%2C84%2C86%2C108%2C110%2C106%2C111%2C105%2C107'\n",
    "#driver.get(url)\n",
    "#driver.page_source[1:1000]"
   ]
  },
  {
   "cell_type": "code",
   "execution_count": null,
   "id": "1c5dfb5e",
   "metadata": {},
   "outputs": [],
   "source": []
  },
  {
   "cell_type": "code",
   "execution_count": 19,
   "id": "268644e9",
   "metadata": {},
   "outputs": [],
   "source": [
    "# 크롬 드라이버 실행\n",
    "driver = webdriver.Chrome(\"\")\n",
    "\n",
    "url = 'https://www.saramin.co.kr/zf_user/jobs/list/domestic'\n",
    "driver.get(url)\n",
    "# 지역 선택\n",
    "# 강남구 선택\n",
    "driver.find_element(By.XPATH, '//*[@id=\"sp_area_lastDepth_101000\"]/li[2]/div/label').click()\n",
    "# 송파구\n",
    "driver.find_element(By.XPATH, '//*[@id=\"sp_area_lastDepth_101000\"]/li[19]/div/label').click()\n",
    "# 구로구\n",
    "driver.find_element(By.XPATH, '//*[@id=\"sp_area_lastDepth_101000\"]/li[8]/div/label').click()\n",
    "# 금천구\n",
    "driver.find_element(By.XPATH, '//*[@id=\"sp_area_lastDepth_101000\"]/li[9]/div/label').click()\n",
    "# 서초구\n",
    "driver.find_element(By.XPATH, '//*[@id=\"sp_area_lastDepth_101000\"]/li[16]/div/label').click()\n",
    "\n",
    "# 분야 선택\n",
    "driver.find_element(By.XPATH, '//*[@id=\"sp_main_wrapper\"]/div[2]/ul/li[2]/button').click()\n",
    "driver.find_element(By.XPATH, '//*[@id=\"sp_main_wrapper\"]/div[2]/div/div[2]/div[2]/div[1]/button[6]').click()\n",
    "driver.find_element(By.XPATH, '//*[@id=\"sp_job_category_subDepth_2\"]/div[2]/div/div[2]/div/dl[2]/dd/button[7]').click()\n",
    "\n",
    "# 검색하기 버튼클릭\n",
    "driver.find_element(By.XPATH, '//*[@id=\"search_btn\"]').click()"
   ]
  },
  {
   "cell_type": "code",
   "execution_count": 3,
   "id": "8d59d08d",
   "metadata": {},
   "outputs": [],
   "source": [
    "driver.find_element(By.XPATH,'//*[@id=\"rec_link_47996731\"]').click()"
   ]
  },
  {
   "cell_type": "code",
   "execution_count": 17,
   "id": "6cb7624a-b094-4d7b-a7d9-99422b7ae370",
   "metadata": {},
   "outputs": [
    {
     "ename": "NoSuchWindowException",
     "evalue": "Message: no such window: target window already closed\nfrom unknown error: web view not found\n  (Session info: chrome=124.0.6367.209)\nStacktrace:\n0   chromedriver                        0x0000000102f62940 chromedriver + 4368704\n1   chromedriver                        0x0000000102f5add4 chromedriver + 4337108\n2   chromedriver                        0x0000000102b7ec04 chromedriver + 289796\n3   chromedriver                        0x0000000102b59918 chromedriver + 137496\n4   chromedriver                        0x0000000102be5ab8 chromedriver + 711352\n5   chromedriver                        0x0000000102bf8d08 chromedriver + 789768\n6   chromedriver                        0x0000000102bb5ab4 chromedriver + 514740\n7   chromedriver                        0x0000000102bb650c chromedriver + 517388\n8   chromedriver                        0x0000000102f26e5c chromedriver + 4124252\n9   chromedriver                        0x0000000102f2bc4c chromedriver + 4144204\n10  chromedriver                        0x0000000102f0c824 chromedriver + 4016164\n11  chromedriver                        0x0000000102f2c57c chromedriver + 4146556\n12  chromedriver                        0x0000000102efe2d8 chromedriver + 3957464\n13  chromedriver                        0x0000000102f4bec4 chromedriver + 4275908\n14  chromedriver                        0x0000000102f4c040 chromedriver + 4276288\n15  chromedriver                        0x0000000102f5aa34 chromedriver + 4336180\n16  libsystem_pthread.dylib             0x0000000191ae2f94 _pthread_start + 136\n17  libsystem_pthread.dylib             0x0000000191addd34 thread_start + 8\n",
     "output_type": "error",
     "traceback": [
      "\u001b[0;31m---------------------------------------------------------------------------\u001b[0m",
      "\u001b[0;31mNoSuchWindowException\u001b[0m                     Traceback (most recent call last)",
      "Cell \u001b[0;32mIn[17], line 4\u001b[0m\n\u001b[1;32m      2\u001b[0m time\u001b[38;5;241m.\u001b[39msleep(\u001b[38;5;241m2\u001b[39m)     \n\u001b[1;32m      3\u001b[0m \u001b[38;5;66;03m# 페이지 소스를 BeautifulSoup로 파싱\u001b[39;00m\n\u001b[0;32m----> 4\u001b[0m soup \u001b[38;5;241m=\u001b[39m BeautifulSoup(\u001b[43mdriver\u001b[49m\u001b[38;5;241;43m.\u001b[39;49m\u001b[43mpage_source\u001b[49m, \u001b[38;5;124m'\u001b[39m\u001b[38;5;124mhtml.parser\u001b[39m\u001b[38;5;124m'\u001b[39m)\n",
      "File \u001b[0;32m/opt/anaconda3/envs/ds_study/lib/python3.8/site-packages/selenium/webdriver/remote/webdriver.py:448\u001b[0m, in \u001b[0;36mWebDriver.page_source\u001b[0;34m(self)\u001b[0m\n\u001b[1;32m    439\u001b[0m \u001b[38;5;129m@property\u001b[39m\n\u001b[1;32m    440\u001b[0m \u001b[38;5;28;01mdef\u001b[39;00m \u001b[38;5;21mpage_source\u001b[39m(\u001b[38;5;28mself\u001b[39m) \u001b[38;5;241m-\u001b[39m\u001b[38;5;241m>\u001b[39m \u001b[38;5;28mstr\u001b[39m:\n\u001b[1;32m    441\u001b[0m \u001b[38;5;250m    \u001b[39m\u001b[38;5;124;03m\"\"\"Gets the source of the current page.\u001b[39;00m\n\u001b[1;32m    442\u001b[0m \n\u001b[1;32m    443\u001b[0m \u001b[38;5;124;03m    :Usage:\u001b[39;00m\n\u001b[0;32m   (...)\u001b[0m\n\u001b[1;32m    446\u001b[0m \u001b[38;5;124;03m            driver.page_source\u001b[39;00m\n\u001b[1;32m    447\u001b[0m \u001b[38;5;124;03m    \"\"\"\u001b[39;00m\n\u001b[0;32m--> 448\u001b[0m     \u001b[38;5;28;01mreturn\u001b[39;00m \u001b[38;5;28;43mself\u001b[39;49m\u001b[38;5;241;43m.\u001b[39;49m\u001b[43mexecute\u001b[49m\u001b[43m(\u001b[49m\u001b[43mCommand\u001b[49m\u001b[38;5;241;43m.\u001b[39;49m\u001b[43mGET_PAGE_SOURCE\u001b[49m\u001b[43m)\u001b[49m[\u001b[38;5;124m\"\u001b[39m\u001b[38;5;124mvalue\u001b[39m\u001b[38;5;124m\"\u001b[39m]\n",
      "File \u001b[0;32m/opt/anaconda3/envs/ds_study/lib/python3.8/site-packages/selenium/webdriver/remote/webdriver.py:347\u001b[0m, in \u001b[0;36mWebDriver.execute\u001b[0;34m(self, driver_command, params)\u001b[0m\n\u001b[1;32m    345\u001b[0m response \u001b[38;5;241m=\u001b[39m \u001b[38;5;28mself\u001b[39m\u001b[38;5;241m.\u001b[39mcommand_executor\u001b[38;5;241m.\u001b[39mexecute(driver_command, params)\n\u001b[1;32m    346\u001b[0m \u001b[38;5;28;01mif\u001b[39;00m response:\n\u001b[0;32m--> 347\u001b[0m     \u001b[38;5;28;43mself\u001b[39;49m\u001b[38;5;241;43m.\u001b[39;49m\u001b[43merror_handler\u001b[49m\u001b[38;5;241;43m.\u001b[39;49m\u001b[43mcheck_response\u001b[49m\u001b[43m(\u001b[49m\u001b[43mresponse\u001b[49m\u001b[43m)\u001b[49m\n\u001b[1;32m    348\u001b[0m     response[\u001b[38;5;124m\"\u001b[39m\u001b[38;5;124mvalue\u001b[39m\u001b[38;5;124m\"\u001b[39m] \u001b[38;5;241m=\u001b[39m \u001b[38;5;28mself\u001b[39m\u001b[38;5;241m.\u001b[39m_unwrap_value(response\u001b[38;5;241m.\u001b[39mget(\u001b[38;5;124m\"\u001b[39m\u001b[38;5;124mvalue\u001b[39m\u001b[38;5;124m\"\u001b[39m, \u001b[38;5;28;01mNone\u001b[39;00m))\n\u001b[1;32m    349\u001b[0m     \u001b[38;5;28;01mreturn\u001b[39;00m response\n",
      "File \u001b[0;32m/opt/anaconda3/envs/ds_study/lib/python3.8/site-packages/selenium/webdriver/remote/errorhandler.py:229\u001b[0m, in \u001b[0;36mErrorHandler.check_response\u001b[0;34m(self, response)\u001b[0m\n\u001b[1;32m    227\u001b[0m         alert_text \u001b[38;5;241m=\u001b[39m value[\u001b[38;5;124m\"\u001b[39m\u001b[38;5;124malert\u001b[39m\u001b[38;5;124m\"\u001b[39m]\u001b[38;5;241m.\u001b[39mget(\u001b[38;5;124m\"\u001b[39m\u001b[38;5;124mtext\u001b[39m\u001b[38;5;124m\"\u001b[39m)\n\u001b[1;32m    228\u001b[0m     \u001b[38;5;28;01mraise\u001b[39;00m exception_class(message, screen, stacktrace, alert_text)  \u001b[38;5;66;03m# type: ignore[call-arg]  # mypy is not smart enough here\u001b[39;00m\n\u001b[0;32m--> 229\u001b[0m \u001b[38;5;28;01mraise\u001b[39;00m exception_class(message, screen, stacktrace)\n",
      "\u001b[0;31mNoSuchWindowException\u001b[0m: Message: no such window: target window already closed\nfrom unknown error: web view not found\n  (Session info: chrome=124.0.6367.209)\nStacktrace:\n0   chromedriver                        0x0000000102f62940 chromedriver + 4368704\n1   chromedriver                        0x0000000102f5add4 chromedriver + 4337108\n2   chromedriver                        0x0000000102b7ec04 chromedriver + 289796\n3   chromedriver                        0x0000000102b59918 chromedriver + 137496\n4   chromedriver                        0x0000000102be5ab8 chromedriver + 711352\n5   chromedriver                        0x0000000102bf8d08 chromedriver + 789768\n6   chromedriver                        0x0000000102bb5ab4 chromedriver + 514740\n7   chromedriver                        0x0000000102bb650c chromedriver + 517388\n8   chromedriver                        0x0000000102f26e5c chromedriver + 4124252\n9   chromedriver                        0x0000000102f2bc4c chromedriver + 4144204\n10  chromedriver                        0x0000000102f0c824 chromedriver + 4016164\n11  chromedriver                        0x0000000102f2c57c chromedriver + 4146556\n12  chromedriver                        0x0000000102efe2d8 chromedriver + 3957464\n13  chromedriver                        0x0000000102f4bec4 chromedriver + 4275908\n14  chromedriver                        0x0000000102f4c040 chromedriver + 4276288\n15  chromedriver                        0x0000000102f5aa34 chromedriver + 4336180\n16  libsystem_pthread.dylib             0x0000000191ae2f94 _pthread_start + 136\n17  libsystem_pthread.dylib             0x0000000191addd34 thread_start + 8\n"
     ]
    }
   ],
   "source": [
    "# 페이지 로드 대기 (필요에 따라 조정)\n",
    "time.sleep(2)     \n",
    "# 페이지 소스를 BeautifulSoup로 파싱\n",
    "soup = BeautifulSoup(driver.page_source, 'html.parser')"
   ]
  },
  {
   "cell_type": "code",
   "execution_count": 14,
   "id": "333ae0bc-9e98-4df4-be16-0cddc17812e0",
   "metadata": {},
   "outputs": [],
   "source": [
    "try:\n",
    "    title_select = soup.find(\"h1\", class_=\"tit_job\").text.strip()\n",
    "except:\n",
    "    title_select = None"
   ]
  },
  {
   "cell_type": "code",
   "execution_count": 16,
   "id": "8eca0506-2213-4592-a19b-b435f2e41cd0",
   "metadata": {},
   "outputs": [
    {
     "name": "stdout",
     "output_type": "stream",
     "text": [
      "None\n"
     ]
    }
   ],
   "source": [
    "print(title_select)"
   ]
  },
  {
   "cell_type": "code",
   "execution_count": null,
   "id": "ff228c61-e9d9-42f8-8ca7-c22cfac5b972",
   "metadata": {},
   "outputs": [],
   "source": []
  },
  {
   "cell_type": "code",
   "execution_count": null,
   "id": "cf802aae-faa7-4fdd-95e7-fc0490fa4b0d",
   "metadata": {},
   "outputs": [],
   "source": []
  },
  {
   "cell_type": "code",
   "execution_count": null,
   "id": "080c858b-2e7f-4626-b53a-940eb6ed18bc",
   "metadata": {},
   "outputs": [],
   "source": []
  },
  {
   "cell_type": "code",
   "execution_count": null,
   "id": "8325cf78-112a-4738-a68e-a36b77eeb394",
   "metadata": {},
   "outputs": [],
   "source": []
  },
  {
   "cell_type": "code",
   "execution_count": null,
   "id": "0d313ccf-b27f-4932-94b2-14b5eec12377",
   "metadata": {},
   "outputs": [],
   "source": []
  },
  {
   "cell_type": "code",
   "execution_count": null,
   "id": "4f6e3c8d-c185-4909-b31a-ccee34caa481",
   "metadata": {},
   "outputs": [],
   "source": []
  },
  {
   "cell_type": "code",
   "execution_count": null,
   "id": "04c521e2-a028-472d-b1f4-031250c743a4",
   "metadata": {},
   "outputs": [],
   "source": []
  },
  {
   "cell_type": "code",
   "execution_count": null,
   "id": "c45d643e-085c-4534-990d-025dba9a85c9",
   "metadata": {},
   "outputs": [],
   "source": []
  },
  {
   "cell_type": "code",
   "execution_count": null,
   "id": "578270b7-df24-48dc-bcf1-aad206696008",
   "metadata": {},
   "outputs": [],
   "source": []
  },
  {
   "cell_type": "code",
   "execution_count": null,
   "id": "c3277643-98bd-4b56-a189-e75a992e0041",
   "metadata": {},
   "outputs": [],
   "source": []
  },
  {
   "cell_type": "code",
   "execution_count": null,
   "id": "2a9f1351",
   "metadata": {},
   "outputs": [],
   "source": [
    "# 리스트 만들기 \n",
    "title = []\n",
    "name = [] \n",
    "loc = [] \n",
    "career = []\n",
    "loc2=[]\n",
    "tag=[]\n",
    "cdate=[]\n",
    "position=[]\n",
    "\n",
    "#크롤링 \n",
    "for i in tqdm(range(1, 10)):\n",
    "    try:\n",
    "        # 각 요소를 찾아서 데이터를 추출하여 리스트에 추가\n",
    "        driver.find_element(By.XPATH,'//*[@id=\"rec-48232287\"]/div[1]/div[2]/div[1]').click\n",
    "        #공고클릭 \n",
    "        \n",
    "        #제목\n",
    "        elem = driver.find_element(By.XPATH,'//*[@id=\"content\"]/div[3]/section[1]/div[1]/div[1]/div[1]/h1').text\n",
    "        #근무지역\n",
    "        elem = driver.find_element(By.XPATH,'//*[@id=\"content\"]/div[3]/section[1]/div[1]/div[2]/div/div[2]/dl[2]/dd').text\n",
    "        \n",
    "        #경력 \n",
    "        elem= driver.find_element(By.XPATH,'//*[@id=\"content\"]/div[3]/section[1]/div[1]/div[2]/div/div[2]/dl[3]/dd').text\n",
    "        \n",
    "        #학력 \n",
    "        elem = driver.find_element(By.XPATH,'//*[@id=\"content\"]/div[3]/section[1]/div[1]/div[2]/div/div[1]/dl[1]/dd/strong').text\n",
    "        \n",
    "        #근무장소 \n",
    "        elem= driver.find_element(By.XPATH,'//*[@id=\"map_0\"]/div/address/span[1]').text\n",
    "        \n",
    "        scroll_count = 3\n",
    "        for _ in range(scroll_count):\n",
    "            driver.execute_script(\"window.scrollTo(0, document.body.scrollHeight);\")\n",
    "            time.sleep(2)\n",
    "            \n",
    "        #포지션(복리후생) \n",
    "        elem= driver.find_element(By.XPATH,'//*[@id=\"content\"]/div[3]/section[1]/div[1]/div[4]/div/div').text\n",
    "        time.sleep(5)\n",
    "        elem= driver.find_element(By.XPATH,'//*[@id=\"content\"]/div[3]/section[1]/div[1]/div[10]/div/div[1]/ul')\n",
    "        time.sleep(5)\n",
    "        elem= driver.find_element(By.XPATH,'//*[@id=\"content\"]/div[3]/section[1]/div[1]/div[6]/div/div/div')\n",
    "        time.sleep(5)\n",
    "        elem= driver.find_element(By.XPATH,'//*[@id=\"content\"]/div[3]/section[2]/div/div[4]/div/div').text\n",
    "        \n",
    "        #append 배열추가 \n",
    "        title.append(elem_title)\n",
    "        loc.append(elem_loc)\n",
    "        career.append(elem_career)\n",
    "        loc2.append(elem_loc2)\n",
    "        tag.append(elem_tag)\n",
    "        cdate.append(elem_cdate)\n",
    "        position.append(elem_position)\n",
    "\n",
    "    except Exception as e:\n",
    "        print(f\"Error: {e}\")\n",
    "        pass\n",
    "\n",
    "# 데이터프레임 생성\n",
    "df = pd.DataFrame({\n",
    "    '기업명': name,\n",
    "    '채용공고': title,\n",
    "    '경력': career,\n",
    "    '위치': loc,\n",
    "    '근무장소': loc2,\n",
    "    '태그': tag,\n",
    "    '마감일': cdate,\n",
    "    '포지션': position\n",
    "})\n",
    "\n",
    "\n",
    "\n",
    "# 데이터프레임 출력\n",
    "#print(df)\n",
    "\n",
    "# 브라우저 종료\n",
    "#driver.quit()\n"
   ]
  },
  {
   "cell_type": "code",
   "execution_count": null,
   "id": "be01a5c6",
   "metadata": {},
   "outputs": [],
   "source": []
  },
  {
   "cell_type": "code",
   "execution_count": null,
   "id": "ffb42e41",
   "metadata": {},
   "outputs": [],
   "source": []
  },
  {
   "cell_type": "code",
   "execution_count": null,
   "id": "d82c30b6",
   "metadata": {},
   "outputs": [],
   "source": []
  },
  {
   "cell_type": "code",
   "execution_count": null,
   "id": "00397ace",
   "metadata": {},
   "outputs": [],
   "source": []
  },
  {
   "cell_type": "code",
   "execution_count": null,
   "id": "313ac3f0",
   "metadata": {},
   "outputs": [],
   "source": []
  },
  {
   "cell_type": "code",
   "execution_count": null,
   "id": "99297281",
   "metadata": {},
   "outputs": [],
   "source": []
  },
  {
   "cell_type": "code",
   "execution_count": null,
   "id": "c7a7d673",
   "metadata": {},
   "outputs": [],
   "source": [
    "#driver.switch_to.window(driver.window_handles[1])"
   ]
  },
  {
   "cell_type": "code",
   "execution_count": null,
   "id": "c4899450",
   "metadata": {},
   "outputs": [],
   "source": [
    "#elem = driver.find_element(By.XPATH, value = '//*[@id=\"content\"]/div[3]/section[1]/div[1]/div[1]/div/div[1]/a[1]').text\n",
    "#elem"
   ]
  },
  {
   "cell_type": "code",
   "execution_count": null,
   "id": "9ffd386d",
   "metadata": {},
   "outputs": [],
   "source": [
    "#elem = driver.find_element(By.XPATH,value='//*[@id=\"content\"]/div[3]/section[1]/div[1]/div[1]/div/h1')\n",
    "#elem"
   ]
  },
  {
   "cell_type": "code",
   "execution_count": null,
   "id": "4805f049",
   "metadata": {},
   "outputs": [],
   "source": [
    "#elem = driver.find_element(By.XPATH,value = '//*[@id=\"content\"]/div[3]/section[1]/div[1]/div[2]/div/div[1]')"
   ]
  },
  {
   "cell_type": "code",
   "execution_count": null,
   "id": "b3a1c54f",
   "metadata": {},
   "outputs": [],
   "source": [
    "#elem = driver.find_element(By.XPATH,value = '//*[@id=\"content\"]/div[3]/section[1]/div[1]/div[2]/div/div[2]')"
   ]
  },
  {
   "cell_type": "code",
   "execution_count": null,
   "id": "c3bd0531",
   "metadata": {},
   "outputs": [],
   "source": [
    "#print(elem.text)"
   ]
  },
  {
   "cell_type": "code",
   "execution_count": null,
   "id": "b17b0875",
   "metadata": {},
   "outputs": [],
   "source": [
    "#elem.txt를 분할하여 처리 \n",
    "split_elements = elem.txt.split('\\n')\n",
    "elem_a = elem.text.split('\\n')[0]  \n",
    "\n",
    "#df = pd.DataFrame()\n",
    "    \n",
    "#df['기업명'] = name\n",
    "#df['채용공고'] = title\n",
    "#df['경력'] = career\n",
    "#df['위치'] = loc\n",
    "#df['근무장소']=loc2\n",
    "#df['태그']=tag\n",
    "#df['마감일']=cdate\n",
    "#df['포지션']=position\n",
    "\n",
    "split_text = elem.text.split('\\n')\n",
    "print(split_elements)\n",
    "\n",
    "if len(split_text) > 1:\n",
    "    title.append(split_text[1])\n",
    "    name.append(elem_a.split(',')[0])\n",
    "    loc.append(elem_a.split(',')[1])\n",
    "    career.append(elem_a.split(',')[2])\n",
    "\n",
    "driver.back()"
   ]
  },
  {
   "cell_type": "code",
   "execution_count": null,
   "id": "5d09980a",
   "metadata": {},
   "outputs": [],
   "source": [
    "elem_a = elem.text.#split(',')[0]\n",
    "elem_a"
   ]
  },
  {
   "cell_type": "code",
   "execution_count": null,
   "id": "c036dc84",
   "metadata": {},
   "outputs": [],
   "source": []
  },
  {
   "cell_type": "code",
   "execution_count": null,
   "id": "8e34db42",
   "metadata": {},
   "outputs": [],
   "source": [
    "#df = pd.DataFrame()\n",
    "    \n",
    "#df['기업명'] = name\n",
    "#df['채용공고'] = title\n",
    "#df['경력'] = career\n",
    "#df['위치'] = loc\n",
    "#df['근무장소']=loc2\n",
    "#df['태그']=tag\n",
    "#df['마감일']=cdate\n",
    "#df['포지션']=position\n"
   ]
  },
  {
   "cell_type": "code",
   "execution_count": null,
   "id": "a11adc7f",
   "metadata": {},
   "outputs": [],
   "source": []
  },
  {
   "cell_type": "code",
   "execution_count": null,
   "id": "288c6330",
   "metadata": {},
   "outputs": [],
   "source": [
    "#//*[@id=\"recruit_info_list\"]/div[1]/div[1]/div[2]/h2/a/span\n"
   ]
  },
  {
   "cell_type": "code",
   "execution_count": null,
   "id": "9519a46d",
   "metadata": {},
   "outputs": [],
   "source": [
    "df.to_csv('C:\\\\alcc\\\\1.파이썬\\\\Pflow\\\\wanted_Selenium.csv', encoding='utf-8')"
   ]
  },
  {
   "cell_type": "code",
   "execution_count": null,
   "id": "19b3de5c",
   "metadata": {},
   "outputs": [],
   "source": []
  },
  {
   "cell_type": "code",
   "execution_count": null,
   "id": "c67d64a1",
   "metadata": {},
   "outputs": [],
   "source": [
    "#elem_a = elem.text.split('\\n')[0]"
   ]
  },
  {
   "cell_type": "code",
   "execution_count": null,
   "id": "0bd2035b",
   "metadata": {},
   "outputs": [],
   "source": [
    "#elem_a = \"some,string,to,split\""
   ]
  },
  {
   "cell_type": "code",
   "execution_count": null,
   "id": "4c39db30",
   "metadata": {},
   "outputs": [],
   "source": [
    "#split_elements = elem_a.split(',')\n",
    "#print(split_elements)"
   ]
  },
  {
   "cell_type": "code",
   "execution_count": null,
   "id": "9134921d",
   "metadata": {},
   "outputs": [],
   "source": [
    "#df"
   ]
  },
  {
   "cell_type": "code",
   "execution_count": null,
   "id": "f09b4aa8",
   "metadata": {},
   "outputs": [],
   "source": [
    "#df=pd.DataFrame\n",
    "\n",
    "#df_unique = df.drop_duplicates(subset=['A'])"
   ]
  },
  {
   "cell_type": "code",
   "execution_count": null,
   "id": "cafd8fd5",
   "metadata": {},
   "outputs": [],
   "source": []
  },
  {
   "cell_type": "code",
   "execution_count": null,
   "id": "eab16f6e",
   "metadata": {},
   "outputs": [],
   "source": [
    "# MariaDB 연결\n",
    "conn = pymysql.connect(host='127.0.0.1', port=3306, user='user', password='user1234', db='dbmaria', charset='utf8')\n",
    "# 커서 생성\n",
    "cur = conn.cursor()\n",
    "# User 테이블 생성 (nameUser에 UNIQUE 제약 추가)\n",
    "cur.execute('''CREATE TABLE IF NOT EXISTS wanted (\n",
    "                name VARCHAR(255),\n",
    "                loc VARCHAR(255),\n",
    "                career VARCHAR(255),\n",
    "                title VARCHAR(255)\n",
    "                loc2 VARCHAR(255),\n",
    "                tag VARCHAR(255),\n",
    "                cdate VARCHAR(255),\n",
    "                position VARCHAR(255)\n",
    "            )''')"
   ]
  },
  {
   "cell_type": "code",
   "execution_count": null,
   "id": "070efecd",
   "metadata": {},
   "outputs": [],
   "source": []
  },
  {
   "cell_type": "code",
   "execution_count": null,
   "id": "1a2fa25e",
   "metadata": {},
   "outputs": [],
   "source": []
  },
  {
   "cell_type": "code",
   "execution_count": null,
   "id": "efb4b082",
   "metadata": {},
   "outputs": [],
   "source": [
    "df.drop_duplicates()"
   ]
  },
  {
   "cell_type": "code",
   "execution_count": null,
   "id": "b1befde7",
   "metadata": {},
   "outputs": [],
   "source": [
    "# # 데이터 프레임의 데이터를 데이터베이스에 삽입\n",
    "for index, row in df.iterrows():\n",
    "    cur.execute(\"\"\"\n",
    "        INSERT INTO  wanted(\n",
    "            name,\n",
    "            loc,\n",
    "            career,\n",
    "            title\n",
    "        ) VALUES (%s, %s, %s, %s,%s,%s,%s,%s)\n",
    "    \"\"\", (\n",
    "        row['기업명'],\n",
    "        row['채용공고'],\n",
    "        row['경력'],\n",
    "        row['위치']\n",
    "        row['근무장소'],\n",
    "        row['태그'],\n",
    "        row['마감일'],\n",
    "        row['포지션']\n",
    "    ))"
   ]
  },
  {
   "cell_type": "code",
   "execution_count": null,
   "id": "1d44e2ab",
   "metadata": {},
   "outputs": [],
   "source": []
  },
  {
   "cell_type": "code",
   "execution_count": null,
   "id": "6c8094b8",
   "metadata": {},
   "outputs": [],
   "source": []
  },
  {
   "cell_type": "code",
   "execution_count": null,
   "id": "9baba8e7",
   "metadata": {},
   "outputs": [],
   "source": [
    "# 변경사항 커밋\n",
    "conn.commit()\n",
    "\n",
    "# 연결 종료\n",
    "conn.close()"
   ]
  },
  {
   "cell_type": "code",
   "execution_count": null,
   "id": "e1dc3aa6",
   "metadata": {},
   "outputs": [],
   "source": [
    "df"
   ]
  },
  {
   "cell_type": "code",
   "execution_count": null,
   "id": "2799d550",
   "metadata": {},
   "outputs": [],
   "source": []
  },
  {
   "cell_type": "code",
   "execution_count": null,
   "id": "f5133066",
   "metadata": {},
   "outputs": [],
   "source": []
  }
 ],
 "metadata": {
  "kernelspec": {
   "display_name": "Python 3 (ipykernel)",
   "language": "python",
   "name": "python3"
  },
  "language_info": {
   "codemirror_mode": {
    "name": "ipython",
    "version": 3
   },
   "file_extension": ".py",
   "mimetype": "text/x-python",
   "name": "python",
   "nbconvert_exporter": "python",
   "pygments_lexer": "ipython3",
   "version": "3.8.19"
  }
 },
 "nbformat": 4,
 "nbformat_minor": 5
}
