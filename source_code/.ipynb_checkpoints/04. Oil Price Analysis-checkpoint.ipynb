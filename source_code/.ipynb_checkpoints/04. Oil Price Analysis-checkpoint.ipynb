{
 "cells": [
  {
   "cell_type": "code",
   "execution_count": 1,
   "id": "ae0c5ea1-a180-49ef-aced-38a43b8e295f",
   "metadata": {},
   "outputs": [],
   "source": [
    "from selenium import webdriver\n",
    "from selenium.webdriver.common.by import By"
   ]
  },
  {
   "cell_type": "markdown",
   "id": "d9f62ea8-f79e-41a7-8890-96f4f18f4587",
   "metadata": {},
   "source": [
    "## 셀프 주유소가 정말 저렴한가? - 데이터 확보하기 위한 작업\n",
    "- https://www.opinet.co.kr/\n",
    "- 사이트 구조 확인\n",
    "- 목표 데이터\n",
    "    - 브랜드\n",
    "    - 가격\n",
    "    - 셀프 주유 여부\n",
    "    - 위치"
   ]
  },
  {
   "cell_type": "code",
   "execution_count": 19,
   "id": "e88ebb8e-b001-4baf-b22e-8a3348a41969",
   "metadata": {},
   "outputs": [],
   "source": [
    "driver = webdriver.Chrome(\"\")\n",
    "url = 'https://www.opinet.co.kr/searRgSelect.do'\n",
    "driver.get(url)"
   ]
  },
  {
   "cell_type": "code",
   "execution_count": 20,
   "id": "e50bf66e-a057-4c6b-9927-86f634eb01ab",
   "metadata": {},
   "outputs": [
    {
     "data": {
      "text/plain": [
       "'            시/도\\n            \\n             \\n              서울\\n             \\n             \\n            \\n             \\n             \\n              부산\\n             \\n            \\n             \\n             \\n              대구\\n             \\n            \\n             \\n             \\n              인천\\n             \\n            \\n             \\n             \\n              광주\\n             \\n            \\n             \\n             \\n              대전\\n             \\n            \\n             \\n             \\n              울산\\n             \\n            \\n             \\n             \\n              세종\\n             \\n            \\n             \\n             \\n              경기\\n             \\n            \\n             \\n             \\n              강원\\n             \\n            \\n             \\n             \\n              충북\\n             \\n            \\n             \\n             \\n              충남\\n             \\n            \\n             \\n             \\n              전북\\n             \\n            \\n             \\n             \\n              전남\\n             \\n            \\n             \\n             \\n              경북\\n             \\n            \\n             \\n             \\n              경남\\n             \\n            \\n             \\n             \\n              제주\\n             \\n            \\n           '"
      ]
     },
     "execution_count": 20,
     "metadata": {},
     "output_type": "execute_result"
    }
   ],
   "source": [
    "# 지역 : 시/도\n",
    "sido_list_raw = driver.find_element(By.ID, \"SIDO_NM0\")\n",
    "sido_list_raw.text"
   ]
  },
  {
   "cell_type": "code",
   "execution_count": 21,
   "id": "2abe3ec6-bd1f-4908-9918-2d67181a1b90",
   "metadata": {},
   "outputs": [
    {
     "data": {
      "text/plain": [
       "(18, '제주')"
      ]
     },
     "execution_count": 21,
     "metadata": {},
     "output_type": "execute_result"
    }
   ],
   "source": [
    "sido_list = sido_list_raw.find_elements(By.TAG_NAME, \"option\")\n",
    "len(sido_list), sido_list[17].text"
   ]
  },
  {
   "cell_type": "code",
   "execution_count": 22,
   "id": "29b99d9e-b148-4d23-8e98-4e0bc0b677ef",
   "metadata": {},
   "outputs": [
    {
     "data": {
      "text/plain": [
       "'서울특별시'"
      ]
     },
     "execution_count": 22,
     "metadata": {},
     "output_type": "execute_result"
    }
   ],
   "source": [
    "sido_list[1].get_attribute(\"value\")"
   ]
  },
  {
   "cell_type": "code",
   "execution_count": 23,
   "id": "fa27421c-beee-4677-9b2d-60feb182e3f1",
   "metadata": {},
   "outputs": [
    {
     "data": {
      "text/plain": [
       "['',\n",
       " '서울특별시',\n",
       " '부산광역시',\n",
       " '대구광역시',\n",
       " '인천광역시',\n",
       " '광주광역시',\n",
       " '대전광역시',\n",
       " '울산광역시',\n",
       " '세종특별자치시',\n",
       " '경기도',\n",
       " '강원특별자치도',\n",
       " '충청북도',\n",
       " '충청남도',\n",
       " '전북특별자치도',\n",
       " '전라남도',\n",
       " '경상북도',\n",
       " '경상남도',\n",
       " '제주특별자치도']"
      ]
     },
     "execution_count": 23,
     "metadata": {},
     "output_type": "execute_result"
    }
   ],
   "source": [
    "sido_names = []\n",
    "for option in sido_list:\n",
    "    sido_names.append(option.get_attribute(\"value\"))\n",
    "sido_names"
   ]
  },
  {
   "cell_type": "code",
   "execution_count": 24,
   "id": "be70f2b6-e1fb-4cc4-8b3d-4a2d13b21112",
   "metadata": {},
   "outputs": [
    {
     "data": {
      "text/plain": [
       "['',\n",
       " '서울특별시',\n",
       " '부산광역시',\n",
       " '대구광역시',\n",
       " '인천광역시',\n",
       " '광주광역시',\n",
       " '대전광역시',\n",
       " '울산광역시',\n",
       " '세종특별자치시',\n",
       " '경기도',\n",
       " '강원특별자치도',\n",
       " '충청북도',\n",
       " '충청남도',\n",
       " '전북특별자치도',\n",
       " '전라남도',\n",
       " '경상북도',\n",
       " '경상남도',\n",
       " '제주특별자치도']"
      ]
     },
     "execution_count": 24,
     "metadata": {},
     "output_type": "execute_result"
    }
   ],
   "source": [
    "sido_names = [option.get_attribute(\"value\") for option in sido_list]\n",
    "sido_names"
   ]
  },
  {
   "cell_type": "code",
   "execution_count": 25,
   "id": "829a1339-f151-403d-ae23-ed853de3facb",
   "metadata": {},
   "outputs": [
    {
     "data": {
      "text/plain": [
       "['서울특별시',\n",
       " '부산광역시',\n",
       " '대구광역시',\n",
       " '인천광역시',\n",
       " '광주광역시',\n",
       " '대전광역시',\n",
       " '울산광역시',\n",
       " '세종특별자치시',\n",
       " '경기도',\n",
       " '강원특별자치도',\n",
       " '충청북도',\n",
       " '충청남도',\n",
       " '전북특별자치도',\n",
       " '전라남도',\n",
       " '경상북도',\n",
       " '경상남도',\n",
       " '제주특별자치도']"
      ]
     },
     "execution_count": 25,
     "metadata": {},
     "output_type": "execute_result"
    }
   ],
   "source": [
    "sido_names = sido_names[1:]\n",
    "sido_names"
   ]
  },
  {
   "cell_type": "code",
   "execution_count": 26,
   "id": "6686c90b-2f7a-47d4-9de1-e1d9ac32a4e1",
   "metadata": {},
   "outputs": [],
   "source": [
    "sido_list_raw.send_keys(sido_names)"
   ]
  },
  {
   "cell_type": "code",
   "execution_count": 27,
   "id": "7e9f9e46-bc64-4cb6-ab2a-099a1c03e0d3",
   "metadata": {},
   "outputs": [
    {
     "data": {
      "text/plain": [
       "'            시/군/구\\n            \\n             \\n             \\n              강남구\\n             \\n            \\n             \\n             \\n              강동구\\n             \\n            \\n             \\n             \\n              강북구\\n             \\n            \\n             \\n             \\n              강서구\\n             \\n            \\n             \\n              관악구\\n             \\n             \\n            \\n             \\n             \\n              광진구\\n             \\n            \\n             \\n             \\n              구로구\\n             \\n            \\n             \\n             \\n              금천구\\n             \\n            \\n             \\n             \\n              노원구\\n             \\n            \\n             \\n             \\n              도봉구\\n             \\n            \\n             \\n             \\n              동대문구\\n             \\n            \\n             \\n             \\n              동작구\\n             \\n            \\n             \\n             \\n              마포구\\n             \\n            \\n             \\n             \\n              서대문구\\n             \\n            \\n             \\n             \\n              서초구\\n             \\n            \\n             \\n             \\n              성동구\\n             \\n            \\n             \\n             \\n              성북구\\n             \\n            \\n             \\n             \\n              송파구\\n             \\n            \\n             \\n             \\n              양천구\\n             \\n            \\n             \\n             \\n              영등포구\\n             \\n            \\n             \\n             \\n              용산구\\n             \\n            \\n             \\n             \\n              은평구\\n             \\n            \\n             \\n             \\n              종로구\\n             \\n            \\n             \\n             \\n              중구\\n             \\n            \\n             \\n             \\n              중랑구\\n             \\n                      \\n           '"
      ]
     },
     "execution_count": 27,
     "metadata": {},
     "output_type": "execute_result"
    }
   ],
   "source": [
    "# 구\n",
    "gu_list_raw = driver.find_element(By.ID, 'SIGUNGU_NM0')\n",
    "gu_list_raw.text"
   ]
  },
  {
   "cell_type": "code",
   "execution_count": 28,
   "id": "6225d880-7f31-446d-bdea-b573c49e03be",
   "metadata": {},
   "outputs": [
    {
     "data": {
      "text/plain": [
       "'강남구'"
      ]
     },
     "execution_count": 28,
     "metadata": {},
     "output_type": "execute_result"
    }
   ],
   "source": [
    "gu_list = gu_list_raw.find_elements(By.TAG_NAME, \"option\")\n",
    "gu_list[1].get_attribute('value')"
   ]
  },
  {
   "cell_type": "code",
   "execution_count": 29,
   "id": "0a8319cc-9dc8-4fcb-a852-eda0760f43dd",
   "metadata": {},
   "outputs": [
    {
     "data": {
      "text/plain": [
       "26"
      ]
     },
     "execution_count": 29,
     "metadata": {},
     "output_type": "execute_result"
    }
   ],
   "source": [
    "gu_names = [option.get_attribute('value') for option in gu_list]\n",
    "len(gu_names)"
   ]
  },
  {
   "cell_type": "code",
   "execution_count": 30,
   "id": "10b9c5a7-cc42-4316-b147-d28ab207ffa6",
   "metadata": {},
   "outputs": [
    {
     "data": {
      "text/plain": [
       "['강남구',\n",
       " '강동구',\n",
       " '강북구',\n",
       " '강서구',\n",
       " '관악구',\n",
       " '광진구',\n",
       " '구로구',\n",
       " '금천구',\n",
       " '노원구',\n",
       " '도봉구',\n",
       " '동대문구',\n",
       " '동작구',\n",
       " '마포구',\n",
       " '서대문구',\n",
       " '서초구',\n",
       " '성동구',\n",
       " '성북구',\n",
       " '송파구',\n",
       " '양천구',\n",
       " '영등포구',\n",
       " '용산구',\n",
       " '은평구',\n",
       " '종로구',\n",
       " '중구',\n",
       " '중랑구']"
      ]
     },
     "execution_count": 30,
     "metadata": {},
     "output_type": "execute_result"
    }
   ],
   "source": [
    "gu_names = gu_names[1:]\n",
    "gu_names"
   ]
  },
  {
   "cell_type": "code",
   "execution_count": 31,
   "id": "deadfaff-7232-4e0b-9b28-3276f6d0d488",
   "metadata": {},
   "outputs": [
    {
     "data": {
      "text/plain": [
       "25"
      ]
     },
     "execution_count": 31,
     "metadata": {},
     "output_type": "execute_result"
    }
   ],
   "source": [
    "len(gu_names)"
   ]
  },
  {
   "cell_type": "code",
   "execution_count": 32,
   "id": "fde6ae62-838d-4db9-bd0b-054db97249fb",
   "metadata": {},
   "outputs": [],
   "source": [
    "gu_list_raw.send_keys(gu_names[15])"
   ]
  },
  {
   "cell_type": "code",
   "execution_count": 33,
   "id": "ab7f9158-8308-4abf-9d30-d766546fa543",
   "metadata": {},
   "outputs": [],
   "source": [
    "driver.find_element(By.CSS_SELECTOR, '.btn_type6_ex_save').click()"
   ]
  },
  {
   "cell_type": "code",
   "execution_count": 34,
   "id": "e4e3f527-e5e3-4890-a17f-63a61b5821e5",
   "metadata": {},
   "outputs": [
    {
     "name": "stderr",
     "output_type": "stream",
     "text": [
      "/var/folders/dh/7png3_mx3sx59zfgxx_r0y2r0000gn/T/ipykernel_4645/3917384741.py:4: TqdmDeprecationWarning: This function will be removed in tqdm==5.0.0\n",
      "Please use `tqdm.notebook.tqdm` instead of `tqdm.tqdm_notebook`\n",
      "  for gu in tqdm_notebook(gu_names):\n"
     ]
    },
    {
     "data": {
      "application/vnd.jupyter.widget-view+json": {
       "model_id": "592cdf64ce9444b8a9a385420c58635c",
       "version_major": 2,
       "version_minor": 0
      },
      "text/plain": [
       "  0%|          | 0/25 [00:00<?, ?it/s]"
      ]
     },
     "metadata": {},
     "output_type": "display_data"
    }
   ],
   "source": [
    "import time\n",
    "from tqdm import tqdm_notebook\n",
    "\n",
    "for gu in tqdm_notebook(gu_names):\n",
    "    element = driver.find_element(By.ID, 'SIGUNGU_NM0')\n",
    "    element.send_keys(gu)\n",
    "    time.sleep(3)\n",
    "\n",
    "    element_get_excel = driver.find_element(By.CSS_SELECTOR, '.btn_type6_ex_save').click()\n",
    "    time.sleep(3)\n",
    "    "
   ]
  },
  {
   "cell_type": "code",
   "execution_count": 36,
   "id": "4c6ec142-45a4-4b62-a25c-d39b75560593",
   "metadata": {},
   "outputs": [],
   "source": [
    "driver.quit()"
   ]
  },
  {
   "cell_type": "markdown",
   "id": "d395f8a1-5ef0-4514-b81c-cad89a1b0a4f",
   "metadata": {},
   "source": [
    "## 4. 데이터 정리"
   ]
  },
  {
   "cell_type": "code",
   "execution_count": 37,
   "id": "92ef4826-ce04-48bb-8bf8-fffdb20a34f5",
   "metadata": {},
   "outputs": [],
   "source": [
    "import pandas as pd\n",
    "from glob import glob"
   ]
  },
  {
   "cell_type": "code",
   "execution_count": 38,
   "id": "9a62f5b0-6b3c-4452-9e34-2f479e315e1a",
   "metadata": {},
   "outputs": [
    {
     "data": {
      "text/plain": [
       "['../data/지역_위치별(주유소) (9).xls',\n",
       " '../data/지역_위치별(주유소) (12).xls',\n",
       " '../data/지역_위치별(주유소) (5).xls',\n",
       " '../data/지역_위치별(주유소) (24).xls',\n",
       " '../data/지역_위치별(주유소) (4).xls',\n",
       " '../data/지역_위치별(주유소) (13).xls',\n",
       " '../data/지역_위치별(주유소) (8).xls',\n",
       " '../data/지역_위치별(주유소) (3).xls',\n",
       " '../data/지역_위치별(주유소) (18).xls',\n",
       " '../data/지역_위치별(주유소) (22).xls',\n",
       " '../data/지역_위치별(주유소) (14).xls',\n",
       " '../data/지역_위치별(주유소) (15).xls',\n",
       " '../data/지역_위치별(주유소) (23).xls',\n",
       " '../data/지역_위치별(주유소) (19).xls',\n",
       " '../data/지역_위치별(주유소) (2).xls',\n",
       " '../data/지역_위치별(주유소) (20).xls',\n",
       " '../data/지역_위치별(주유소) (1).xls',\n",
       " '../data/지역_위치별(주유소) (16).xls',\n",
       " '../data/지역_위치별(주유소) (17).xls',\n",
       " '../data/지역_위치별(주유소) (21).xls',\n",
       " '../data/지역_위치별(주유소) (10).xls',\n",
       " '../data/지역_위치별(주유소).xls',\n",
       " '../data/지역_위치별(주유소) (7).xls',\n",
       " '../data/지역_위치별(주유소) (6).xls',\n",
       " '../data/지역_위치별(주유소) (11).xls']"
      ]
     },
     "execution_count": 38,
     "metadata": {},
     "output_type": "execute_result"
    }
   ],
   "source": [
    "# 파일 목록 한번에 가져오기\n",
    "glob(\"../data/지역_*.xls\")"
   ]
  },
  {
   "cell_type": "code",
   "execution_count": 39,
   "id": "89a7a6af-e1c2-4adc-9676-f5d988c8e181",
   "metadata": {},
   "outputs": [
    {
     "data": {
      "text/plain": [
       "['../data/지역_위치별(주유소) (9).xls',\n",
       " '../data/지역_위치별(주유소) (12).xls',\n",
       " '../data/지역_위치별(주유소) (5).xls',\n",
       " '../data/지역_위치별(주유소) (24).xls',\n",
       " '../data/지역_위치별(주유소) (4).xls']"
      ]
     },
     "execution_count": 39,
     "metadata": {},
     "output_type": "execute_result"
    }
   ],
   "source": [
    "# 파일명 저장\n",
    "stations_files = glob(\"../data/지역_*.xls\")\n",
    "stations_files[:5]"
   ]
  },
  {
   "cell_type": "code",
   "execution_count": 42,
   "id": "813c1c17-e5b1-4937-87ce-70fd47e91969",
   "metadata": {},
   "outputs": [
    {
     "data": {
      "text/html": [
       "<div>\n",
       "<style scoped>\n",
       "    .dataframe tbody tr th:only-of-type {\n",
       "        vertical-align: middle;\n",
       "    }\n",
       "\n",
       "    .dataframe tbody tr th {\n",
       "        vertical-align: top;\n",
       "    }\n",
       "\n",
       "    .dataframe thead th {\n",
       "        text-align: right;\n",
       "    }\n",
       "</style>\n",
       "<table border=\"1\" class=\"dataframe\">\n",
       "  <thead>\n",
       "    <tr style=\"text-align: right;\">\n",
       "      <th></th>\n",
       "      <th>지역</th>\n",
       "      <th>상호</th>\n",
       "      <th>주소</th>\n",
       "      <th>상표</th>\n",
       "      <th>전화번호</th>\n",
       "      <th>셀프여부</th>\n",
       "      <th>고급휘발유</th>\n",
       "      <th>휘발유</th>\n",
       "      <th>경유</th>\n",
       "      <th>실내등유</th>\n",
       "    </tr>\n",
       "  </thead>\n",
       "  <tbody>\n",
       "    <tr>\n",
       "      <th>13</th>\n",
       "      <td>서울특별시</td>\n",
       "      <td>오복주유소</td>\n",
       "      <td>서울 도봉구 방학로 43</td>\n",
       "      <td>S-OIL</td>\n",
       "      <td>02-3494-1500</td>\n",
       "      <td>Y</td>\n",
       "      <td>2300</td>\n",
       "      <td>1763</td>\n",
       "      <td>1647</td>\n",
       "      <td>1700</td>\n",
       "    </tr>\n",
       "    <tr>\n",
       "      <th>14</th>\n",
       "      <td>서울특별시</td>\n",
       "      <td>HD현대오일뱅크㈜직영 영신주유소</td>\n",
       "      <td>서울 도봉구 방학로 151</td>\n",
       "      <td>HD현대오일뱅크</td>\n",
       "      <td>02-956-5152</td>\n",
       "      <td>N</td>\n",
       "      <td>2177</td>\n",
       "      <td>1767</td>\n",
       "      <td>1617</td>\n",
       "      <td>1429</td>\n",
       "    </tr>\n",
       "  </tbody>\n",
       "</table>\n",
       "</div>"
      ],
      "text/plain": [
       "       지역                 상호              주소        상표          전화번호 셀프여부  \\\n",
       "13  서울특별시              오복주유소   서울 도봉구 방학로 43     S-OIL  02-3494-1500    Y   \n",
       "14  서울특별시  HD현대오일뱅크㈜직영 영신주유소  서울 도봉구 방학로 151  HD현대오일뱅크   02-956-5152    N   \n",
       "\n",
       "   고급휘발유   휘발유    경유  실내등유  \n",
       "13  2300  1763  1647  1700  \n",
       "14  2177  1767  1617  1429  "
      ]
     },
     "execution_count": 42,
     "metadata": {},
     "output_type": "execute_result"
    }
   ],
   "source": [
    "# 하나만 읽어보기\n",
    "tmp = pd.read_excel(stations_files[0], header = 2)\n",
    "tmp.tail(2)"
   ]
  },
  {
   "cell_type": "code",
   "execution_count": 44,
   "id": "feab0c26-9f3e-47bf-9777-61ab3b072c65",
   "metadata": {},
   "outputs": [],
   "source": [
    "tmp_raw = []\n",
    "for file_name in stations_files:\n",
    "    tmp = pd.read_excel(file_name, header = 2)\n",
    "    tmp_raw.append(tmp)"
   ]
  },
  {
   "cell_type": "code",
   "execution_count": 47,
   "id": "0a52db4b-dbae-4a92-9cc9-acbce0550960",
   "metadata": {},
   "outputs": [
    {
     "data": {
      "text/html": [
       "<div>\n",
       "<style scoped>\n",
       "    .dataframe tbody tr th:only-of-type {\n",
       "        vertical-align: middle;\n",
       "    }\n",
       "\n",
       "    .dataframe tbody tr th {\n",
       "        vertical-align: top;\n",
       "    }\n",
       "\n",
       "    .dataframe thead th {\n",
       "        text-align: right;\n",
       "    }\n",
       "</style>\n",
       "<table border=\"1\" class=\"dataframe\">\n",
       "  <thead>\n",
       "    <tr style=\"text-align: right;\">\n",
       "      <th></th>\n",
       "      <th>지역</th>\n",
       "      <th>상호</th>\n",
       "      <th>주소</th>\n",
       "      <th>상표</th>\n",
       "      <th>전화번호</th>\n",
       "      <th>셀프여부</th>\n",
       "      <th>고급휘발유</th>\n",
       "      <th>휘발유</th>\n",
       "      <th>경유</th>\n",
       "      <th>실내등유</th>\n",
       "    </tr>\n",
       "  </thead>\n",
       "  <tbody>\n",
       "    <tr>\n",
       "      <th>0</th>\n",
       "      <td>서울특별시</td>\n",
       "      <td>(주)자연에너지 햇살주유소</td>\n",
       "      <td>서울 도봉구 방학로 142 (방학동)</td>\n",
       "      <td>HD현대오일뱅크</td>\n",
       "      <td>02-954-4555</td>\n",
       "      <td>Y</td>\n",
       "      <td>1935</td>\n",
       "      <td>1665</td>\n",
       "      <td>1535</td>\n",
       "      <td>-</td>\n",
       "    </tr>\n",
       "    <tr>\n",
       "      <th>1</th>\n",
       "      <td>서울특별시</td>\n",
       "      <td>이케이에너지 주식회사</td>\n",
       "      <td>서울 도봉구 도봉로 941 (도봉동)</td>\n",
       "      <td>HD현대오일뱅크</td>\n",
       "      <td>02-3494-3641</td>\n",
       "      <td>Y</td>\n",
       "      <td>-</td>\n",
       "      <td>1665</td>\n",
       "      <td>1525</td>\n",
       "      <td>-</td>\n",
       "    </tr>\n",
       "    <tr>\n",
       "      <th>2</th>\n",
       "      <td>서울특별시</td>\n",
       "      <td>삼미북부셀프주유소</td>\n",
       "      <td>서울 도봉구 도봉로 437 (쌍문동)</td>\n",
       "      <td>SK에너지</td>\n",
       "      <td>02-992-5561</td>\n",
       "      <td>Y</td>\n",
       "      <td>-</td>\n",
       "      <td>1665</td>\n",
       "      <td>1540</td>\n",
       "      <td>-</td>\n",
       "    </tr>\n",
       "    <tr>\n",
       "      <th>3</th>\n",
       "      <td>서울특별시</td>\n",
       "      <td>(주)헨지스에너지 구도일주유소 도봉</td>\n",
       "      <td>서울 도봉구 도봉로 706 (방학동)</td>\n",
       "      <td>S-OIL</td>\n",
       "      <td>02-3491-3454</td>\n",
       "      <td>Y</td>\n",
       "      <td>-</td>\n",
       "      <td>1665</td>\n",
       "      <td>1535</td>\n",
       "      <td>-</td>\n",
       "    </tr>\n",
       "    <tr>\n",
       "      <th>4</th>\n",
       "      <td>서울특별시</td>\n",
       "      <td>한이에너지(주) 쌍문주유소</td>\n",
       "      <td>서울 도봉구 도봉로 547 (쌍문동)</td>\n",
       "      <td>S-OIL</td>\n",
       "      <td>02-992-0220</td>\n",
       "      <td>Y</td>\n",
       "      <td>-</td>\n",
       "      <td>1665</td>\n",
       "      <td>1535</td>\n",
       "      <td>-</td>\n",
       "    </tr>\n",
       "    <tr>\n",
       "      <th>...</th>\n",
       "      <td>...</td>\n",
       "      <td>...</td>\n",
       "      <td>...</td>\n",
       "      <td>...</td>\n",
       "      <td>...</td>\n",
       "      <td>...</td>\n",
       "      <td>...</td>\n",
       "      <td>...</td>\n",
       "      <td>...</td>\n",
       "      <td>...</td>\n",
       "    </tr>\n",
       "    <tr>\n",
       "      <th>4</th>\n",
       "      <td>서울특별시</td>\n",
       "      <td>지에스칼텍스㈜직영 남성주유소</td>\n",
       "      <td>서울 동작구 동작대로 135 (사당동)</td>\n",
       "      <td>GS칼텍스</td>\n",
       "      <td>02-532-0606</td>\n",
       "      <td>Y</td>\n",
       "      <td>1949</td>\n",
       "      <td>1749</td>\n",
       "      <td>1629</td>\n",
       "      <td>-</td>\n",
       "    </tr>\n",
       "    <tr>\n",
       "      <th>5</th>\n",
       "      <td>서울특별시</td>\n",
       "      <td>HD현대오일뱅크㈜직영 동작주유소</td>\n",
       "      <td>서울 동작구 상도로 403 (상도동)</td>\n",
       "      <td>HD현대오일뱅크</td>\n",
       "      <td>02-817-9179</td>\n",
       "      <td>N</td>\n",
       "      <td>1934</td>\n",
       "      <td>1754</td>\n",
       "      <td>1634</td>\n",
       "      <td>-</td>\n",
       "    </tr>\n",
       "    <tr>\n",
       "      <th>6</th>\n",
       "      <td>서울특별시</td>\n",
       "      <td>HD현대오일뱅크㈜직영 신대방셀프주유소</td>\n",
       "      <td>서울 동작구 시흥대로 616 (신대방동)</td>\n",
       "      <td>HD현대오일뱅크</td>\n",
       "      <td>02-832-7926</td>\n",
       "      <td>Y</td>\n",
       "      <td>1904</td>\n",
       "      <td>1754</td>\n",
       "      <td>1584</td>\n",
       "      <td>-</td>\n",
       "    </tr>\n",
       "    <tr>\n",
       "      <th>7</th>\n",
       "      <td>서울특별시</td>\n",
       "      <td>매일주유소</td>\n",
       "      <td>서울 동작구 상도로 139 (상도동)</td>\n",
       "      <td>S-OIL</td>\n",
       "      <td>02-817-4085</td>\n",
       "      <td>Y</td>\n",
       "      <td>-</td>\n",
       "      <td>1759</td>\n",
       "      <td>1679</td>\n",
       "      <td>1650</td>\n",
       "    </tr>\n",
       "    <tr>\n",
       "      <th>8</th>\n",
       "      <td>서울특별시</td>\n",
       "      <td>살피재주유소</td>\n",
       "      <td>서울 동작구 상도로 334</td>\n",
       "      <td>SK에너지</td>\n",
       "      <td>02-817-2559</td>\n",
       "      <td>N</td>\n",
       "      <td>-</td>\n",
       "      <td>1875</td>\n",
       "      <td>1735</td>\n",
       "      <td>-</td>\n",
       "    </tr>\n",
       "  </tbody>\n",
       "</table>\n",
       "<p>429 rows × 10 columns</p>\n",
       "</div>"
      ],
      "text/plain": [
       "       지역                    상호                      주소        상표  \\\n",
       "0   서울특별시        (주)자연에너지 햇살주유소    서울 도봉구 방학로 142 (방학동)  HD현대오일뱅크   \n",
       "1   서울특별시           이케이에너지 주식회사    서울 도봉구 도봉로 941 (도봉동)  HD현대오일뱅크   \n",
       "2   서울특별시             삼미북부셀프주유소    서울 도봉구 도봉로 437 (쌍문동)     SK에너지   \n",
       "3   서울특별시   (주)헨지스에너지 구도일주유소 도봉    서울 도봉구 도봉로 706 (방학동)     S-OIL   \n",
       "4   서울특별시        한이에너지(주) 쌍문주유소    서울 도봉구 도봉로 547 (쌍문동)     S-OIL   \n",
       "..    ...                   ...                     ...       ...   \n",
       "4   서울특별시       지에스칼텍스㈜직영 남성주유소   서울 동작구 동작대로 135 (사당동)     GS칼텍스   \n",
       "5   서울특별시     HD현대오일뱅크㈜직영 동작주유소    서울 동작구 상도로 403 (상도동)  HD현대오일뱅크   \n",
       "6   서울특별시  HD현대오일뱅크㈜직영 신대방셀프주유소  서울 동작구 시흥대로 616 (신대방동)  HD현대오일뱅크   \n",
       "7   서울특별시                 매일주유소    서울 동작구 상도로 139 (상도동)     S-OIL   \n",
       "8   서울특별시                살피재주유소          서울 동작구 상도로 334     SK에너지   \n",
       "\n",
       "            전화번호 셀프여부 고급휘발유   휘발유    경유  실내등유  \n",
       "0    02-954-4555    Y  1935  1665  1535     -  \n",
       "1   02-3494-3641    Y     -  1665  1525     -  \n",
       "2    02-992-5561    Y     -  1665  1540     -  \n",
       "3   02-3491-3454    Y     -  1665  1535     -  \n",
       "4    02-992-0220    Y     -  1665  1535     -  \n",
       "..           ...  ...   ...   ...   ...   ...  \n",
       "4    02-532-0606    Y  1949  1749  1629     -  \n",
       "5    02-817-9179    N  1934  1754  1634     -  \n",
       "6    02-832-7926    Y  1904  1754  1584     -  \n",
       "7    02-817-4085    Y     -  1759  1679  1650  \n",
       "8    02-817-2559    N     -  1875  1735     -  \n",
       "\n",
       "[429 rows x 10 columns]"
      ]
     },
     "execution_count": 47,
     "metadata": {},
     "output_type": "execute_result"
    }
   ],
   "source": [
    "stations_raw = pd.concat(tmp_raw)\n",
    "stations_raw"
   ]
  },
  {
   "cell_type": "code",
   "execution_count": 48,
   "id": "fe0f5bec-3b76-469a-b36a-f03c54333c73",
   "metadata": {
    "scrolled": true
   },
   "outputs": [
    {
     "name": "stdout",
     "output_type": "stream",
     "text": [
      "<class 'pandas.core.frame.DataFrame'>\n",
      "Index: 429 entries, 0 to 8\n",
      "Data columns (total 10 columns):\n",
      " #   Column  Non-Null Count  Dtype \n",
      "---  ------  --------------  ----- \n",
      " 0   지역      429 non-null    object\n",
      " 1   상호      429 non-null    object\n",
      " 2   주소      429 non-null    object\n",
      " 3   상표      429 non-null    object\n",
      " 4   전화번호    429 non-null    object\n",
      " 5   셀프여부    429 non-null    object\n",
      " 6   고급휘발유   429 non-null    object\n",
      " 7   휘발유     429 non-null    object\n",
      " 8   경유      429 non-null    object\n",
      " 9   실내등유    429 non-null    object\n",
      "dtypes: object(10)\n",
      "memory usage: 36.9+ KB\n"
     ]
    }
   ],
   "source": [
    "stations_raw.info()"
   ]
  },
  {
   "cell_type": "code",
   "execution_count": 49,
   "id": "848da5f1-10c3-4b16-a7b7-9118c09f2ce6",
   "metadata": {},
   "outputs": [
    {
     "ename": "KeyError",
     "evalue": "'가격'",
     "output_type": "error",
     "traceback": [
      "\u001b[0;31m---------------------------------------------------------------------------\u001b[0m",
      "\u001b[0;31mKeyError\u001b[0m                                  Traceback (most recent call last)",
      "File \u001b[0;32m/opt/anaconda3/envs/ds_study/lib/python3.8/site-packages/pandas/core/indexes/base.py:3653\u001b[0m, in \u001b[0;36mIndex.get_loc\u001b[0;34m(self, key)\u001b[0m\n\u001b[1;32m   3652\u001b[0m \u001b[38;5;28;01mtry\u001b[39;00m:\n\u001b[0;32m-> 3653\u001b[0m     \u001b[38;5;28;01mreturn\u001b[39;00m \u001b[38;5;28;43mself\u001b[39;49m\u001b[38;5;241;43m.\u001b[39;49m\u001b[43m_engine\u001b[49m\u001b[38;5;241;43m.\u001b[39;49m\u001b[43mget_loc\u001b[49m\u001b[43m(\u001b[49m\u001b[43mcasted_key\u001b[49m\u001b[43m)\u001b[49m\n\u001b[1;32m   3654\u001b[0m \u001b[38;5;28;01mexcept\u001b[39;00m \u001b[38;5;167;01mKeyError\u001b[39;00m \u001b[38;5;28;01mas\u001b[39;00m err:\n",
      "File \u001b[0;32m/opt/anaconda3/envs/ds_study/lib/python3.8/site-packages/pandas/_libs/index.pyx:147\u001b[0m, in \u001b[0;36mpandas._libs.index.IndexEngine.get_loc\u001b[0;34m()\u001b[0m\n",
      "File \u001b[0;32m/opt/anaconda3/envs/ds_study/lib/python3.8/site-packages/pandas/_libs/index.pyx:176\u001b[0m, in \u001b[0;36mpandas._libs.index.IndexEngine.get_loc\u001b[0;34m()\u001b[0m\n",
      "File \u001b[0;32mpandas/_libs/hashtable_class_helper.pxi:7080\u001b[0m, in \u001b[0;36mpandas._libs.hashtable.PyObjectHashTable.get_item\u001b[0;34m()\u001b[0m\n",
      "File \u001b[0;32mpandas/_libs/hashtable_class_helper.pxi:7088\u001b[0m, in \u001b[0;36mpandas._libs.hashtable.PyObjectHashTable.get_item\u001b[0;34m()\u001b[0m\n",
      "\u001b[0;31mKeyError\u001b[0m: '가격'",
      "\nThe above exception was the direct cause of the following exception:\n",
      "\u001b[0;31mKeyError\u001b[0m                                  Traceback (most recent call last)",
      "Cell \u001b[0;32mIn[49], line 4\u001b[0m\n\u001b[1;32m      1\u001b[0m stations \u001b[38;5;241m=\u001b[39m pd\u001b[38;5;241m.\u001b[39mDataFrame({\n\u001b[1;32m      2\u001b[0m     \u001b[38;5;124m\"\u001b[39m\u001b[38;5;124m상호\u001b[39m\u001b[38;5;124m\"\u001b[39m : stations_raw[\u001b[38;5;124m\"\u001b[39m\u001b[38;5;124m상호\u001b[39m\u001b[38;5;124m\"\u001b[39m],\n\u001b[1;32m      3\u001b[0m     \u001b[38;5;124m\"\u001b[39m\u001b[38;5;124m주소\u001b[39m\u001b[38;5;124m\"\u001b[39m : stations_raw[\u001b[38;5;124m\"\u001b[39m\u001b[38;5;124m주소\u001b[39m\u001b[38;5;124m\"\u001b[39m],\n\u001b[0;32m----> 4\u001b[0m     \u001b[38;5;124m\"\u001b[39m\u001b[38;5;124m가격\u001b[39m\u001b[38;5;124m\"\u001b[39m : \u001b[43mstations_raw\u001b[49m\u001b[43m[\u001b[49m\u001b[38;5;124;43m\"\u001b[39;49m\u001b[38;5;124;43m가격\u001b[39;49m\u001b[38;5;124;43m\"\u001b[39;49m\u001b[43m]\u001b[49m,\n\u001b[1;32m      5\u001b[0m     \u001b[38;5;124m\"\u001b[39m\u001b[38;5;124m셀프\u001b[39m\u001b[38;5;124m\"\u001b[39m : stations_raw[\u001b[38;5;124m\"\u001b[39m\u001b[38;5;124m셀프여부\u001b[39m\u001b[38;5;124m\"\u001b[39m],\n\u001b[1;32m      6\u001b[0m     \u001b[38;5;124m\"\u001b[39m\u001b[38;5;124m상표\u001b[39m\u001b[38;5;124m\"\u001b[39m : stations_raw[\u001b[38;5;124m\"\u001b[39m\u001b[38;5;124m상표\u001b[39m\u001b[38;5;124m\"\u001b[39m]\n\u001b[1;32m      7\u001b[0m })\n\u001b[1;32m      8\u001b[0m stations\u001b[38;5;241m.\u001b[39mhead()\n",
      "File \u001b[0;32m/opt/anaconda3/envs/ds_study/lib/python3.8/site-packages/pandas/core/frame.py:3761\u001b[0m, in \u001b[0;36mDataFrame.__getitem__\u001b[0;34m(self, key)\u001b[0m\n\u001b[1;32m   3759\u001b[0m \u001b[38;5;28;01mif\u001b[39;00m \u001b[38;5;28mself\u001b[39m\u001b[38;5;241m.\u001b[39mcolumns\u001b[38;5;241m.\u001b[39mnlevels \u001b[38;5;241m>\u001b[39m \u001b[38;5;241m1\u001b[39m:\n\u001b[1;32m   3760\u001b[0m     \u001b[38;5;28;01mreturn\u001b[39;00m \u001b[38;5;28mself\u001b[39m\u001b[38;5;241m.\u001b[39m_getitem_multilevel(key)\n\u001b[0;32m-> 3761\u001b[0m indexer \u001b[38;5;241m=\u001b[39m \u001b[38;5;28;43mself\u001b[39;49m\u001b[38;5;241;43m.\u001b[39;49m\u001b[43mcolumns\u001b[49m\u001b[38;5;241;43m.\u001b[39;49m\u001b[43mget_loc\u001b[49m\u001b[43m(\u001b[49m\u001b[43mkey\u001b[49m\u001b[43m)\u001b[49m\n\u001b[1;32m   3762\u001b[0m \u001b[38;5;28;01mif\u001b[39;00m is_integer(indexer):\n\u001b[1;32m   3763\u001b[0m     indexer \u001b[38;5;241m=\u001b[39m [indexer]\n",
      "File \u001b[0;32m/opt/anaconda3/envs/ds_study/lib/python3.8/site-packages/pandas/core/indexes/base.py:3655\u001b[0m, in \u001b[0;36mIndex.get_loc\u001b[0;34m(self, key)\u001b[0m\n\u001b[1;32m   3653\u001b[0m     \u001b[38;5;28;01mreturn\u001b[39;00m \u001b[38;5;28mself\u001b[39m\u001b[38;5;241m.\u001b[39m_engine\u001b[38;5;241m.\u001b[39mget_loc(casted_key)\n\u001b[1;32m   3654\u001b[0m \u001b[38;5;28;01mexcept\u001b[39;00m \u001b[38;5;167;01mKeyError\u001b[39;00m \u001b[38;5;28;01mas\u001b[39;00m err:\n\u001b[0;32m-> 3655\u001b[0m     \u001b[38;5;28;01mraise\u001b[39;00m \u001b[38;5;167;01mKeyError\u001b[39;00m(key) \u001b[38;5;28;01mfrom\u001b[39;00m \u001b[38;5;21;01merr\u001b[39;00m\n\u001b[1;32m   3656\u001b[0m \u001b[38;5;28;01mexcept\u001b[39;00m \u001b[38;5;167;01mTypeError\u001b[39;00m:\n\u001b[1;32m   3657\u001b[0m     \u001b[38;5;66;03m# If we have a listlike key, _check_indexing_error will raise\u001b[39;00m\n\u001b[1;32m   3658\u001b[0m     \u001b[38;5;66;03m#  InvalidIndexError. Otherwise we fall through and re-raise\u001b[39;00m\n\u001b[1;32m   3659\u001b[0m     \u001b[38;5;66;03m#  the TypeError.\u001b[39;00m\n\u001b[1;32m   3660\u001b[0m     \u001b[38;5;28mself\u001b[39m\u001b[38;5;241m.\u001b[39m_check_indexing_error(key)\n",
      "\u001b[0;31mKeyError\u001b[0m: '가격'"
     ]
    }
   ],
   "source": [
    "stations = pd.DataFrame({\n",
    "    \"상호\" : stations_raw[\"상호\"],\n",
    "    \"주소\" : stations_raw[\"주소\"],\n",
    "    \"가격\" : stations_raw[\"휘발유\"],\n",
    "    \"셀프\" : stations_raw[\"셀프여부\"],\n",
    "    \"상표\" : stations_raw[\"상표\"]\n",
    "})\n",
    "stations.head()"
   ]
  },
  {
   "cell_type": "code",
   "execution_count": null,
   "id": "dc11e696-4a56-40f8-97e0-8a4b25e3045d",
   "metadata": {},
   "outputs": [],
   "source": []
  },
  {
   "cell_type": "code",
   "execution_count": null,
   "id": "e1ea3744-54d9-4ae3-b4cf-26a7ceaf74cd",
   "metadata": {},
   "outputs": [],
   "source": []
  },
  {
   "cell_type": "code",
   "execution_count": null,
   "id": "ee4e8422-69a2-4cb5-a2eb-19c845ff599f",
   "metadata": {},
   "outputs": [],
   "source": []
  },
  {
   "cell_type": "code",
   "execution_count": null,
   "id": "99228725-dd0d-4649-ad2b-4da8fbb9f57b",
   "metadata": {},
   "outputs": [],
   "source": []
  },
  {
   "cell_type": "code",
   "execution_count": null,
   "id": "82e4dd2e-4969-4561-8f1f-4147e9a515a0",
   "metadata": {},
   "outputs": [],
   "source": []
  },
  {
   "cell_type": "code",
   "execution_count": null,
   "id": "b799beb0-827f-4698-9df5-f8649c4c5853",
   "metadata": {},
   "outputs": [],
   "source": []
  },
  {
   "cell_type": "code",
   "execution_count": null,
   "id": "23289915-eecb-4386-9cdf-47a63c7cc02c",
   "metadata": {},
   "outputs": [],
   "source": []
  },
  {
   "cell_type": "code",
   "execution_count": null,
   "id": "08238c56-f275-429a-b656-8228266b5ee0",
   "metadata": {},
   "outputs": [],
   "source": []
  },
  {
   "cell_type": "code",
   "execution_count": null,
   "id": "620081bd-f14b-4a6d-b2f9-7f772a85241c",
   "metadata": {},
   "outputs": [],
   "source": []
  },
  {
   "cell_type": "code",
   "execution_count": null,
   "id": "a522511d-214c-46e1-9f00-3e2aaaaa3da6",
   "metadata": {},
   "outputs": [],
   "source": []
  },
  {
   "cell_type": "code",
   "execution_count": null,
   "id": "86f50243-37ac-45ed-a6e0-08e4667aa079",
   "metadata": {},
   "outputs": [],
   "source": []
  }
 ],
 "metadata": {
  "kernelspec": {
   "display_name": "Python 3 (ipykernel)",
   "language": "python",
   "name": "python3"
  },
  "language_info": {
   "codemirror_mode": {
    "name": "ipython",
    "version": 3
   },
   "file_extension": ".py",
   "mimetype": "text/x-python",
   "name": "python",
   "nbconvert_exporter": "python",
   "pygments_lexer": "ipython3",
   "version": "3.8.19"
  }
 },
 "nbformat": 4,
 "nbformat_minor": 5
}
