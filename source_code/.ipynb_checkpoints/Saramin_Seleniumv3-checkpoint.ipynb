{
 "cells": [
  {
   "cell_type": "code",
   "execution_count": 1,
   "id": "06b71831",
   "metadata": {},
   "outputs": [],
   "source": [
    "# 설치한 selenium에서 webdriver를 import\n",
    "from selenium import webdriver\n",
    "from selenium.webdriver.common.by import By\n",
    "from selenium.webdriver.common.keys import Keys\n",
    "import time\n",
    "from bs4 import BeautifulSoup\n",
    "import pandas as pd\n",
    "from tqdm import tqdm\n",
    "import pymysql"
   ]
  },
  {
   "cell_type": "code",
   "execution_count": null,
   "id": "eb82c667",
   "metadata": {},
   "outputs": [],
   "source": []
  },
  {
   "cell_type": "code",
   "execution_count": 10,
   "id": "93dc8801",
   "metadata": {},
   "outputs": [],
   "source": [
    "# selenum의 webdriver에 앞서 설치한 chromedirver를 연동한다.\n",
    "#driver = webdriver.Chrome(\"\")"
   ]
  },
  {
   "cell_type": "code",
   "execution_count": null,
   "id": "f53576bd",
   "metadata": {},
   "outputs": [],
   "source": []
  },
  {
   "cell_type": "code",
   "execution_count": 103,
   "id": "f7af9b74",
   "metadata": {},
   "outputs": [],
   "source": [
    "#url = 'https://www.saramin.co.kr/zf_user/search?search_area=main&search_done=y&search_optional_item=n&loc_mcd=117000&cat_kewd=87%2C109%2C83%2C82%2C84%2C86%2C108%2C110%2C106%2C111%2C105%2C107'\n",
    "#driver.get(url)\n",
    "#driver.page_source[1:1000]"
   ]
  },
  {
   "cell_type": "code",
   "execution_count": null,
   "id": "1c5dfb5e",
   "metadata": {},
   "outputs": [],
   "source": []
  },
  {
   "cell_type": "code",
   "execution_count": 22,
   "id": "268644e9",
   "metadata": {},
   "outputs": [],
   "source": [
    "# 크롬 드라이버 실행\n",
    "driver = webdriver.Chrome(\"\")\n",
    "\n",
    "url = 'https://www.saramin.co.kr/zf_user/jobs/list/domestic'\n",
    "driver.get(url)\n",
    "# 지역 선택\n",
    "# 강남구 선택\n",
    "driver.find_element(By.XPATH, '//*[@id=\"sp_area_lastDepth_101000\"]/li[2]/div/label').click()\n",
    "# 송파구\n",
    "driver.find_element(By.XPATH, '//*[@id=\"sp_area_lastDepth_101000\"]/li[19]/div/label').click()\n",
    "# 구로구\n",
    "driver.find_element(By.XPATH, '//*[@id=\"sp_area_lastDepth_101000\"]/li[8]/div/label').click()\n",
    "# 금천구\n",
    "driver.find_element(By.XPATH, '//*[@id=\"sp_area_lastDepth_101000\"]/li[9]/div/label').click()\n",
    "# 서초구\n",
    "driver.find_element(By.XPATH, '//*[@id=\"sp_area_lastDepth_101000\"]/li[16]/div/label').click()\n",
    "\n",
    "# 분야 선택\n",
    "driver.find_element(By.XPATH, '//*[@id=\"sp_main_wrapper\"]/div[2]/ul/li[2]/button').click()\n",
    "driver.find_element(By.XPATH, '//*[@id=\"sp_main_wrapper\"]/div[2]/div/div[2]/div[2]/div[1]/button[6]').click()\n",
    "driver.find_element(By.XPATH, '//*[@id=\"sp_job_category_subDepth_2\"]/div[2]/div/div[2]/div/dl[2]/dd/button[7]').click()\n",
    "\n",
    "# 검색하기 버튼클릭\n",
    "driver.find_element(By.XPATH, '//*[@id=\"search_btn\"]').click()"
   ]
  },
  {
   "cell_type": "code",
   "execution_count": null,
   "id": "8d59d08d",
   "metadata": {},
   "outputs": [],
   "source": []
  },
  {
   "cell_type": "code",
   "execution_count": 24,
   "id": "2a9f1351",
   "metadata": {},
   "outputs": [
    {
     "name": "stderr",
     "output_type": "stream",
     "text": [
      "100%|████████████████████████████████████████████████████████████████████████████████████| 9/9 [00:00<00:00, 51.46it/s]"
     ]
    },
    {
     "name": "stdout",
     "output_type": "stream",
     "text": [
      "Error: Message: no such element: Unable to locate element: {\"method\":\"xpath\",\"selector\":\"//*[@id=\"content\"]/div[3]/section[1]/div[1]/div[1]/div[1]/h1\"}\n",
      "  (Session info: chrome=125.0.6422.60); For documentation on this error, please visit: https://www.selenium.dev/documentation/webdriver/troubleshooting/errors#no-such-element-exception\n",
      "Stacktrace:\n",
      "\tGetHandleVerifier [0x00007FF7DCCC22C2+60002]\n",
      "\t(No symbol) [0x00007FF7DCC3CA59]\n",
      "\t(No symbol) [0x00007FF7DCAF7EDA]\n",
      "\t(No symbol) [0x00007FF7DCB476E6]\n",
      "\t(No symbol) [0x00007FF7DCB477AC]\n",
      "\t(No symbol) [0x00007FF7DCB8E9D7]\n",
      "\t(No symbol) [0x00007FF7DCB6C2CF]\n",
      "\t(No symbol) [0x00007FF7DCB8BCC7]\n",
      "\t(No symbol) [0x00007FF7DCB6C033]\n",
      "\t(No symbol) [0x00007FF7DCB39657]\n",
      "\t(No symbol) [0x00007FF7DCB3A251]\n",
      "\tGetHandleVerifier [0x00007FF7DCFD3E2D+3278285]\n",
      "\tGetHandleVerifier [0x00007FF7DD020190+3590448]\n",
      "\tGetHandleVerifier [0x00007FF7DD0161D0+3549552]\n",
      "\tGetHandleVerifier [0x00007FF7DCD71DE6+779654]\n",
      "\t(No symbol) [0x00007FF7DCC47ACF]\n",
      "\t(No symbol) [0x00007FF7DCC42EE4]\n",
      "\t(No symbol) [0x00007FF7DCC43072]\n",
      "\t(No symbol) [0x00007FF7DCC32C4F]\n",
      "\tBaseThreadInitThunk [0x00007FFBA716257D+29]\n",
      "\tRtlUserThreadStart [0x00007FFBA850AA48+40]\n",
      "\n",
      "Error: Message: no such element: Unable to locate element: {\"method\":\"xpath\",\"selector\":\"//*[@id=\"content\"]/div[3]/section[1]/div[1]/div[1]/div[1]/h1\"}\n",
      "  (Session info: chrome=125.0.6422.60); For documentation on this error, please visit: https://www.selenium.dev/documentation/webdriver/troubleshooting/errors#no-such-element-exception\n",
      "Stacktrace:\n",
      "\tGetHandleVerifier [0x00007FF7DCCC22C2+60002]\n",
      "\t(No symbol) [0x00007FF7DCC3CA59]\n",
      "\t(No symbol) [0x00007FF7DCAF7EDA]\n",
      "\t(No symbol) [0x00007FF7DCB476E6]\n",
      "\t(No symbol) [0x00007FF7DCB477AC]\n",
      "\t(No symbol) [0x00007FF7DCB8E9D7]\n",
      "\t(No symbol) [0x00007FF7DCB6C2CF]\n",
      "\t(No symbol) [0x00007FF7DCB8BCC7]\n",
      "\t(No symbol) [0x00007FF7DCB6C033]\n",
      "\t(No symbol) [0x00007FF7DCB39657]\n",
      "\t(No symbol) [0x00007FF7DCB3A251]\n",
      "\tGetHandleVerifier [0x00007FF7DCFD3E2D+3278285]\n",
      "\tGetHandleVerifier [0x00007FF7DD020190+3590448]\n",
      "\tGetHandleVerifier [0x00007FF7DD0161D0+3549552]\n",
      "\tGetHandleVerifier [0x00007FF7DCD71DE6+779654]\n",
      "\t(No symbol) [0x00007FF7DCC47ACF]\n",
      "\t(No symbol) [0x00007FF7DCC42EE4]\n",
      "\t(No symbol) [0x00007FF7DCC43072]\n",
      "\t(No symbol) [0x00007FF7DCC32C4F]\n",
      "\tBaseThreadInitThunk [0x00007FFBA716257D+29]\n",
      "\tRtlUserThreadStart [0x00007FFBA850AA48+40]\n",
      "\n",
      "Error: Message: no such element: Unable to locate element: {\"method\":\"xpath\",\"selector\":\"//*[@id=\"content\"]/div[3]/section[1]/div[1]/div[1]/div[1]/h1\"}\n",
      "  (Session info: chrome=125.0.6422.60); For documentation on this error, please visit: https://www.selenium.dev/documentation/webdriver/troubleshooting/errors#no-such-element-exception\n",
      "Stacktrace:\n",
      "\tGetHandleVerifier [0x00007FF7DCCC22C2+60002]\n",
      "\t(No symbol) [0x00007FF7DCC3CA59]\n",
      "\t(No symbol) [0x00007FF7DCAF7EDA]\n",
      "\t(No symbol) [0x00007FF7DCB476E6]\n",
      "\t(No symbol) [0x00007FF7DCB477AC]\n",
      "\t(No symbol) [0x00007FF7DCB8E9D7]\n",
      "\t(No symbol) [0x00007FF7DCB6C2CF]\n",
      "\t(No symbol) [0x00007FF7DCB8BCC7]\n",
      "\t(No symbol) [0x00007FF7DCB6C033]\n",
      "\t(No symbol) [0x00007FF7DCB39657]\n",
      "\t(No symbol) [0x00007FF7DCB3A251]\n",
      "\tGetHandleVerifier [0x00007FF7DCFD3E2D+3278285]\n",
      "\tGetHandleVerifier [0x00007FF7DD020190+3590448]\n",
      "\tGetHandleVerifier [0x00007FF7DD0161D0+3549552]\n",
      "\tGetHandleVerifier [0x00007FF7DCD71DE6+779654]\n",
      "\t(No symbol) [0x00007FF7DCC47ACF]\n",
      "\t(No symbol) [0x00007FF7DCC42EE4]\n",
      "\t(No symbol) [0x00007FF7DCC43072]\n",
      "\t(No symbol) [0x00007FF7DCC32C4F]\n",
      "\tBaseThreadInitThunk [0x00007FFBA716257D+29]\n",
      "\tRtlUserThreadStart [0x00007FFBA850AA48+40]\n",
      "\n",
      "Error: Message: no such element: Unable to locate element: {\"method\":\"xpath\",\"selector\":\"//*[@id=\"content\"]/div[3]/section[1]/div[1]/div[1]/div[1]/h1\"}\n",
      "  (Session info: chrome=125.0.6422.60); For documentation on this error, please visit: https://www.selenium.dev/documentation/webdriver/troubleshooting/errors#no-such-element-exception\n",
      "Stacktrace:\n",
      "\tGetHandleVerifier [0x00007FF7DCCC22C2+60002]\n",
      "\t(No symbol) [0x00007FF7DCC3CA59]\n",
      "\t(No symbol) [0x00007FF7DCAF7EDA]\n",
      "\t(No symbol) [0x00007FF7DCB476E6]\n",
      "\t(No symbol) [0x00007FF7DCB477AC]\n",
      "\t(No symbol) [0x00007FF7DCB8E9D7]\n",
      "\t(No symbol) [0x00007FF7DCB6C2CF]\n",
      "\t(No symbol) [0x00007FF7DCB8BCC7]\n",
      "\t(No symbol) [0x00007FF7DCB6C033]\n",
      "\t(No symbol) [0x00007FF7DCB39657]\n",
      "\t(No symbol) [0x00007FF7DCB3A251]\n",
      "\tGetHandleVerifier [0x00007FF7DCFD3E2D+3278285]\n",
      "\tGetHandleVerifier [0x00007FF7DD020190+3590448]\n",
      "\tGetHandleVerifier [0x00007FF7DD0161D0+3549552]\n",
      "\tGetHandleVerifier [0x00007FF7DCD71DE6+779654]\n",
      "\t(No symbol) [0x00007FF7DCC47ACF]\n",
      "\t(No symbol) [0x00007FF7DCC42EE4]\n",
      "\t(No symbol) [0x00007FF7DCC43072]\n",
      "\t(No symbol) [0x00007FF7DCC32C4F]\n",
      "\tBaseThreadInitThunk [0x00007FFBA716257D+29]\n",
      "\tRtlUserThreadStart [0x00007FFBA850AA48+40]\n",
      "\n",
      "Error: Message: no such element: Unable to locate element: {\"method\":\"xpath\",\"selector\":\"//*[@id=\"content\"]/div[3]/section[1]/div[1]/div[1]/div[1]/h1\"}\n",
      "  (Session info: chrome=125.0.6422.60); For documentation on this error, please visit: https://www.selenium.dev/documentation/webdriver/troubleshooting/errors#no-such-element-exception\n",
      "Stacktrace:\n",
      "\tGetHandleVerifier [0x00007FF7DCCC22C2+60002]\n",
      "\t(No symbol) [0x00007FF7DCC3CA59]\n",
      "\t(No symbol) [0x00007FF7DCAF7EDA]\n",
      "\t(No symbol) [0x00007FF7DCB476E6]\n",
      "\t(No symbol) [0x00007FF7DCB477AC]\n",
      "\t(No symbol) [0x00007FF7DCB8E9D7]\n",
      "\t(No symbol) [0x00007FF7DCB6C2CF]\n",
      "\t(No symbol) [0x00007FF7DCB8BCC7]\n",
      "\t(No symbol) [0x00007FF7DCB6C033]\n",
      "\t(No symbol) [0x00007FF7DCB39657]\n",
      "\t(No symbol) [0x00007FF7DCB3A251]\n",
      "\tGetHandleVerifier [0x00007FF7DCFD3E2D+3278285]\n",
      "\tGetHandleVerifier [0x00007FF7DD020190+3590448]\n",
      "\tGetHandleVerifier [0x00007FF7DD0161D0+3549552]\n",
      "\tGetHandleVerifier [0x00007FF7DCD71DE6+779654]\n",
      "\t(No symbol) [0x00007FF7DCC47ACF]\n",
      "\t(No symbol) [0x00007FF7DCC42EE4]\n",
      "\t(No symbol) [0x00007FF7DCC43072]\n",
      "\t(No symbol) [0x00007FF7DCC32C4F]\n",
      "\tBaseThreadInitThunk [0x00007FFBA716257D+29]\n",
      "\tRtlUserThreadStart [0x00007FFBA850AA48+40]\n",
      "\n",
      "Error: Message: no such element: Unable to locate element: {\"method\":\"xpath\",\"selector\":\"//*[@id=\"content\"]/div[3]/section[1]/div[1]/div[1]/div[1]/h1\"}\n",
      "  (Session info: chrome=125.0.6422.60); For documentation on this error, please visit: https://www.selenium.dev/documentation/webdriver/troubleshooting/errors#no-such-element-exception\n",
      "Stacktrace:\n",
      "\tGetHandleVerifier [0x00007FF7DCCC22C2+60002]\n",
      "\t(No symbol) [0x00007FF7DCC3CA59]\n",
      "\t(No symbol) [0x00007FF7DCAF7EDA]\n",
      "\t(No symbol) [0x00007FF7DCB476E6]\n",
      "\t(No symbol) [0x00007FF7DCB477AC]\n",
      "\t(No symbol) [0x00007FF7DCB8E9D7]\n",
      "\t(No symbol) [0x00007FF7DCB6C2CF]\n",
      "\t(No symbol) [0x00007FF7DCB8BCC7]\n",
      "\t(No symbol) [0x00007FF7DCB6C033]\n",
      "\t(No symbol) [0x00007FF7DCB39657]\n",
      "\t(No symbol) [0x00007FF7DCB3A251]\n",
      "\tGetHandleVerifier [0x00007FF7DCFD3E2D+3278285]\n",
      "\tGetHandleVerifier [0x00007FF7DD020190+3590448]\n",
      "\tGetHandleVerifier [0x00007FF7DD0161D0+3549552]\n",
      "\tGetHandleVerifier [0x00007FF7DCD71DE6+779654]\n",
      "\t(No symbol) [0x00007FF7DCC47ACF]\n",
      "\t(No symbol) [0x00007FF7DCC42EE4]\n",
      "\t(No symbol) [0x00007FF7DCC43072]\n",
      "\t(No symbol) [0x00007FF7DCC32C4F]\n",
      "\tBaseThreadInitThunk [0x00007FFBA716257D+29]\n",
      "\tRtlUserThreadStart [0x00007FFBA850AA48+40]\n",
      "\n",
      "Error: Message: no such element: Unable to locate element: {\"method\":\"xpath\",\"selector\":\"//*[@id=\"content\"]/div[3]/section[1]/div[1]/div[1]/div[1]/h1\"}\n",
      "  (Session info: chrome=125.0.6422.60); For documentation on this error, please visit: https://www.selenium.dev/documentation/webdriver/troubleshooting/errors#no-such-element-exception\n",
      "Stacktrace:\n",
      "\tGetHandleVerifier [0x00007FF7DCCC22C2+60002]\n",
      "\t(No symbol) [0x00007FF7DCC3CA59]\n",
      "\t(No symbol) [0x00007FF7DCAF7EDA]\n",
      "\t(No symbol) [0x00007FF7DCB476E6]\n",
      "\t(No symbol) [0x00007FF7DCB477AC]\n",
      "\t(No symbol) [0x00007FF7DCB8E9D7]\n",
      "\t(No symbol) [0x00007FF7DCB6C2CF]\n",
      "\t(No symbol) [0x00007FF7DCB8BCC7]\n",
      "\t(No symbol) [0x00007FF7DCB6C033]\n",
      "\t(No symbol) [0x00007FF7DCB39657]\n",
      "\t(No symbol) [0x00007FF7DCB3A251]\n",
      "\tGetHandleVerifier [0x00007FF7DCFD3E2D+3278285]\n",
      "\tGetHandleVerifier [0x00007FF7DD020190+3590448]\n",
      "\tGetHandleVerifier [0x00007FF7DD0161D0+3549552]\n",
      "\tGetHandleVerifier [0x00007FF7DCD71DE6+779654]\n",
      "\t(No symbol) [0x00007FF7DCC47ACF]\n",
      "\t(No symbol) [0x00007FF7DCC42EE4]\n",
      "\t(No symbol) [0x00007FF7DCC43072]\n",
      "\t(No symbol) [0x00007FF7DCC32C4F]\n",
      "\tBaseThreadInitThunk [0x00007FFBA716257D+29]\n",
      "\tRtlUserThreadStart [0x00007FFBA850AA48+40]\n",
      "\n",
      "Error: Message: no such element: Unable to locate element: {\"method\":\"xpath\",\"selector\":\"//*[@id=\"content\"]/div[3]/section[1]/div[1]/div[1]/div[1]/h1\"}\n",
      "  (Session info: chrome=125.0.6422.60); For documentation on this error, please visit: https://www.selenium.dev/documentation/webdriver/troubleshooting/errors#no-such-element-exception\n",
      "Stacktrace:\n",
      "\tGetHandleVerifier [0x00007FF7DCCC22C2+60002]\n",
      "\t(No symbol) [0x00007FF7DCC3CA59]\n",
      "\t(No symbol) [0x00007FF7DCAF7EDA]\n",
      "\t(No symbol) [0x00007FF7DCB476E6]\n",
      "\t(No symbol) [0x00007FF7DCB477AC]\n",
      "\t(No symbol) [0x00007FF7DCB8E9D7]\n",
      "\t(No symbol) [0x00007FF7DCB6C2CF]\n",
      "\t(No symbol) [0x00007FF7DCB8BCC7]\n",
      "\t(No symbol) [0x00007FF7DCB6C033]\n",
      "\t(No symbol) [0x00007FF7DCB39657]\n",
      "\t(No symbol) [0x00007FF7DCB3A251]\n",
      "\tGetHandleVerifier [0x00007FF7DCFD3E2D+3278285]\n",
      "\tGetHandleVerifier [0x00007FF7DD020190+3590448]\n",
      "\tGetHandleVerifier [0x00007FF7DD0161D0+3549552]\n",
      "\tGetHandleVerifier [0x00007FF7DCD71DE6+779654]\n",
      "\t(No symbol) [0x00007FF7DCC47ACF]\n",
      "\t(No symbol) [0x00007FF7DCC42EE4]\n",
      "\t(No symbol) [0x00007FF7DCC43072]\n",
      "\t(No symbol) [0x00007FF7DCC32C4F]\n",
      "\tBaseThreadInitThunk [0x00007FFBA716257D+29]\n",
      "\tRtlUserThreadStart [0x00007FFBA850AA48+40]\n",
      "\n",
      "Error: Message: no such element: Unable to locate element: {\"method\":\"xpath\",\"selector\":\"//*[@id=\"content\"]/div[3]/section[1]/div[1]/div[1]/div[1]/h1\"}\n",
      "  (Session info: chrome=125.0.6422.60); For documentation on this error, please visit: https://www.selenium.dev/documentation/webdriver/troubleshooting/errors#no-such-element-exception\n",
      "Stacktrace:\n",
      "\tGetHandleVerifier [0x00007FF7DCCC22C2+60002]\n",
      "\t(No symbol) [0x00007FF7DCC3CA59]\n",
      "\t(No symbol) [0x00007FF7DCAF7EDA]\n",
      "\t(No symbol) [0x00007FF7DCB476E6]\n",
      "\t(No symbol) [0x00007FF7DCB477AC]\n",
      "\t(No symbol) [0x00007FF7DCB8E9D7]\n",
      "\t(No symbol) [0x00007FF7DCB6C2CF]\n",
      "\t(No symbol) [0x00007FF7DCB8BCC7]\n",
      "\t(No symbol) [0x00007FF7DCB6C033]\n",
      "\t(No symbol) [0x00007FF7DCB39657]\n",
      "\t(No symbol) [0x00007FF7DCB3A251]\n",
      "\tGetHandleVerifier [0x00007FF7DCFD3E2D+3278285]\n",
      "\tGetHandleVerifier [0x00007FF7DD020190+3590448]\n",
      "\tGetHandleVerifier [0x00007FF7DD0161D0+3549552]\n",
      "\tGetHandleVerifier [0x00007FF7DCD71DE6+779654]\n",
      "\t(No symbol) [0x00007FF7DCC47ACF]\n",
      "\t(No symbol) [0x00007FF7DCC42EE4]\n",
      "\t(No symbol) [0x00007FF7DCC43072]\n",
      "\t(No symbol) [0x00007FF7DCC32C4F]\n",
      "\tBaseThreadInitThunk [0x00007FFBA716257D+29]\n",
      "\tRtlUserThreadStart [0x00007FFBA850AA48+40]\n",
      "\n"
     ]
    },
    {
     "name": "stderr",
     "output_type": "stream",
     "text": [
      "\n"
     ]
    }
   ],
   "source": [
    "# 리스트 만들기 \n",
    "title = []\n",
    "name = [] \n",
    "loc = [] \n",
    "career = []\n",
    "loc2=[]\n",
    "tag=[]\n",
    "cdate=[]\n",
    "position=[]\n",
    "\n",
    "#크롤링 \n",
    "for i in tqdm(range(1, 10)):\n",
    "    try:\n",
    "        # 각 요소를 찾아서 데이터를 추출하여 리스트에 추가\n",
    "        elem = driver.find_element(By.XPATH,'//*[@id=\"rec-48232287\"]/div[1]/div[2]/div[1]').click\n",
    "        #공고클릭 \n",
    "        \n",
    "        #제목\n",
    "        elem = driver.find_element(By.XPATH,'//*[@id=\"content\"]/div[3]/section[1]/div[1]/div[1]/div[1]/h1').click\n",
    "        #근무지역\n",
    "        elem = driver.find_element(By.XPATH,'//*[@id=\"content\"]/div[3]/section[1]/div[1]/div[2]/div/div[2]/dl[2]/dd').click\n",
    "        \n",
    "        #경력 \n",
    "        elem= driver.find_element(By.XPATH,'//*[@id=\"content\"]/div[3]/section[1]/div[1]/div[2]/div/div[2]/dl[3]/dd').click\n",
    "        \n",
    "        #학력 \n",
    "        elem = driver.find_element(By.XPATH,'//*[@id=\"content\"]/div[3]/section[1]/div[1]/div[2]/div/div[1]/dl[1]/dd/strong').click\n",
    "        \n",
    "        #근무장소 \n",
    "        elem= driver.find_element(By.XPATH,'//*[@id=\"map_0\"]/div/address/span[1]').click\n",
    "        \n",
    "        scroll_count = 3\n",
    "        for _ in range(scroll_count):\n",
    "            driver.execute_script(\"window.scrollTo(0, document.body.scrollHeight);\")\n",
    "            time.sleep(2)\n",
    "            \n",
    "        #포지션(복리후생) \n",
    "        elem= driver.find_element(By.XPATH,'//*[@id=\"content\"]/div[3]/section[1]/div[1]/div[4]/div/div').click\n",
    "        time.sleep(5)\n",
    "        elem= driver.find_element(By.XPATH,'//*[@id=\"content\"]/div[3]/section[1]/div[1]/div[10]/div/div[1]/ul')\n",
    "        time.sleep(5)\n",
    "        elem= driver.find_element(By.XPATH,'//*[@id=\"content\"]/div[3]/section[1]/div[1]/div[6]/div/div/div')\n",
    "        time.sleep(5)\n",
    "        elem= driver.find_element(By.XPATH,'//*[@id=\"content\"]/div[3]/section[2]/div/div[4]/div/div').text\n",
    "        \n",
    "        #append 배열추가 \n",
    "        title.append(elem_title)\n",
    "        loc.append(elem_loc)\n",
    "        career.append(elem_career)\n",
    "        loc2.append(elem_loc2)\n",
    "        tag.append(elem_tag)\n",
    "        cdate.append(elem_cdate)\n",
    "        position.append(elem_position)\n",
    "\n",
    "    except Exception as e:\n",
    "        print(f\"Error: {e}\")\n",
    "        pass\n",
    "\n",
    "# 데이터프레임 생성\n",
    "df = pd.DataFrame({\n",
    "    '기업명': name,\n",
    "    '채용공고': title,\n",
    "    '경력': career,\n",
    "    '위치': loc,\n",
    "    '근무장소': loc2,\n",
    "    '태그': tag,\n",
    "    '마감일': cdate,\n",
    "    '포지션': position\n",
    "})\n",
    "\n",
    "\n",
    "\n",
    "# 데이터프레임 출력\n",
    "#print(df)\n",
    "\n",
    "# 브라우저 종료\n",
    "#driver.quit()\n"
   ]
  },
  {
   "cell_type": "code",
   "execution_count": null,
   "id": "be01a5c6",
   "metadata": {},
   "outputs": [],
   "source": []
  },
  {
   "cell_type": "code",
   "execution_count": null,
   "id": "ffb42e41",
   "metadata": {},
   "outputs": [],
   "source": []
  },
  {
   "cell_type": "code",
   "execution_count": null,
   "id": "d82c30b6",
   "metadata": {},
   "outputs": [],
   "source": []
  },
  {
   "cell_type": "code",
   "execution_count": null,
   "id": "00397ace",
   "metadata": {},
   "outputs": [],
   "source": []
  },
  {
   "cell_type": "code",
   "execution_count": null,
   "id": "313ac3f0",
   "metadata": {},
   "outputs": [],
   "source": []
  },
  {
   "cell_type": "code",
   "execution_count": null,
   "id": "99297281",
   "metadata": {},
   "outputs": [],
   "source": []
  },
  {
   "cell_type": "code",
   "execution_count": 24,
   "id": "c7a7d673",
   "metadata": {},
   "outputs": [],
   "source": [
    "#driver.switch_to.window(driver.window_handles[1])"
   ]
  },
  {
   "cell_type": "code",
   "execution_count": null,
   "id": "c4899450",
   "metadata": {},
   "outputs": [],
   "source": [
    "#elem = driver.find_element(By.XPATH, value = '//*[@id=\"content\"]/div[3]/section[1]/div[1]/div[1]/div/div[1]/a[1]').text\n",
    "#elem"
   ]
  },
  {
   "cell_type": "code",
   "execution_count": 14,
   "id": "9ffd386d",
   "metadata": {},
   "outputs": [],
   "source": [
    "#elem = driver.find_element(By.XPATH,value='//*[@id=\"content\"]/div[3]/section[1]/div[1]/div[1]/div/h1')\n",
    "#elem"
   ]
  },
  {
   "cell_type": "code",
   "execution_count": 28,
   "id": "4805f049",
   "metadata": {},
   "outputs": [],
   "source": [
    "#elem = driver.find_element(By.XPATH,value = '//*[@id=\"content\"]/div[3]/section[1]/div[1]/div[2]/div/div[1]')"
   ]
  },
  {
   "cell_type": "code",
   "execution_count": 29,
   "id": "b3a1c54f",
   "metadata": {},
   "outputs": [],
   "source": [
    "#elem = driver.find_element(By.XPATH,value = '//*[@id=\"content\"]/div[3]/section[1]/div[1]/div[2]/div/div[2]')"
   ]
  },
  {
   "cell_type": "code",
   "execution_count": 30,
   "id": "c3bd0531",
   "metadata": {},
   "outputs": [
    {
     "name": "stdout",
     "output_type": "stream",
     "text": [
      "급여\n",
      "면접 후 결정\n",
      "근무지역\n",
      "서울 마포구, 강남구, 서초구, 경기 안양시, 울산전체, 경남 창원시, 경북 구미시, 전북 전주시, 충북 청주시, 전국 지도\n"
     ]
    }
   ],
   "source": [
    "#print(elem.text)"
   ]
  },
  {
   "cell_type": "code",
   "execution_count": 9,
   "id": "b17b0875",
   "metadata": {},
   "outputs": [
    {
     "name": "stdout",
     "output_type": "stream",
     "text": [
      "[]\n",
      "[]\n",
      "[]\n",
      "[]\n"
     ]
    },
    {
     "ename": "AttributeError",
     "evalue": "'function' object has no attribute 'txt'",
     "output_type": "error",
     "traceback": [
      "\u001b[1;31m---------------------------------------------------------------------------\u001b[0m",
      "\u001b[1;31mAttributeError\u001b[0m                            Traceback (most recent call last)",
      "Input \u001b[1;32mIn [9]\u001b[0m, in \u001b[0;36m<cell line: 17>\u001b[1;34m()\u001b[0m\n\u001b[0;32m     15\u001b[0m \u001b[38;5;28mprint\u001b[39m(career)\n\u001b[0;32m     16\u001b[0m \u001b[38;5;66;03m#elem.txt를 분할하여 처리 \u001b[39;00m\n\u001b[1;32m---> 17\u001b[0m split_elements \u001b[38;5;241m=\u001b[39m \u001b[43melem\u001b[49m\u001b[38;5;241;43m.\u001b[39;49m\u001b[43mtxt\u001b[49m\u001b[38;5;241m.\u001b[39msplit(\u001b[38;5;124m'\u001b[39m\u001b[38;5;130;01m\\n\u001b[39;00m\u001b[38;5;124m'\u001b[39m)\n\u001b[0;32m     20\u001b[0m elem_a \u001b[38;5;241m=\u001b[39m elem\u001b[38;5;241m.\u001b[39mtext\u001b[38;5;241m.\u001b[39msplit(\u001b[38;5;124m'\u001b[39m\u001b[38;5;130;01m\\n\u001b[39;00m\u001b[38;5;124m'\u001b[39m)[\u001b[38;5;241m0\u001b[39m]  \n\u001b[0;32m     22\u001b[0m df \u001b[38;5;241m=\u001b[39m pd\u001b[38;5;241m.\u001b[39mDataFrame()\n",
      "\u001b[1;31mAttributeError\u001b[0m: 'function' object has no attribute 'txt'"
     ]
    }
   ],
   "source": [
    "#elem.txt를 분할하여 처리 \n",
    "split_elements = elem.txt.split('\\n')\n",
    "elem_a = elem.text.split('\\n')[0]  \n",
    "\n",
    "#df = pd.DataFrame()\n",
    "    \n",
    "#df['기업명'] = name\n",
    "#df['채용공고'] = title\n",
    "#df['경력'] = career\n",
    "#df['위치'] = loc\n",
    "#df['근무장소']=loc2\n",
    "#df['태그']=tag\n",
    "#df['마감일']=cdate\n",
    "#df['포지션']=position\n",
    "\n",
    "split_text = elem.text.split('\\n')\n",
    "print(split_elements)\n",
    "\n",
    "if len(split_text) > 1:\n",
    "    title.append(split_text[1])\n",
    "    name.append(elem_a.split(',')[0])\n",
    "    loc.append(elem_a.split(',')[1])\n",
    "    career.append(elem_a.split(',')[2])\n",
    "\n",
    "driver.back()"
   ]
  },
  {
   "cell_type": "code",
   "execution_count": 100,
   "id": "5d09980a",
   "metadata": {},
   "outputs": [
    {
     "ename": "AttributeError",
     "evalue": "'function' object has no attribute 'text'",
     "output_type": "error",
     "traceback": [
      "\u001b[1;31m---------------------------------------------------------------------------\u001b[0m",
      "\u001b[1;31mAttributeError\u001b[0m                            Traceback (most recent call last)",
      "Input \u001b[1;32mIn [100]\u001b[0m, in \u001b[0;36m<cell line: 1>\u001b[1;34m()\u001b[0m\n\u001b[1;32m----> 1\u001b[0m elem_a \u001b[38;5;241m=\u001b[39m \u001b[43melem\u001b[49m\u001b[38;5;241;43m.\u001b[39;49m\u001b[43mtext\u001b[49m\u001b[38;5;241m.\u001b[39msplit(\u001b[38;5;124m'\u001b[39m\u001b[38;5;124m,\u001b[39m\u001b[38;5;124m'\u001b[39m)[\u001b[38;5;241m0\u001b[39m]\n\u001b[0;32m      2\u001b[0m elem_a\n",
      "\u001b[1;31mAttributeError\u001b[0m: 'function' object has no attribute 'text'"
     ]
    }
   ],
   "source": [
    "elem_a = elem.text.#split(',')[0]\n",
    "elem_a"
   ]
  },
  {
   "cell_type": "code",
   "execution_count": null,
   "id": "c036dc84",
   "metadata": {},
   "outputs": [],
   "source": []
  },
  {
   "cell_type": "code",
   "execution_count": 12,
   "id": "8e34db42",
   "metadata": {},
   "outputs": [],
   "source": [
    "#df = pd.DataFrame()\n",
    "    \n",
    "#df['기업명'] = name\n",
    "#df['채용공고'] = title\n",
    "#df['경력'] = career\n",
    "#df['위치'] = loc\n",
    "#df['근무장소']=loc2\n",
    "#df['태그']=tag\n",
    "#df['마감일']=cdate\n",
    "#df['포지션']=position\n"
   ]
  },
  {
   "cell_type": "code",
   "execution_count": null,
   "id": "a11adc7f",
   "metadata": {},
   "outputs": [],
   "source": []
  },
  {
   "cell_type": "code",
   "execution_count": null,
   "id": "288c6330",
   "metadata": {},
   "outputs": [],
   "source": [
    "#//*[@id=\"recruit_info_list\"]/div[1]/div[1]/div[2]/h2/a/span\n"
   ]
  },
  {
   "cell_type": "code",
   "execution_count": 82,
   "id": "9519a46d",
   "metadata": {},
   "outputs": [],
   "source": [
    "df.to_csv('C:\\\\alcc\\\\1.파이썬\\\\Pflow\\\\wanted_Selenium.csv', encoding='utf-8')"
   ]
  },
  {
   "cell_type": "code",
   "execution_count": null,
   "id": "19b3de5c",
   "metadata": {},
   "outputs": [],
   "source": []
  },
  {
   "cell_type": "code",
   "execution_count": 27,
   "id": "c67d64a1",
   "metadata": {},
   "outputs": [],
   "source": [
    "#elem_a = elem.text.split('\\n')[0]"
   ]
  },
  {
   "cell_type": "code",
   "execution_count": 16,
   "id": "0bd2035b",
   "metadata": {},
   "outputs": [],
   "source": [
    "#elem_a = \"some,string,to,split\""
   ]
  },
  {
   "cell_type": "code",
   "execution_count": 19,
   "id": "4c39db30",
   "metadata": {},
   "outputs": [
    {
     "name": "stdout",
     "output_type": "stream",
     "text": [
      "['some', 'string', 'to', 'split']\n"
     ]
    }
   ],
   "source": [
    "#split_elements = elem_a.split(',')\n",
    "#print(split_elements)"
   ]
  },
  {
   "cell_type": "code",
   "execution_count": 28,
   "id": "9134921d",
   "metadata": {},
   "outputs": [
    {
     "data": {
      "text/plain": [
       "pandas.core.frame.DataFrame"
      ]
     },
     "execution_count": 28,
     "metadata": {},
     "output_type": "execute_result"
    }
   ],
   "source": [
    "#df"
   ]
  },
  {
   "cell_type": "code",
   "execution_count": 17,
   "id": "f09b4aa8",
   "metadata": {},
   "outputs": [],
   "source": [
    "#df=pd.DataFrame\n",
    "\n",
    "#df_unique = df.drop_duplicates(subset=['A'])"
   ]
  },
  {
   "cell_type": "code",
   "execution_count": null,
   "id": "cafd8fd5",
   "metadata": {},
   "outputs": [],
   "source": []
  },
  {
   "cell_type": "code",
   "execution_count": 8,
   "id": "eab16f6e",
   "metadata": {},
   "outputs": [
    {
     "ename": "ProgrammingError",
     "evalue": "(1064, \"You have an error in your SQL syntax; check the manual that corresponds to your MariaDB server version for the right syntax to use near 'VARCHAR(255),\\n                tag VARCHAR(255),\\n                cdate VARCHAR...' at line 6\")",
     "output_type": "error",
     "traceback": [
      "\u001b[1;31m---------------------------------------------------------------------------\u001b[0m",
      "\u001b[1;31mProgrammingError\u001b[0m                          Traceback (most recent call last)",
      "Input \u001b[1;32mIn [8]\u001b[0m, in \u001b[0;36m<cell line: 6>\u001b[1;34m()\u001b[0m\n\u001b[0;32m      4\u001b[0m cur \u001b[38;5;241m=\u001b[39m conn\u001b[38;5;241m.\u001b[39mcursor()\n\u001b[0;32m      5\u001b[0m \u001b[38;5;66;03m# User 테이블 생성 (nameUser에 UNIQUE 제약 추가)\u001b[39;00m\n\u001b[1;32m----> 6\u001b[0m \u001b[43mcur\u001b[49m\u001b[38;5;241;43m.\u001b[39;49m\u001b[43mexecute\u001b[49m\u001b[43m(\u001b[49m\u001b[38;5;124;43m'''\u001b[39;49m\u001b[38;5;124;43mCREATE TABLE IF NOT EXISTS wanted (\u001b[39;49m\n\u001b[0;32m      7\u001b[0m \u001b[38;5;124;43m                name VARCHAR(255),\u001b[39;49m\n\u001b[0;32m      8\u001b[0m \u001b[38;5;124;43m                loc VARCHAR(255),\u001b[39;49m\n\u001b[0;32m      9\u001b[0m \u001b[38;5;124;43m                career VARCHAR(255),\u001b[39;49m\n\u001b[0;32m     10\u001b[0m \u001b[38;5;124;43m                title VARCHAR(255)\u001b[39;49m\n\u001b[0;32m     11\u001b[0m \u001b[38;5;124;43m                loc2 VARCHAR(255),\u001b[39;49m\n\u001b[0;32m     12\u001b[0m \u001b[38;5;124;43m                tag VARCHAR(255),\u001b[39;49m\n\u001b[0;32m     13\u001b[0m \u001b[38;5;124;43m                cdate VARCHAR(255),\u001b[39;49m\n\u001b[0;32m     14\u001b[0m \u001b[38;5;124;43m                position VARCHAR(255)\u001b[39;49m\n\u001b[0;32m     15\u001b[0m \u001b[38;5;124;43m            )\u001b[39;49m\u001b[38;5;124;43m'''\u001b[39;49m\u001b[43m)\u001b[49m\n",
      "File \u001b[1;32m~\\anaconda3\\lib\\site-packages\\pymysql\\cursors.py:153\u001b[0m, in \u001b[0;36mCursor.execute\u001b[1;34m(self, query, args)\u001b[0m\n\u001b[0;32m    149\u001b[0m     \u001b[38;5;28;01mpass\u001b[39;00m\n\u001b[0;32m    151\u001b[0m query \u001b[38;5;241m=\u001b[39m \u001b[38;5;28mself\u001b[39m\u001b[38;5;241m.\u001b[39mmogrify(query, args)\n\u001b[1;32m--> 153\u001b[0m result \u001b[38;5;241m=\u001b[39m \u001b[38;5;28;43mself\u001b[39;49m\u001b[38;5;241;43m.\u001b[39;49m\u001b[43m_query\u001b[49m\u001b[43m(\u001b[49m\u001b[43mquery\u001b[49m\u001b[43m)\u001b[49m\n\u001b[0;32m    154\u001b[0m \u001b[38;5;28mself\u001b[39m\u001b[38;5;241m.\u001b[39m_executed \u001b[38;5;241m=\u001b[39m query\n\u001b[0;32m    155\u001b[0m \u001b[38;5;28;01mreturn\u001b[39;00m result\n",
      "File \u001b[1;32m~\\anaconda3\\lib\\site-packages\\pymysql\\cursors.py:322\u001b[0m, in \u001b[0;36mCursor._query\u001b[1;34m(self, q)\u001b[0m\n\u001b[0;32m    320\u001b[0m conn \u001b[38;5;241m=\u001b[39m \u001b[38;5;28mself\u001b[39m\u001b[38;5;241m.\u001b[39m_get_db()\n\u001b[0;32m    321\u001b[0m \u001b[38;5;28mself\u001b[39m\u001b[38;5;241m.\u001b[39m_clear_result()\n\u001b[1;32m--> 322\u001b[0m \u001b[43mconn\u001b[49m\u001b[38;5;241;43m.\u001b[39;49m\u001b[43mquery\u001b[49m\u001b[43m(\u001b[49m\u001b[43mq\u001b[49m\u001b[43m)\u001b[49m\n\u001b[0;32m    323\u001b[0m \u001b[38;5;28mself\u001b[39m\u001b[38;5;241m.\u001b[39m_do_get_result()\n\u001b[0;32m    324\u001b[0m \u001b[38;5;28;01mreturn\u001b[39;00m \u001b[38;5;28mself\u001b[39m\u001b[38;5;241m.\u001b[39mrowcount\n",
      "File \u001b[1;32m~\\anaconda3\\lib\\site-packages\\pymysql\\connections.py:558\u001b[0m, in \u001b[0;36mConnection.query\u001b[1;34m(self, sql, unbuffered)\u001b[0m\n\u001b[0;32m    556\u001b[0m     sql \u001b[38;5;241m=\u001b[39m sql\u001b[38;5;241m.\u001b[39mencode(\u001b[38;5;28mself\u001b[39m\u001b[38;5;241m.\u001b[39mencoding, \u001b[38;5;124m\"\u001b[39m\u001b[38;5;124msurrogateescape\u001b[39m\u001b[38;5;124m\"\u001b[39m)\n\u001b[0;32m    557\u001b[0m \u001b[38;5;28mself\u001b[39m\u001b[38;5;241m.\u001b[39m_execute_command(COMMAND\u001b[38;5;241m.\u001b[39mCOM_QUERY, sql)\n\u001b[1;32m--> 558\u001b[0m \u001b[38;5;28mself\u001b[39m\u001b[38;5;241m.\u001b[39m_affected_rows \u001b[38;5;241m=\u001b[39m \u001b[38;5;28;43mself\u001b[39;49m\u001b[38;5;241;43m.\u001b[39;49m\u001b[43m_read_query_result\u001b[49m\u001b[43m(\u001b[49m\u001b[43munbuffered\u001b[49m\u001b[38;5;241;43m=\u001b[39;49m\u001b[43munbuffered\u001b[49m\u001b[43m)\u001b[49m\n\u001b[0;32m    559\u001b[0m \u001b[38;5;28;01mreturn\u001b[39;00m \u001b[38;5;28mself\u001b[39m\u001b[38;5;241m.\u001b[39m_affected_rows\n",
      "File \u001b[1;32m~\\anaconda3\\lib\\site-packages\\pymysql\\connections.py:822\u001b[0m, in \u001b[0;36mConnection._read_query_result\u001b[1;34m(self, unbuffered)\u001b[0m\n\u001b[0;32m    820\u001b[0m \u001b[38;5;28;01melse\u001b[39;00m:\n\u001b[0;32m    821\u001b[0m     result \u001b[38;5;241m=\u001b[39m MySQLResult(\u001b[38;5;28mself\u001b[39m)\n\u001b[1;32m--> 822\u001b[0m     \u001b[43mresult\u001b[49m\u001b[38;5;241;43m.\u001b[39;49m\u001b[43mread\u001b[49m\u001b[43m(\u001b[49m\u001b[43m)\u001b[49m\n\u001b[0;32m    823\u001b[0m \u001b[38;5;28mself\u001b[39m\u001b[38;5;241m.\u001b[39m_result \u001b[38;5;241m=\u001b[39m result\n\u001b[0;32m    824\u001b[0m \u001b[38;5;28;01mif\u001b[39;00m result\u001b[38;5;241m.\u001b[39mserver_status \u001b[38;5;129;01mis\u001b[39;00m \u001b[38;5;129;01mnot\u001b[39;00m \u001b[38;5;28;01mNone\u001b[39;00m:\n",
      "File \u001b[1;32m~\\anaconda3\\lib\\site-packages\\pymysql\\connections.py:1200\u001b[0m, in \u001b[0;36mMySQLResult.read\u001b[1;34m(self)\u001b[0m\n\u001b[0;32m   1198\u001b[0m \u001b[38;5;28;01mdef\u001b[39;00m \u001b[38;5;21mread\u001b[39m(\u001b[38;5;28mself\u001b[39m):\n\u001b[0;32m   1199\u001b[0m     \u001b[38;5;28;01mtry\u001b[39;00m:\n\u001b[1;32m-> 1200\u001b[0m         first_packet \u001b[38;5;241m=\u001b[39m \u001b[38;5;28;43mself\u001b[39;49m\u001b[38;5;241;43m.\u001b[39;49m\u001b[43mconnection\u001b[49m\u001b[38;5;241;43m.\u001b[39;49m\u001b[43m_read_packet\u001b[49m\u001b[43m(\u001b[49m\u001b[43m)\u001b[49m\n\u001b[0;32m   1202\u001b[0m         \u001b[38;5;28;01mif\u001b[39;00m first_packet\u001b[38;5;241m.\u001b[39mis_ok_packet():\n\u001b[0;32m   1203\u001b[0m             \u001b[38;5;28mself\u001b[39m\u001b[38;5;241m.\u001b[39m_read_ok_packet(first_packet)\n",
      "File \u001b[1;32m~\\anaconda3\\lib\\site-packages\\pymysql\\connections.py:772\u001b[0m, in \u001b[0;36mConnection._read_packet\u001b[1;34m(self, packet_type)\u001b[0m\n\u001b[0;32m    770\u001b[0m     \u001b[38;5;28;01mif\u001b[39;00m \u001b[38;5;28mself\u001b[39m\u001b[38;5;241m.\u001b[39m_result \u001b[38;5;129;01mis\u001b[39;00m \u001b[38;5;129;01mnot\u001b[39;00m \u001b[38;5;28;01mNone\u001b[39;00m \u001b[38;5;129;01mand\u001b[39;00m \u001b[38;5;28mself\u001b[39m\u001b[38;5;241m.\u001b[39m_result\u001b[38;5;241m.\u001b[39munbuffered_active \u001b[38;5;129;01mis\u001b[39;00m \u001b[38;5;28;01mTrue\u001b[39;00m:\n\u001b[0;32m    771\u001b[0m         \u001b[38;5;28mself\u001b[39m\u001b[38;5;241m.\u001b[39m_result\u001b[38;5;241m.\u001b[39munbuffered_active \u001b[38;5;241m=\u001b[39m \u001b[38;5;28;01mFalse\u001b[39;00m\n\u001b[1;32m--> 772\u001b[0m     \u001b[43mpacket\u001b[49m\u001b[38;5;241;43m.\u001b[39;49m\u001b[43mraise_for_error\u001b[49m\u001b[43m(\u001b[49m\u001b[43m)\u001b[49m\n\u001b[0;32m    773\u001b[0m \u001b[38;5;28;01mreturn\u001b[39;00m packet\n",
      "File \u001b[1;32m~\\anaconda3\\lib\\site-packages\\pymysql\\protocol.py:221\u001b[0m, in \u001b[0;36mMysqlPacket.raise_for_error\u001b[1;34m(self)\u001b[0m\n\u001b[0;32m    219\u001b[0m \u001b[38;5;28;01mif\u001b[39;00m DEBUG:\n\u001b[0;32m    220\u001b[0m     \u001b[38;5;28mprint\u001b[39m(\u001b[38;5;124m\"\u001b[39m\u001b[38;5;124merrno =\u001b[39m\u001b[38;5;124m\"\u001b[39m, errno)\n\u001b[1;32m--> 221\u001b[0m \u001b[43merr\u001b[49m\u001b[38;5;241;43m.\u001b[39;49m\u001b[43mraise_mysql_exception\u001b[49m\u001b[43m(\u001b[49m\u001b[38;5;28;43mself\u001b[39;49m\u001b[38;5;241;43m.\u001b[39;49m\u001b[43m_data\u001b[49m\u001b[43m)\u001b[49m\n",
      "File \u001b[1;32m~\\anaconda3\\lib\\site-packages\\pymysql\\err.py:143\u001b[0m, in \u001b[0;36mraise_mysql_exception\u001b[1;34m(data)\u001b[0m\n\u001b[0;32m    141\u001b[0m \u001b[38;5;28;01mif\u001b[39;00m errorclass \u001b[38;5;129;01mis\u001b[39;00m \u001b[38;5;28;01mNone\u001b[39;00m:\n\u001b[0;32m    142\u001b[0m     errorclass \u001b[38;5;241m=\u001b[39m InternalError \u001b[38;5;28;01mif\u001b[39;00m errno \u001b[38;5;241m<\u001b[39m \u001b[38;5;241m1000\u001b[39m \u001b[38;5;28;01melse\u001b[39;00m OperationalError\n\u001b[1;32m--> 143\u001b[0m \u001b[38;5;28;01mraise\u001b[39;00m errorclass(errno, errval)\n",
      "\u001b[1;31mProgrammingError\u001b[0m: (1064, \"You have an error in your SQL syntax; check the manual that corresponds to your MariaDB server version for the right syntax to use near 'VARCHAR(255),\\n                tag VARCHAR(255),\\n                cdate VARCHAR...' at line 6\")"
     ]
    }
   ],
   "source": [
    "# MariaDB 연결\n",
    "conn = pymysql.connect(host='127.0.0.1', port=3306, user='user', password='user1234', db='dbmaria', charset='utf8')\n",
    "# 커서 생성\n",
    "cur = conn.cursor()\n",
    "# User 테이블 생성 (nameUser에 UNIQUE 제약 추가)\n",
    "cur.execute('''CREATE TABLE IF NOT EXISTS wanted (\n",
    "                name VARCHAR(255),\n",
    "                loc VARCHAR(255),\n",
    "                career VARCHAR(255),\n",
    "                title VARCHAR(255)\n",
    "                loc2 VARCHAR(255),\n",
    "                tag VARCHAR(255),\n",
    "                cdate VARCHAR(255),\n",
    "                position VARCHAR(255)\n",
    "            )''')"
   ]
  },
  {
   "cell_type": "code",
   "execution_count": null,
   "id": "070efecd",
   "metadata": {},
   "outputs": [],
   "source": []
  },
  {
   "cell_type": "code",
   "execution_count": null,
   "id": "1a2fa25e",
   "metadata": {},
   "outputs": [],
   "source": []
  },
  {
   "cell_type": "code",
   "execution_count": 65,
   "id": "efb4b082",
   "metadata": {},
   "outputs": [
    {
     "data": {
      "text/html": [
       "<div>\n",
       "<style scoped>\n",
       "    .dataframe tbody tr th:only-of-type {\n",
       "        vertical-align: middle;\n",
       "    }\n",
       "\n",
       "    .dataframe tbody tr th {\n",
       "        vertical-align: top;\n",
       "    }\n",
       "\n",
       "    .dataframe thead th {\n",
       "        text-align: right;\n",
       "    }\n",
       "</style>\n",
       "<table border=\"1\" class=\"dataframe\">\n",
       "  <thead>\n",
       "    <tr style=\"text-align: right;\">\n",
       "      <th></th>\n",
       "      <th>기업명</th>\n",
       "      <th>채용공고</th>\n",
       "      <th>경력</th>\n",
       "      <th>위치</th>\n",
       "      <th>근무장소</th>\n",
       "      <th>태그</th>\n",
       "      <th>마감일</th>\n",
       "      <th>포지션</th>\n",
       "    </tr>\n",
       "  </thead>\n",
       "  <tbody>\n",
       "  </tbody>\n",
       "</table>\n",
       "</div>"
      ],
      "text/plain": [
       "Empty DataFrame\n",
       "Columns: [기업명, 채용공고, 경력, 위치, 근무장소, 태그, 마감일, 포지션]\n",
       "Index: []"
      ]
     },
     "execution_count": 65,
     "metadata": {},
     "output_type": "execute_result"
    }
   ],
   "source": [
    "df.drop_duplicates()"
   ]
  },
  {
   "cell_type": "code",
   "execution_count": 87,
   "id": "b1befde7",
   "metadata": {},
   "outputs": [
    {
     "ename": "SyntaxError",
     "evalue": "invalid syntax (427823760.py, line 15)",
     "output_type": "error",
     "traceback": [
      "\u001b[1;36m  Input \u001b[1;32mIn [87]\u001b[1;36m\u001b[0m\n\u001b[1;33m    row['근무장소'],\u001b[0m\n\u001b[1;37m    ^\u001b[0m\n\u001b[1;31mSyntaxError\u001b[0m\u001b[1;31m:\u001b[0m invalid syntax\n"
     ]
    }
   ],
   "source": [
    "# # 데이터 프레임의 데이터를 데이터베이스에 삽입\n",
    "for index, row in df.iterrows():\n",
    "    cur.execute(\"\"\"\n",
    "        INSERT INTO  wanted(\n",
    "            name,\n",
    "            loc,\n",
    "            career,\n",
    "            title\n",
    "        ) VALUES (%s, %s, %s, %s,%s,%s,%s,%s)\n",
    "    \"\"\", (\n",
    "        row['기업명'],\n",
    "        row['채용공고'],\n",
    "        row['경력'],\n",
    "        row['위치']\n",
    "        row['근무장소'],\n",
    "        row['태그'],\n",
    "        row['마감일'],\n",
    "        row['포지션']\n",
    "    ))"
   ]
  },
  {
   "cell_type": "code",
   "execution_count": null,
   "id": "1d44e2ab",
   "metadata": {},
   "outputs": [],
   "source": []
  },
  {
   "cell_type": "code",
   "execution_count": null,
   "id": "6c8094b8",
   "metadata": {},
   "outputs": [],
   "source": []
  },
  {
   "cell_type": "code",
   "execution_count": null,
   "id": "9baba8e7",
   "metadata": {},
   "outputs": [],
   "source": [
    "# 변경사항 커밋\n",
    "conn.commit()\n",
    "\n",
    "# 연결 종료\n",
    "conn.close()"
   ]
  },
  {
   "cell_type": "code",
   "execution_count": null,
   "id": "e1dc3aa6",
   "metadata": {},
   "outputs": [],
   "source": [
    "df"
   ]
  },
  {
   "cell_type": "code",
   "execution_count": null,
   "id": "2799d550",
   "metadata": {},
   "outputs": [],
   "source": []
  },
  {
   "cell_type": "code",
   "execution_count": null,
   "id": "f5133066",
   "metadata": {},
   "outputs": [],
   "source": []
  }
 ],
 "metadata": {
  "kernelspec": {
   "display_name": "Python 3 (ipykernel)",
   "language": "python",
   "name": "python3"
  },
  "language_info": {
   "codemirror_mode": {
    "name": "ipython",
    "version": 3
   },
   "file_extension": ".py",
   "mimetype": "text/x-python",
   "name": "python",
   "nbconvert_exporter": "python",
   "pygments_lexer": "ipython3",
   "version": "3.9.12"
  }
 },
 "nbformat": 4,
 "nbformat_minor": 5
}
