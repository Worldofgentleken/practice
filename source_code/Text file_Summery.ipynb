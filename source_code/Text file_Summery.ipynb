{
 "cells": [
  {
   "cell_type": "markdown",
   "id": "cb781295-7ba7-46a0-8438-f695a3f7e779",
   "metadata": {},
   "source": [
    "# 텍스트 파일 쓰기"
   ]
  },
  {
   "cell_type": "markdown",
   "id": "63024c23-e977-4402-aa61-c9b7b7722d46",
   "metadata": {},
   "source": [
    "## 기본 함수\n",
    "- open(), read(), write(), close()를 이용한 텍스트 파일 다루기\n",
    "- open() : 파일 열기\n",
    "- read() : 파일 읽기\n",
    "- write() : 쓰기\n",
    "- close() : 파일 닫기"
   ]
  },
  {
   "cell_type": "code",
   "execution_count": 14,
   "id": "ea87a314-13cf-4d2a-8de1-08f573fc6fd8",
   "metadata": {},
   "outputs": [],
   "source": [
    "file = open('/Users/kunheerhee/Desktop/pythonTxt/test.txt', 'w') # 'w'인 경우에 파일이 폴도내에 없으면 만들어줌, 기존의 글을 지우고 덮어씀"
   ]
  },
  {
   "cell_type": "code",
   "execution_count": 15,
   "id": "874b02f2-b817-4131-b44b-97bea8d313da",
   "metadata": {},
   "outputs": [
    {
     "name": "stdout",
     "output_type": "stream",
     "text": [
      "strCnt : 13\n"
     ]
    }
   ],
   "source": [
    "strCnt = file.write('Hello PYTHON!')\n",
    "print(f'strCnt : {strCnt}')"
   ]
  },
  {
   "cell_type": "code",
   "execution_count": 16,
   "id": "a3f84af5-2597-4a6e-af3e-7e09221e0209",
   "metadata": {},
   "outputs": [],
   "source": [
    "file.close()"
   ]
  },
  {
   "cell_type": "markdown",
   "id": "aed74a86-6692-4487-aa69-98fba7f383f9",
   "metadata": {},
   "source": [
    "# 텍스트 파일 읽기"
   ]
  },
  {
   "cell_type": "markdown",
   "id": "f91c8285-68dc-4540-a244-fae1172bce29",
   "metadata": {},
   "source": [
    "## 파일 읽기\n",
    "- read() 함수를 이용한 파일 문자열 읽기"
   ]
  },
  {
   "cell_type": "code",
   "execution_count": 20,
   "id": "ecfb548c-a8bc-4eec-84ce-777b7f9929c0",
   "metadata": {},
   "outputs": [],
   "source": [
    "file = open('/Users/kunheerhee/Desktop/pythonTxt/test.txt', 'r')"
   ]
  },
  {
   "cell_type": "code",
   "execution_count": 21,
   "id": "a0dcecc0-c276-482a-8362-cd8fbaa74cae",
   "metadata": {},
   "outputs": [
    {
     "name": "stdout",
     "output_type": "stream",
     "text": [
      "str : Hello PYTHON!\n"
     ]
    }
   ],
   "source": [
    "str = file.read()\n",
    "print(f'str : {str}')"
   ]
  },
  {
   "cell_type": "code",
   "execution_count": 22,
   "id": "ec22a1db-8b43-4e63-84f4-6f701760210b",
   "metadata": {},
   "outputs": [],
   "source": [
    "file.close()"
   ]
  },
  {
   "cell_type": "markdown",
   "id": "0dac05de-4cbc-4c0b-8c26-71293b204ea5",
   "metadata": {},
   "source": [
    "# 텍스트 파일 열기\n",
    "파일 모드는 파일ㅇ르 어떤 목적으로 open 할지 정한다.\n",
    "\n",
    "- 'w' : 쓰기 전용 (파일이 있으면 덮어씌움, 파일이 없으면 만듬)\n",
    "- 'a' : 쓰기 전용 (파일이 있으면 덧붙임, 파일이 없으면 만듬)\n",
    "- 'x' : 쓰기 전용 (파일이 있으면 에러 발생)\n",
    "- 'r' : 읽기 전용 (파일이 없으면 에러 발생)"
   ]
  },
  {
   "cell_type": "markdown",
   "id": "8fcb17a1-9856-42c3-98d0-4e1a27c01028",
   "metadata": {},
   "source": [
    "# with ~ as 구문\n",
    "- with ~ as문을 이용하면 파일 닫기(close)를 생략할 수 있다.\n",
    "- with open(폴더 경로, 'w,a,x,r 선택') as f:       \n",
    "           f.write(문자열) or print(f.read())"
   ]
  },
  {
   "cell_type": "code",
   "execution_count": null,
   "id": "4540c2d3-d080-45be-8818-72d167527bd0",
   "metadata": {},
   "outputs": [],
   "source": []
  },
  {
   "cell_type": "code",
   "execution_count": null,
   "id": "510f1353-7f39-4e68-b06b-3aa3bef88049",
   "metadata": {},
   "outputs": [],
   "source": []
  },
  {
   "cell_type": "code",
   "execution_count": null,
   "id": "b2976d56-972e-47b5-b1ea-3590dc639643",
   "metadata": {},
   "outputs": [],
   "source": []
  },
  {
   "cell_type": "code",
   "execution_count": null,
   "id": "f18b4180-bc17-415b-abeb-529153919e2b",
   "metadata": {},
   "outputs": [],
   "source": []
  },
  {
   "cell_type": "code",
   "execution_count": null,
   "id": "03772c09-a26d-4eca-bc69-3feba82eec5b",
   "metadata": {},
   "outputs": [],
   "source": []
  },
  {
   "cell_type": "code",
   "execution_count": null,
   "id": "3c5e1847-07f0-4fe4-b146-a9fd3d34d032",
   "metadata": {},
   "outputs": [],
   "source": []
  },
  {
   "cell_type": "code",
   "execution_count": null,
   "id": "5d74a422-1254-4434-94a2-7ab9ce50acfc",
   "metadata": {},
   "outputs": [],
   "source": []
  },
  {
   "cell_type": "code",
   "execution_count": null,
   "id": "e6669f92-71ea-4fb7-88ba-fecfd9b48b11",
   "metadata": {},
   "outputs": [],
   "source": []
  },
  {
   "cell_type": "code",
   "execution_count": null,
   "id": "44e8f4b4-c08a-4c96-830e-bcdd96f6331f",
   "metadata": {},
   "outputs": [],
   "source": []
  }
 ],
 "metadata": {
  "kernelspec": {
   "display_name": "Python 3 (ipykernel)",
   "language": "python",
   "name": "python3"
  },
  "language_info": {
   "codemirror_mode": {
    "name": "ipython",
    "version": 3
   },
   "file_extension": ".py",
   "mimetype": "text/x-python",
   "name": "python",
   "nbconvert_exporter": "python",
   "pygments_lexer": "ipython3",
   "version": "3.11.7"
  }
 },
 "nbformat": 4,
 "nbformat_minor": 5
}
