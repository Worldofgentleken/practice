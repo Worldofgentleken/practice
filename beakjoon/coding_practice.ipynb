{
 "cells": [
  {
   "cell_type": "markdown",
   "metadata": {},
   "source": [
    "## 백준 10809번 문제"
   ]
  },
  {
   "cell_type": "code",
   "execution_count": null,
   "metadata": {},
   "outputs": [],
   "source": [
    "s = input(\"소문자 영어 단어 입력 : \")\n",
    "alphabet = 'abcdefghijklmnopqrstuvwxyz'\n",
    "for i in alphabet:\n",
    "    if i in s:\n",
    "        print(s.index(i), end = ' ')\n",
    "    else:\n",
    "        print(-1, end = ' ')"
   ]
  },
  {
   "cell_type": "markdown",
   "metadata": {},
   "source": [
    "## 백준 4153번 문제"
   ]
  },
  {
   "cell_type": "code",
   "execution_count": null,
   "metadata": {},
   "outputs": [],
   "source": [
    "while True:\n",
    "    lst = list(map(int, input().split()))\n",
    "    if lst[0] == 0 and lst[1] == 0 and lst[2] == 0:\n",
    "        break\n",
    "    lst.sort()\n",
    "    if lst[2]**2 == lst[0]**2 + lst[1]**2:\n",
    "        print('right')\n",
    "    else:\n",
    "        print('wrong')\n",
    "\n"
   ]
  },
  {
   "cell_type": "markdown",
   "metadata": {},
   "source": [
    "## 백준 2338번"
   ]
  },
  {
   "cell_type": "code",
   "execution_count": null,
   "metadata": {},
   "outputs": [],
   "source": [
    "a = int(input())\n",
    "b = int(input())\n",
    "print(a+b)\n",
    "print(a-b)\n",
    "print(a*b)\n"
   ]
  },
  {
   "cell_type": "markdown",
   "metadata": {},
   "source": [
    "## 백준 2558번"
   ]
  },
  {
   "cell_type": "code",
   "execution_count": null,
   "metadata": {},
   "outputs": [],
   "source": [
    "a = int(input())\n",
    "b = int(input())\n",
    "print(a+b)"
   ]
  },
  {
   "cell_type": "markdown",
   "metadata": {},
   "source": [
    "# 백준 3003번"
   ]
  },
  {
   "cell_type": "code",
   "execution_count": null,
   "metadata": {},
   "outputs": [],
   "source": [
    "# 킹 1개, 퀸 1개, 룩 2개, 비숍 2개, 나이트 2개, 폰 8개로 구성\n",
    "q1, q2, l, b, n, p = map(int, input().split())\n",
    "inputList = [q1, q2, l, b, n, p]\n",
    "chessList = [1, 1, 2, 2, 2, 8]\n",
    "for i in range(len(chessList)):\n",
    "    if chessList[i] - inputList[i] > 0:\n",
    "        i = chessList[i] - inputList[i]\n",
    "    elif chessList[i] - inputList[i] == 0:\n",
    "        i = 0\n",
    "    else:\n",
    "        i = chessList[i] - inputList[i]\n",
    "    print(i)"
   ]
  },
  {
   "cell_type": "markdown",
   "metadata": {},
   "source": [
    "# 백준 3733번 문제풀이"
   ]
  },
  {
   "cell_type": "code",
   "execution_count": null,
   "metadata": {},
   "outputs": [],
   "source": [
    "# n 명의 사람들 + 수석 심판은 s만큼 주식을 보유\n",
    "# 이를 나누어 갖기로함\n",
    "# x = 각 사람이 배붙 받는 \n",
    "# n과 s가 주어졌을 때 x의 최대값\n",
    "for i in range(4):\n",
    "    n, s = map(int, input().split())\n",
    "    x = s // n + 1\n",
    "    print(x)"
   ]
  },
  {
   "cell_type": "code",
   "execution_count": null,
   "metadata": {},
   "outputs": [],
   "source": [
    "while True:\n",
    "    try:\n",
    "        n, s = map(int, input().split())\n",
    "        x = s // (n + 1)\n",
    "        print(x)\n",
    "    except EOFError:\n",
    "        break"
   ]
  },
  {
   "cell_type": "code",
   "execution_count": null,
   "metadata": {},
   "outputs": [],
   "source": [
    "# 입력 데이터 정수 2개씩\n",
    "# 테스트 케이스는 한줄.\n",
    "# 두수 비교 크면 yes 아니면 no\n",
    "# 마지막줄 0 두개\n",
    "while True:\n",
    "    a, b = map(int, input().split())\n",
    "    print('Yes') if a > b else print('No')\n",
    "    if a == 0 and b == 0:\n",
    "        break"
   ]
  },
  {
   "cell_type": "code",
   "execution_count": null,
   "metadata": {},
   "outputs": [],
   "source": [
    "j = input()\n",
    "d = input()\n",
    "if len(j) >= len(d):\n",
    "    print(\"go\")\n",
    "else:\n",
    "    print('no')"
   ]
  },
  {
   "cell_type": "code",
   "execution_count": null,
   "metadata": {},
   "outputs": [],
   "source": [
    "print('.  .   .')\n",
    "print('|  | _ | _. _ ._ _  _')\n",
    "print('|/\\|(/.|(_.(_)[ | )(/.')"
   ]
  },
  {
   "cell_type": "code",
   "execution_count": null,
   "metadata": {},
   "outputs": [],
   "source": [
    "print(\"       _.-;;-._\")\n",
    "print(\"'-..-'|   ||   |\")\n",
    "print(\"'-..-'|_.-;;-._|\")\n",
    "print(\"'-..-'|   ||   |\")\n",
    "print(\"'-..-'|_.-''-._|\")\n"
   ]
  },
  {
   "cell_type": "markdown",
   "metadata": {},
   "source": [
    "# 백준 5339"
   ]
  },
  {
   "cell_type": "code",
   "execution_count": null,
   "metadata": {},
   "outputs": [],
   "source": [
    "print(\"     /~\\\\\")\n"
   ]
  },
  {
   "cell_type": "code",
   "execution_count": null,
   "metadata": {},
   "outputs": [],
   "source": [
    "t = int(input())\n",
    "for i in range(t):\n",
    "    a, b = map(int, input().split())\n",
    "    result = a + b\n",
    "    print(result)"
   ]
  },
  {
   "cell_type": "code",
   "execution_count": null,
   "metadata": {},
   "outputs": [],
   "source": [
    "while True:\n",
    "    n = int(input())\n",
    "    if n == 0:\n",
    "        break\n",
    "    result = []\n",
    "    for i in range(2,n+2):\n",
    "        i -=1\n",
    "        result.append(i)\n",
    "    print(sum(result))"
   ]
  },
  {
   "cell_type": "code",
   "execution_count": null,
   "metadata": {},
   "outputs": [],
   "source": [
    "result = []\n",
    "for i in range(2,6+2):\n",
    "    i = i - 1\n",
    "    result.append(i)\n",
    "print(sum(result))"
   ]
  },
  {
   "cell_type": "code",
   "execution_count": null,
   "metadata": {},
   "outputs": [],
   "source": [
    "result = [ i-1 for i in range(2, 6+2)]\n",
    "print(sum(result))"
   ]
  },
  {
   "cell_type": "markdown",
   "metadata": {},
   "source": [
    "# 백준 5522번"
   ]
  },
  {
   "cell_type": "code",
   "execution_count": null,
   "metadata": {},
   "outputs": [],
   "source": [
    "# 5times, total score\n",
    "score = []\n",
    "for j in range(5):\n",
    "    a = int(input())\n",
    "    score.append(a)\n",
    "total_score = sum(score)\n",
    "print(total_score)"
   ]
  },
  {
   "cell_type": "markdown",
   "metadata": {},
   "source": [
    "# 백준 1018번"
   ]
  },
  {
   "cell_type": "code",
   "execution_count": null,
   "metadata": {},
   "outputs": [],
   "source": [
    "n, m = map(int, input().split())  # 보드의 크기 N과 M 입력\n",
    "chessPlate = []\n",
    "for i in range(n):\n",
    "    row = input()  # 각 행의 상태 입력\n",
    "    chessPlate.append(row)  # 보드를 리스트에 추가\n",
    "\n",
    "def count_repaints(board, start_row, start_col, first_color):\n",
    "    repaints = 0\n",
    "    color = first_color\n",
    "    for i in range(start_row, start_row + 8):  # 8x8 영역의 행 순회\n",
    "        for j in range(start_col, start_col + 8):  # 8x8 영역의 열 순회\n",
    "            if board[i][j] != color:  # 현재 칸의 색이 올바르지 않으면\n",
    "                repaints += 1  # 다시 칠하기 횟수 증가\n",
    "            color = 'B' if color == 'W' else 'W'  # 다음 칸의 예상 색\n",
    "        color = 'B' if color == 'W' else 'W'  # 다음 행의 첫 칸 색\n",
    "    return repaints\n",
    "\n",
    "min_repaints = float('inf')  # 최소 다시 칠하기 횟수를 무한대로 초기화\n",
    "\n",
    "for i in range(n - 7):  # 가능한 모든 8x8 시작 행 순회\n",
    "    for j in range(m - 7):  # 가능한 모든 8x8 시작 열 순회\n",
    "        repaints_W = count_repaints(chessPlate, i, j, 'W')  # 왼쪽 위가 흰색인 경우\n",
    "        repaints_B = count_repaints(chessPlate, i, j, 'B')  # 왼쪽 위가 검은색인 경우\n",
    "        min_repaints = min(min_repaints, repaints_W, repaints_B)  # 최소 횟수 업데이트\n",
    "\n",
    "print(min_repaints)  # 결과 출력\n"
   ]
  },
  {
   "cell_type": "markdown",
   "metadata": {},
   "source": [
    "# 백준 1181번"
   ]
  },
  {
   "cell_type": "code",
   "execution_count": 1,
   "metadata": {},
   "outputs": [],
   "source": [
    "n = int(input())\n",
    "word_list = []\n",
    "for i in range(n):\n",
    "    word = input()\n",
    "    word_list.append(word)"
   ]
  },
  {
   "cell_type": "code",
   "execution_count": 2,
   "metadata": {},
   "outputs": [
    {
     "data": {
      "text/plain": [
       "['but',\n",
       " 'cannot',\n",
       " 'hesitate',\n",
       " 'i',\n",
       " 'im',\n",
       " 'it',\n",
       " 'more',\n",
       " 'more',\n",
       " 'no',\n",
       " 'no',\n",
       " 'wait',\n",
       " 'wont',\n",
       " 'yours']"
      ]
     },
     "execution_count": 2,
     "metadata": {},
     "output_type": "execute_result"
    }
   ],
   "source": [
    "word_list = sorted(word_list)"
   ]
  },
  {
   "cell_type": "code",
   "execution_count": 3,
   "metadata": {},
   "outputs": [],
   "source": [
    "key_list = []\n",
    "values_list = []\n",
    "for i in range(len(word_list)):\n",
    "    key = word_list[i]\n",
    "    values = len(word_list[i])\n",
    "    key_list.append(key)\n",
    "    values_list.append(values)"
   ]
  },
  {
   "cell_type": "code",
   "execution_count": 6,
   "metadata": {},
   "outputs": [],
   "source": [
    "dict1 = dict(zip(key_list, values_list))\n"
   ]
  },
  {
   "cell_type": "code",
   "execution_count": 8,
   "metadata": {},
   "outputs": [],
   "source": [
    "sorted_by_values = dict(sorted(dict1.items(), key=lambda item: item[1]))"
   ]
  },
  {
   "cell_type": "code",
   "execution_count": 12,
   "metadata": {},
   "outputs": [
    {
     "name": "stdout",
     "output_type": "stream",
     "text": [
      "i\n",
      "im\n",
      "it\n",
      "no\n",
      "but\n",
      "more\n",
      "wait\n",
      "wont\n",
      "yours\n",
      "cannot\n",
      "hesitate\n"
     ]
    }
   ],
   "source": [
    "dict_key_list = sorted_by_values.keys()\n",
    "for j in b:\n",
    "    print(j)"
   ]
  },
  {
   "cell_type": "code",
   "execution_count": 13,
   "metadata": {},
   "outputs": [
    {
     "ename": "ValueError",
     "evalue": "invalid literal for int() with base 10: ''",
     "output_type": "error",
     "traceback": [
      "\u001b[0;31m---------------------------------------------------------------------------\u001b[0m",
      "\u001b[0;31mValueError\u001b[0m                                Traceback (most recent call last)",
      "Cell \u001b[0;32mIn[13], line 2\u001b[0m\n\u001b[1;32m      1\u001b[0m \u001b[38;5;66;03m# 입력 받기\u001b[39;00m\n\u001b[0;32m----> 2\u001b[0m n \u001b[38;5;241m=\u001b[39m \u001b[38;5;28;43mint\u001b[39;49m\u001b[43m(\u001b[49m\u001b[38;5;28;43minput\u001b[39;49m\u001b[43m(\u001b[49m\u001b[43m)\u001b[49m\u001b[43m)\u001b[49m\n\u001b[1;32m      3\u001b[0m word_list \u001b[38;5;241m=\u001b[39m [\u001b[38;5;28minput\u001b[39m() \u001b[38;5;28;01mfor\u001b[39;00m _ \u001b[38;5;129;01min\u001b[39;00m \u001b[38;5;28mrange\u001b[39m(n)]\n\u001b[1;32m      5\u001b[0m \u001b[38;5;66;03m# 단어 리스트 정렬\u001b[39;00m\n",
      "\u001b[0;31mValueError\u001b[0m: invalid literal for int() with base 10: ''"
     ]
    }
   ],
   "source": [
    "# 간결하게 정리\n",
    "# 입력 받기\n",
    "n = int(input())\n",
    "word_list = [input() for _ in range(n)]\n",
    "\n",
    "# 단어 리스트 정렬\n",
    "word_list.sort()\n",
    "\n",
    "# 단어 길이를 저장한 딕셔너리 생성 및 값으로 정렬\n",
    "sorted_by_values = dict(sorted({word: len(word) for word in word_list}.items(), key=lambda item: item[1]))\n",
    "\n",
    "# 정렬된 딕셔너리의 키를 출력\n",
    "for key in sorted_by_values.keys():\n",
    "    print(key)"
   ]
  },
  {
   "cell_type": "code",
   "execution_count": 31,
   "metadata": {},
   "outputs": [],
   "source": [
    "numLi = []\n",
    "while True:\n",
    "    n = int(input())\n",
    "    if n == 0:\n",
    "        break\n",
    "    else:\n",
    "        numLi.append(n)    \n"
   ]
  },
  {
   "cell_type": "code",
   "execution_count": 18,
   "metadata": {},
   "outputs": [],
   "source": [
    "li1 = [121, 1231, 12421]\n",
    "for i in li1:\n",
    "    pass"
   ]
  },
  {
   "cell_type": "code",
   "execution_count": 34,
   "metadata": {},
   "outputs": [
    {
     "ename": "TypeError",
     "evalue": "reverse() takes no arguments (1 given)",
     "output_type": "error",
     "traceback": [
      "\u001b[0;31m---------------------------------------------------------------------------\u001b[0m",
      "\u001b[0;31mTypeError\u001b[0m                                 Traceback (most recent call last)",
      "Cell \u001b[0;32mIn[34], line 3\u001b[0m\n\u001b[1;32m      1\u001b[0m numLi\n\u001b[1;32m      2\u001b[0m \u001b[38;5;28;01mfor\u001b[39;00m i \u001b[38;5;129;01min\u001b[39;00m \u001b[38;5;28mrange\u001b[39m(\u001b[38;5;28mlen\u001b[39m(numLi)):\n\u001b[0;32m----> 3\u001b[0m     \u001b[38;5;28;43mprint\u001b[39;49m\u001b[43m(\u001b[49m\u001b[43mi\u001b[49m\u001b[43m)\u001b[49m\n",
      "\u001b[0;31mTypeError\u001b[0m: reverse() takes no arguments (1 given)"
     ]
    }
   ],
   "source": [
    "numLi\n",
    "for i in range(len(numLi)):\n",
    "    print(i)"
   ]
  },
  {
   "cell_type": "code",
   "execution_count": null,
   "metadata": {},
   "outputs": [],
   "source": []
  }
 ],
 "metadata": {
  "kernelspec": {
   "display_name": "ds_study",
   "language": "python",
   "name": "python3"
  },
  "language_info": {
   "codemirror_mode": {
    "name": "ipython",
    "version": 3
   },
   "file_extension": ".py",
   "mimetype": "text/x-python",
   "name": "python",
   "nbconvert_exporter": "python",
   "pygments_lexer": "ipython3",
   "version": "3.8.19"
  }
 },
 "nbformat": 4,
 "nbformat_minor": 2
}
