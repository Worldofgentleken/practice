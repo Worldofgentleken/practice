{
 "cells": [
  {
   "cell_type": "markdown",
   "metadata": {},
   "source": [
    "## 백준 10809번 문제"
   ]
  },
  {
   "cell_type": "code",
   "execution_count": 38,
   "metadata": {},
   "outputs": [
    {
     "name": "stdout",
     "output_type": "stream",
     "text": [
      "1 0 -1 -1 2 -1 -1 -1 -1 4 3 -1 -1 7 5 -1 -1 -1 -1 -1 -1 -1 -1 -1 -1 -1 "
     ]
    }
   ],
   "source": [
    "s = input(\"소문자 영어 단어 입력 : \")\n",
    "alphabet = 'abcdefghijklmnopqrstuvwxyz'\n",
    "for i in alphabet:\n",
    "    if i in s:\n",
    "        print(s.index(i), end = ' ')\n",
    "    else:\n",
    "        print(-1, end = ' ')"
   ]
  },
  {
   "cell_type": "markdown",
   "metadata": {},
   "source": [
    "## 백준 4153번 문제"
   ]
  },
  {
   "cell_type": "code",
   "execution_count": 23,
   "metadata": {},
   "outputs": [
    {
     "name": "stdout",
     "output_type": "stream",
     "text": [
      "right\n",
      "wrong\n",
      "right\n"
     ]
    }
   ],
   "source": [
    "while True:\n",
    "    lst = list(map(int, input().split()))\n",
    "    if lst[0] == 0 and lst[1] == 0 and lst[2] == 0:\n",
    "        break\n",
    "    lst.sort()\n",
    "    if lst[2]**2 == lst[0]**2 + lst[1]**2:\n",
    "        print('right')\n",
    "    else:\n",
    "        print('wrong')\n",
    "\n"
   ]
  },
  {
   "cell_type": "markdown",
   "metadata": {},
   "source": [
    "## 백준 2338번"
   ]
  },
  {
   "cell_type": "code",
   "execution_count": 32,
   "metadata": {},
   "outputs": [
    {
     "name": "stdout",
     "output_type": "stream",
     "text": [
      "0\n",
      "2\n",
      "-1\n"
     ]
    }
   ],
   "source": [
    "a = int(input())\n",
    "b = int(input())\n",
    "print(a+b)\n",
    "print(a-b)\n",
    "print(a*b)\n"
   ]
  },
  {
   "cell_type": "markdown",
   "metadata": {},
   "source": [
    "## 백준 2558번"
   ]
  },
  {
   "cell_type": "code",
   "execution_count": 33,
   "metadata": {},
   "outputs": [
    {
     "name": "stdout",
     "output_type": "stream",
     "text": [
      "Animal      Count\n",
      "-----------------\n",
      "Chickens      100\n",
      "Clydesdales     5\n",
      "Cows           40\n",
      "Goats          22\n",
      "Steers          2\n"
     ]
    }
   ],
   "source": [
    "a = int(input())\n",
    "b = int(input())\n",
    "print(a+b)"
   ]
  },
  {
   "cell_type": "markdown",
   "metadata": {},
   "source": [
    "# 백준 3003번"
   ]
  },
  {
   "cell_type": "code",
   "execution_count": 17,
   "metadata": {},
   "outputs": [
    {
     "name": "stdout",
     "output_type": "stream",
     "text": [
      "-1\n",
      "0\n",
      "0\n",
      "1\n",
      "0\n",
      "7\n"
     ]
    }
   ],
   "source": [
    "# 킹 1개, 퀸 1개, 룩 2개, 비숍 2개, 나이트 2개, 폰 8개로 구성\n",
    "q1, q2, l, b, n, p = map(int, input().split())\n",
    "inputList = [q1, q2, l, b, n, p]\n",
    "chessList = [1, 1, 2, 2, 2, 8]\n",
    "for i in range(len(chessList)):\n",
    "    if chessList[i] - inputList[i] > 0:\n",
    "        i = chessList[i] - inputList[i]\n",
    "    elif chessList[i] - inputList[i] == 0:\n",
    "        i = 0\n",
    "    else:\n",
    "        i = chessList[i] - inputList[i]\n",
    "    print(i)"
   ]
  },
  {
   "cell_type": "markdown",
   "metadata": {},
   "source": [
    "# 백준 3733번 문제풀이"
   ]
  },
  {
   "cell_type": "code",
   "execution_count": 20,
   "metadata": {},
   "outputs": [
    {
     "name": "stdout",
     "output_type": "stream",
     "text": [
      "50\n",
      "2\n",
      "0\n",
      "0\n",
      "0\n",
      "101010\n"
     ]
    },
    {
     "ename": "ValueError",
     "evalue": "not enough values to unpack (expected 2, got 0)",
     "output_type": "error",
     "traceback": [
      "\u001b[0;31m---------------------------------------------------------------------------\u001b[0m",
      "\u001b[0;31mValueError\u001b[0m                                Traceback (most recent call last)",
      "Cell \u001b[0;32mIn[20], line 7\u001b[0m\n\u001b[1;32m      5\u001b[0m \u001b[38;5;28;01mwhile\u001b[39;00m \u001b[38;5;28;01mTrue\u001b[39;00m:\n\u001b[1;32m      6\u001b[0m     \u001b[38;5;28;01mtry\u001b[39;00m:\n\u001b[0;32m----> 7\u001b[0m         n, s \u001b[38;5;241m=\u001b[39m \u001b[38;5;28mmap\u001b[39m(\u001b[38;5;28mint\u001b[39m, \u001b[38;5;28minput\u001b[39m()\u001b[38;5;241m.\u001b[39msplit())\n\u001b[1;32m      8\u001b[0m         x \u001b[38;5;241m=\u001b[39m s \u001b[38;5;241m/\u001b[39m\u001b[38;5;241m/\u001b[39m (n \u001b[38;5;241m+\u001b[39m \u001b[38;5;241m1\u001b[39m)\n\u001b[1;32m      9\u001b[0m         \u001b[38;5;28mprint\u001b[39m(x)\n",
      "\u001b[0;31mValueError\u001b[0m: not enough values to unpack (expected 2, got 0)"
     ]
    }
   ],
   "source": [
    "# n 명의 사람들 + 수석 심판은 s만큼 주식을 보유\n",
    "# 이를 나누어 갖기로함\n",
    "# x = 각 사람이 배붙 받는 \n",
    "# n과 s가 주어졌을 때 x의 최대값\n",
    "for i in range(4):\n",
    "    n, s = map(int, input().split())\n",
    "    x = s // n + 1\n",
    "    print(x)"
   ]
  },
  {
   "cell_type": "code",
   "execution_count": null,
   "metadata": {},
   "outputs": [],
   "source": [
    "while True:\n",
    "    try:\n",
    "        n, s = map(int, input().split())\n",
    "        x = s // (n + 1)\n",
    "        print(x)\n",
    "    except EOFError:\n",
    "        break"
   ]
  },
  {
   "cell_type": "code",
   "execution_count": 21,
   "metadata": {},
   "outputs": [
    {
     "name": "stdout",
     "output_type": "stream",
     "text": [
      "No\n",
      "No\n",
      "Yes\n",
      "No\n"
     ]
    }
   ],
   "source": [
    "# 입력 데이터 정수 2개씩\n",
    "# 테스트 케이스는 한줄.\n",
    "# 두수 비교 크면 yes 아니면 no\n",
    "# 마지막줄 0 두개\n",
    "while True:\n",
    "    a, b = map(int, input().split())\n",
    "    print('Yes') if a > b else print('No')\n",
    "    if a == 0 and b == 0:\n",
    "        break"
   ]
  },
  {
   "cell_type": "code",
   "execution_count": 24,
   "metadata": {},
   "outputs": [
    {
     "name": "stdout",
     "output_type": "stream",
     "text": [
      "no\n"
     ]
    }
   ],
   "source": [
    "j = input()\n",
    "d = input()\n",
    "if len(j) >= len(d):\n",
    "    print(\"go\")\n",
    "else:\n",
    "    print('no')"
   ]
  },
  {
   "cell_type": "code",
   "execution_count": 25,
   "metadata": {},
   "outputs": [
    {
     "name": "stdout",
     "output_type": "stream",
     "text": [
      ".  .   .\n",
      "|  | _ | _. _ ._ _  _\n",
      "|/\\|(/.|(_.(_)[ | )(/.\n"
     ]
    }
   ],
   "source": [
    "print('.  .   .')\n",
    "print('|  | _ | _. _ ._ _  _')\n",
    "print('|/\\|(/.|(_.(_)[ | )(/.')"
   ]
  },
  {
   "cell_type": "code",
   "execution_count": null,
   "metadata": {},
   "outputs": [],
   "source": []
  }
 ],
 "metadata": {
  "kernelspec": {
   "display_name": "ds_study",
   "language": "python",
   "name": "python3"
  },
  "language_info": {
   "codemirror_mode": {
    "name": "ipython",
    "version": 3
   },
   "file_extension": ".py",
   "mimetype": "text/x-python",
   "name": "python",
   "nbconvert_exporter": "python",
   "pygments_lexer": "ipython3",
   "version": "3.8.19"
  }
 },
 "nbformat": 4,
 "nbformat_minor": 2
}
